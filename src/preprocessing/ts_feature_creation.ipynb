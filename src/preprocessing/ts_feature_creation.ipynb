{
 "cells": [
  {
   "cell_type": "code",
   "execution_count": 1,
   "id": "c4557143",
   "metadata": {},
   "outputs": [],
   "source": [
    "import numpy as np\n",
    "import pandas as pd\n",
    "pd.set_option('display.max_columns', None)\n",
    "import sys\n",
    "import os"
   ]
  },
  {
   "cell_type": "code",
   "execution_count": 2,
   "id": "0845266e",
   "metadata": {},
   "outputs": [],
   "source": [
    "# Setting path to load util functions\n",
    "from pathlib import Path\n",
    "parent_dir = Path.cwd().parents[1]\n",
    "sys.path.append(os.path.abspath(parent_dir))"
   ]
  },
  {
   "cell_type": "code",
   "execution_count": 3,
   "id": "0367a234",
   "metadata": {},
   "outputs": [],
   "source": [
    "from utils.TimeSeriesFeatureCreation import TimeSeriesFeatureCreation"
   ]
  },
  {
   "cell_type": "code",
   "execution_count": 4,
   "id": "5999d6bf",
   "metadata": {},
   "outputs": [],
   "source": [
    "selected_features = pd.read_csv('../../utils/selected_features/boruta_features_baseline.csv')\n",
    "selected_features = selected_features[selected_features['Importance'] == 1]['Feature'].values"
   ]
  },
  {
   "cell_type": "code",
   "execution_count": 5,
   "id": "53175023",
   "metadata": {},
   "outputs": [
    {
     "data": {
      "text/plain": [
       "array(['customer_ID', 'end_of_month', 'D_63_CL', 'B_14', 'D_60', 'S_11',\n",
       "       'D_65', 'B_18', 'R_6', 'S_13', 'D_71', 'S_15', 'B_23', 'D_58',\n",
       "       'P_4', 'R_10', 'R_11', 'R_12', 'B_28', 'R_16', 'S_26', 'D_102',\n",
       "       'B_37', 'B_40', 'D_133', 'D_75', 'R_5', 'B_24', 'B_12', 'D_63_CO',\n",
       "       'D_63_CR', 'S_8', 'D_126_1.0', 'D_39', 'B_1', 'R_1', 'B_4', 'B_5',\n",
       "       'R_2', 'D_47', 'D_144', 'D_51', 'B_11', 'S_5', 'R_3', 'B_9',\n",
       "       'B_10', 'R_4', 'B_7'], dtype=object)"
      ]
     },
     "execution_count": 5,
     "metadata": {},
     "output_type": "execute_result"
    }
   ],
   "source": [
    "cols_to_append = ['customer_ID', 'end_of_month']\n",
    "cols_to_append = np.append(cols_to_append, selected_features)\n",
    "cols_to_append"
   ]
  },
  {
   "cell_type": "code",
   "execution_count": 6,
   "id": "a9cf1e4f",
   "metadata": {},
   "outputs": [],
   "source": [
    "df = pd.read_parquet('../../data/non-null/df_13_months_unprocessed_non_null.parquet').drop(columns=['S_2'])"
   ]
  },
  {
   "cell_type": "code",
   "execution_count": 7,
   "id": "515eb39d",
   "metadata": {},
   "outputs": [],
   "source": [
    "train_ids = pd.read_parquet('../../data/3d_array/train_targets.parquet')['customer_ID'].values\n",
    "val_ids = pd.read_parquet('../../data/3d_array/val_targets.parquet')['customer_ID'].values\n",
    "test_ids = pd.read_parquet('../../data/3d_array/test_targets.parquet')['customer_ID'].values"
   ]
  },
  {
   "cell_type": "code",
   "execution_count": 8,
   "id": "de244875",
   "metadata": {},
   "outputs": [],
   "source": [
    "train_df = df[df['customer_ID'].isin(train_ids)]\n",
    "val_df = df[df['customer_ID'].isin(val_ids)]\n",
    "test_df = df[df['customer_ID'].isin(test_ids)]"
   ]
  },
  {
   "cell_type": "code",
   "execution_count": 9,
   "id": "bace5350",
   "metadata": {},
   "outputs": [],
   "source": [
    "df = None"
   ]
  },
  {
   "cell_type": "code",
   "execution_count": 10,
   "id": "07fc46e9",
   "metadata": {},
   "outputs": [
    {
     "data": {
      "text/plain": [
       "((3486098, 82), (387137, 82), (1658216, 82))"
      ]
     },
     "execution_count": 10,
     "metadata": {},
     "output_type": "execute_result"
    }
   ],
   "source": [
    "train_df.shape, val_df.shape, test_df.shape"
   ]
  },
  {
   "cell_type": "code",
   "execution_count": 11,
   "id": "e184062c",
   "metadata": {},
   "outputs": [],
   "source": [
    "from sklearn.preprocessing import OneHotEncoder\n",
    "import pandas as pd\n",
    "import numpy as np\n",
    "\n",
    "def one_hot_encode_categories(df, categorical_columns=None, drop_original=True, handle_unknown='error'):\n",
    "    \"\"\"\n",
    "    One-hot encode categorical columns in a DataFrame.\n",
    "    \n",
    "    Parameters:\n",
    "    -----------\n",
    "    df : pandas.DataFrame\n",
    "        Input DataFrame containing categorical columns\n",
    "    categorical_columns : list or None\n",
    "        List of categorical column names to encode. If None, automatically detects categorical columns.\n",
    "    drop_original : bool\n",
    "        Whether to drop the original categorical columns\n",
    "    handle_unknown : str\n",
    "        Strategy for handling unknown categories in new data: 'error', 'ignore' or 'infrequent_if_exist'\n",
    "    \n",
    "    Returns:\n",
    "    --------\n",
    "    pandas.DataFrame\n",
    "        DataFrame with one-hot encoded columns\n",
    "    OneHotEncoder\n",
    "        Fitted encoder for future transformations\n",
    "    \"\"\"\n",
    "    # Make a copy to avoid modifying the original\n",
    "    result_df = df.copy()\n",
    "    \n",
    "    # Automatically detect categorical columns if not specified\n",
    "    if categorical_columns is None:\n",
    "        categorical_columns = result_df.select_dtypes(include=['object', 'category']).columns.tolist()\n",
    "    \n",
    "    if not categorical_columns:\n",
    "        print(\"No categorical columns found to encode.\")\n",
    "        return result_df, None\n",
    "        \n",
    "    # Initialize the encoder\n",
    "    encoder = OneHotEncoder(sparse_output=False, handle_unknown=handle_unknown, drop='if_binary')\n",
    "    \n",
    "    # Fit and transform the categorical columns\n",
    "    encoded_array = encoder.fit_transform(result_df[categorical_columns])\n",
    "    \n",
    "    # Get feature names\n",
    "    feature_names = encoder.get_feature_names_out(categorical_columns)\n",
    "    \n",
    "    # Create a DataFrame with the encoded features\n",
    "    encoded_df = pd.DataFrame(encoded_array, columns=feature_names, index=result_df.index)\n",
    "    \n",
    "    # Combine with the original DataFrame\n",
    "    if drop_original:\n",
    "        # Drop the original categorical columns\n",
    "        result_df = result_df.drop(columns=categorical_columns)\n",
    "    \n",
    "    # Concatenate the encoded columns with the original DataFrame\n",
    "    result_df = pd.concat([result_df, encoded_df], axis=1)\n",
    "    \n",
    "    print(f\"One-hot encoded {len(categorical_columns)} categorical columns into {len(feature_names)} binary features.\")\n",
    "    \n",
    "    return result_df, encoder"
   ]
  },
  {
   "cell_type": "code",
   "execution_count": 12,
   "id": "39b71801",
   "metadata": {},
   "outputs": [],
   "source": [
    "cat_cols = ['D_126', 'D_63']\n",
    "train_df[cat_cols] = train_df[cat_cols].astype('category')\n",
    "val_df[cat_cols] = val_df[cat_cols].astype('category')\n",
    "test_df[cat_cols] = test_df[cat_cols].astype('category')"
   ]
  },
  {
   "cell_type": "code",
   "execution_count": 13,
   "id": "768072ea",
   "metadata": {},
   "outputs": [
    {
     "data": {
      "text/plain": [
       "array([[0., 0., 1., ..., 0., 0., 0.],\n",
       "       [0., 0., 1., ..., 0., 0., 0.],\n",
       "       [0., 0., 1., ..., 0., 0., 0.],\n",
       "       ...,\n",
       "       [0., 0., 1., ..., 0., 0., 0.],\n",
       "       [0., 0., 1., ..., 0., 0., 0.],\n",
       "       [0., 0., 1., ..., 0., 0., 0.]])"
      ]
     },
     "execution_count": 13,
     "metadata": {},
     "output_type": "execute_result"
    }
   ],
   "source": [
    "ohe = OneHotEncoder(handle_unknown='ignore', sparse_output=False, drop='if_binary')\n",
    "ohe.fit_transform(train_df[cat_cols])"
   ]
  },
  {
   "cell_type": "code",
   "execution_count": 14,
   "id": "9cb1d7e2",
   "metadata": {},
   "outputs": [
    {
     "data": {
      "text/plain": [
       "array(['D_126_-1.0', 'D_126_0.0', 'D_126_1.0', 'D_126_nan', 'D_63_CL',\n",
       "       'D_63_CO', 'D_63_CR', 'D_63_XL', 'D_63_XM', 'D_63_XZ'],\n",
       "      dtype=object)"
      ]
     },
     "execution_count": 14,
     "metadata": {},
     "output_type": "execute_result"
    }
   ],
   "source": [
    "ohe.get_feature_names_out(cat_cols)"
   ]
  },
  {
   "cell_type": "code",
   "execution_count": 15,
   "id": "5f543114",
   "metadata": {},
   "outputs": [
    {
     "name": "stdout",
     "output_type": "stream",
     "text": [
      "One-hot encoded 2 categorical columns into 10 binary features.\n"
     ]
    }
   ],
   "source": [
    "train_df, cat_encoder = one_hot_encode_categories(train_df, handle_unknown='ignore', categorical_columns=cat_cols)"
   ]
  },
  {
   "cell_type": "code",
   "execution_count": 16,
   "id": "0defbee7",
   "metadata": {},
   "outputs": [],
   "source": [
    "val_df = pd.concat([val_df.drop(columns=cat_encoder.feature_names_in_),pd.DataFrame(cat_encoder.transform(val_df[cat_encoder.feature_names_in_]), columns=cat_encoder.get_feature_names_out(),index=val_df.index)], axis=1)\n",
    "test_df = pd.concat([test_df.drop(columns=cat_encoder.feature_names_in_),pd.DataFrame(cat_encoder.transform(test_df[cat_encoder.feature_names_in_]), columns=cat_encoder.get_feature_names_out(),index=test_df.index)], axis=1)"
   ]
  },
  {
   "cell_type": "code",
   "execution_count": 17,
   "id": "1894ed5c",
   "metadata": {},
   "outputs": [
    {
     "data": {
      "text/plain": [
       "((3486098, 90), (387137, 90), (1658216, 90))"
      ]
     },
     "execution_count": 17,
     "metadata": {},
     "output_type": "execute_result"
    }
   ],
   "source": [
    "train_df.shape, val_df.shape, test_df.shape"
   ]
  },
  {
   "cell_type": "code",
   "execution_count": 18,
   "id": "2988d397",
   "metadata": {},
   "outputs": [],
   "source": [
    "ts_creator = TimeSeriesFeatureCreation(create_2_diff=False, verbose = True, id_col='customer_ID', date_col = 'end_of_month',\n",
    "                                       rolling_window_size=6, span = 6, num_lags=3)"
   ]
  },
  {
   "cell_type": "code",
   "execution_count": 19,
   "id": "6cb93f1c",
   "metadata": {},
   "outputs": [
    {
     "name": "stdout",
     "output_type": "stream",
     "text": [
      "Aggregated DataFrame type: <class 'pandas.core.frame.DataFrame'>\n"
     ]
    },
    {
     "name": "stderr",
     "output_type": "stream",
     "text": [
      "Creating time series features for each feature:   0%|          | 0/47 [00:00<?, ?it/s]"
     ]
    },
    {
     "name": "stdout",
     "output_type": "stream",
     "text": [
      "Creating features for D_63_CL\n",
      "\tCreating lag features for D_63_CL\n",
      "\tCreating cumulative features for D_63_CL\n",
      "\tCreating expanding window features for D_63_CL\n",
      "\tCreating time differencing features for D_63_CL\n",
      "\tCreating rolling window features for D_63_CL\n",
      "\tCreating ewm features for D_63_CL with span 6\n"
     ]
    },
    {
     "name": "stderr",
     "output_type": "stream",
     "text": [
      "Creating time series features for each feature:   2%|▏         | 1/47 [00:06<05:18,  6.92s/it]"
     ]
    },
    {
     "name": "stdout",
     "output_type": "stream",
     "text": [
      "Creating features for B_14\n",
      "\tCreating lag features for B_14\n",
      "\tCreating cumulative features for B_14\n",
      "\tCreating expanding window features for B_14\n",
      "\tCreating time differencing features for B_14\n",
      "\tCreating rolling window features for B_14\n",
      "\tCreating ewm features for B_14 with span 6\n"
     ]
    },
    {
     "name": "stderr",
     "output_type": "stream",
     "text": [
      "Creating time series features for each feature:   4%|▍         | 2/47 [00:13<04:51,  6.48s/it]"
     ]
    },
    {
     "name": "stdout",
     "output_type": "stream",
     "text": [
      "Creating features for D_60\n",
      "\tCreating lag features for D_60\n",
      "\tCreating cumulative features for D_60\n",
      "\tCreating expanding window features for D_60\n",
      "\tCreating time differencing features for D_60\n",
      "\tCreating rolling window features for D_60\n",
      "\tCreating ewm features for D_60 with span 6\n"
     ]
    },
    {
     "name": "stderr",
     "output_type": "stream",
     "text": [
      "Creating time series features for each feature:   6%|▋         | 3/47 [00:19<04:42,  6.42s/it]"
     ]
    },
    {
     "name": "stdout",
     "output_type": "stream",
     "text": [
      "Creating features for S_11\n",
      "\tCreating lag features for S_11\n",
      "\tCreating cumulative features for S_11\n",
      "\tCreating expanding window features for S_11\n",
      "\tCreating time differencing features for S_11\n",
      "\tCreating rolling window features for S_11\n",
      "\tCreating ewm features for S_11 with span 6\n"
     ]
    },
    {
     "name": "stderr",
     "output_type": "stream",
     "text": [
      "Creating time series features for each feature:   9%|▊         | 4/47 [00:25<04:36,  6.42s/it]"
     ]
    },
    {
     "name": "stdout",
     "output_type": "stream",
     "text": [
      "Creating features for D_65\n",
      "\tCreating lag features for D_65\n",
      "\tCreating cumulative features for D_65\n",
      "\tCreating expanding window features for D_65\n",
      "\tCreating time differencing features for D_65\n",
      "\tCreating rolling window features for D_65\n",
      "\tCreating ewm features for D_65 with span 6\n"
     ]
    },
    {
     "name": "stderr",
     "output_type": "stream",
     "text": [
      "Creating time series features for each feature:  11%|█         | 5/47 [00:32<04:27,  6.36s/it]"
     ]
    },
    {
     "name": "stdout",
     "output_type": "stream",
     "text": [
      "Creating features for B_18\n",
      "\tCreating lag features for B_18\n",
      "\tCreating cumulative features for B_18\n",
      "\tCreating expanding window features for B_18\n",
      "\tCreating time differencing features for B_18\n",
      "\tCreating rolling window features for B_18\n",
      "\tCreating ewm features for B_18 with span 6\n"
     ]
    },
    {
     "name": "stderr",
     "output_type": "stream",
     "text": [
      "Creating time series features for each feature:  13%|█▎        | 6/47 [00:38<04:24,  6.44s/it]"
     ]
    },
    {
     "name": "stdout",
     "output_type": "stream",
     "text": [
      "Creating features for R_6\n",
      "\tCreating lag features for R_6\n",
      "\tCreating cumulative features for R_6\n",
      "\tCreating expanding window features for R_6\n",
      "\tCreating time differencing features for R_6\n",
      "\tCreating rolling window features for R_6\n",
      "\tCreating ewm features for R_6 with span 6\n"
     ]
    },
    {
     "name": "stderr",
     "output_type": "stream",
     "text": [
      "Creating time series features for each feature:  15%|█▍        | 7/47 [00:44<04:15,  6.38s/it]"
     ]
    },
    {
     "name": "stdout",
     "output_type": "stream",
     "text": [
      "Creating features for S_13\n",
      "\tCreating lag features for S_13\n",
      "\tCreating cumulative features for S_13\n",
      "\tCreating expanding window features for S_13\n",
      "\tCreating time differencing features for S_13\n",
      "\tCreating rolling window features for S_13\n",
      "\tCreating ewm features for S_13 with span 6\n"
     ]
    },
    {
     "name": "stderr",
     "output_type": "stream",
     "text": [
      "Creating time series features for each feature:  17%|█▋        | 8/47 [00:51<04:08,  6.37s/it]"
     ]
    },
    {
     "name": "stdout",
     "output_type": "stream",
     "text": [
      "Creating features for D_71\n",
      "\tCreating lag features for D_71\n",
      "\tCreating cumulative features for D_71\n",
      "\tCreating expanding window features for D_71\n",
      "\tCreating time differencing features for D_71\n",
      "\tCreating rolling window features for D_71\n",
      "\tCreating ewm features for D_71 with span 6\n"
     ]
    },
    {
     "name": "stderr",
     "output_type": "stream",
     "text": [
      "Creating time series features for each feature:  19%|█▉        | 9/47 [00:58<04:07,  6.51s/it]"
     ]
    },
    {
     "name": "stdout",
     "output_type": "stream",
     "text": [
      "Creating features for S_15\n",
      "\tCreating lag features for S_15\n",
      "\tCreating cumulative features for S_15\n",
      "\tCreating expanding window features for S_15\n",
      "\tCreating time differencing features for S_15\n",
      "\tCreating rolling window features for S_15\n",
      "\tCreating ewm features for S_15 with span 6\n"
     ]
    },
    {
     "name": "stderr",
     "output_type": "stream",
     "text": [
      "Creating time series features for each feature:  21%|██▏       | 10/47 [01:05<04:06,  6.67s/it]"
     ]
    },
    {
     "name": "stdout",
     "output_type": "stream",
     "text": [
      "Creating features for B_23\n",
      "\tCreating lag features for B_23\n",
      "\tCreating cumulative features for B_23\n",
      "\tCreating expanding window features for B_23\n",
      "\tCreating time differencing features for B_23\n",
      "\tCreating rolling window features for B_23\n",
      "\tCreating ewm features for B_23 with span 6\n"
     ]
    },
    {
     "name": "stderr",
     "output_type": "stream",
     "text": [
      "Creating time series features for each feature:  23%|██▎       | 11/47 [01:12<04:03,  6.76s/it]"
     ]
    },
    {
     "name": "stdout",
     "output_type": "stream",
     "text": [
      "Creating features for D_58\n",
      "\tCreating lag features for D_58\n",
      "\tCreating cumulative features for D_58\n",
      "\tCreating expanding window features for D_58\n",
      "\tCreating time differencing features for D_58\n",
      "\tCreating rolling window features for D_58\n",
      "\tCreating ewm features for D_58 with span 6\n"
     ]
    },
    {
     "name": "stderr",
     "output_type": "stream",
     "text": [
      "Creating time series features for each feature:  26%|██▌       | 12/47 [01:19<04:00,  6.87s/it]"
     ]
    },
    {
     "name": "stdout",
     "output_type": "stream",
     "text": [
      "Creating features for P_4\n",
      "\tCreating lag features for P_4\n",
      "\tCreating cumulative features for P_4\n",
      "\tCreating expanding window features for P_4\n",
      "\tCreating time differencing features for P_4\n",
      "\tCreating rolling window features for P_4\n",
      "\tCreating ewm features for P_4 with span 6\n"
     ]
    },
    {
     "name": "stderr",
     "output_type": "stream",
     "text": [
      "Creating time series features for each feature:  28%|██▊       | 13/47 [01:26<03:52,  6.84s/it]"
     ]
    },
    {
     "name": "stdout",
     "output_type": "stream",
     "text": [
      "Creating features for R_10\n",
      "\tCreating lag features for R_10\n",
      "\tCreating cumulative features for R_10\n",
      "\tCreating expanding window features for R_10\n",
      "\tCreating time differencing features for R_10\n",
      "\tCreating rolling window features for R_10\n",
      "\tCreating ewm features for R_10 with span 6\n"
     ]
    },
    {
     "name": "stderr",
     "output_type": "stream",
     "text": [
      "Creating time series features for each feature:  30%|██▉       | 14/47 [01:32<03:41,  6.70s/it]"
     ]
    },
    {
     "name": "stdout",
     "output_type": "stream",
     "text": [
      "Creating features for R_11\n",
      "\tCreating lag features for R_11\n",
      "\tCreating cumulative features for R_11\n",
      "\tCreating expanding window features for R_11\n",
      "\tCreating time differencing features for R_11\n",
      "\tCreating rolling window features for R_11\n",
      "\tCreating ewm features for R_11 with span 6\n"
     ]
    },
    {
     "name": "stderr",
     "output_type": "stream",
     "text": [
      "Creating time series features for each feature:  32%|███▏      | 15/47 [01:38<03:32,  6.65s/it]"
     ]
    },
    {
     "name": "stdout",
     "output_type": "stream",
     "text": [
      "Creating features for R_12\n",
      "\tCreating lag features for R_12\n",
      "\tCreating cumulative features for R_12\n",
      "\tCreating expanding window features for R_12\n",
      "\tCreating time differencing features for R_12\n",
      "\tCreating rolling window features for R_12\n",
      "\tCreating ewm features for R_12 with span 6\n"
     ]
    },
    {
     "name": "stderr",
     "output_type": "stream",
     "text": [
      "Creating time series features for each feature:  34%|███▍      | 16/47 [01:45<03:23,  6.57s/it]"
     ]
    },
    {
     "name": "stdout",
     "output_type": "stream",
     "text": [
      "Creating features for B_28\n",
      "\tCreating lag features for B_28\n",
      "\tCreating cumulative features for B_28\n",
      "\tCreating expanding window features for B_28\n",
      "\tCreating time differencing features for B_28\n",
      "\tCreating rolling window features for B_28\n",
      "\tCreating ewm features for B_28 with span 6\n"
     ]
    },
    {
     "name": "stderr",
     "output_type": "stream",
     "text": [
      "Creating time series features for each feature:  36%|███▌      | 17/47 [01:51<03:15,  6.50s/it]"
     ]
    },
    {
     "name": "stdout",
     "output_type": "stream",
     "text": [
      "Creating features for R_16\n",
      "\tCreating lag features for R_16\n",
      "\tCreating cumulative features for R_16\n",
      "\tCreating expanding window features for R_16\n",
      "\tCreating time differencing features for R_16\n",
      "\tCreating rolling window features for R_16\n",
      "\tCreating ewm features for R_16 with span 6\n"
     ]
    },
    {
     "name": "stderr",
     "output_type": "stream",
     "text": [
      "Creating time series features for each feature:  38%|███▊      | 18/47 [01:58<03:08,  6.49s/it]"
     ]
    },
    {
     "name": "stdout",
     "output_type": "stream",
     "text": [
      "Creating features for S_26\n",
      "\tCreating lag features for S_26\n",
      "\tCreating cumulative features for S_26\n",
      "\tCreating expanding window features for S_26\n",
      "\tCreating time differencing features for S_26\n",
      "\tCreating rolling window features for S_26\n",
      "\tCreating ewm features for S_26 with span 6\n"
     ]
    },
    {
     "name": "stderr",
     "output_type": "stream",
     "text": [
      "Creating time series features for each feature:  40%|████      | 19/47 [02:04<02:59,  6.42s/it]"
     ]
    },
    {
     "name": "stdout",
     "output_type": "stream",
     "text": [
      "Creating features for D_102\n",
      "\tCreating lag features for D_102\n",
      "\tCreating cumulative features for D_102\n",
      "\tCreating expanding window features for D_102\n",
      "\tCreating time differencing features for D_102\n",
      "\tCreating rolling window features for D_102\n",
      "\tCreating ewm features for D_102 with span 6\n"
     ]
    },
    {
     "name": "stderr",
     "output_type": "stream",
     "text": [
      "Creating time series features for each feature:  43%|████▎     | 20/47 [02:10<02:53,  6.43s/it]"
     ]
    },
    {
     "name": "stdout",
     "output_type": "stream",
     "text": [
      "Creating features for B_37\n",
      "\tCreating lag features for B_37\n",
      "\tCreating cumulative features for B_37\n",
      "\tCreating expanding window features for B_37\n",
      "\tCreating time differencing features for B_37\n",
      "\tCreating rolling window features for B_37\n",
      "\tCreating ewm features for B_37 with span 6\n"
     ]
    },
    {
     "name": "stderr",
     "output_type": "stream",
     "text": [
      "Creating time series features for each feature:  45%|████▍     | 21/47 [02:17<02:47,  6.44s/it]"
     ]
    },
    {
     "name": "stdout",
     "output_type": "stream",
     "text": [
      "Creating features for B_40\n",
      "\tCreating lag features for B_40\n",
      "\tCreating cumulative features for B_40\n",
      "\tCreating expanding window features for B_40\n",
      "\tCreating time differencing features for B_40\n",
      "\tCreating rolling window features for B_40\n",
      "\tCreating ewm features for B_40 with span 6\n"
     ]
    },
    {
     "name": "stderr",
     "output_type": "stream",
     "text": [
      "Creating time series features for each feature:  47%|████▋     | 22/47 [02:23<02:41,  6.46s/it]"
     ]
    },
    {
     "name": "stdout",
     "output_type": "stream",
     "text": [
      "Creating features for D_133\n",
      "\tCreating lag features for D_133\n",
      "\tCreating cumulative features for D_133\n",
      "\tCreating expanding window features for D_133\n",
      "\tCreating time differencing features for D_133\n",
      "\tCreating rolling window features for D_133\n",
      "\tCreating ewm features for D_133 with span 6\n"
     ]
    },
    {
     "name": "stderr",
     "output_type": "stream",
     "text": [
      "Creating time series features for each feature:  49%|████▉     | 23/47 [02:30<02:35,  6.49s/it]"
     ]
    },
    {
     "name": "stdout",
     "output_type": "stream",
     "text": [
      "Creating features for D_75\n",
      "\tCreating lag features for D_75\n",
      "\tCreating cumulative features for D_75\n",
      "\tCreating expanding window features for D_75\n",
      "\tCreating time differencing features for D_75\n",
      "\tCreating rolling window features for D_75\n",
      "\tCreating ewm features for D_75 with span 6\n"
     ]
    },
    {
     "name": "stderr",
     "output_type": "stream",
     "text": [
      "Creating time series features for each feature:  51%|█████     | 24/47 [02:37<02:30,  6.55s/it]"
     ]
    },
    {
     "name": "stdout",
     "output_type": "stream",
     "text": [
      "Creating features for R_5\n",
      "\tCreating lag features for R_5\n",
      "\tCreating cumulative features for R_5\n",
      "\tCreating expanding window features for R_5\n",
      "\tCreating time differencing features for R_5\n",
      "\tCreating rolling window features for R_5\n",
      "\tCreating ewm features for R_5 with span 6\n"
     ]
    },
    {
     "name": "stderr",
     "output_type": "stream",
     "text": [
      "Creating time series features for each feature:  53%|█████▎    | 25/47 [02:43<02:25,  6.61s/it]"
     ]
    },
    {
     "name": "stdout",
     "output_type": "stream",
     "text": [
      "Creating features for B_24\n",
      "\tCreating lag features for B_24\n",
      "\tCreating cumulative features for B_24\n",
      "\tCreating expanding window features for B_24\n",
      "\tCreating time differencing features for B_24\n",
      "\tCreating rolling window features for B_24\n",
      "\tCreating ewm features for B_24 with span 6\n"
     ]
    },
    {
     "name": "stderr",
     "output_type": "stream",
     "text": [
      "Creating time series features for each feature:  55%|█████▌    | 26/47 [02:50<02:19,  6.63s/it]"
     ]
    },
    {
     "name": "stdout",
     "output_type": "stream",
     "text": [
      "Creating features for B_12\n",
      "\tCreating lag features for B_12\n",
      "\tCreating cumulative features for B_12\n",
      "\tCreating expanding window features for B_12\n",
      "\tCreating time differencing features for B_12\n",
      "\tCreating rolling window features for B_12\n",
      "\tCreating ewm features for B_12 with span 6\n"
     ]
    },
    {
     "name": "stderr",
     "output_type": "stream",
     "text": [
      "Creating time series features for each feature:  57%|█████▋    | 27/47 [02:57<02:12,  6.61s/it]"
     ]
    },
    {
     "name": "stdout",
     "output_type": "stream",
     "text": [
      "Creating features for D_63_CO\n",
      "\tCreating lag features for D_63_CO\n",
      "\tCreating cumulative features for D_63_CO\n",
      "\tCreating expanding window features for D_63_CO\n",
      "\tCreating time differencing features for D_63_CO\n",
      "\tCreating rolling window features for D_63_CO\n",
      "\tCreating ewm features for D_63_CO with span 6\n"
     ]
    },
    {
     "name": "stderr",
     "output_type": "stream",
     "text": [
      "Creating time series features for each feature:  60%|█████▉    | 28/47 [03:03<02:06,  6.67s/it]"
     ]
    },
    {
     "name": "stdout",
     "output_type": "stream",
     "text": [
      "Creating features for D_63_CR\n",
      "\tCreating lag features for D_63_CR\n",
      "\tCreating cumulative features for D_63_CR\n",
      "\tCreating expanding window features for D_63_CR\n",
      "\tCreating time differencing features for D_63_CR\n",
      "\tCreating rolling window features for D_63_CR\n",
      "\tCreating ewm features for D_63_CR with span 6\n"
     ]
    },
    {
     "name": "stderr",
     "output_type": "stream",
     "text": [
      "Creating time series features for each feature:  62%|██████▏   | 29/47 [03:10<01:59,  6.63s/it]"
     ]
    },
    {
     "name": "stdout",
     "output_type": "stream",
     "text": [
      "Creating features for S_8\n",
      "\tCreating lag features for S_8\n",
      "\tCreating cumulative features for S_8\n",
      "\tCreating expanding window features for S_8\n",
      "\tCreating time differencing features for S_8\n",
      "\tCreating rolling window features for S_8\n",
      "\tCreating ewm features for S_8 with span 6\n"
     ]
    },
    {
     "name": "stderr",
     "output_type": "stream",
     "text": [
      "Creating time series features for each feature:  64%|██████▍   | 30/47 [03:17<01:52,  6.64s/it]"
     ]
    },
    {
     "name": "stdout",
     "output_type": "stream",
     "text": [
      "Creating features for D_126_1.0\n",
      "\tCreating lag features for D_126_1.0\n",
      "\tCreating cumulative features for D_126_1.0\n",
      "\tCreating expanding window features for D_126_1.0\n",
      "\tCreating time differencing features for D_126_1.0\n",
      "\tCreating rolling window features for D_126_1.0\n",
      "\tCreating ewm features for D_126_1.0 with span 6\n"
     ]
    },
    {
     "name": "stderr",
     "output_type": "stream",
     "text": [
      "Creating time series features for each feature:  66%|██████▌   | 31/47 [03:23<01:46,  6.66s/it]"
     ]
    },
    {
     "name": "stdout",
     "output_type": "stream",
     "text": [
      "Creating features for D_39\n",
      "\tCreating lag features for D_39\n",
      "\tCreating cumulative features for D_39\n",
      "\tCreating expanding window features for D_39\n",
      "\tCreating time differencing features for D_39\n",
      "\tCreating rolling window features for D_39\n",
      "\tCreating ewm features for D_39 with span 6\n"
     ]
    },
    {
     "name": "stderr",
     "output_type": "stream",
     "text": [
      "Creating time series features for each feature:  68%|██████▊   | 32/47 [03:30<01:39,  6.65s/it]"
     ]
    },
    {
     "name": "stdout",
     "output_type": "stream",
     "text": [
      "Creating features for B_1\n",
      "\tCreating lag features for B_1\n",
      "\tCreating cumulative features for B_1\n",
      "\tCreating expanding window features for B_1\n",
      "\tCreating time differencing features for B_1\n",
      "\tCreating rolling window features for B_1\n",
      "\tCreating ewm features for B_1 with span 6\n"
     ]
    },
    {
     "name": "stderr",
     "output_type": "stream",
     "text": [
      "Creating time series features for each feature:  70%|███████   | 33/47 [03:37<01:33,  6.66s/it]"
     ]
    },
    {
     "name": "stdout",
     "output_type": "stream",
     "text": [
      "Creating features for R_1\n",
      "\tCreating lag features for R_1\n",
      "\tCreating cumulative features for R_1\n",
      "\tCreating expanding window features for R_1\n",
      "\tCreating time differencing features for R_1\n",
      "\tCreating rolling window features for R_1\n",
      "\tCreating ewm features for R_1 with span 6\n"
     ]
    },
    {
     "name": "stderr",
     "output_type": "stream",
     "text": [
      "Creating time series features for each feature:  72%|███████▏  | 34/47 [03:43<01:26,  6.67s/it]"
     ]
    },
    {
     "name": "stdout",
     "output_type": "stream",
     "text": [
      "Creating features for B_4\n",
      "\tCreating lag features for B_4\n",
      "\tCreating cumulative features for B_4\n",
      "\tCreating expanding window features for B_4\n",
      "\tCreating time differencing features for B_4\n",
      "\tCreating rolling window features for B_4\n",
      "\tCreating ewm features for B_4 with span 6\n"
     ]
    },
    {
     "name": "stderr",
     "output_type": "stream",
     "text": [
      "Creating time series features for each feature:  74%|███████▍  | 35/47 [03:50<01:19,  6.65s/it]"
     ]
    },
    {
     "name": "stdout",
     "output_type": "stream",
     "text": [
      "Creating features for B_5\n",
      "\tCreating lag features for B_5\n",
      "\tCreating cumulative features for B_5\n",
      "\tCreating expanding window features for B_5\n",
      "\tCreating time differencing features for B_5\n",
      "\tCreating rolling window features for B_5\n",
      "\tCreating ewm features for B_5 with span 6\n"
     ]
    },
    {
     "name": "stderr",
     "output_type": "stream",
     "text": [
      "Creating time series features for each feature:  77%|███████▋  | 36/47 [03:56<01:12,  6.63s/it]"
     ]
    },
    {
     "name": "stdout",
     "output_type": "stream",
     "text": [
      "Creating features for R_2\n",
      "\tCreating lag features for R_2\n",
      "\tCreating cumulative features for R_2\n",
      "\tCreating expanding window features for R_2\n",
      "\tCreating time differencing features for R_2\n",
      "\tCreating rolling window features for R_2\n",
      "\tCreating ewm features for R_2 with span 6\n"
     ]
    },
    {
     "name": "stderr",
     "output_type": "stream",
     "text": [
      "Creating time series features for each feature:  79%|███████▊  | 37/47 [04:03<01:06,  6.69s/it]"
     ]
    },
    {
     "name": "stdout",
     "output_type": "stream",
     "text": [
      "Creating features for D_47\n",
      "\tCreating lag features for D_47\n",
      "\tCreating cumulative features for D_47\n",
      "\tCreating expanding window features for D_47\n",
      "\tCreating time differencing features for D_47\n",
      "\tCreating rolling window features for D_47\n",
      "\tCreating ewm features for D_47 with span 6\n"
     ]
    },
    {
     "name": "stderr",
     "output_type": "stream",
     "text": [
      "Creating time series features for each feature:  81%|████████  | 38/47 [04:10<01:00,  6.67s/it]"
     ]
    },
    {
     "name": "stdout",
     "output_type": "stream",
     "text": [
      "Creating features for D_144\n",
      "\tCreating lag features for D_144\n",
      "\tCreating cumulative features for D_144\n",
      "\tCreating expanding window features for D_144\n",
      "\tCreating time differencing features for D_144\n",
      "\tCreating rolling window features for D_144\n",
      "\tCreating ewm features for D_144 with span 6\n"
     ]
    },
    {
     "name": "stderr",
     "output_type": "stream",
     "text": [
      "Creating time series features for each feature:  83%|████████▎ | 39/47 [04:17<00:53,  6.66s/it]"
     ]
    },
    {
     "name": "stdout",
     "output_type": "stream",
     "text": [
      "Creating features for D_51\n",
      "\tCreating lag features for D_51\n",
      "\tCreating cumulative features for D_51\n",
      "\tCreating expanding window features for D_51\n",
      "\tCreating time differencing features for D_51\n",
      "\tCreating rolling window features for D_51\n",
      "\tCreating ewm features for D_51 with span 6\n"
     ]
    },
    {
     "name": "stderr",
     "output_type": "stream",
     "text": [
      "Creating time series features for each feature:  85%|████████▌ | 40/47 [04:23<00:46,  6.67s/it]"
     ]
    },
    {
     "name": "stdout",
     "output_type": "stream",
     "text": [
      "Creating features for B_11\n",
      "\tCreating lag features for B_11\n",
      "\tCreating cumulative features for B_11\n",
      "\tCreating expanding window features for B_11\n",
      "\tCreating time differencing features for B_11\n",
      "\tCreating rolling window features for B_11\n",
      "\tCreating ewm features for B_11 with span 6\n"
     ]
    },
    {
     "name": "stderr",
     "output_type": "stream",
     "text": [
      "Creating time series features for each feature:  87%|████████▋ | 41/47 [04:30<00:40,  6.71s/it]"
     ]
    },
    {
     "name": "stdout",
     "output_type": "stream",
     "text": [
      "Creating features for S_5\n",
      "\tCreating lag features for S_5\n",
      "\tCreating cumulative features for S_5\n",
      "\tCreating expanding window features for S_5\n",
      "\tCreating time differencing features for S_5\n",
      "\tCreating rolling window features for S_5\n",
      "\tCreating ewm features for S_5 with span 6\n"
     ]
    },
    {
     "name": "stderr",
     "output_type": "stream",
     "text": [
      "Creating time series features for each feature:  89%|████████▉ | 42/47 [04:37<00:33,  6.69s/it]"
     ]
    },
    {
     "name": "stdout",
     "output_type": "stream",
     "text": [
      "Creating features for R_3\n",
      "\tCreating lag features for R_3\n",
      "\tCreating cumulative features for R_3\n",
      "\tCreating expanding window features for R_3\n",
      "\tCreating time differencing features for R_3\n",
      "\tCreating rolling window features for R_3\n",
      "\tCreating ewm features for R_3 with span 6\n"
     ]
    },
    {
     "name": "stderr",
     "output_type": "stream",
     "text": [
      "Creating time series features for each feature:  91%|█████████▏| 43/47 [04:44<00:27,  6.79s/it]"
     ]
    },
    {
     "name": "stdout",
     "output_type": "stream",
     "text": [
      "Creating features for B_9\n",
      "\tCreating lag features for B_9\n",
      "\tCreating cumulative features for B_9\n",
      "\tCreating expanding window features for B_9\n",
      "\tCreating time differencing features for B_9\n",
      "\tCreating rolling window features for B_9\n",
      "\tCreating ewm features for B_9 with span 6\n"
     ]
    },
    {
     "name": "stderr",
     "output_type": "stream",
     "text": [
      "Creating time series features for each feature:  94%|█████████▎| 44/47 [04:51<00:20,  6.93s/it]"
     ]
    },
    {
     "name": "stdout",
     "output_type": "stream",
     "text": [
      "Creating features for B_10\n",
      "\tCreating lag features for B_10\n",
      "\tCreating cumulative features for B_10\n",
      "\tCreating expanding window features for B_10\n",
      "\tCreating time differencing features for B_10\n",
      "\tCreating rolling window features for B_10\n",
      "\tCreating ewm features for B_10 with span 6\n"
     ]
    },
    {
     "name": "stderr",
     "output_type": "stream",
     "text": [
      "Creating time series features for each feature:  96%|█████████▌| 45/47 [04:59<00:14,  7.35s/it]"
     ]
    },
    {
     "name": "stdout",
     "output_type": "stream",
     "text": [
      "Creating features for R_4\n",
      "\tCreating lag features for R_4\n",
      "\tCreating cumulative features for R_4\n",
      "\tCreating expanding window features for R_4\n",
      "\tCreating time differencing features for R_4\n",
      "\tCreating rolling window features for R_4\n",
      "\tCreating ewm features for R_4 with span 6\n"
     ]
    },
    {
     "name": "stderr",
     "output_type": "stream",
     "text": [
      "Creating time series features for each feature:  98%|█████████▊| 46/47 [05:07<00:07,  7.34s/it]"
     ]
    },
    {
     "name": "stdout",
     "output_type": "stream",
     "text": [
      "Creating features for B_7\n",
      "\tCreating lag features for B_7\n",
      "\tCreating cumulative features for B_7\n",
      "\tCreating expanding window features for B_7\n",
      "\tCreating time differencing features for B_7\n",
      "\tCreating rolling window features for B_7\n",
      "\tCreating ewm features for B_7 with span 6\n"
     ]
    },
    {
     "name": "stderr",
     "output_type": "stream",
     "text": [
      "Creating time series features for each feature: 100%|██████████| 47/47 [05:14<00:00,  6.68s/it]\n"
     ]
    },
    {
     "name": "stdout",
     "output_type": "stream",
     "text": [
      "Concatenating 282 feature DataFrames.\n"
     ]
    }
   ],
   "source": [
    "val_df = ts_creator.transform(val_df[cols_to_append])"
   ]
  },
  {
   "cell_type": "code",
   "execution_count": 20,
   "id": "f129a1b3",
   "metadata": {},
   "outputs": [],
   "source": [
    "val_df.to_parquet('../../data/ts_features/val_13_months_boruta_selected_ts_features.parquet', index=False, engine='pyarrow', compression='zstd')"
   ]
  },
  {
   "cell_type": "code",
   "execution_count": 21,
   "id": "61a3be6e",
   "metadata": {},
   "outputs": [
    {
     "data": {
      "text/plain": [
       "(387137, 1036)"
      ]
     },
     "execution_count": 21,
     "metadata": {},
     "output_type": "execute_result"
    }
   ],
   "source": [
    "val_df.shape"
   ]
  },
  {
   "cell_type": "code",
   "execution_count": 22,
   "id": "0849cb1f",
   "metadata": {},
   "outputs": [
    {
     "name": "stdout",
     "output_type": "stream",
     "text": [
      "Aggregated DataFrame type: <class 'pandas.core.frame.DataFrame'>\n"
     ]
    },
    {
     "name": "stderr",
     "output_type": "stream",
     "text": [
      "Creating time series features for each feature:   0%|          | 0/47 [00:00<?, ?it/s]"
     ]
    },
    {
     "name": "stdout",
     "output_type": "stream",
     "text": [
      "Creating features for D_63_CL\n",
      "\tCreating lag features for D_63_CL\n",
      "\tCreating cumulative features for D_63_CL\n",
      "\tCreating expanding window features for D_63_CL\n",
      "\tCreating time differencing features for D_63_CL\n",
      "\tCreating rolling window features for D_63_CL\n",
      "\tCreating ewm features for D_63_CL with span 6\n"
     ]
    },
    {
     "name": "stderr",
     "output_type": "stream",
     "text": [
      "Creating time series features for each feature:   2%|▏         | 1/47 [00:27<21:13, 27.70s/it]"
     ]
    },
    {
     "name": "stdout",
     "output_type": "stream",
     "text": [
      "Creating features for B_14\n",
      "\tCreating lag features for B_14\n",
      "\tCreating cumulative features for B_14\n",
      "\tCreating expanding window features for B_14\n",
      "\tCreating time differencing features for B_14\n",
      "\tCreating rolling window features for B_14\n",
      "\tCreating ewm features for B_14 with span 6\n"
     ]
    },
    {
     "name": "stderr",
     "output_type": "stream",
     "text": [
      "Creating time series features for each feature:   4%|▍         | 2/47 [00:54<20:28, 27.31s/it]"
     ]
    },
    {
     "name": "stdout",
     "output_type": "stream",
     "text": [
      "Creating features for D_60\n",
      "\tCreating lag features for D_60\n",
      "\tCreating cumulative features for D_60\n",
      "\tCreating expanding window features for D_60\n",
      "\tCreating time differencing features for D_60\n",
      "\tCreating rolling window features for D_60\n",
      "\tCreating ewm features for D_60 with span 6\n"
     ]
    },
    {
     "name": "stderr",
     "output_type": "stream",
     "text": [
      "Creating time series features for each feature:   6%|▋         | 3/47 [01:22<20:12, 27.55s/it]"
     ]
    },
    {
     "name": "stdout",
     "output_type": "stream",
     "text": [
      "Creating features for S_11\n",
      "\tCreating lag features for S_11\n",
      "\tCreating cumulative features for S_11\n",
      "\tCreating expanding window features for S_11\n",
      "\tCreating time differencing features for S_11\n",
      "\tCreating rolling window features for S_11\n",
      "\tCreating ewm features for S_11 with span 6\n"
     ]
    },
    {
     "name": "stderr",
     "output_type": "stream",
     "text": [
      "Creating time series features for each feature:   9%|▊         | 4/47 [01:50<19:52, 27.72s/it]"
     ]
    },
    {
     "name": "stdout",
     "output_type": "stream",
     "text": [
      "Creating features for D_65\n",
      "\tCreating lag features for D_65\n",
      "\tCreating cumulative features for D_65\n",
      "\tCreating expanding window features for D_65\n",
      "\tCreating time differencing features for D_65\n",
      "\tCreating rolling window features for D_65\n",
      "\tCreating ewm features for D_65 with span 6\n"
     ]
    },
    {
     "name": "stderr",
     "output_type": "stream",
     "text": [
      "Creating time series features for each feature:  11%|█         | 5/47 [02:17<19:19, 27.60s/it]"
     ]
    },
    {
     "name": "stdout",
     "output_type": "stream",
     "text": [
      "Creating features for B_18\n",
      "\tCreating lag features for B_18\n",
      "\tCreating cumulative features for B_18\n",
      "\tCreating expanding window features for B_18\n",
      "\tCreating time differencing features for B_18\n",
      "\tCreating rolling window features for B_18\n",
      "\tCreating ewm features for B_18 with span 6\n"
     ]
    },
    {
     "name": "stderr",
     "output_type": "stream",
     "text": [
      "Creating time series features for each feature:  13%|█▎        | 6/47 [02:46<19:04, 27.92s/it]"
     ]
    },
    {
     "name": "stdout",
     "output_type": "stream",
     "text": [
      "Creating features for R_6\n",
      "\tCreating lag features for R_6\n",
      "\tCreating cumulative features for R_6\n",
      "\tCreating expanding window features for R_6\n",
      "\tCreating time differencing features for R_6\n",
      "\tCreating rolling window features for R_6\n",
      "\tCreating ewm features for R_6 with span 6\n"
     ]
    },
    {
     "name": "stderr",
     "output_type": "stream",
     "text": [
      "Creating time series features for each feature:  15%|█▍        | 7/47 [03:14<18:37, 27.95s/it]"
     ]
    },
    {
     "name": "stdout",
     "output_type": "stream",
     "text": [
      "Creating features for S_13\n",
      "\tCreating lag features for S_13\n",
      "\tCreating cumulative features for S_13\n",
      "\tCreating expanding window features for S_13\n",
      "\tCreating time differencing features for S_13\n",
      "\tCreating rolling window features for S_13\n",
      "\tCreating ewm features for S_13 with span 6\n"
     ]
    },
    {
     "name": "stderr",
     "output_type": "stream",
     "text": [
      "Creating time series features for each feature:  17%|█▋        | 8/47 [03:42<18:14, 28.07s/it]"
     ]
    },
    {
     "name": "stdout",
     "output_type": "stream",
     "text": [
      "Creating features for D_71\n",
      "\tCreating lag features for D_71\n",
      "\tCreating cumulative features for D_71\n",
      "\tCreating expanding window features for D_71\n",
      "\tCreating time differencing features for D_71\n",
      "\tCreating rolling window features for D_71\n",
      "\tCreating ewm features for D_71 with span 6\n"
     ]
    },
    {
     "name": "stderr",
     "output_type": "stream",
     "text": [
      "Creating time series features for each feature:  19%|█▉        | 9/47 [04:10<17:46, 28.05s/it]"
     ]
    },
    {
     "name": "stdout",
     "output_type": "stream",
     "text": [
      "Creating features for S_15\n",
      "\tCreating lag features for S_15\n",
      "\tCreating cumulative features for S_15\n",
      "\tCreating expanding window features for S_15\n",
      "\tCreating time differencing features for S_15\n",
      "\tCreating rolling window features for S_15\n",
      "\tCreating ewm features for S_15 with span 6\n"
     ]
    },
    {
     "name": "stderr",
     "output_type": "stream",
     "text": [
      "Creating time series features for each feature:  21%|██▏       | 10/47 [04:39<17:20, 28.13s/it]"
     ]
    },
    {
     "name": "stdout",
     "output_type": "stream",
     "text": [
      "Creating features for B_23\n",
      "\tCreating lag features for B_23\n",
      "\tCreating cumulative features for B_23\n",
      "\tCreating expanding window features for B_23\n",
      "\tCreating time differencing features for B_23\n",
      "\tCreating rolling window features for B_23\n",
      "\tCreating ewm features for B_23 with span 6\n"
     ]
    },
    {
     "name": "stderr",
     "output_type": "stream",
     "text": [
      "Creating time series features for each feature:  23%|██▎       | 11/47 [05:07<16:54, 28.17s/it]"
     ]
    },
    {
     "name": "stdout",
     "output_type": "stream",
     "text": [
      "Creating features for D_58\n",
      "\tCreating lag features for D_58\n",
      "\tCreating cumulative features for D_58\n",
      "\tCreating expanding window features for D_58\n",
      "\tCreating time differencing features for D_58\n",
      "\tCreating rolling window features for D_58\n",
      "\tCreating ewm features for D_58 with span 6\n"
     ]
    },
    {
     "name": "stderr",
     "output_type": "stream",
     "text": [
      "Creating time series features for each feature:  26%|██▌       | 12/47 [05:35<16:21, 28.05s/it]"
     ]
    },
    {
     "name": "stdout",
     "output_type": "stream",
     "text": [
      "Creating features for P_4\n",
      "\tCreating lag features for P_4\n",
      "\tCreating cumulative features for P_4\n",
      "\tCreating expanding window features for P_4\n",
      "\tCreating time differencing features for P_4\n",
      "\tCreating rolling window features for P_4\n",
      "\tCreating ewm features for P_4 with span 6\n"
     ]
    },
    {
     "name": "stderr",
     "output_type": "stream",
     "text": [
      "Creating time series features for each feature:  28%|██▊       | 13/47 [06:03<15:56, 28.14s/it]"
     ]
    },
    {
     "name": "stdout",
     "output_type": "stream",
     "text": [
      "Creating features for R_10\n",
      "\tCreating lag features for R_10\n",
      "\tCreating cumulative features for R_10\n",
      "\tCreating expanding window features for R_10\n",
      "\tCreating time differencing features for R_10\n",
      "\tCreating rolling window features for R_10\n",
      "\tCreating ewm features for R_10 with span 6\n"
     ]
    },
    {
     "name": "stderr",
     "output_type": "stream",
     "text": [
      "Creating time series features for each feature:  30%|██▉       | 14/47 [06:31<15:25, 28.06s/it]"
     ]
    },
    {
     "name": "stdout",
     "output_type": "stream",
     "text": [
      "Creating features for R_11\n",
      "\tCreating lag features for R_11\n",
      "\tCreating cumulative features for R_11\n",
      "\tCreating expanding window features for R_11\n",
      "\tCreating time differencing features for R_11\n",
      "\tCreating rolling window features for R_11\n",
      "\tCreating ewm features for R_11 with span 6\n"
     ]
    },
    {
     "name": "stderr",
     "output_type": "stream",
     "text": [
      "Creating time series features for each feature:  32%|███▏      | 15/47 [07:00<15:04, 28.25s/it]"
     ]
    },
    {
     "name": "stdout",
     "output_type": "stream",
     "text": [
      "Creating features for R_12\n",
      "\tCreating lag features for R_12\n",
      "\tCreating cumulative features for R_12\n",
      "\tCreating expanding window features for R_12\n",
      "\tCreating time differencing features for R_12\n",
      "\tCreating rolling window features for R_12\n",
      "\tCreating ewm features for R_12 with span 6\n"
     ]
    },
    {
     "name": "stderr",
     "output_type": "stream",
     "text": [
      "Creating time series features for each feature:  34%|███▍      | 16/47 [07:29<14:44, 28.54s/it]"
     ]
    },
    {
     "name": "stdout",
     "output_type": "stream",
     "text": [
      "Creating features for B_28\n",
      "\tCreating lag features for B_28\n",
      "\tCreating cumulative features for B_28\n",
      "\tCreating expanding window features for B_28\n",
      "\tCreating time differencing features for B_28\n",
      "\tCreating rolling window features for B_28\n",
      "\tCreating ewm features for B_28 with span 6\n"
     ]
    },
    {
     "name": "stderr",
     "output_type": "stream",
     "text": [
      "Creating time series features for each feature:  36%|███▌      | 17/47 [07:58<14:18, 28.63s/it]"
     ]
    },
    {
     "name": "stdout",
     "output_type": "stream",
     "text": [
      "Creating features for R_16\n",
      "\tCreating lag features for R_16\n",
      "\tCreating cumulative features for R_16\n",
      "\tCreating expanding window features for R_16\n",
      "\tCreating time differencing features for R_16\n",
      "\tCreating rolling window features for R_16\n",
      "\tCreating ewm features for R_16 with span 6\n"
     ]
    },
    {
     "name": "stderr",
     "output_type": "stream",
     "text": [
      "Creating time series features for each feature:  38%|███▊      | 18/47 [08:26<13:48, 28.58s/it]"
     ]
    },
    {
     "name": "stdout",
     "output_type": "stream",
     "text": [
      "Creating features for S_26\n",
      "\tCreating lag features for S_26\n",
      "\tCreating cumulative features for S_26\n",
      "\tCreating expanding window features for S_26\n",
      "\tCreating time differencing features for S_26\n",
      "\tCreating rolling window features for S_26\n",
      "\tCreating ewm features for S_26 with span 6\n"
     ]
    },
    {
     "name": "stderr",
     "output_type": "stream",
     "text": [
      "Creating time series features for each feature:  40%|████      | 19/47 [08:54<13:17, 28.50s/it]"
     ]
    },
    {
     "name": "stdout",
     "output_type": "stream",
     "text": [
      "Creating features for D_102\n",
      "\tCreating lag features for D_102\n",
      "\tCreating cumulative features for D_102\n",
      "\tCreating expanding window features for D_102\n",
      "\tCreating time differencing features for D_102\n",
      "\tCreating rolling window features for D_102\n",
      "\tCreating ewm features for D_102 with span 6\n"
     ]
    },
    {
     "name": "stderr",
     "output_type": "stream",
     "text": [
      "Creating time series features for each feature:  43%|████▎     | 20/47 [09:23<12:47, 28.43s/it]"
     ]
    },
    {
     "name": "stdout",
     "output_type": "stream",
     "text": [
      "Creating features for B_37\n",
      "\tCreating lag features for B_37\n",
      "\tCreating cumulative features for B_37\n",
      "\tCreating expanding window features for B_37\n",
      "\tCreating time differencing features for B_37\n",
      "\tCreating rolling window features for B_37\n",
      "\tCreating ewm features for B_37 with span 6\n"
     ]
    },
    {
     "name": "stderr",
     "output_type": "stream",
     "text": [
      "Creating time series features for each feature:  45%|████▍     | 21/47 [09:51<12:22, 28.54s/it]"
     ]
    },
    {
     "name": "stdout",
     "output_type": "stream",
     "text": [
      "Creating features for B_40\n",
      "\tCreating lag features for B_40\n",
      "\tCreating cumulative features for B_40\n",
      "\tCreating expanding window features for B_40\n",
      "\tCreating time differencing features for B_40\n",
      "\tCreating rolling window features for B_40\n",
      "\tCreating ewm features for B_40 with span 6\n"
     ]
    },
    {
     "name": "stderr",
     "output_type": "stream",
     "text": [
      "Creating time series features for each feature:  47%|████▋     | 22/47 [10:20<11:53, 28.55s/it]"
     ]
    },
    {
     "name": "stdout",
     "output_type": "stream",
     "text": [
      "Creating features for D_133\n",
      "\tCreating lag features for D_133\n",
      "\tCreating cumulative features for D_133\n",
      "\tCreating expanding window features for D_133\n",
      "\tCreating time differencing features for D_133\n",
      "\tCreating rolling window features for D_133\n",
      "\tCreating ewm features for D_133 with span 6\n"
     ]
    },
    {
     "name": "stderr",
     "output_type": "stream",
     "text": [
      "Creating time series features for each feature:  49%|████▉     | 23/47 [10:48<11:21, 28.40s/it]"
     ]
    },
    {
     "name": "stdout",
     "output_type": "stream",
     "text": [
      "Creating features for D_75\n",
      "\tCreating lag features for D_75\n",
      "\tCreating cumulative features for D_75\n",
      "\tCreating expanding window features for D_75\n",
      "\tCreating time differencing features for D_75\n",
      "\tCreating rolling window features for D_75\n",
      "\tCreating ewm features for D_75 with span 6\n"
     ]
    },
    {
     "name": "stderr",
     "output_type": "stream",
     "text": [
      "Creating time series features for each feature:  51%|█████     | 24/47 [11:16<10:51, 28.33s/it]"
     ]
    },
    {
     "name": "stdout",
     "output_type": "stream",
     "text": [
      "Creating features for R_5\n",
      "\tCreating lag features for R_5\n",
      "\tCreating cumulative features for R_5\n",
      "\tCreating expanding window features for R_5\n",
      "\tCreating time differencing features for R_5\n",
      "\tCreating rolling window features for R_5\n",
      "\tCreating ewm features for R_5 with span 6\n"
     ]
    },
    {
     "name": "stderr",
     "output_type": "stream",
     "text": [
      "Creating time series features for each feature:  53%|█████▎    | 25/47 [11:45<10:25, 28.44s/it]"
     ]
    },
    {
     "name": "stdout",
     "output_type": "stream",
     "text": [
      "Creating features for B_24\n",
      "\tCreating lag features for B_24\n",
      "\tCreating cumulative features for B_24\n",
      "\tCreating expanding window features for B_24\n",
      "\tCreating time differencing features for B_24\n",
      "\tCreating rolling window features for B_24\n",
      "\tCreating ewm features for B_24 with span 6\n"
     ]
    },
    {
     "name": "stderr",
     "output_type": "stream",
     "text": [
      "Creating time series features for each feature:  55%|█████▌    | 26/47 [12:13<09:56, 28.41s/it]"
     ]
    },
    {
     "name": "stdout",
     "output_type": "stream",
     "text": [
      "Creating features for B_12\n",
      "\tCreating lag features for B_12\n",
      "\tCreating cumulative features for B_12\n",
      "\tCreating expanding window features for B_12\n",
      "\tCreating time differencing features for B_12\n",
      "\tCreating rolling window features for B_12\n",
      "\tCreating ewm features for B_12 with span 6\n"
     ]
    },
    {
     "name": "stderr",
     "output_type": "stream",
     "text": [
      "Creating time series features for each feature:  57%|█████▋    | 27/47 [12:42<09:29, 28.46s/it]"
     ]
    },
    {
     "name": "stdout",
     "output_type": "stream",
     "text": [
      "Creating features for D_63_CO\n",
      "\tCreating lag features for D_63_CO\n",
      "\tCreating cumulative features for D_63_CO\n",
      "\tCreating expanding window features for D_63_CO\n",
      "\tCreating time differencing features for D_63_CO\n",
      "\tCreating rolling window features for D_63_CO\n",
      "\tCreating ewm features for D_63_CO with span 6\n"
     ]
    },
    {
     "name": "stderr",
     "output_type": "stream",
     "text": [
      "Creating time series features for each feature:  60%|█████▉    | 28/47 [13:10<09:00, 28.45s/it]"
     ]
    },
    {
     "name": "stdout",
     "output_type": "stream",
     "text": [
      "Creating features for D_63_CR\n",
      "\tCreating lag features for D_63_CR\n",
      "\tCreating cumulative features for D_63_CR\n",
      "\tCreating expanding window features for D_63_CR\n",
      "\tCreating time differencing features for D_63_CR\n",
      "\tCreating rolling window features for D_63_CR\n",
      "\tCreating ewm features for D_63_CR with span 6\n"
     ]
    },
    {
     "name": "stderr",
     "output_type": "stream",
     "text": [
      "Creating time series features for each feature:  62%|██████▏   | 29/47 [13:39<08:33, 28.53s/it]"
     ]
    },
    {
     "name": "stdout",
     "output_type": "stream",
     "text": [
      "Creating features for S_8\n",
      "\tCreating lag features for S_8\n",
      "\tCreating cumulative features for S_8\n",
      "\tCreating expanding window features for S_8\n",
      "\tCreating time differencing features for S_8\n",
      "\tCreating rolling window features for S_8\n",
      "\tCreating ewm features for S_8 with span 6\n"
     ]
    },
    {
     "name": "stderr",
     "output_type": "stream",
     "text": [
      "Creating time series features for each feature:  64%|██████▍   | 30/47 [14:08<08:05, 28.54s/it]"
     ]
    },
    {
     "name": "stdout",
     "output_type": "stream",
     "text": [
      "Creating features for D_126_1.0\n",
      "\tCreating lag features for D_126_1.0\n",
      "\tCreating cumulative features for D_126_1.0\n",
      "\tCreating expanding window features for D_126_1.0\n",
      "\tCreating time differencing features for D_126_1.0\n",
      "\tCreating rolling window features for D_126_1.0\n",
      "\tCreating ewm features for D_126_1.0 with span 6\n"
     ]
    },
    {
     "name": "stderr",
     "output_type": "stream",
     "text": [
      "Creating time series features for each feature:  66%|██████▌   | 31/47 [14:36<07:36, 28.52s/it]"
     ]
    },
    {
     "name": "stdout",
     "output_type": "stream",
     "text": [
      "Creating features for D_39\n",
      "\tCreating lag features for D_39\n",
      "\tCreating cumulative features for D_39\n",
      "\tCreating expanding window features for D_39\n",
      "\tCreating time differencing features for D_39\n",
      "\tCreating rolling window features for D_39\n",
      "\tCreating ewm features for D_39 with span 6\n"
     ]
    },
    {
     "name": "stderr",
     "output_type": "stream",
     "text": [
      "Creating time series features for each feature:  68%|██████▊   | 32/47 [15:05<07:08, 28.57s/it]"
     ]
    },
    {
     "name": "stdout",
     "output_type": "stream",
     "text": [
      "Creating features for B_1\n",
      "\tCreating lag features for B_1\n",
      "\tCreating cumulative features for B_1\n",
      "\tCreating expanding window features for B_1\n",
      "\tCreating time differencing features for B_1\n",
      "\tCreating rolling window features for B_1\n",
      "\tCreating ewm features for B_1 with span 6\n"
     ]
    },
    {
     "name": "stderr",
     "output_type": "stream",
     "text": [
      "Creating time series features for each feature:  70%|███████   | 33/47 [15:33<06:38, 28.46s/it]"
     ]
    },
    {
     "name": "stdout",
     "output_type": "stream",
     "text": [
      "Creating features for R_1\n",
      "\tCreating lag features for R_1\n",
      "\tCreating cumulative features for R_1\n",
      "\tCreating expanding window features for R_1\n",
      "\tCreating time differencing features for R_1\n",
      "\tCreating rolling window features for R_1\n",
      "\tCreating ewm features for R_1 with span 6\n"
     ]
    },
    {
     "name": "stderr",
     "output_type": "stream",
     "text": [
      "Creating time series features for each feature:  72%|███████▏  | 34/47 [16:02<06:11, 28.58s/it]"
     ]
    },
    {
     "name": "stdout",
     "output_type": "stream",
     "text": [
      "Creating features for B_4\n",
      "\tCreating lag features for B_4\n",
      "\tCreating cumulative features for B_4\n",
      "\tCreating expanding window features for B_4\n",
      "\tCreating time differencing features for B_4\n",
      "\tCreating rolling window features for B_4\n",
      "\tCreating ewm features for B_4 with span 6\n"
     ]
    },
    {
     "name": "stderr",
     "output_type": "stream",
     "text": [
      "Creating time series features for each feature:  74%|███████▍  | 35/47 [16:30<05:42, 28.50s/it]"
     ]
    },
    {
     "name": "stdout",
     "output_type": "stream",
     "text": [
      "Creating features for B_5\n",
      "\tCreating lag features for B_5\n",
      "\tCreating cumulative features for B_5\n",
      "\tCreating expanding window features for B_5\n",
      "\tCreating time differencing features for B_5\n",
      "\tCreating rolling window features for B_5\n",
      "\tCreating ewm features for B_5 with span 6\n"
     ]
    },
    {
     "name": "stderr",
     "output_type": "stream",
     "text": [
      "Creating time series features for each feature:  77%|███████▋  | 36/47 [16:59<05:13, 28.47s/it]"
     ]
    },
    {
     "name": "stdout",
     "output_type": "stream",
     "text": [
      "Creating features for R_2\n",
      "\tCreating lag features for R_2\n",
      "\tCreating cumulative features for R_2\n",
      "\tCreating expanding window features for R_2\n",
      "\tCreating time differencing features for R_2\n",
      "\tCreating rolling window features for R_2\n",
      "\tCreating ewm features for R_2 with span 6\n"
     ]
    },
    {
     "name": "stderr",
     "output_type": "stream",
     "text": [
      "Creating time series features for each feature:  79%|███████▊  | 37/47 [17:27<04:45, 28.57s/it]"
     ]
    },
    {
     "name": "stdout",
     "output_type": "stream",
     "text": [
      "Creating features for D_47\n",
      "\tCreating lag features for D_47\n",
      "\tCreating cumulative features for D_47\n",
      "\tCreating expanding window features for D_47\n",
      "\tCreating time differencing features for D_47\n",
      "\tCreating rolling window features for D_47\n",
      "\tCreating ewm features for D_47 with span 6\n"
     ]
    },
    {
     "name": "stderr",
     "output_type": "stream",
     "text": [
      "Creating time series features for each feature:  81%|████████  | 38/47 [17:56<04:17, 28.56s/it]"
     ]
    },
    {
     "name": "stdout",
     "output_type": "stream",
     "text": [
      "Creating features for D_144\n",
      "\tCreating lag features for D_144\n",
      "\tCreating cumulative features for D_144\n",
      "\tCreating expanding window features for D_144\n",
      "\tCreating time differencing features for D_144\n",
      "\tCreating rolling window features for D_144\n",
      "\tCreating ewm features for D_144 with span 6\n"
     ]
    },
    {
     "name": "stderr",
     "output_type": "stream",
     "text": [
      "Creating time series features for each feature:  83%|████████▎ | 39/47 [18:24<03:48, 28.58s/it]"
     ]
    },
    {
     "name": "stdout",
     "output_type": "stream",
     "text": [
      "Creating features for D_51\n",
      "\tCreating lag features for D_51\n",
      "\tCreating cumulative features for D_51\n",
      "\tCreating expanding window features for D_51\n",
      "\tCreating time differencing features for D_51\n",
      "\tCreating rolling window features for D_51\n",
      "\tCreating ewm features for D_51 with span 6\n"
     ]
    },
    {
     "name": "stderr",
     "output_type": "stream",
     "text": [
      "Creating time series features for each feature:  85%|████████▌ | 40/47 [18:53<03:20, 28.62s/it]"
     ]
    },
    {
     "name": "stdout",
     "output_type": "stream",
     "text": [
      "Creating features for B_11\n",
      "\tCreating lag features for B_11\n",
      "\tCreating cumulative features for B_11\n",
      "\tCreating expanding window features for B_11\n",
      "\tCreating time differencing features for B_11\n",
      "\tCreating rolling window features for B_11\n",
      "\tCreating ewm features for B_11 with span 6\n"
     ]
    },
    {
     "name": "stderr",
     "output_type": "stream",
     "text": [
      "Creating time series features for each feature:  87%|████████▋ | 41/47 [19:22<02:51, 28.61s/it]"
     ]
    },
    {
     "name": "stdout",
     "output_type": "stream",
     "text": [
      "Creating features for S_5\n",
      "\tCreating lag features for S_5\n",
      "\tCreating cumulative features for S_5\n",
      "\tCreating expanding window features for S_5\n",
      "\tCreating time differencing features for S_5\n",
      "\tCreating rolling window features for S_5\n",
      "\tCreating ewm features for S_5 with span 6\n"
     ]
    },
    {
     "name": "stderr",
     "output_type": "stream",
     "text": [
      "Creating time series features for each feature:  89%|████████▉ | 42/47 [19:51<02:23, 28.70s/it]"
     ]
    },
    {
     "name": "stdout",
     "output_type": "stream",
     "text": [
      "Creating features for R_3\n",
      "\tCreating lag features for R_3\n",
      "\tCreating cumulative features for R_3\n",
      "\tCreating expanding window features for R_3\n",
      "\tCreating time differencing features for R_3\n",
      "\tCreating rolling window features for R_3\n",
      "\tCreating ewm features for R_3 with span 6\n"
     ]
    },
    {
     "name": "stderr",
     "output_type": "stream",
     "text": [
      "Creating time series features for each feature:  91%|█████████▏| 43/47 [20:20<01:54, 28.74s/it]"
     ]
    },
    {
     "name": "stdout",
     "output_type": "stream",
     "text": [
      "Creating features for B_9\n",
      "\tCreating lag features for B_9\n",
      "\tCreating cumulative features for B_9\n",
      "\tCreating expanding window features for B_9\n",
      "\tCreating time differencing features for B_9\n",
      "\tCreating rolling window features for B_9\n",
      "\tCreating ewm features for B_9 with span 6\n"
     ]
    },
    {
     "name": "stderr",
     "output_type": "stream",
     "text": [
      "Creating time series features for each feature:  94%|█████████▎| 44/47 [20:49<01:26, 28.90s/it]"
     ]
    },
    {
     "name": "stdout",
     "output_type": "stream",
     "text": [
      "Creating features for B_10\n",
      "\tCreating lag features for B_10\n",
      "\tCreating cumulative features for B_10\n",
      "\tCreating expanding window features for B_10\n",
      "\tCreating time differencing features for B_10\n",
      "\tCreating rolling window features for B_10\n",
      "\tCreating ewm features for B_10 with span 6\n"
     ]
    },
    {
     "name": "stderr",
     "output_type": "stream",
     "text": [
      "Creating time series features for each feature:  96%|█████████▌| 45/47 [21:17<00:57, 28.81s/it]"
     ]
    },
    {
     "name": "stdout",
     "output_type": "stream",
     "text": [
      "Creating features for R_4\n",
      "\tCreating lag features for R_4\n",
      "\tCreating cumulative features for R_4\n",
      "\tCreating expanding window features for R_4\n",
      "\tCreating time differencing features for R_4\n",
      "\tCreating rolling window features for R_4\n",
      "\tCreating ewm features for R_4 with span 6\n"
     ]
    },
    {
     "name": "stderr",
     "output_type": "stream",
     "text": [
      "Creating time series features for each feature:  98%|█████████▊| 46/47 [21:46<00:28, 28.81s/it]"
     ]
    },
    {
     "name": "stdout",
     "output_type": "stream",
     "text": [
      "Creating features for B_7\n",
      "\tCreating lag features for B_7\n",
      "\tCreating cumulative features for B_7\n",
      "\tCreating expanding window features for B_7\n",
      "\tCreating time differencing features for B_7\n",
      "\tCreating rolling window features for B_7\n",
      "\tCreating ewm features for B_7 with span 6\n"
     ]
    },
    {
     "name": "stderr",
     "output_type": "stream",
     "text": [
      "Creating time series features for each feature: 100%|██████████| 47/47 [22:15<00:00, 28.41s/it]\n"
     ]
    },
    {
     "name": "stdout",
     "output_type": "stream",
     "text": [
      "Concatenating 282 feature DataFrames.\n"
     ]
    }
   ],
   "source": [
    "test_df = ts_creator.transform(test_df[cols_to_append])\n",
    "test_df.to_parquet('../../data/ts_features/test_13_months_boruta_selected_ts_features.parquet', index=False, engine='pyarrow', compression='zstd')"
   ]
  },
  {
   "cell_type": "code",
   "execution_count": 23,
   "id": "3979d48d",
   "metadata": {},
   "outputs": [
    {
     "name": "stdout",
     "output_type": "stream",
     "text": [
      "Aggregated DataFrame type: <class 'pandas.core.frame.DataFrame'>\n"
     ]
    },
    {
     "name": "stderr",
     "output_type": "stream",
     "text": [
      "Creating time series features for each feature:   0%|          | 0/47 [00:00<?, ?it/s]"
     ]
    },
    {
     "name": "stdout",
     "output_type": "stream",
     "text": [
      "Creating features for D_63_CL\n",
      "\tCreating lag features for D_63_CL\n",
      "\tCreating cumulative features for D_63_CL\n",
      "\tCreating expanding window features for D_63_CL\n",
      "\tCreating time differencing features for D_63_CL\n",
      "\tCreating rolling window features for D_63_CL\n",
      "\tCreating ewm features for D_63_CL with span 6\n"
     ]
    },
    {
     "name": "stderr",
     "output_type": "stream",
     "text": [
      "Creating time series features for each feature:   2%|▏         | 1/47 [01:00<46:26, 60.57s/it]"
     ]
    },
    {
     "name": "stdout",
     "output_type": "stream",
     "text": [
      "Creating features for B_14\n",
      "\tCreating lag features for B_14\n",
      "\tCreating cumulative features for B_14\n",
      "\tCreating expanding window features for B_14\n",
      "\tCreating time differencing features for B_14\n",
      "\tCreating rolling window features for B_14\n",
      "\tCreating ewm features for B_14 with span 6\n"
     ]
    },
    {
     "name": "stderr",
     "output_type": "stream",
     "text": [
      "Creating time series features for each feature:   4%|▍         | 2/47 [02:00<44:55, 59.90s/it]"
     ]
    },
    {
     "name": "stdout",
     "output_type": "stream",
     "text": [
      "Creating features for D_60\n",
      "\tCreating lag features for D_60\n",
      "\tCreating cumulative features for D_60\n",
      "\tCreating expanding window features for D_60\n",
      "\tCreating time differencing features for D_60\n",
      "\tCreating rolling window features for D_60\n",
      "\tCreating ewm features for D_60 with span 6\n"
     ]
    },
    {
     "name": "stderr",
     "output_type": "stream",
     "text": [
      "Creating time series features for each feature:   6%|▋         | 3/47 [02:58<43:32, 59.37s/it]"
     ]
    },
    {
     "name": "stdout",
     "output_type": "stream",
     "text": [
      "Creating features for S_11\n",
      "\tCreating lag features for S_11\n",
      "\tCreating cumulative features for S_11\n",
      "\tCreating expanding window features for S_11\n",
      "\tCreating time differencing features for S_11\n",
      "\tCreating rolling window features for S_11\n",
      "\tCreating ewm features for S_11 with span 6\n"
     ]
    },
    {
     "name": "stderr",
     "output_type": "stream",
     "text": [
      "Creating time series features for each feature:   9%|▊         | 4/47 [03:58<42:45, 59.67s/it]"
     ]
    },
    {
     "name": "stdout",
     "output_type": "stream",
     "text": [
      "Creating features for D_65\n",
      "\tCreating lag features for D_65\n",
      "\tCreating cumulative features for D_65\n",
      "\tCreating expanding window features for D_65\n",
      "\tCreating time differencing features for D_65\n",
      "\tCreating rolling window features for D_65\n",
      "\tCreating ewm features for D_65 with span 6\n"
     ]
    },
    {
     "name": "stderr",
     "output_type": "stream",
     "text": [
      "Creating time series features for each feature:  11%|█         | 5/47 [04:58<41:44, 59.62s/it]"
     ]
    },
    {
     "name": "stdout",
     "output_type": "stream",
     "text": [
      "Creating features for B_18\n",
      "\tCreating lag features for B_18\n",
      "\tCreating cumulative features for B_18\n",
      "\tCreating expanding window features for B_18\n",
      "\tCreating time differencing features for B_18\n",
      "\tCreating rolling window features for B_18\n",
      "\tCreating ewm features for B_18 with span 6\n"
     ]
    },
    {
     "name": "stderr",
     "output_type": "stream",
     "text": [
      "Creating time series features for each feature:  13%|█▎        | 6/47 [05:58<40:49, 59.73s/it]"
     ]
    },
    {
     "name": "stdout",
     "output_type": "stream",
     "text": [
      "Creating features for R_6\n",
      "\tCreating lag features for R_6\n",
      "\tCreating cumulative features for R_6\n",
      "\tCreating expanding window features for R_6\n",
      "\tCreating time differencing features for R_6\n",
      "\tCreating rolling window features for R_6\n",
      "\tCreating ewm features for R_6 with span 6\n"
     ]
    },
    {
     "name": "stderr",
     "output_type": "stream",
     "text": [
      "Creating time series features for each feature:  15%|█▍        | 7/47 [06:57<39:41, 59.55s/it]"
     ]
    },
    {
     "name": "stdout",
     "output_type": "stream",
     "text": [
      "Creating features for S_13\n",
      "\tCreating lag features for S_13\n",
      "\tCreating cumulative features for S_13\n",
      "\tCreating expanding window features for S_13\n",
      "\tCreating time differencing features for S_13\n",
      "\tCreating rolling window features for S_13\n",
      "\tCreating ewm features for S_13 with span 6\n"
     ]
    },
    {
     "name": "stderr",
     "output_type": "stream",
     "text": [
      "Creating time series features for each feature:  17%|█▋        | 8/47 [07:56<38:41, 59.52s/it]"
     ]
    },
    {
     "name": "stdout",
     "output_type": "stream",
     "text": [
      "Creating features for D_71\n",
      "\tCreating lag features for D_71\n",
      "\tCreating cumulative features for D_71\n",
      "\tCreating expanding window features for D_71\n",
      "\tCreating time differencing features for D_71\n",
      "\tCreating rolling window features for D_71\n",
      "\tCreating ewm features for D_71 with span 6\n"
     ]
    },
    {
     "name": "stderr",
     "output_type": "stream",
     "text": [
      "Creating time series features for each feature:  19%|█▉        | 9/47 [08:55<37:35, 59.35s/it]"
     ]
    },
    {
     "name": "stdout",
     "output_type": "stream",
     "text": [
      "Creating features for S_15\n",
      "\tCreating lag features for S_15\n",
      "\tCreating cumulative features for S_15\n",
      "\tCreating expanding window features for S_15\n",
      "\tCreating time differencing features for S_15\n",
      "\tCreating rolling window features for S_15\n",
      "\tCreating ewm features for S_15 with span 6\n"
     ]
    },
    {
     "name": "stderr",
     "output_type": "stream",
     "text": [
      "Creating time series features for each feature:  21%|██▏       | 10/47 [09:55<36:43, 59.54s/it]"
     ]
    },
    {
     "name": "stdout",
     "output_type": "stream",
     "text": [
      "Creating features for B_23\n",
      "\tCreating lag features for B_23\n",
      "\tCreating cumulative features for B_23\n",
      "\tCreating expanding window features for B_23\n",
      "\tCreating time differencing features for B_23\n",
      "\tCreating rolling window features for B_23\n",
      "\tCreating ewm features for B_23 with span 6\n"
     ]
    },
    {
     "name": "stderr",
     "output_type": "stream",
     "text": [
      "Creating time series features for each feature:  23%|██▎       | 11/47 [10:55<35:46, 59.63s/it]"
     ]
    },
    {
     "name": "stdout",
     "output_type": "stream",
     "text": [
      "Creating features for D_58\n",
      "\tCreating lag features for D_58\n",
      "\tCreating cumulative features for D_58\n",
      "\tCreating expanding window features for D_58\n",
      "\tCreating time differencing features for D_58\n",
      "\tCreating rolling window features for D_58\n",
      "\tCreating ewm features for D_58 with span 6\n"
     ]
    },
    {
     "name": "stderr",
     "output_type": "stream",
     "text": [
      "Creating time series features for each feature:  26%|██▌       | 12/47 [11:55<34:44, 59.56s/it]"
     ]
    },
    {
     "name": "stdout",
     "output_type": "stream",
     "text": [
      "Creating features for P_4\n",
      "\tCreating lag features for P_4\n",
      "\tCreating cumulative features for P_4\n",
      "\tCreating expanding window features for P_4\n",
      "\tCreating time differencing features for P_4\n",
      "\tCreating rolling window features for P_4\n",
      "\tCreating ewm features for P_4 with span 6\n"
     ]
    },
    {
     "name": "stderr",
     "output_type": "stream",
     "text": [
      "Creating time series features for each feature:  28%|██▊       | 13/47 [12:55<33:49, 59.70s/it]"
     ]
    },
    {
     "name": "stdout",
     "output_type": "stream",
     "text": [
      "Creating features for R_10\n",
      "\tCreating lag features for R_10\n",
      "\tCreating cumulative features for R_10\n",
      "\tCreating expanding window features for R_10\n",
      "\tCreating time differencing features for R_10\n",
      "\tCreating rolling window features for R_10\n",
      "\tCreating ewm features for R_10 with span 6\n"
     ]
    },
    {
     "name": "stderr",
     "output_type": "stream",
     "text": [
      "Creating time series features for each feature:  30%|██▉       | 14/47 [13:54<32:47, 59.61s/it]"
     ]
    },
    {
     "name": "stdout",
     "output_type": "stream",
     "text": [
      "Creating features for R_11\n",
      "\tCreating lag features for R_11\n",
      "\tCreating cumulative features for R_11\n",
      "\tCreating expanding window features for R_11\n",
      "\tCreating time differencing features for R_11\n",
      "\tCreating rolling window features for R_11\n",
      "\tCreating ewm features for R_11 with span 6\n"
     ]
    },
    {
     "name": "stderr",
     "output_type": "stream",
     "text": [
      "Creating time series features for each feature:  32%|███▏      | 15/47 [14:54<31:48, 59.63s/it]"
     ]
    },
    {
     "name": "stdout",
     "output_type": "stream",
     "text": [
      "Creating features for R_12\n",
      "\tCreating lag features for R_12\n",
      "\tCreating cumulative features for R_12\n",
      "\tCreating expanding window features for R_12\n",
      "\tCreating time differencing features for R_12\n",
      "\tCreating rolling window features for R_12\n",
      "\tCreating ewm features for R_12 with span 6\n"
     ]
    },
    {
     "name": "stderr",
     "output_type": "stream",
     "text": [
      "Creating time series features for each feature:  34%|███▍      | 16/47 [15:54<30:56, 59.89s/it]"
     ]
    },
    {
     "name": "stdout",
     "output_type": "stream",
     "text": [
      "Creating features for B_28\n",
      "\tCreating lag features for B_28\n",
      "\tCreating cumulative features for B_28\n",
      "\tCreating expanding window features for B_28\n",
      "\tCreating time differencing features for B_28\n",
      "\tCreating rolling window features for B_28\n",
      "\tCreating ewm features for B_28 with span 6\n"
     ]
    },
    {
     "name": "stderr",
     "output_type": "stream",
     "text": [
      "Creating time series features for each feature:  36%|███▌      | 17/47 [16:54<29:54, 59.83s/it]"
     ]
    },
    {
     "name": "stdout",
     "output_type": "stream",
     "text": [
      "Creating features for R_16\n",
      "\tCreating lag features for R_16\n",
      "\tCreating cumulative features for R_16\n",
      "\tCreating expanding window features for R_16\n",
      "\tCreating time differencing features for R_16\n",
      "\tCreating rolling window features for R_16\n",
      "\tCreating ewm features for R_16 with span 6\n"
     ]
    },
    {
     "name": "stderr",
     "output_type": "stream",
     "text": [
      "Creating time series features for each feature:  38%|███▊      | 18/47 [17:55<29:01, 60.06s/it]"
     ]
    },
    {
     "name": "stdout",
     "output_type": "stream",
     "text": [
      "Creating features for S_26\n",
      "\tCreating lag features for S_26\n",
      "\tCreating cumulative features for S_26\n",
      "\tCreating expanding window features for S_26\n",
      "\tCreating time differencing features for S_26\n",
      "\tCreating rolling window features for S_26\n",
      "\tCreating ewm features for S_26 with span 6\n"
     ]
    },
    {
     "name": "stderr",
     "output_type": "stream",
     "text": [
      "Creating time series features for each feature:  40%|████      | 19/47 [18:54<27:56, 59.89s/it]"
     ]
    },
    {
     "name": "stdout",
     "output_type": "stream",
     "text": [
      "Creating features for D_102\n",
      "\tCreating lag features for D_102\n",
      "\tCreating cumulative features for D_102\n",
      "\tCreating expanding window features for D_102\n",
      "\tCreating time differencing features for D_102\n",
      "\tCreating rolling window features for D_102\n",
      "\tCreating ewm features for D_102 with span 6\n"
     ]
    },
    {
     "name": "stderr",
     "output_type": "stream",
     "text": [
      "Creating time series features for each feature:  43%|████▎     | 20/47 [19:55<27:05, 60.19s/it]"
     ]
    },
    {
     "name": "stdout",
     "output_type": "stream",
     "text": [
      "Creating features for B_37\n",
      "\tCreating lag features for B_37\n",
      "\tCreating cumulative features for B_37\n",
      "\tCreating expanding window features for B_37\n",
      "\tCreating time differencing features for B_37\n",
      "\tCreating rolling window features for B_37\n",
      "\tCreating ewm features for B_37 with span 6\n"
     ]
    },
    {
     "name": "stderr",
     "output_type": "stream",
     "text": [
      "Creating time series features for each feature:  45%|████▍     | 21/47 [20:56<26:11, 60.43s/it]"
     ]
    },
    {
     "name": "stdout",
     "output_type": "stream",
     "text": [
      "Creating features for B_40\n",
      "\tCreating lag features for B_40\n",
      "\tCreating cumulative features for B_40\n",
      "\tCreating expanding window features for B_40\n",
      "\tCreating time differencing features for B_40\n",
      "\tCreating rolling window features for B_40\n",
      "\tCreating ewm features for B_40 with span 6\n"
     ]
    },
    {
     "name": "stderr",
     "output_type": "stream",
     "text": [
      "Creating time series features for each feature:  47%|████▋     | 22/47 [21:56<25:09, 60.39s/it]"
     ]
    },
    {
     "name": "stdout",
     "output_type": "stream",
     "text": [
      "Creating features for D_133\n",
      "\tCreating lag features for D_133\n",
      "\tCreating cumulative features for D_133\n",
      "\tCreating expanding window features for D_133\n",
      "\tCreating time differencing features for D_133\n",
      "\tCreating rolling window features for D_133\n",
      "\tCreating ewm features for D_133 with span 6\n"
     ]
    },
    {
     "name": "stderr",
     "output_type": "stream",
     "text": [
      "Creating time series features for each feature:  49%|████▉     | 23/47 [22:57<24:15, 60.64s/it]"
     ]
    },
    {
     "name": "stdout",
     "output_type": "stream",
     "text": [
      "Creating features for D_75\n",
      "\tCreating lag features for D_75\n",
      "\tCreating cumulative features for D_75\n",
      "\tCreating expanding window features for D_75\n",
      "\tCreating time differencing features for D_75\n",
      "\tCreating rolling window features for D_75\n",
      "\tCreating ewm features for D_75 with span 6\n"
     ]
    },
    {
     "name": "stderr",
     "output_type": "stream",
     "text": [
      "Creating time series features for each feature:  51%|█████     | 24/47 [23:58<23:12, 60.52s/it]"
     ]
    },
    {
     "name": "stdout",
     "output_type": "stream",
     "text": [
      "Creating features for R_5\n",
      "\tCreating lag features for R_5\n",
      "\tCreating cumulative features for R_5\n",
      "\tCreating expanding window features for R_5\n",
      "\tCreating time differencing features for R_5\n",
      "\tCreating rolling window features for R_5\n",
      "\tCreating ewm features for R_5 with span 6\n"
     ]
    },
    {
     "name": "stderr",
     "output_type": "stream",
     "text": [
      "Creating time series features for each feature:  53%|█████▎    | 25/47 [24:57<22:05, 60.24s/it]"
     ]
    },
    {
     "name": "stdout",
     "output_type": "stream",
     "text": [
      "Creating features for B_24\n",
      "\tCreating lag features for B_24\n",
      "\tCreating cumulative features for B_24\n",
      "\tCreating expanding window features for B_24\n",
      "\tCreating time differencing features for B_24\n",
      "\tCreating rolling window features for B_24\n",
      "\tCreating ewm features for B_24 with span 6\n"
     ]
    },
    {
     "name": "stderr",
     "output_type": "stream",
     "text": [
      "Creating time series features for each feature:  55%|█████▌    | 26/47 [25:58<21:09, 60.44s/it]"
     ]
    },
    {
     "name": "stdout",
     "output_type": "stream",
     "text": [
      "Creating features for B_12\n",
      "\tCreating lag features for B_12\n",
      "\tCreating cumulative features for B_12\n",
      "\tCreating expanding window features for B_12\n",
      "\tCreating time differencing features for B_12\n",
      "\tCreating rolling window features for B_12\n",
      "\tCreating ewm features for B_12 with span 6\n"
     ]
    },
    {
     "name": "stderr",
     "output_type": "stream",
     "text": [
      "Creating time series features for each feature:  57%|█████▋    | 27/47 [26:58<20:07, 60.36s/it]"
     ]
    },
    {
     "name": "stdout",
     "output_type": "stream",
     "text": [
      "Creating features for D_63_CO\n",
      "\tCreating lag features for D_63_CO\n",
      "\tCreating cumulative features for D_63_CO\n",
      "\tCreating expanding window features for D_63_CO\n",
      "\tCreating time differencing features for D_63_CO\n",
      "\tCreating rolling window features for D_63_CO\n",
      "\tCreating ewm features for D_63_CO with span 6\n"
     ]
    },
    {
     "name": "stderr",
     "output_type": "stream",
     "text": [
      "Creating time series features for each feature:  60%|█████▉    | 28/47 [28:01<19:17, 60.93s/it]"
     ]
    },
    {
     "name": "stdout",
     "output_type": "stream",
     "text": [
      "Creating features for D_63_CR\n",
      "\tCreating lag features for D_63_CR\n",
      "\tCreating cumulative features for D_63_CR\n",
      "\tCreating expanding window features for D_63_CR\n",
      "\tCreating time differencing features for D_63_CR\n",
      "\tCreating rolling window features for D_63_CR\n",
      "\tCreating ewm features for D_63_CR with span 6\n"
     ]
    },
    {
     "name": "stderr",
     "output_type": "stream",
     "text": [
      "Creating time series features for each feature:  62%|██████▏   | 29/47 [29:02<18:18, 61.05s/it]"
     ]
    },
    {
     "name": "stdout",
     "output_type": "stream",
     "text": [
      "Creating features for S_8\n",
      "\tCreating lag features for S_8\n",
      "\tCreating cumulative features for S_8\n",
      "\tCreating expanding window features for S_8\n",
      "\tCreating time differencing features for S_8\n",
      "\tCreating rolling window features for S_8\n",
      "\tCreating ewm features for S_8 with span 6\n"
     ]
    },
    {
     "name": "stderr",
     "output_type": "stream",
     "text": [
      "Creating time series features for each feature:  64%|██████▍   | 30/47 [30:01<17:10, 60.60s/it]"
     ]
    },
    {
     "name": "stdout",
     "output_type": "stream",
     "text": [
      "Creating features for D_126_1.0\n",
      "\tCreating lag features for D_126_1.0\n",
      "\tCreating cumulative features for D_126_1.0\n",
      "\tCreating expanding window features for D_126_1.0\n",
      "\tCreating time differencing features for D_126_1.0\n",
      "\tCreating rolling window features for D_126_1.0\n",
      "\tCreating ewm features for D_126_1.0 with span 6\n"
     ]
    },
    {
     "name": "stderr",
     "output_type": "stream",
     "text": [
      "Creating time series features for each feature:  66%|██████▌   | 31/47 [31:02<16:09, 60.60s/it]"
     ]
    },
    {
     "name": "stdout",
     "output_type": "stream",
     "text": [
      "Creating features for D_39\n",
      "\tCreating lag features for D_39\n",
      "\tCreating cumulative features for D_39\n",
      "\tCreating expanding window features for D_39\n",
      "\tCreating time differencing features for D_39\n",
      "\tCreating rolling window features for D_39\n",
      "\tCreating ewm features for D_39 with span 6\n"
     ]
    },
    {
     "name": "stderr",
     "output_type": "stream",
     "text": [
      "Creating time series features for each feature:  68%|██████▊   | 32/47 [32:04<15:12, 60.86s/it]"
     ]
    },
    {
     "name": "stdout",
     "output_type": "stream",
     "text": [
      "Creating features for B_1\n",
      "\tCreating lag features for B_1\n",
      "\tCreating cumulative features for B_1\n",
      "\tCreating expanding window features for B_1\n",
      "\tCreating time differencing features for B_1\n",
      "\tCreating rolling window features for B_1\n",
      "\tCreating ewm features for B_1 with span 6\n"
     ]
    },
    {
     "name": "stderr",
     "output_type": "stream",
     "text": [
      "Creating time series features for each feature:  70%|███████   | 33/47 [33:04<14:12, 60.87s/it]"
     ]
    },
    {
     "name": "stdout",
     "output_type": "stream",
     "text": [
      "Creating features for R_1\n",
      "\tCreating lag features for R_1\n",
      "\tCreating cumulative features for R_1\n",
      "\tCreating expanding window features for R_1\n",
      "\tCreating time differencing features for R_1\n",
      "\tCreating rolling window features for R_1\n",
      "\tCreating ewm features for R_1 with span 6\n"
     ]
    },
    {
     "name": "stderr",
     "output_type": "stream",
     "text": [
      "Creating time series features for each feature:  72%|███████▏  | 34/47 [34:03<13:03, 60.29s/it]"
     ]
    },
    {
     "name": "stdout",
     "output_type": "stream",
     "text": [
      "Creating features for B_4\n",
      "\tCreating lag features for B_4\n",
      "\tCreating cumulative features for B_4\n",
      "\tCreating expanding window features for B_4\n",
      "\tCreating time differencing features for B_4\n",
      "\tCreating rolling window features for B_4\n",
      "\tCreating ewm features for B_4 with span 6\n"
     ]
    },
    {
     "name": "stderr",
     "output_type": "stream",
     "text": [
      "Creating time series features for each feature:  74%|███████▍  | 35/47 [35:04<12:03, 60.26s/it]"
     ]
    },
    {
     "name": "stdout",
     "output_type": "stream",
     "text": [
      "Creating features for B_5\n",
      "\tCreating lag features for B_5\n",
      "\tCreating cumulative features for B_5\n",
      "\tCreating expanding window features for B_5\n",
      "\tCreating time differencing features for B_5\n",
      "\tCreating rolling window features for B_5\n",
      "\tCreating ewm features for B_5 with span 6\n"
     ]
    },
    {
     "name": "stderr",
     "output_type": "stream",
     "text": [
      "Creating time series features for each feature:  77%|███████▋  | 36/47 [36:05<11:05, 60.52s/it]"
     ]
    },
    {
     "name": "stdout",
     "output_type": "stream",
     "text": [
      "Creating features for R_2\n",
      "\tCreating lag features for R_2\n",
      "\tCreating cumulative features for R_2\n",
      "\tCreating expanding window features for R_2\n",
      "\tCreating time differencing features for R_2\n",
      "\tCreating rolling window features for R_2\n",
      "\tCreating ewm features for R_2 with span 6\n"
     ]
    },
    {
     "name": "stderr",
     "output_type": "stream",
     "text": [
      "Creating time series features for each feature:  79%|███████▊  | 37/47 [37:05<10:06, 60.60s/it]"
     ]
    },
    {
     "name": "stdout",
     "output_type": "stream",
     "text": [
      "Creating features for D_47\n",
      "\tCreating lag features for D_47\n",
      "\tCreating cumulative features for D_47\n",
      "\tCreating expanding window features for D_47\n",
      "\tCreating time differencing features for D_47\n",
      "\tCreating rolling window features for D_47\n",
      "\tCreating ewm features for D_47 with span 6\n"
     ]
    },
    {
     "name": "stderr",
     "output_type": "stream",
     "text": [
      "Creating time series features for each feature:  81%|████████  | 38/47 [38:06<09:04, 60.50s/it]"
     ]
    },
    {
     "name": "stdout",
     "output_type": "stream",
     "text": [
      "Creating features for D_144\n",
      "\tCreating lag features for D_144\n",
      "\tCreating cumulative features for D_144\n",
      "\tCreating expanding window features for D_144\n",
      "\tCreating time differencing features for D_144\n",
      "\tCreating rolling window features for D_144\n",
      "\tCreating ewm features for D_144 with span 6\n"
     ]
    },
    {
     "name": "stderr",
     "output_type": "stream",
     "text": [
      "Creating time series features for each feature:  83%|████████▎ | 39/47 [39:06<08:03, 60.49s/it]"
     ]
    },
    {
     "name": "stdout",
     "output_type": "stream",
     "text": [
      "Creating features for D_51\n",
      "\tCreating lag features for D_51\n",
      "\tCreating cumulative features for D_51\n",
      "\tCreating expanding window features for D_51\n",
      "\tCreating time differencing features for D_51\n",
      "\tCreating rolling window features for D_51\n",
      "\tCreating ewm features for D_51 with span 6\n"
     ]
    },
    {
     "name": "stderr",
     "output_type": "stream",
     "text": [
      "Creating time series features for each feature:  85%|████████▌ | 40/47 [40:07<07:03, 60.44s/it]"
     ]
    },
    {
     "name": "stdout",
     "output_type": "stream",
     "text": [
      "Creating features for B_11\n",
      "\tCreating lag features for B_11\n",
      "\tCreating cumulative features for B_11\n",
      "\tCreating expanding window features for B_11\n",
      "\tCreating time differencing features for B_11\n",
      "\tCreating rolling window features for B_11\n",
      "\tCreating ewm features for B_11 with span 6\n"
     ]
    },
    {
     "name": "stderr",
     "output_type": "stream",
     "text": [
      "Creating time series features for each feature:  87%|████████▋ | 41/47 [41:07<06:02, 60.50s/it]"
     ]
    },
    {
     "name": "stdout",
     "output_type": "stream",
     "text": [
      "Creating features for S_5\n",
      "\tCreating lag features for S_5\n",
      "\tCreating cumulative features for S_5\n",
      "\tCreating expanding window features for S_5\n",
      "\tCreating time differencing features for S_5\n",
      "\tCreating rolling window features for S_5\n",
      "\tCreating ewm features for S_5 with span 6\n"
     ]
    },
    {
     "name": "stderr",
     "output_type": "stream",
     "text": [
      "Creating time series features for each feature:  89%|████████▉ | 42/47 [42:10<05:05, 61.06s/it]"
     ]
    },
    {
     "name": "stdout",
     "output_type": "stream",
     "text": [
      "Creating features for R_3\n",
      "\tCreating lag features for R_3\n",
      "\tCreating cumulative features for R_3\n",
      "\tCreating expanding window features for R_3\n",
      "\tCreating time differencing features for R_3\n",
      "\tCreating rolling window features for R_3\n",
      "\tCreating ewm features for R_3 with span 6\n"
     ]
    },
    {
     "name": "stderr",
     "output_type": "stream",
     "text": [
      "Creating time series features for each feature:  91%|█████████▏| 43/47 [43:09<04:01, 60.48s/it]"
     ]
    },
    {
     "name": "stdout",
     "output_type": "stream",
     "text": [
      "Creating features for B_9\n",
      "\tCreating lag features for B_9\n",
      "\tCreating cumulative features for B_9\n",
      "\tCreating expanding window features for B_9\n",
      "\tCreating time differencing features for B_9\n",
      "\tCreating rolling window features for B_9\n",
      "\tCreating ewm features for B_9 with span 6\n"
     ]
    },
    {
     "name": "stderr",
     "output_type": "stream",
     "text": [
      "Creating time series features for each feature:  94%|█████████▎| 44/47 [44:09<03:01, 60.56s/it]"
     ]
    },
    {
     "name": "stdout",
     "output_type": "stream",
     "text": [
      "Creating features for B_10\n",
      "\tCreating lag features for B_10\n",
      "\tCreating cumulative features for B_10\n",
      "\tCreating expanding window features for B_10\n",
      "\tCreating time differencing features for B_10\n",
      "\tCreating rolling window features for B_10\n",
      "\tCreating ewm features for B_10 with span 6\n"
     ]
    },
    {
     "name": "stderr",
     "output_type": "stream",
     "text": [
      "Creating time series features for each feature:  96%|█████████▌| 45/47 [45:11<02:01, 60.73s/it]"
     ]
    },
    {
     "name": "stdout",
     "output_type": "stream",
     "text": [
      "Creating features for R_4\n",
      "\tCreating lag features for R_4\n",
      "\tCreating cumulative features for R_4\n",
      "\tCreating expanding window features for R_4\n",
      "\tCreating time differencing features for R_4\n",
      "\tCreating rolling window features for R_4\n",
      "\tCreating ewm features for R_4 with span 6\n"
     ]
    },
    {
     "name": "stderr",
     "output_type": "stream",
     "text": [
      "Creating time series features for each feature:  98%|█████████▊| 46/47 [46:11<01:00, 60.59s/it]"
     ]
    },
    {
     "name": "stdout",
     "output_type": "stream",
     "text": [
      "Creating features for B_7\n",
      "\tCreating lag features for B_7\n",
      "\tCreating cumulative features for B_7\n",
      "\tCreating expanding window features for B_7\n",
      "\tCreating time differencing features for B_7\n",
      "\tCreating rolling window features for B_7\n",
      "\tCreating ewm features for B_7 with span 6\n"
     ]
    },
    {
     "name": "stderr",
     "output_type": "stream",
     "text": [
      "Creating time series features for each feature: 100%|██████████| 47/47 [47:11<00:00, 60.25s/it]\n"
     ]
    },
    {
     "name": "stdout",
     "output_type": "stream",
     "text": [
      "Concatenating 282 feature DataFrames.\n"
     ]
    }
   ],
   "source": [
    "train_df = ts_creator.transform(train_df[cols_to_append])\n",
    "train_df.to_parquet('../../data/ts_features/train_13_months_boruta_selected_ts_features.parquet', index=False, engine='pyarrow', compression='zstd')"
   ]
  },
  {
   "cell_type": "code",
   "execution_count": null,
   "id": "ad8cde32",
   "metadata": {},
   "outputs": [],
   "source": [
    "train_df.shape"
   ]
  },
  {
   "cell_type": "code",
   "execution_count": null,
   "id": "9d3aba7f",
   "metadata": {},
   "outputs": [],
   "source": []
  }
 ],
 "metadata": {
  "kernelspec": {
   "display_name": "nibm_dl",
   "language": "python",
   "name": "python3"
  },
  "language_info": {
   "codemirror_mode": {
    "name": "ipython",
    "version": 3
   },
   "file_extension": ".py",
   "mimetype": "text/x-python",
   "name": "python",
   "nbconvert_exporter": "python",
   "pygments_lexer": "ipython3",
   "version": "3.10.14"
  }
 },
 "nbformat": 4,
 "nbformat_minor": 5
}

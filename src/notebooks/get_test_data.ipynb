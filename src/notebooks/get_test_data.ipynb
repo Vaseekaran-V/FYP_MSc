{
 "cells": [
  {
   "cell_type": "code",
   "execution_count": null,
   "id": "13bcdbb4",
   "metadata": {},
   "outputs": [],
   "source": [
    "import pandas as pd\n",
    "import numpy as np"
   ]
  },
  {
   "cell_type": "code",
   "execution_count": 3,
   "id": "af59f7da",
   "metadata": {},
   "outputs": [
    {
     "data": {
      "text/html": [
       "<div>\n",
       "<style scoped>\n",
       "    .dataframe tbody tr th:only-of-type {\n",
       "        vertical-align: middle;\n",
       "    }\n",
       "\n",
       "    .dataframe tbody tr th {\n",
       "        vertical-align: top;\n",
       "    }\n",
       "\n",
       "    .dataframe thead th {\n",
       "        text-align: right;\n",
       "    }\n",
       "</style>\n",
       "<table border=\"1\" class=\"dataframe\">\n",
       "  <thead>\n",
       "    <tr style=\"text-align: right;\">\n",
       "      <th></th>\n",
       "      <th>customer_ID</th>\n",
       "      <th>end_of_month</th>\n",
       "      <th>target</th>\n",
       "    </tr>\n",
       "  </thead>\n",
       "  <tbody>\n",
       "    <tr>\n",
       "      <th>0</th>\n",
       "      <td>00000fd6641609c6ece5454664794f0340ad84dddce9a2...</td>\n",
       "      <td>2018-03-31</td>\n",
       "      <td>0</td>\n",
       "    </tr>\n",
       "    <tr>\n",
       "      <th>1</th>\n",
       "      <td>000041bdba6ecadd89a52d11886e8eaaec9325906c9723...</td>\n",
       "      <td>2018-03-31</td>\n",
       "      <td>0</td>\n",
       "    </tr>\n",
       "    <tr>\n",
       "      <th>2</th>\n",
       "      <td>00007889e4fcd2614b6cbe7f8f3d2e5c728eca32d9eb8a...</td>\n",
       "      <td>2018-03-31</td>\n",
       "      <td>0</td>\n",
       "    </tr>\n",
       "    <tr>\n",
       "      <th>3</th>\n",
       "      <td>0000d17a1447b25a01e42e1ac56b091bb7cbb06317be4c...</td>\n",
       "      <td>2018-03-31</td>\n",
       "      <td>0</td>\n",
       "    </tr>\n",
       "    <tr>\n",
       "      <th>4</th>\n",
       "      <td>00013181a0c5fc8f1ea38cd2b90fe8ad2fa8cad9d9f13e...</td>\n",
       "      <td>2018-03-31</td>\n",
       "      <td>1</td>\n",
       "    </tr>\n",
       "    <tr>\n",
       "      <th>...</th>\n",
       "      <td>...</td>\n",
       "      <td>...</td>\n",
       "      <td>...</td>\n",
       "    </tr>\n",
       "    <tr>\n",
       "      <th>137669</th>\n",
       "      <td>fffee056e120fb326c9413fca5a7ab6618cc49be9bb6b1...</td>\n",
       "      <td>2018-03-31</td>\n",
       "      <td>0</td>\n",
       "    </tr>\n",
       "    <tr>\n",
       "      <th>137670</th>\n",
       "      <td>fffee847c5c1af7dbdd36d98fea882893256c422cde86c...</td>\n",
       "      <td>2018-03-31</td>\n",
       "      <td>0</td>\n",
       "    </tr>\n",
       "    <tr>\n",
       "      <th>137671</th>\n",
       "      <td>ffff41c8a52833b56430603969b9ca48d208e7c192c6a4...</td>\n",
       "      <td>2018-03-31</td>\n",
       "      <td>0</td>\n",
       "    </tr>\n",
       "    <tr>\n",
       "      <th>137672</th>\n",
       "      <td>ffff9984b999fccb2b6127635ed0736dda94e544e67e02...</td>\n",
       "      <td>2018-03-31</td>\n",
       "      <td>0</td>\n",
       "    </tr>\n",
       "    <tr>\n",
       "      <th>137673</th>\n",
       "      <td>ffffa5c46bc8de74f5a4554e74e239c8dee6b9baf38814...</td>\n",
       "      <td>2018-03-31</td>\n",
       "      <td>1</td>\n",
       "    </tr>\n",
       "  </tbody>\n",
       "</table>\n",
       "<p>137674 rows × 3 columns</p>\n",
       "</div>"
      ],
      "text/plain": [
       "                                              customer_ID end_of_month  target\n",
       "0       00000fd6641609c6ece5454664794f0340ad84dddce9a2...   2018-03-31       0\n",
       "1       000041bdba6ecadd89a52d11886e8eaaec9325906c9723...   2018-03-31       0\n",
       "2       00007889e4fcd2614b6cbe7f8f3d2e5c728eca32d9eb8a...   2018-03-31       0\n",
       "3       0000d17a1447b25a01e42e1ac56b091bb7cbb06317be4c...   2018-03-31       0\n",
       "4       00013181a0c5fc8f1ea38cd2b90fe8ad2fa8cad9d9f13e...   2018-03-31       1\n",
       "...                                                   ...          ...     ...\n",
       "137669  fffee056e120fb326c9413fca5a7ab6618cc49be9bb6b1...   2018-03-31       0\n",
       "137670  fffee847c5c1af7dbdd36d98fea882893256c422cde86c...   2018-03-31       0\n",
       "137671  ffff41c8a52833b56430603969b9ca48d208e7c192c6a4...   2018-03-31       0\n",
       "137672  ffff9984b999fccb2b6127635ed0736dda94e544e67e02...   2018-03-31       0\n",
       "137673  ffffa5c46bc8de74f5a4554e74e239c8dee6b9baf38814...   2018-03-31       1\n",
       "\n",
       "[137674 rows x 3 columns]"
      ]
     },
     "execution_count": 3,
     "metadata": {},
     "output_type": "execute_result"
    }
   ],
   "source": [
    "test_targets = pd.read_parquet('../../data/3d_array/test_targets.parquet')\n",
    "test_targets"
   ]
  },
  {
   "cell_type": "code",
   "execution_count": 20,
   "id": "e48663f2",
   "metadata": {},
   "outputs": [
    {
     "data": {
      "text/plain": [
       "'00000fd6641609c6ece5454664794f0340ad84dddce9a267a310b5ae68e9d8e5'"
      ]
     },
     "execution_count": 20,
     "metadata": {},
     "output_type": "execute_result"
    }
   ],
   "source": [
    "test_targets['customer_ID'][0]"
   ]
  },
  {
   "cell_type": "code",
   "execution_count": 7,
   "id": "2aaa86dc",
   "metadata": {},
   "outputs": [],
   "source": [
    "all_data = pd.read_parquet('../../data/train_data.parquet').drop(columns=['target'])\n",
    "all_data = all_data[all_data['customer_ID'].isin(test_targets['customer_ID'].values)]\n",
    "all_data['S_2'] = pd.to_datetime(all_data['S_2'])"
   ]
  },
  {
   "cell_type": "code",
   "execution_count": 8,
   "id": "d25b4731",
   "metadata": {},
   "outputs": [],
   "source": [
    "all_data['end_of_month'] = all_data['S_2'] + pd.offsets.MonthEnd(0)"
   ]
  },
  {
   "cell_type": "code",
   "execution_count": 9,
   "id": "0c8ce1ce",
   "metadata": {},
   "outputs": [
    {
     "name": "stdout",
     "output_type": "stream",
     "text": [
      "Number of customer_IDs with incomplete 13 months: 21887\n"
     ]
    }
   ],
   "source": [
    "# Group by customer_ID and count the number of unique months for each ID\n",
    "customer_month_counts = all_data.groupby('customer_ID')['end_of_month'].nunique()\n",
    "\n",
    "# Filter IDs that do not have complete 13 months\n",
    "incomplete_ids = customer_month_counts[customer_month_counts < 13]\n",
    "\n",
    "# Count how many IDs have incomplete data\n",
    "num_incomplete_ids = len(incomplete_ids)\n",
    "\n",
    "print(f\"Number of customer_IDs with incomplete 13 months: {num_incomplete_ids}\")"
   ]
  },
  {
   "cell_type": "code",
   "execution_count": 12,
   "id": "9af750fb",
   "metadata": {},
   "outputs": [
    {
     "data": {
      "text/plain": [
       "customer_ID\n",
       "0001337ded4e1c2539d1a78ff44a457bd4a95caa55ba1730b2849b92ea687f9e     3\n",
       "0004860c260168fcaad0734a1dfedb7ceb1a83aaac54e24c27244b77308fd8b7     9\n",
       "0005e52a3fa31b7eed49ceb576f011433ee2578833cd3f9d51c9dd9448a198ff     8\n",
       "0005ef1480ffe4f0e5908eae07db8e05f2e705bca6a57db3b97d1da2eb6c7cab     2\n",
       "000d848df79e239601299a543d77e5bf35edec39f53a49f449ca29c08079f535    12\n",
       "0012e41fe6caa3ba31b55b3de2030cbb77b01203aeb4a5c6677de5b80f15cebe    10\n",
       "001520e3f8e1500346051bc74ab3f17371d56ec15062572a815ffbc42205fbe6     8\n",
       "00163cf7b8cc9cb2781ac05331d83c3ae7720f4860ee8aa2a3f0fb70b13f2f25     1\n",
       "0019d85b7b76f91d1a9be0e2344acceba20ddf500b7a106963decb50aad22209     8\n",
       "001b86346f6b042e0fde740d586edd2eca871141e4d890107976692bb1f3d936     8\n",
       "00209fef142c540fb6c1f521f65825ac0b514ac53efc3486d80186064e1eb969    10\n",
       "00210a9c1561549cd90bcb3b1cab8d2ccac151848198514f15c66fcf08a9c844     3\n",
       "00225149c16c9a4c37a3e97ee0358ff482e588423afed1a79b0304221ee5e8fe     6\n",
       "00237aac0b2f8f6765ab8ac6ea3212afa40fab21dd3470af6f78ac4ff7b98a5b     2\n",
       "002fb2476d25d1c16d7803f03cfc2443ce9ff6c7d209b29a642c015be64332a1     4\n",
       "002fd67de9b539d117bd84d5cf6230088591bbb6c41ab12f6a8699d5e1ebee91     5\n",
       "002ff6a118758f1a4f0823fa2af1ca1319f22df93f0a02af5a3f6ad52a367139    12\n",
       "0033a54b7a8bf7499a55c2bc198ec5a7879e7395ef2e7e468762de63fd2c063a    11\n",
       "0036a3000b078ead26c1a8b3273fd125aef0d141c88a671a99d974fba0f4dd27    12\n",
       "003d6a5c20006cc52ff14a9cc7210a1b932ef36f3a2b34b84329ca7a1bbf17de    10\n",
       "Name: end_of_month, dtype: int64"
      ]
     },
     "execution_count": 12,
     "metadata": {},
     "output_type": "execute_result"
    }
   ],
   "source": [
    "incomplete_ids[:20]"
   ]
  },
  {
   "cell_type": "code",
   "execution_count": 14,
   "id": "db29eafb",
   "metadata": {},
   "outputs": [],
   "source": [
    "all_data[all_data['customer_ID'] == '0004860c260168fcaad0734a1dfedb7ceb1a83aaac54e24c27244b77308fd8b7'].to_parquet('0004860c260168fcaad0734a1dfedb7ceb1a83aaac54e24c27244b77308fd8b7.parquet', index = False)"
   ]
  },
  {
   "cell_type": "code",
   "execution_count": 17,
   "id": "5fcf34a4",
   "metadata": {},
   "outputs": [],
   "source": [
    "all_data[all_data['customer_ID'] == '002ff6a118758f1a4f0823fa2af1ca1319f22df93f0a02af5a3f6ad52a367139'].to_parquet('../../data/sample_inputs/002ff6a118758f1a4f0823fa2af1ca1319f22df93f0a02af5a3f6ad52a367139.parquet', index = False)"
   ]
  },
  {
   "cell_type": "code",
   "execution_count": 21,
   "id": "62e715c9",
   "metadata": {},
   "outputs": [],
   "source": [
    "all_data[all_data['customer_ID'] == '00000fd6641609c6ece5454664794f0340ad84dddce9a267a310b5ae68e9d8e5'].to_parquet('../../data/sample_inputs/00000fd6641609c6ece5454664794f0340ad84dddce9a267a310b5ae68e9d8e5.parquet', index = False)"
   ]
  },
  {
   "cell_type": "code",
   "execution_count": 22,
   "id": "e9a4c209",
   "metadata": {},
   "outputs": [],
   "source": [
    "all_data[all_data['customer_ID'] == '00163cf7b8cc9cb2781ac05331d83c3ae7720f4860ee8aa2a3f0fb70b13f2f25'].to_parquet('../../data/sample_inputs/00163cf7b8cc9cb2781ac05331d83c3ae7720f4860ee8aa2a3f0fb70b13f2f25.parquet', index = False)"
   ]
  },
  {
   "cell_type": "code",
   "execution_count": 23,
   "id": "71eb5628",
   "metadata": {},
   "outputs": [
    {
     "data": {
      "text/plain": [
       "customer_ID\n",
       "00000fd6641609c6ece5454664794f0340ad84dddce9a267a310b5ae68e9d8e5    13\n",
       "000041bdba6ecadd89a52d11886e8eaaec9325906c9723355abb5ca523658edc    13\n",
       "00007889e4fcd2614b6cbe7f8f3d2e5c728eca32d9eb8ad51ca8b8c4a24cefed    13\n",
       "0000d17a1447b25a01e42e1ac56b091bb7cbb06317be4cb59b50fec59e0b6381    13\n",
       "00013181a0c5fc8f1ea38cd2b90fe8ad2fa8cad9d9f13e4063bdf6b0f7d51eb6    13\n",
       "00013c6e1cec7c21bede7cb319f1e28eb994f5625257f479c53ad6e90c177f7c    13\n",
       "0001812036f1558332e5c0880ecbad70b13a6f28ab04a8db6d83a26ef40aadb0    13\n",
       "000201146e53cacdde1c7e9d29f4d3c46fd4d9231a3744aa39fb9c6afa79b708    13\n",
       "000445609ff2a39d2dd02484899affa5696210a95f6869f26390bd26eeb3b651    13\n",
       "000548e99fa24cef8377e68e602e4bd70d30500a007999236e13f58ca8a259da    13\n",
       "00055add5eaee481b27e40af3f47b8b24e82c1e550f6ab010000e7685692f281    13\n",
       "00062d39ff054c4e18d5dba3b988c94277246d2d4aee42e588c62bc8b3ac1f5b    13\n",
       "00067cdd68211fdf71636823c827371a070c52417d4ab364309a0d9e5ebbd8cc    13\n",
       "00073f1912e2151e987a71b78ded23870729d7fd0e6b94b217aa66dded29af8b    13\n",
       "0007ee1ac8edb6be588c6c8a158d2268e3228c49cf52773d168012076c118e5f    13\n",
       "000940eb997a3356d782e519274accd60c1f4f9af86dde67552d54ca4c619fe6    13\n",
       "00098cc74b9a5113321817176656d2d75928c363cc45ab81502f7239cae2187b    13\n",
       "0009e1a505be8b131904d3908b9d6e149108859a37cd88d760349b52751fa2f5    13\n",
       "000b48231b7fad0e00ce78790df80ff94bd890eaaa8c6816fc897bf97505f7bd    13\n",
       "000cc98607442c5074d368870a7fa3cb1634147af647f1aec9c99175aaf0c7fa    13\n",
       "Name: end_of_month, dtype: int64"
      ]
     },
     "execution_count": 23,
     "metadata": {},
     "output_type": "execute_result"
    }
   ],
   "source": [
    "complete_ids = customer_month_counts[customer_month_counts == 13]\n",
    "complete_ids[:20]"
   ]
  },
  {
   "cell_type": "code",
   "execution_count": 24,
   "id": "e61c8923",
   "metadata": {},
   "outputs": [],
   "source": [
    "all_data[all_data['customer_ID'] == '0001812036f1558332e5c0880ecbad70b13a6f28ab04a8db6d83a26ef40aadb0'].to_parquet('../../data/sample_inputs/0001812036f1558332e5c0880ecbad70b13a6f28ab04a8db6d83a26ef40aadb0.parquet', index = False)"
   ]
  },
  {
   "cell_type": "code",
   "execution_count": null,
   "id": "e40c8542",
   "metadata": {},
   "outputs": [],
   "source": []
  }
 ],
 "metadata": {
  "kernelspec": {
   "display_name": "nibm_dl",
   "language": "python",
   "name": "python3"
  },
  "language_info": {
   "codemirror_mode": {
    "name": "ipython",
    "version": 3
   },
   "file_extension": ".py",
   "mimetype": "text/x-python",
   "name": "python",
   "nbconvert_exporter": "python",
   "pygments_lexer": "ipython3",
   "version": "3.10.14"
  }
 },
 "nbformat": 4,
 "nbformat_minor": 5
}

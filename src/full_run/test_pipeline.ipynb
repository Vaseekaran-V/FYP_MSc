{
 "cells": [
  {
   "cell_type": "code",
   "execution_count": 1,
   "id": "21f82ea3",
   "metadata": {},
   "outputs": [],
   "source": [
    "import numpy as np\n",
    "import pandas as pd\n",
    "import os\n",
    "import sys"
   ]
  },
  {
   "cell_type": "code",
   "execution_count": 2,
   "id": "dd7cfed2",
   "metadata": {},
   "outputs": [],
   "source": [
    "# Setting path to load util functions\n",
    "from pathlib import Path\n",
    "parent_dir = Path.cwd().parents[1]\n",
    "sys.path.append(os.path.abspath(parent_dir))"
   ]
  },
  {
   "cell_type": "code",
   "execution_count": 4,
   "id": "5d017de8",
   "metadata": {},
   "outputs": [],
   "source": [
    "from utils.inference_helpers import load_data\n",
    "df = load_data(data_path='../../data/0000099d6bd597052cdcda90ffabf56573fe9d7c79be5fbac11a8ed792feb62a.parquet')"
   ]
  },
  {
   "cell_type": "code",
   "execution_count": 6,
   "id": "01d98128",
   "metadata": {},
   "outputs": [
    {
     "name": "stderr",
     "output_type": "stream",
     "text": [
      "c:\\Users\\vaseekaranv\\Desktop\\NIBM-MSc\\FYP\\utils\\inference_helpers.py:36: SettingWithCopyWarning: \n",
      "A value is trying to be set on a copy of a slice from a DataFrame.\n",
      "Try using .loc[row_indexer,col_indexer] = value instead\n",
      "\n",
      "See the caveats in the documentation: https://pandas.pydata.org/pandas-docs/stable/user_guide/indexing.html#returning-a-view-versus-a-copy\n",
      "  df[cat_cols] = df[cat_cols].astype('category')\n"
     ]
    }
   ],
   "source": [
    "from utils.inference_helpers import filter_and_impute_df\n",
    "df = filter_and_impute_df(df, non_null_cols_path='../../utils/selected_features/non_null_cols_filter.csv')"
   ]
  },
  {
   "cell_type": "code",
   "execution_count": 8,
   "id": "e46e83d6",
   "metadata": {},
   "outputs": [],
   "source": [
    "from utils.inference_helpers import encode_df\n",
    "df = encode_df(df, cat_encoder_path='../../utils/encoders/categorical_encoder.pkl')"
   ]
  },
  {
   "cell_type": "code",
   "execution_count": 9,
   "id": "e87de9f7",
   "metadata": {},
   "outputs": [
    {
     "data": {
      "text/plain": [
       "(13, 91)"
      ]
     },
     "execution_count": 9,
     "metadata": {},
     "output_type": "execute_result"
    }
   ],
   "source": [
    "df.shape"
   ]
  },
  {
   "cell_type": "code",
   "execution_count": 12,
   "id": "0261c336",
   "metadata": {},
   "outputs": [
    {
     "name": "stdout",
     "output_type": "stream",
     "text": [
      "Aggregated DataFrame type: <class 'pandas.core.frame.DataFrame'>\n"
     ]
    },
    {
     "name": "stderr",
     "output_type": "stream",
     "text": [
      "Creating time series features for each feature: 100%|██████████| 47/47 [00:00<00:00, 115.22it/s]"
     ]
    },
    {
     "name": "stdout",
     "output_type": "stream",
     "text": [
      "Concatenating 282 feature DataFrames.\n"
     ]
    },
    {
     "name": "stderr",
     "output_type": "stream",
     "text": [
      "\n"
     ]
    }
   ],
   "source": [
    "from utils.inference_helpers import create_ts_features\n",
    "ts_df = create_ts_features(df, imp_cols_path='../../utils/selected_features/boruta_features_baseline.csv',\n",
    "                           ts_feat_imp_path='../../utils/selected_features/ts_features_boruta.csv')"
   ]
  },
  {
   "cell_type": "code",
   "execution_count": null,
   "id": "b2e4c356",
   "metadata": {},
   "outputs": [],
   "source": []
  },
  {
   "cell_type": "code",
   "execution_count": 14,
   "id": "825f724e",
   "metadata": {},
   "outputs": [
    {
     "name": "stdout",
     "output_type": "stream",
     "text": [
      "Input shape: (13, 49), Grouping by: customer_ID, Timestamp: end_of_month\n",
      "Using provided TSFEL configuration dictionary.\n",
      "Processing 1 customer groups...\n",
      "Setting up Joblib with 20 processes (verbose=0)...\n",
      "\n",
      "Joblib parallel processing finished in 2.35 seconds.\n",
      "Successfully processed 1 out of 1 groups.\n",
      "Preparing results for concatenation...\n",
      "Concatenating reindexed results...\n",
      "Concatenation complete.\n",
      "Robust concatenation finished in 0.17 seconds.\n",
      "Final features DataFrame shape: (1, 2115)\n"
     ]
    }
   ],
   "source": [
    "from utils.inference_helpers import create_tsfel_features\n",
    "tsfel_df = create_tsfel_features(df,\n",
    "                                 imp_cols_path='../../utils/selected_features/boruta_features_baseline.csv',\n",
    "                                 stat_select_path='../../utils/selected_features/tsfel_stat_features_boruta.csv',\n",
    "                                 temporal_select_path='../../utils/selected_features/tsfel_temporal_features_boruta.csv')"
   ]
  },
  {
   "cell_type": "code",
   "execution_count": 16,
   "id": "abac0e4d",
   "metadata": {},
   "outputs": [
    {
     "data": {
      "text/plain": [
       "(1, 426)"
      ]
     },
     "execution_count": 16,
     "metadata": {},
     "output_type": "execute_result"
    }
   ],
   "source": [
    "from utils.inference_helpers import combine_dfs\n",
    "final_df = combine_dfs(df=df, ts_df=ts_df, tsfel_df=tsfel_df, ref_cols_path='../../data/final_features_ml/val_all_features_last_month.parquet')\n",
    "final_df.shape"
   ]
  },
  {
   "cell_type": "code",
   "execution_count": null,
   "id": "0a214271",
   "metadata": {},
   "outputs": [],
   "source": []
  }
 ],
 "metadata": {
  "kernelspec": {
   "display_name": "nibm_dl",
   "language": "python",
   "name": "python3"
  },
  "language_info": {
   "codemirror_mode": {
    "name": "ipython",
    "version": 3
   },
   "file_extension": ".py",
   "mimetype": "text/x-python",
   "name": "python",
   "nbconvert_exporter": "python",
   "pygments_lexer": "ipython3",
   "version": "3.10.14"
  }
 },
 "nbformat": 4,
 "nbformat_minor": 5
}

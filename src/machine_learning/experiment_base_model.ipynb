{
 "cells": [
  {
   "cell_type": "code",
   "execution_count": 1,
   "id": "e4a25e47",
   "metadata": {},
   "outputs": [
    {
     "name": "stderr",
     "output_type": "stream",
     "text": [
      "Intel(R) Extension for Scikit-learn* enabled (https://github.com/intel/scikit-learn-intelex)\n"
     ]
    }
   ],
   "source": [
    "import pandas as pd\n",
    "import numpy as np\n",
    "from sklearnex import patch_sklearn\n",
    "patch_sklearn()\n",
    "\n",
    "import sys\n",
    "import os"
   ]
  },
  {
   "cell_type": "code",
   "execution_count": 2,
   "id": "464470e0",
   "metadata": {},
   "outputs": [],
   "source": [
    "# Setting path to load util functions\n",
    "from pathlib import Path\n",
    "parent_dir = Path.cwd().parents[1]\n",
    "sys.path.append(os.path.abspath(parent_dir))"
   ]
  },
  {
   "cell_type": "code",
   "execution_count": 3,
   "id": "dcc93463",
   "metadata": {},
   "outputs": [],
   "source": [
    "train_df = pd.read_parquet('../../data/final_features_ml/train_all_features_last_month.parquet')\n",
    "val_df = pd.read_parquet('../../data/final_features_ml/val_all_features_last_month.parquet')\n",
    "test_df = pd.read_parquet('../../data/final_features_ml/test_all_features_last_month.parquet')"
   ]
  },
  {
   "cell_type": "code",
   "execution_count": 4,
   "id": "ff505651",
   "metadata": {},
   "outputs": [],
   "source": [
    "y_train = pd.read_parquet('../../data/3d_array/train_targets.parquet')\n",
    "y_val = pd.read_parquet('../../data/3d_array/val_targets.parquet')\n",
    "y_test = pd.read_parquet('../../data/3d_array/test_targets.parquet')"
   ]
  },
  {
   "cell_type": "code",
   "execution_count": 5,
   "id": "549f1386",
   "metadata": {},
   "outputs": [
    {
     "data": {
      "text/plain": [
       "((289115, 426),\n",
       " (289115, 3),\n",
       " (32124, 426),\n",
       " (32124, 3),\n",
       " (137674, 426),\n",
       " (137674, 3))"
      ]
     },
     "execution_count": 5,
     "metadata": {},
     "output_type": "execute_result"
    }
   ],
   "source": [
    "train_df.shape, y_train.shape, val_df.shape, y_val.shape, test_df.shape, y_test.shape"
   ]
  },
  {
   "cell_type": "code",
   "execution_count": 6,
   "id": "d399c764",
   "metadata": {},
   "outputs": [],
   "source": [
    "train_df.sort_values(by = ['customer_ID'], inplace=True)\n",
    "y_train.sort_values(by = ['customer_ID'], inplace=True)\n",
    "val_df.sort_values(by = ['customer_ID'], inplace=True)\n",
    "y_val.sort_values(by = ['customer_ID'], inplace=True)\n",
    "test_df.sort_values(by = ['customer_ID'], inplace=True)\n",
    "y_test.sort_values(by = ['customer_ID'], inplace=True)"
   ]
  },
  {
   "cell_type": "code",
   "execution_count": 7,
   "id": "5186a440",
   "metadata": {},
   "outputs": [],
   "source": [
    "train_df.reset_index(drop=True, inplace=True)\n",
    "y_train.reset_index(drop=True, inplace=True)\n",
    "val_df.reset_index(drop=True, inplace=True)\n",
    "y_val.reset_index(drop=True, inplace=True)\n",
    "test_df.reset_index(drop=True, inplace=True)\n",
    "y_test.reset_index(drop=True, inplace=True)"
   ]
  },
  {
   "cell_type": "code",
   "execution_count": 8,
   "id": "4b3a0639",
   "metadata": {},
   "outputs": [
    {
     "data": {
      "text/html": [
       "<div>\n",
       "<style scoped>\n",
       "    .dataframe tbody tr th:only-of-type {\n",
       "        vertical-align: middle;\n",
       "    }\n",
       "\n",
       "    .dataframe tbody tr th {\n",
       "        vertical-align: top;\n",
       "    }\n",
       "\n",
       "    .dataframe thead th {\n",
       "        text-align: right;\n",
       "    }\n",
       "</style>\n",
       "<table border=\"1\" class=\"dataframe\">\n",
       "  <thead>\n",
       "    <tr style=\"text-align: right;\">\n",
       "      <th></th>\n",
       "      <th>customer_ID</th>\n",
       "      <th>D_39</th>\n",
       "      <th>B_1</th>\n",
       "      <th>R_1</th>\n",
       "      <th>B_4</th>\n",
       "      <th>B_5</th>\n",
       "      <th>R_2</th>\n",
       "      <th>D_47</th>\n",
       "      <th>B_7</th>\n",
       "      <th>D_51</th>\n",
       "      <th>...</th>\n",
       "      <th>S_5_Signal distance</th>\n",
       "      <th>B_14_Mean diff</th>\n",
       "      <th>B_11_Mean diff</th>\n",
       "      <th>S_8_Area under the curve</th>\n",
       "      <th>B_11_Area under the curve</th>\n",
       "      <th>S_8_Centroid</th>\n",
       "      <th>B_1_Area under the curve</th>\n",
       "      <th>B_1_Mean diff</th>\n",
       "      <th>S_26_Area under the curve</th>\n",
       "      <th>S_5_Area under the curve</th>\n",
       "    </tr>\n",
       "  </thead>\n",
       "  <tbody>\n",
       "    <tr>\n",
       "      <th>0</th>\n",
       "      <td>0000099d6bd597052cdcda90ffabf56573fe9d7c79be5f...</td>\n",
       "      <td>0.009119</td>\n",
       "      <td>0.009382</td>\n",
       "      <td>0.006104</td>\n",
       "      <td>0.070793</td>\n",
       "      <td>0.231717</td>\n",
       "      <td>0.008309</td>\n",
       "      <td>0.539715</td>\n",
       "      <td>0.058425</td>\n",
       "      <td>0.673522</td>\n",
       "      <td>...</td>\n",
       "      <td>12.002586</td>\n",
       "      <td>-0.000679</td>\n",
       "      <td>0.000624</td>\n",
       "      <td>0.096573</td>\n",
       "      <td>0.000875</td>\n",
       "      <td>0.051362</td>\n",
       "      <td>0.001470</td>\n",
       "      <td>0.000055</td>\n",
       "      <td>0.001620</td>\n",
       "      <td>0.003494</td>\n",
       "    </tr>\n",
       "    <tr>\n",
       "      <th>1</th>\n",
       "      <td>00001b22f846c82c51f6e3958ccd81970162bae8b007e8...</td>\n",
       "      <td>0.009704</td>\n",
       "      <td>0.004284</td>\n",
       "      <td>0.006450</td>\n",
       "      <td>0.031044</td>\n",
       "      <td>0.001557</td>\n",
       "      <td>0.001687</td>\n",
       "      <td>0.339125</td>\n",
       "      <td>0.026981</td>\n",
       "      <td>0.342118</td>\n",
       "      <td>...</td>\n",
       "      <td>12.000076</td>\n",
       "      <td>0.000399</td>\n",
       "      <td>0.000285</td>\n",
       "      <td>0.000758</td>\n",
       "      <td>0.000575</td>\n",
       "      <td>0.066659</td>\n",
       "      <td>0.000541</td>\n",
       "      <td>0.000234</td>\n",
       "      <td>0.000715</td>\n",
       "      <td>0.000725</td>\n",
       "    </tr>\n",
       "    <tr>\n",
       "      <th>2</th>\n",
       "      <td>000084e5023181993c2e1b665ac88dbb1ce9ef621ec537...</td>\n",
       "      <td>0.009776</td>\n",
       "      <td>0.007853</td>\n",
       "      <td>0.006885</td>\n",
       "      <td>0.004432</td>\n",
       "      <td>0.012747</td>\n",
       "      <td>0.008217</td>\n",
       "      <td>1.053603</td>\n",
       "      <td>0.006804</td>\n",
       "      <td>0.003867</td>\n",
       "      <td>...</td>\n",
       "      <td>12.002037</td>\n",
       "      <td>0.000065</td>\n",
       "      <td>-0.000788</td>\n",
       "      <td>0.030051</td>\n",
       "      <td>0.001411</td>\n",
       "      <td>0.053169</td>\n",
       "      <td>0.003310</td>\n",
       "      <td>-0.002275</td>\n",
       "      <td>0.000515</td>\n",
       "      <td>0.002074</td>\n",
       "    </tr>\n",
       "    <tr>\n",
       "      <th>3</th>\n",
       "      <td>000098081fde4fd64bc4d503a5d6f86a0aedc425c96f52...</td>\n",
       "      <td>0.000467</td>\n",
       "      <td>0.009413</td>\n",
       "      <td>0.007775</td>\n",
       "      <td>0.002541</td>\n",
       "      <td>0.006761</td>\n",
       "      <td>0.000599</td>\n",
       "      <td>0.016223</td>\n",
       "      <td>0.010545</td>\n",
       "      <td>0.005974</td>\n",
       "      <td>...</td>\n",
       "      <td>12.000053</td>\n",
       "      <td>-0.000506</td>\n",
       "      <td>-0.002254</td>\n",
       "      <td>0.026627</td>\n",
       "      <td>0.005694</td>\n",
       "      <td>0.052700</td>\n",
       "      <td>0.008939</td>\n",
       "      <td>-0.002907</td>\n",
       "      <td>0.000445</td>\n",
       "      <td>0.001086</td>\n",
       "    </tr>\n",
       "    <tr>\n",
       "      <th>4</th>\n",
       "      <td>0000f99513770170a1aba690daeeb8a96da4a39f11fc27...</td>\n",
       "      <td>0.531173</td>\n",
       "      <td>0.979303</td>\n",
       "      <td>0.008500</td>\n",
       "      <td>1.105429</td>\n",
       "      <td>0.025943</td>\n",
       "      <td>0.003394</td>\n",
       "      <td>0.125423</td>\n",
       "      <td>0.998107</td>\n",
       "      <td>0.000275</td>\n",
       "      <td>...</td>\n",
       "      <td>12.001062</td>\n",
       "      <td>-0.001064</td>\n",
       "      <td>0.002243</td>\n",
       "      <td>0.018268</td>\n",
       "      <td>0.113519</td>\n",
       "      <td>0.105902</td>\n",
       "      <td>0.112342</td>\n",
       "      <td>0.002037</td>\n",
       "      <td>0.000684</td>\n",
       "      <td>0.002241</td>\n",
       "    </tr>\n",
       "  </tbody>\n",
       "</table>\n",
       "<p>5 rows × 426 columns</p>\n",
       "</div>"
      ],
      "text/plain": [
       "                                         customer_ID      D_39       B_1  \\\n",
       "0  0000099d6bd597052cdcda90ffabf56573fe9d7c79be5f...  0.009119  0.009382   \n",
       "1  00001b22f846c82c51f6e3958ccd81970162bae8b007e8...  0.009704  0.004284   \n",
       "2  000084e5023181993c2e1b665ac88dbb1ce9ef621ec537...  0.009776  0.007853   \n",
       "3  000098081fde4fd64bc4d503a5d6f86a0aedc425c96f52...  0.000467  0.009413   \n",
       "4  0000f99513770170a1aba690daeeb8a96da4a39f11fc27...  0.531173  0.979303   \n",
       "\n",
       "        R_1       B_4       B_5       R_2      D_47       B_7      D_51  ...  \\\n",
       "0  0.006104  0.070793  0.231717  0.008309  0.539715  0.058425  0.673522  ...   \n",
       "1  0.006450  0.031044  0.001557  0.001687  0.339125  0.026981  0.342118  ...   \n",
       "2  0.006885  0.004432  0.012747  0.008217  1.053603  0.006804  0.003867  ...   \n",
       "3  0.007775  0.002541  0.006761  0.000599  0.016223  0.010545  0.005974  ...   \n",
       "4  0.008500  1.105429  0.025943  0.003394  0.125423  0.998107  0.000275  ...   \n",
       "\n",
       "   S_5_Signal distance  B_14_Mean diff  B_11_Mean diff  \\\n",
       "0            12.002586       -0.000679        0.000624   \n",
       "1            12.000076        0.000399        0.000285   \n",
       "2            12.002037        0.000065       -0.000788   \n",
       "3            12.000053       -0.000506       -0.002254   \n",
       "4            12.001062       -0.001064        0.002243   \n",
       "\n",
       "   S_8_Area under the curve  B_11_Area under the curve  S_8_Centroid  \\\n",
       "0                  0.096573                   0.000875      0.051362   \n",
       "1                  0.000758                   0.000575      0.066659   \n",
       "2                  0.030051                   0.001411      0.053169   \n",
       "3                  0.026627                   0.005694      0.052700   \n",
       "4                  0.018268                   0.113519      0.105902   \n",
       "\n",
       "   B_1_Area under the curve  B_1_Mean diff  S_26_Area under the curve  \\\n",
       "0                  0.001470       0.000055                   0.001620   \n",
       "1                  0.000541       0.000234                   0.000715   \n",
       "2                  0.003310      -0.002275                   0.000515   \n",
       "3                  0.008939      -0.002907                   0.000445   \n",
       "4                  0.112342       0.002037                   0.000684   \n",
       "\n",
       "   S_5_Area under the curve  \n",
       "0                  0.003494  \n",
       "1                  0.000725  \n",
       "2                  0.002074  \n",
       "3                  0.001086  \n",
       "4                  0.002241  \n",
       "\n",
       "[5 rows x 426 columns]"
      ]
     },
     "execution_count": 8,
     "metadata": {},
     "output_type": "execute_result"
    }
   ],
   "source": [
    "train_df.head()"
   ]
  },
  {
   "cell_type": "code",
   "execution_count": 9,
   "id": "ec3d252b",
   "metadata": {},
   "outputs": [
    {
     "data": {
      "text/html": [
       "<div>\n",
       "<style scoped>\n",
       "    .dataframe tbody tr th:only-of-type {\n",
       "        vertical-align: middle;\n",
       "    }\n",
       "\n",
       "    .dataframe tbody tr th {\n",
       "        vertical-align: top;\n",
       "    }\n",
       "\n",
       "    .dataframe thead th {\n",
       "        text-align: right;\n",
       "    }\n",
       "</style>\n",
       "<table border=\"1\" class=\"dataframe\">\n",
       "  <thead>\n",
       "    <tr style=\"text-align: right;\">\n",
       "      <th></th>\n",
       "      <th>customer_ID</th>\n",
       "      <th>end_of_month</th>\n",
       "      <th>target</th>\n",
       "    </tr>\n",
       "  </thead>\n",
       "  <tbody>\n",
       "    <tr>\n",
       "      <th>0</th>\n",
       "      <td>0000099d6bd597052cdcda90ffabf56573fe9d7c79be5f...</td>\n",
       "      <td>2018-03-31</td>\n",
       "      <td>0</td>\n",
       "    </tr>\n",
       "    <tr>\n",
       "      <th>1</th>\n",
       "      <td>00001b22f846c82c51f6e3958ccd81970162bae8b007e8...</td>\n",
       "      <td>2018-03-31</td>\n",
       "      <td>0</td>\n",
       "    </tr>\n",
       "    <tr>\n",
       "      <th>2</th>\n",
       "      <td>000084e5023181993c2e1b665ac88dbb1ce9ef621ec537...</td>\n",
       "      <td>2018-03-31</td>\n",
       "      <td>0</td>\n",
       "    </tr>\n",
       "    <tr>\n",
       "      <th>3</th>\n",
       "      <td>000098081fde4fd64bc4d503a5d6f86a0aedc425c96f52...</td>\n",
       "      <td>2018-03-31</td>\n",
       "      <td>0</td>\n",
       "    </tr>\n",
       "    <tr>\n",
       "      <th>4</th>\n",
       "      <td>0000f99513770170a1aba690daeeb8a96da4a39f11fc27...</td>\n",
       "      <td>2018-03-31</td>\n",
       "      <td>1</td>\n",
       "    </tr>\n",
       "  </tbody>\n",
       "</table>\n",
       "</div>"
      ],
      "text/plain": [
       "                                         customer_ID end_of_month  target\n",
       "0  0000099d6bd597052cdcda90ffabf56573fe9d7c79be5f...   2018-03-31       0\n",
       "1  00001b22f846c82c51f6e3958ccd81970162bae8b007e8...   2018-03-31       0\n",
       "2  000084e5023181993c2e1b665ac88dbb1ce9ef621ec537...   2018-03-31       0\n",
       "3  000098081fde4fd64bc4d503a5d6f86a0aedc425c96f52...   2018-03-31       0\n",
       "4  0000f99513770170a1aba690daeeb8a96da4a39f11fc27...   2018-03-31       1"
      ]
     },
     "execution_count": 9,
     "metadata": {},
     "output_type": "execute_result"
    }
   ],
   "source": [
    "y_train.head()"
   ]
  },
  {
   "cell_type": "code",
   "execution_count": 10,
   "id": "d4422094",
   "metadata": {},
   "outputs": [
    {
     "name": "stdout",
     "output_type": "stream",
     "text": [
      "<class 'pandas.core.frame.DataFrame'>\n",
      "RangeIndex: 289115 entries, 0 to 289114\n",
      "Data columns (total 426 columns):\n",
      " #    Column                           Non-Null Count   Dtype  \n",
      "---   ------                           --------------   -----  \n",
      " 0    customer_ID                      289115 non-null  object \n",
      " 1    D_39                             289115 non-null  float32\n",
      " 2    B_1                              289115 non-null  float32\n",
      " 3    R_1                              289115 non-null  float32\n",
      " 4    B_4                              289115 non-null  float32\n",
      " 5    B_5                              289115 non-null  float32\n",
      " 6    R_2                              289115 non-null  float32\n",
      " 7    D_47                             289115 non-null  float32\n",
      " 8    B_7                              289115 non-null  float32\n",
      " 9    D_51                             289115 non-null  float32\n",
      " 10   B_9                              289115 non-null  float32\n",
      " 11   R_3                              289115 non-null  float32\n",
      " 12   B_10                             289115 non-null  float32\n",
      " 13   S_5                              289115 non-null  float32\n",
      " 14   B_11                             289115 non-null  float32\n",
      " 15   S_6                              289115 non-null  float32\n",
      " 16   R_4                              289115 non-null  float32\n",
      " 17   B_12                             289115 non-null  float32\n",
      " 18   S_8                              289115 non-null  float32\n",
      " 19   R_5                              289115 non-null  float32\n",
      " 20   D_58                             289115 non-null  float32\n",
      " 21   B_14                             289115 non-null  float32\n",
      " 22   D_60                             289115 non-null  float32\n",
      " 23   S_11                             289115 non-null  float32\n",
      " 24   D_65                             289115 non-null  float32\n",
      " 25   B_18                             289115 non-null  float32\n",
      " 26   S_12                             289115 non-null  float32\n",
      " 27   R_6                              289115 non-null  float32\n",
      " 28   S_13                             289115 non-null  float32\n",
      " 29   B_21                             289115 non-null  float32\n",
      " 30   D_71                             289115 non-null  float32\n",
      " 31   S_15                             289115 non-null  float32\n",
      " 32   B_23                             289115 non-null  float32\n",
      " 33   P_4                              289115 non-null  float32\n",
      " 34   D_75                             289115 non-null  float32\n",
      " 35   B_24                             289115 non-null  float32\n",
      " 36   R_7                              289115 non-null  float32\n",
      " 37   R_8                              289115 non-null  float32\n",
      " 38   S_16                             289115 non-null  float32\n",
      " 39   R_10                             289115 non-null  float32\n",
      " 40   R_11                             289115 non-null  float32\n",
      " 41   S_17                             289115 non-null  float32\n",
      " 42   R_12                             289115 non-null  float32\n",
      " 43   B_28                             289115 non-null  float32\n",
      " 44   R_13                             289115 non-null  float32\n",
      " 45   R_14                             289115 non-null  float32\n",
      " 46   R_15                             289115 non-null  float32\n",
      " 47   R_16                             289115 non-null  float32\n",
      " 48   S_18                             289115 non-null  float32\n",
      " 49   D_86                             289115 non-null  float32\n",
      " 50   R_17                             289115 non-null  float32\n",
      " 51   R_18                             289115 non-null  float32\n",
      " 52   B_31                             289115 non-null  int64  \n",
      " 53   S_19                             289115 non-null  float32\n",
      " 54   R_19                             289115 non-null  float32\n",
      " 55   B_32                             289115 non-null  float32\n",
      " 56   S_20                             289115 non-null  float32\n",
      " 57   R_20                             289115 non-null  float32\n",
      " 58   R_21                             289115 non-null  float32\n",
      " 59   R_22                             289115 non-null  float32\n",
      " 60   R_23                             289115 non-null  float32\n",
      " 61   D_92                             289115 non-null  float32\n",
      " 62   D_93                             289115 non-null  float32\n",
      " 63   D_94                             289115 non-null  float32\n",
      " 64   R_24                             289115 non-null  float32\n",
      " 65   R_25                             289115 non-null  float32\n",
      " 66   D_96                             289115 non-null  float32\n",
      " 67   S_26                             289115 non-null  float32\n",
      " 68   D_102                            289115 non-null  float32\n",
      " 69   B_36                             289115 non-null  float32\n",
      " 70   B_37                             289115 non-null  float32\n",
      " 71   B_40                             289115 non-null  float32\n",
      " 72   D_127                            289115 non-null  float32\n",
      " 73   B_41                             289115 non-null  float32\n",
      " 74   D_133                            289115 non-null  float32\n",
      " 75   R_28                             289115 non-null  float32\n",
      " 76   D_140                            289115 non-null  float32\n",
      " 77   D_144                            289115 non-null  float32\n",
      " 78   D_63_CL                          289115 non-null  float64\n",
      " 79   D_63_CO                          289115 non-null  float64\n",
      " 80   D_63_CR                          289115 non-null  float64\n",
      " 81   D_63_XL                          289115 non-null  float64\n",
      " 82   D_63_XM                          289115 non-null  float64\n",
      " 83   D_63_XZ                          289115 non-null  float64\n",
      " 84   D_126_1.0                        289115 non-null  float64\n",
      " 85   reverse_ewm_B_7_6                289115 non-null  float64\n",
      " 86   rolling_std_B_4_6                289115 non-null  float64\n",
      " 87   diff_B_4_10                      289115 non-null  float32\n",
      " 88   diff_B_4_9                       289115 non-null  float32\n",
      " 89   ewm_D_60_6                       289115 non-null  float64\n",
      " 90   diff_B_4_8                       289115 non-null  float32\n",
      " 91   diff_B_4_6                       289115 non-null  float32\n",
      " 92   diff_B_4_5                       289115 non-null  float32\n",
      " 93   diff_B_4_4                       289115 non-null  float32\n",
      " 94   diff_B_4_3                       289115 non-null  float32\n",
      " 95   rolling_mean_S_15_6              289115 non-null  float64\n",
      " 96   diff_B_4_2                       289115 non-null  float32\n",
      " 97   ewm_S_15_6                       289115 non-null  float64\n",
      " 98   expanding_max_B_4                289115 non-null  float32\n",
      " 99   ewm_R_1_6                        289115 non-null  float64\n",
      " 100  expanding_max_R_3                289115 non-null  float32\n",
      " 101  cummean_D_60                     289115 non-null  float32\n",
      " 102  cummean_R_1                      289115 non-null  float32\n",
      " 103  ewm_B_1_6                        289115 non-null  float64\n",
      " 104  cumsum_P_4                       289115 non-null  float32\n",
      " 105  cummean_P_4                      289115 non-null  float32\n",
      " 106  expanding_max_B_9                289115 non-null  float32\n",
      " 107  expanding_max_P_4                289115 non-null  float32\n",
      " 108  diff_B_9_2                       289115 non-null  float32\n",
      " 109  expanding_max_B_1                289115 non-null  float32\n",
      " 110  rolling_std_D_39_6               289115 non-null  float64\n",
      " 111  ewm_P_4_6                        289115 non-null  float64\n",
      " 112  diff_D_39_6                      289115 non-null  float32\n",
      " 113  diff_D_39_4                      289115 non-null  float32\n",
      " 114  diff_D_39_2                      289115 non-null  float32\n",
      " 115  expanding_max_D_39               289115 non-null  float32\n",
      " 116  expanding_max_R_1                289115 non-null  float32\n",
      " 117  cumsum_S_11                      289115 non-null  float32\n",
      " 118  expanding_max_S_15               289115 non-null  float32\n",
      " 119  cummean_S_15                     289115 non-null  float32\n",
      " 120  expanding_min_B_18               289115 non-null  float32\n",
      " 121  expanding_max_D_51               289115 non-null  float32\n",
      " 122  cumsum_B_18                      289115 non-null  float32\n",
      " 123  cummean_D_51                     289115 non-null  float32\n",
      " 124  cumsum_D_51                      289115 non-null  float32\n",
      " 125  ewm_D_65_6                       289115 non-null  float64\n",
      " 126  rolling_mean_D_65_6              289115 non-null  float64\n",
      " 127  ewm_D_47_6                       289115 non-null  float64\n",
      " 128  rolling_mean_D_47_6              289115 non-null  float64\n",
      " 129  expanding_max_D_47               289115 non-null  float32\n",
      " 130  expanding_min_D_47               289115 non-null  float32\n",
      " 131  cummean_D_47                     289115 non-null  float32\n",
      " 132  cumsum_D_47                      289115 non-null  float32\n",
      " 133  lag_D_47_3                       289115 non-null  float32\n",
      " 134  expanding_max_D_65               289115 non-null  float32\n",
      " 135  expanding_max_S_5                289115 non-null  float32\n",
      " 136  cummean_D_65                     289115 non-null  float32\n",
      " 137  cummean_R_3                      289115 non-null  float32\n",
      " 138  cumsum_R_3                       289115 non-null  float32\n",
      " 139  reverse_ewm_B_4_6                289115 non-null  float64\n",
      " 140  lag_B_5_1                        289115 non-null  float32\n",
      " 141  cummean_B_5                      289115 non-null  float32\n",
      " 142  expanding_min_B_5                289115 non-null  float32\n",
      " 143  ewm_S_8_6                        289115 non-null  float64\n",
      " 144  rolling_mean_B_5_6               289115 non-null  float64\n",
      " 145  reverse_ewm_B_5_6                289115 non-null  float64\n",
      " 146  cummean_R_2                      289115 non-null  float32\n",
      " 147  ewm_R_2_6                        289115 non-null  float64\n",
      " 148  lag_D_47_1                       289115 non-null  float32\n",
      " 149  lag_D_47_2                       289115 non-null  float32\n",
      " 150  cumsum_D_65                      289115 non-null  float32\n",
      " 151  ewm_B_5_6                        289115 non-null  float64\n",
      " 152  rolling_mean_S_8_6               289115 non-null  float64\n",
      " 153  ewm_D_39_6                       289115 non-null  float64\n",
      " 154  cummean_R_11                     289115 non-null  float32\n",
      " 155  rolling_std_D_75_6               289115 non-null  float64\n",
      " 156  expanding_max_D_102              289115 non-null  float32\n",
      " 157  ewm_R_5_6                        289115 non-null  float64\n",
      " 158  expanding_max_S_26               289115 non-null  float32\n",
      " 159  ewm_S_26_6                       289115 non-null  float64\n",
      " 160  cumsum_S_26                      289115 non-null  float32\n",
      " 161  lag_B_37_2                       289115 non-null  float32\n",
      " 162  ewm_B_7_6                        289115 non-null  float64\n",
      " 163  expanding_max_D_133              289115 non-null  float32\n",
      " 164  reverse_ewm_D_133_6              289115 non-null  float64\n",
      " 165  cummean_D_133                    289115 non-null  float32\n",
      " 166  rolling_mean_B_7_6               289115 non-null  float64\n",
      " 167  ewm_B_40_6                       289115 non-null  float64\n",
      " 168  rolling_std_B_40_6               289115 non-null  float64\n",
      " 169  expanding_max_B_40               289115 non-null  float32\n",
      " 170  expanding_max_D_75               289115 non-null  float32\n",
      " 171  diff_B_37_2                      289115 non-null  float32\n",
      " 172  expanding_max_S_8                289115 non-null  float32\n",
      " 173  cumsum_S_8                       289115 non-null  float32\n",
      " 174  ewm_R_11_6                       289115 non-null  float64\n",
      " 175  ewm_D_63_CR_6                    289115 non-null  float64\n",
      " 176  ewm_D_63_CO_6                    289115 non-null  float64\n",
      " 177  rolling_mean_D_63_CO_6           289115 non-null  float64\n",
      " 178  cumsum_D_63_CO                   289115 non-null  float64\n",
      " 179  lag_D_63_CO_2                    289115 non-null  float64\n",
      " 180  lag_D_63_CO_1                    289115 non-null  float64\n",
      " 181  expanding_min_B_28               289115 non-null  float32\n",
      " 182  diff_B_28_2                      289115 non-null  float32\n",
      " 183  ewm_D_51_6                       289115 non-null  float64\n",
      " 184  ewm_R_16_6                       289115 non-null  float64\n",
      " 185  rolling_mean_R_16_6              289115 non-null  float64\n",
      " 186  cumsum_R_16                      289115 non-null  float32\n",
      " 187  ewm_B_10_6                       289115 non-null  float64\n",
      " 188  R_10_Mean absolute deviation     289115 non-null  float64\n",
      " 189  R_5_Max                          289115 non-null  float64\n",
      " 190  D_126_1.0_Average power          289115 non-null  float64\n",
      " 191  D_102_Root mean square           289115 non-null  float64\n",
      " 192  B_9_Root mean square             289115 non-null  float64\n",
      " 193  B_9_Max                          289115 non-null  float64\n",
      " 194  B_9_Average power                289115 non-null  float64\n",
      " 195  R_5_Histogram mode               289115 non-null  float64\n",
      " 196  B_7_Root mean square             289115 non-null  float64\n",
      " 197  B_7_Max                          289115 non-null  float64\n",
      " 198  B_7_Average power                289115 non-null  float64\n",
      " 199  B_5_Root mean square             289115 non-null  float64\n",
      " 200  B_5_Mean absolute deviation      289115 non-null  float64\n",
      " 201  B_5_Mean                         289115 non-null  float64\n",
      " 202  S_5_ECDF Percentile_1            289115 non-null  float64\n",
      " 203  B_7_Mean                         289115 non-null  float64\n",
      " 204  B_5_Max                          289115 non-null  float64\n",
      " 205  D_133_Average power              289115 non-null  float64\n",
      " 206  D_133_Max                        289115 non-null  float64\n",
      " 207  D_47_Absolute energy             289115 non-null  float64\n",
      " 208  B_1_Average power                289115 non-null  float64\n",
      " 209  S_5_Max                          289115 non-null  float64\n",
      " 210  D_39_Standard deviation          289115 non-null  float64\n",
      " 211  D_39_Root mean square            289115 non-null  float64\n",
      " 212  D_39_Peak to peak distance       289115 non-null  float64\n",
      " 213  R_5_Average power                289115 non-null  float64\n",
      " 214  D_39_Mean                        289115 non-null  float64\n",
      " 215  D_39_Interquartile range         289115 non-null  float64\n",
      " 216  R_3_Root mean square             289115 non-null  float64\n",
      " 217  D_39_Average power               289115 non-null  float64\n",
      " 218  D_39_Absolute energy             289115 non-null  float64\n",
      " 219  D_144_Median absolute deviation  289115 non-null  float64\n",
      " 220  D_133_Root mean square           289115 non-null  float64\n",
      " 221  D_39_Max                         289115 non-null  float64\n",
      " 222  R_3_Mean                         289115 non-null  float64\n",
      " 223  B_5_ECDF Percentile_1            289115 non-null  float64\n",
      " 224  B_5_Absolute energy              289115 non-null  float64\n",
      " 225  S_15_Root mean square            289115 non-null  float64\n",
      " 226  B_23_Average power               289115 non-null  float64\n",
      " 227  B_1_Peak to peak distance        289115 non-null  float64\n",
      " 228  B_18_Histogram mode              289115 non-null  float64\n",
      " 229  B_1_Min                          289115 non-null  float64\n",
      " 230  B_1_Median                       289115 non-null  float64\n",
      " 231  B_23_Max                         289115 non-null  float64\n",
      " 232  B_1_Mean                         289115 non-null  float64\n",
      " 233  B_1_Max                          289115 non-null  float64\n",
      " 234  B_18_Median                      289115 non-null  float64\n",
      " 235  B_1_ECDF Percentile_1            289115 non-null  float64\n",
      " 236  B_18_Min                         289115 non-null  float64\n",
      " 237  B_1_ECDF Percentile_0            289115 non-null  float64\n",
      " 238  S_26_Max                         289115 non-null  float64\n",
      " 239  B_18_Mean                        289115 non-null  float64\n",
      " 240  B_5_Average power                289115 non-null  float64\n",
      " 241  S_15_Mean                        289115 non-null  float64\n",
      " 242  S_15_ECDF Percentile_0           289115 non-null  float64\n",
      " 243  B_4_Peak to peak distance        289115 non-null  float64\n",
      " 244  B_4_Median absolute deviation    289115 non-null  float64\n",
      " 245  B_4_Mean absolute deviation      289115 non-null  float64\n",
      " 246  B_4_Max                          289115 non-null  float64\n",
      " 247  S_11_Root mean square            289115 non-null  float64\n",
      " 248  B_4_ECDF Percentile_1            289115 non-null  float64\n",
      " 249  S_15_Max                         289115 non-null  float64\n",
      " 250  B_4_Absolute energy              289115 non-null  float64\n",
      " 251  B_40_ECDF Percentile_1           289115 non-null  float64\n",
      " 252  B_37_Root mean square            289115 non-null  float64\n",
      " 253  S_13_Root mean square            289115 non-null  float64\n",
      " 254  B_18_ECDF Percentile_0           289115 non-null  float64\n",
      " 255  S_15_Absolute energy             289115 non-null  float64\n",
      " 256  S_15_Average power               289115 non-null  float64\n",
      " 257  B_40_Max                         289115 non-null  float64\n",
      " 258  R_3_Max                          289115 non-null  float64\n",
      " 259  S_5_Mean                         289115 non-null  float64\n",
      " 260  S_5_Root mean square             289115 non-null  float64\n",
      " 261  D_65_Average power               289115 non-null  float64\n",
      " 262  D_65_Absolute energy             289115 non-null  float64\n",
      " 263  B_10_Min                         289115 non-null  float64\n",
      " 264  D_63_CR_Mean                     289115 non-null  float64\n",
      " 265  B_10_Root mean square            289115 non-null  float64\n",
      " 266  R_16_Interquartile range         289115 non-null  float64\n",
      " 267  D_65_Histogram mode              289115 non-null  float64\n",
      " 268  D_63_CR_Absolute energy          289115 non-null  float64\n",
      " 269  R_16_Mean absolute deviation     289115 non-null  float64\n",
      " 270  R_1_Average power                289115 non-null  float64\n",
      " 271  D_63_CO_ECDF Percentile_0        289115 non-null  float64\n",
      " 272  D_47_ECDF Percentile_0           289115 non-null  float64\n",
      " 273  D_63_CO_Absolute energy          289115 non-null  float64\n",
      " 274  R_1_Histogram mode               289115 non-null  float64\n",
      " 275  R_16_Mean                        289115 non-null  float64\n",
      " 276  D_65_Max                         289115 non-null  float64\n",
      " 277  D_65_Mean                        289115 non-null  float64\n",
      " 278  D_65_Mean absolute deviation     289115 non-null  float64\n",
      " 279  P_4_Median                       289115 non-null  float64\n",
      " 280  P_4_Mean                         289115 non-null  float64\n",
      " 281  P_4_Max                          289115 non-null  float64\n",
      " 282  B_10_ECDF Percentile_1           289115 non-null  float64\n",
      " 283  P_4_Histogram mode               289115 non-null  float64\n",
      " 284  S_8_Min                          289115 non-null  float64\n",
      " 285  P_4_Absolute energy              289115 non-null  float64\n",
      " 286  S_8_Median                       289115 non-null  float64\n",
      " 287  D_75_Standard deviation          289115 non-null  float64\n",
      " 288  S_8_Mean                         289115 non-null  float64\n",
      " 289  S_8_Max                          289115 non-null  float64\n",
      " 290  D_75_Max                         289115 non-null  float64\n",
      " 291  R_11_Mean                        289115 non-null  float64\n",
      " 292  D_65_Standard deviation          289115 non-null  float64\n",
      " 293  D_65_Peak to peak distance       289115 non-null  float64\n",
      " 294  R_1_Max                          289115 non-null  float64\n",
      " 295  R_1_Mean                         289115 non-null  float64\n",
      " 296  D_63_CO_Average power            289115 non-null  float64\n",
      " 297  R_1_Peak to peak distance        289115 non-null  float64\n",
      " 298  B_11_Median                      289115 non-null  float64\n",
      " 299  R_1_Mean absolute deviation      289115 non-null  float64\n",
      " 300  B_11_Min                         289115 non-null  float64\n",
      " 301  D_51_Histogram mode              289115 non-null  float64\n",
      " 302  B_11_Root mean square            289115 non-null  float64\n",
      " 303  R_3_Absolute energy              289115 non-null  float64\n",
      " 304  B_11_Standard deviation          289115 non-null  float64\n",
      " 305  R_3_Average power                289115 non-null  float64\n",
      " 306  D_51_Average power               289115 non-null  float64\n",
      " 307  S_8_Absolute energy              289115 non-null  float64\n",
      " 308  D_51_Absolute energy             289115 non-null  float64\n",
      " 309  D_47_Root mean square            289115 non-null  float64\n",
      " 310  D_47_Min                         289115 non-null  float64\n",
      " 311  D_47_Mean                        289115 non-null  float64\n",
      " 312  D_47_Max                         289115 non-null  float64\n",
      " 313  D_51_Median                      289115 non-null  float64\n",
      " 314  B_11_Mean                        289115 non-null  float64\n",
      " 315  D_51_Mean                        289115 non-null  float64\n",
      " 316  B_11_Max                         289115 non-null  float64\n",
      " 317  R_1_Root mean square             289115 non-null  float64\n",
      " 318  R_1_Standard deviation           289115 non-null  float64\n",
      " 319  D_60_Root mean square            289115 non-null  float64\n",
      " 320  R_2_Average power                289115 non-null  float64\n",
      " 321  D_60_Min                         289115 non-null  float64\n",
      " 322  D_58_Max                         289115 non-null  float64\n",
      " 323  D_51_Min                         289115 non-null  float64\n",
      " 324  D_51_Root mean square            289115 non-null  float64\n",
      " 325  B_10_Area under the curve        289115 non-null  float64\n",
      " 326  B_4_Sum absolute diff            289115 non-null  float64\n",
      " 327  B_5_Area under the curve         289115 non-null  float64\n",
      " 328  B_5_Mean absolute diff           289115 non-null  float64\n",
      " 329  B_5_Mean diff                    289115 non-null  float64\n",
      " 330  B_5_Median absolute diff         289115 non-null  float64\n",
      " 331  R_3_Mean absolute diff           289115 non-null  float64\n",
      " 332  B_7_Area under the curve         289115 non-null  float64\n",
      " 333  B_7_Mean diff                    289115 non-null  float64\n",
      " 334  R_3_Area under the curve         289115 non-null  float64\n",
      " 335  B_9_Area under the curve         289115 non-null  float64\n",
      " 336  R_2_Slope                        289115 non-null  float64\n",
      " 337  B_9_Mean diff                    289115 non-null  float64\n",
      " 338  B_9_Median diff                  289115 non-null  float64\n",
      " 339  B_9_Slope                        289115 non-null  float64\n",
      " 340  B_9_Sum absolute diff            289115 non-null  float64\n",
      " 341  R_2_Mean diff                    289115 non-null  float64\n",
      " 342  D_102_Area under the curve       289115 non-null  float64\n",
      " 343  B_4_Slope                        289115 non-null  float64\n",
      " 344  D_102_Median diff                289115 non-null  float64\n",
      " 345  B_4_Median diff                  289115 non-null  float64\n",
      " 346  B_4_Mean absolute diff           289115 non-null  float64\n",
      " 347  B_23_Slope                       289115 non-null  float64\n",
      " 348  B_24_Sum absolute diff           289115 non-null  float64\n",
      " 349  B_28_Mean diff                   289115 non-null  float64\n",
      " 350  B_28_Median diff                 289115 non-null  float64\n",
      " 351  S_11_Area under the curve        289115 non-null  float64\n",
      " 352  R_6_Mean diff                    289115 non-null  float64\n",
      " 353  B_37_Area under the curve        289115 non-null  float64\n",
      " 354  B_37_Mean diff                   289115 non-null  float64\n",
      " 355  B_37_Median diff                 289115 non-null  float64\n",
      " 356  R_5_Slope                        289115 non-null  float64\n",
      " 357  B_37_Positive turning points     289115 non-null  float64\n",
      " 358  B_37_Zero crossing rate          289115 non-null  float64\n",
      " 359  B_40_Area under the curve        289115 non-null  float64\n",
      " 360  R_5_Mean diff                    289115 non-null  float64\n",
      " 361  B_40_Mean absolute diff          289115 non-null  float64\n",
      " 362  B_4_Area under the curve         289115 non-null  float64\n",
      " 363  B_4_Centroid                     289115 non-null  float64\n",
      " 364  B_4_Mean diff                    289115 non-null  float64\n",
      " 365  R_2_Area under the curve         289115 non-null  float64\n",
      " 366  R_1_Slope                        289115 non-null  float64\n",
      " 367  D_126_1.0_Area under the curve   289115 non-null  float64\n",
      " 368  P_4_Area under the curve         289115 non-null  float64\n",
      " 369  D_75_Signal distance             289115 non-null  float64\n",
      " 370  D_60_Area under the curve        289115 non-null  float64\n",
      " 371  D_75_Mean diff                   289115 non-null  float64\n",
      " 372  D_75_Mean absolute diff          289115 non-null  float64\n",
      " 373  D_75_Area under the curve        289115 non-null  float64\n",
      " 374  D_65_Sum absolute diff           289115 non-null  float64\n",
      " 375  D_65_Slope                       289115 non-null  float64\n",
      " 376  D_65_Signal distance             289115 non-null  float64\n",
      " 377  D_63_CL_Slope                    289115 non-null  float64\n",
      " 378  D_65_Mean diff                   289115 non-null  float64\n",
      " 379  D_65_Mean absolute diff          289115 non-null  float64\n",
      " 380  D_63_CO_Area under the curve     289115 non-null  float64\n",
      " 381  D_63_CO_Centroid                 289115 non-null  float64\n",
      " 382  D_65_Area under the curve        289115 non-null  float64\n",
      " 383  D_63_CO_Mean diff                289115 non-null  float64\n",
      " 384  D_63_CR_Centroid                 289115 non-null  float64\n",
      " 385  P_4_Sum absolute diff            289115 non-null  float64\n",
      " 386  R_10_Mean absolute diff          289115 non-null  float64\n",
      " 387  D_51_Area under the curve        289115 non-null  float64\n",
      " 388  R_10_Slope                       289115 non-null  float64\n",
      " 389  R_1_Mean diff                    289115 non-null  float64\n",
      " 390  R_1_Mean absolute diff           289115 non-null  float64\n",
      " 391  R_1_Area under the curve         289115 non-null  float64\n",
      " 392  R_16_Slope                       289115 non-null  float64\n",
      " 393  D_133_Area under the curve       289115 non-null  float64\n",
      " 394  R_16_Mean absolute diff          289115 non-null  float64\n",
      " 395  D_133_Signal distance            289115 non-null  float64\n",
      " 396  R_16_Area under the curve        289115 non-null  float64\n",
      " 397  B_23_Positive turning points     289115 non-null  float64\n",
      " 398  D_144_Autocorrelation            289115 non-null  float64\n",
      " 399  D_144_Mean diff                  289115 non-null  float64\n",
      " 400  D_39_Area under the curve        289115 non-null  float64\n",
      " 401  D_39_Centroid                    289115 non-null  float64\n",
      " 402  D_39_Mean diff                   289115 non-null  float64\n",
      " 403  D_39_Signal distance             289115 non-null  float64\n",
      " 404  D_39_Slope                       289115 non-null  float64\n",
      " 405  D_47_Area under the curve        289115 non-null  float64\n",
      " 406  R_11_Area under the curve        289115 non-null  float64\n",
      " 407  D_144_Mean absolute diff         289115 non-null  float64\n",
      " 408  B_23_Mean diff                   289115 non-null  float64\n",
      " 409  B_5_Slope                        289115 non-null  float64\n",
      " 410  D_63_CO_Slope                    289115 non-null  float64\n",
      " 411  S_15_Area under the curve        289115 non-null  float64\n",
      " 412  S_26_Sum absolute diff           289115 non-null  float64\n",
      " 413  B_18_Area under the curve        289115 non-null  float64\n",
      " 414  S_26_Mean absolute diff          289115 non-null  float64\n",
      " 415  B_18_Mean diff                   289115 non-null  float64\n",
      " 416  S_5_Signal distance              289115 non-null  float64\n",
      " 417  B_14_Mean diff                   289115 non-null  float64\n",
      " 418  B_11_Mean diff                   289115 non-null  float64\n",
      " 419  S_8_Area under the curve         289115 non-null  float64\n",
      " 420  B_11_Area under the curve        289115 non-null  float64\n",
      " 421  S_8_Centroid                     289115 non-null  float64\n",
      " 422  B_1_Area under the curve         289115 non-null  float64\n",
      " 423  B_1_Mean diff                    289115 non-null  float64\n",
      " 424  S_26_Area under the curve        289115 non-null  float64\n",
      " 425  S_5_Area under the curve         289115 non-null  float64\n",
      "dtypes: float32(139), float64(285), int64(1), object(1)\n",
      "memory usage: 786.4+ MB\n"
     ]
    }
   ],
   "source": [
    "train_df.info(verbose=True, show_counts=True)"
   ]
  },
  {
   "cell_type": "code",
   "execution_count": 11,
   "id": "75b72832",
   "metadata": {},
   "outputs": [],
   "source": [
    "from utils.mlflow_ml_model_logger import log_classification_model"
   ]
  },
  {
   "cell_type": "code",
   "execution_count": 12,
   "id": "0cb2cffe",
   "metadata": {},
   "outputs": [
    {
     "name": "stdout",
     "output_type": "stream",
     "text": [
      "Starting MLflow Run: Logistic Regression Base Model (f0b1c981c92c448080712f6a37da0db4)\n",
      "Logged model parameters.\n",
      "Training the model...\n"
     ]
    },
    {
     "name": "stderr",
     "output_type": "stream",
     "text": [
      "c:\\Users\\vaseekaranv\\AppData\\Local\\anaconda3\\envs\\nibm_dl\\lib\\site-packages\\daal4py\\sklearn\\linear_model\\logistic_path.py:627: ConvergenceWarning: lbfgs failed to converge (status=1):\n",
      "STOP: TOTAL NO. of ITERATIONS REACHED LIMIT.\n",
      "\n",
      "Increase the number of iterations (max_iter) or scale the data as shown in:\n",
      "    https://scikit-learn.org/stable/modules/preprocessing.html\n",
      "Please also refer to the documentation for alternative solver options:\n",
      "    https://scikit-learn.org/stable/modules/linear_model.html#logistic-regression\n",
      "  n_iter_i = _check_optimize_result(\n"
     ]
    },
    {
     "name": "stdout",
     "output_type": "stream",
     "text": [
      "Model training complete.\n",
      "Evaluating the model on the validation set...\n",
      "Attempting to find custom threshold using find_threshold_binary_search for Recall[0] >= 0.9800\n",
      "Target Recall: >= 0.9800 for Class 0\n",
      "Threshold found by Binary Search: 0.8980655\n",
      "Achieved Recall at Threshold: 0.9800\n",
      "Using threshold: Custom threshold 0.8981 aiming for Recall[0] >= 0.9800 (func achieved 0.9800)\n",
      "Calculating performance metrics...\n",
      "Validation Accuracy: 0.8350\n",
      "Validation Weighted F1-Score: 0.8126\n",
      "Validation Macro F1-Score: 0.7332\n",
      "Validation Recall Class 0: 0.9800\n",
      "Validation Recall Class 1: 0.4198\n",
      "Validation Precision Class 0: 0.8286\n",
      "Validation Precision Class 1: 0.8800\n",
      "\n",
      "              precision    recall  f1-score   support\n",
      "\n",
      "           0     0.8286    0.9800    0.8980     23806\n",
      "           1     0.8800    0.4198    0.5685      8318\n",
      "\n",
      "    accuracy                         0.8350     32124\n",
      "   macro avg     0.8543    0.6999    0.7332     32124\n",
      "weighted avg     0.8419    0.8350    0.8126     32124\n",
      "\n",
      "Logged validation metrics (rounded to 4 decimals).\n",
      "Generating Confusion Matrix plot...\n",
      "Saved Confusion Matrix plot to: confusion_matrix_val.png\n"
     ]
    },
    {
     "data": {
      "image/png": "[encoded data removed]",
      "text/plain": [
       "<Figure size 600x500 with 1 Axes>"
      ]
     },
     "metadata": {},
     "output_type": "display_data"
    },
    {
     "name": "stdout",
     "output_type": "stream",
     "text": [
      "Displayed Confusion Matrix plot.\n",
      "Logged Confusion Matrix plot artifact.\n",
      "Logging classification report artifact...\n",
      "Logged classification report artifact: classification_report_val.json\n",
      "Logging the model...\n"
     ]
    },
    {
     "name": "stderr",
     "output_type": "stream",
     "text": [
      "2025/04/16 14:40:16 WARNING mlflow.models.model: Model logged without a signature and input example. Please set `input_example` parameter when logging the model to auto infer the model signature.\n"
     ]
    },
    {
     "name": "stdout",
     "output_type": "stream",
     "text": [
      "Logged the trained model using mlflow.sklearn.\n",
      "MLflow Run completed: f0b1c981c92c448080712f6a37da0db4\n",
      "View the run in the MLflow UI.\n"
     ]
    }
   ],
   "source": [
    "#Logistic Regression\n",
    "from sklearn.linear_model import LogisticRegression\n",
    "model = LogisticRegression(random_state=0, class_weight='balanced')\n",
    "log_classification_model(\n",
    "        model=model,\n",
    "        X_train=train_df.drop(columns=['customer_ID']),\n",
    "        y_train=y_train['target'].values,\n",
    "        X_val=val_df.drop(columns=['customer_ID']),\n",
    "        y_val=y_val['target'].values,\n",
    "        run_name=\"Logistic Regression Base Model\"\n",
    "    )"
   ]
  },
  {
   "cell_type": "code",
   "execution_count": 13,
   "id": "6692e31b",
   "metadata": {},
   "outputs": [
    {
     "name": "stdout",
     "output_type": "stream",
     "text": [
      "Starting MLflow Run: Logistic Regression Base Model - Not Class Balanced (02d7de33ef9b4c5a9104630213877d29)\n",
      "Logged model parameters.\n",
      "Training the model...\n"
     ]
    },
    {
     "name": "stderr",
     "output_type": "stream",
     "text": [
      "c:\\Users\\vaseekaranv\\AppData\\Local\\anaconda3\\envs\\nibm_dl\\lib\\site-packages\\daal4py\\sklearn\\linear_model\\logistic_path.py:627: ConvergenceWarning: lbfgs failed to converge (status=1):\n",
      "STOP: TOTAL NO. of ITERATIONS REACHED LIMIT.\n",
      "\n",
      "Increase the number of iterations (max_iter) or scale the data as shown in:\n",
      "    https://scikit-learn.org/stable/modules/preprocessing.html\n",
      "Please also refer to the documentation for alternative solver options:\n",
      "    https://scikit-learn.org/stable/modules/linear_model.html#logistic-regression\n",
      "  n_iter_i = _check_optimize_result(\n"
     ]
    },
    {
     "name": "stdout",
     "output_type": "stream",
     "text": [
      "Model training complete.\n",
      "Evaluating the model on the validation set...\n",
      "Attempting to find custom threshold using find_threshold_binary_search for Recall[0] >= 0.9800\n",
      "Target Recall: >= 0.9800 for Class 0\n",
      "Threshold found by Binary Search: 0.7425369\n",
      "Achieved Recall at Threshold: 0.9800\n",
      "Using threshold: Custom threshold 0.7425 aiming for Recall[0] >= 0.9800 (func achieved 0.9800)\n",
      "Calculating performance metrics...\n",
      "Validation Accuracy: 0.8368\n",
      "Validation Weighted F1-Score: 0.8152\n",
      "Validation Macro F1-Score: 0.7372\n",
      "Validation Recall Class 0: 0.9800\n",
      "Validation Recall Class 1: 0.4270\n",
      "Validation Precision Class 0: 0.8304\n",
      "Validation Precision Class 1: 0.8818\n",
      "\n",
      "              precision    recall  f1-score   support\n",
      "\n",
      "           0     0.8304    0.9800    0.8990     23806\n",
      "           1     0.8818    0.4270    0.5754      8318\n",
      "\n",
      "    accuracy                         0.8368     32124\n",
      "   macro avg     0.8561    0.7035    0.7372     32124\n",
      "weighted avg     0.8437    0.8368    0.8152     32124\n",
      "\n",
      "Logged validation metrics (rounded to 4 decimals).\n",
      "Generating Confusion Matrix plot...\n",
      "Saved Confusion Matrix plot to: confusion_matrix_val.png\n"
     ]
    },
    {
     "data": {
      "image/png": "[encoded data removed]",
      "text/plain": [
       "<Figure size 600x500 with 1 Axes>"
      ]
     },
     "metadata": {},
     "output_type": "display_data"
    },
    {
     "name": "stdout",
     "output_type": "stream",
     "text": [
      "Displayed Confusion Matrix plot.\n",
      "Logged Confusion Matrix plot artifact.\n",
      "Logging classification report artifact...\n",
      "Logged classification report artifact: classification_report_val.json\n",
      "Logging the model...\n"
     ]
    },
    {
     "name": "stderr",
     "output_type": "stream",
     "text": [
      "2025/04/16 14:41:14 WARNING mlflow.models.model: Model logged without a signature and input example. Please set `input_example` parameter when logging the model to auto infer the model signature.\n"
     ]
    },
    {
     "name": "stdout",
     "output_type": "stream",
     "text": [
      "Logged the trained model using mlflow.sklearn.\n",
      "MLflow Run completed: 02d7de33ef9b4c5a9104630213877d29\n",
      "View the run in the MLflow UI.\n"
     ]
    }
   ],
   "source": [
    "model = LogisticRegression(random_state=0)\n",
    "log_classification_model(\n",
    "        model=model,\n",
    "        X_train=train_df.drop(columns=['customer_ID']),\n",
    "        y_train=y_train['target'].values,\n",
    "        X_val=val_df.drop(columns=['customer_ID']),\n",
    "        y_val=y_val['target'].values,\n",
    "        run_name=\"Logistic Regression Base Model - Not Class Balanced\"\n",
    "    )"
   ]
  },
  {
   "cell_type": "code",
   "execution_count": 19,
   "id": "16373cdb",
   "metadata": {},
   "outputs": [
    {
     "name": "stdout",
     "output_type": "stream",
     "text": [
      "Starting MLflow Run: Decision Tree Classifier Base Model (ba9a06030c8d4c66a5e39b6cf91dd575)\n",
      "Logged model parameters.\n",
      "Training the model...\n",
      "Model training complete.\n",
      "Evaluating the model on the validation set...\n",
      "Attempting to find custom threshold using find_threshold_binary_search for Recall[0] >= 0.9800\n",
      "Target Recall: >= 0.9800 for Class 0\n",
      "Result: Target recall was not achievable.\n",
      "Using threshold: Custom threshold search failed (target Recall[0] >= 0.9800), using 0.5.\n",
      "Calculating performance metrics...\n",
      "Validation Accuracy: 0.8375\n",
      "Validation Weighted F1-Score: 0.8379\n",
      "Validation Macro F1-Score: 0.7895\n",
      "Validation Recall Class 0: 0.8874\n",
      "Validation Recall Class 1: 0.6948\n",
      "Validation Precision Class 0: 0.8927\n",
      "Validation Precision Class 1: 0.6831\n",
      "\n",
      "              precision    recall  f1-score   support\n",
      "\n",
      "           0     0.8927    0.8874    0.8900     23806\n",
      "           1     0.6831    0.6948    0.6889      8318\n",
      "\n",
      "    accuracy                         0.8375     32124\n",
      "   macro avg     0.7879    0.7911    0.7895     32124\n",
      "weighted avg     0.8384    0.8375    0.8379     32124\n",
      "\n",
      "Logged validation metrics (rounded to 4 decimals).\n",
      "Generating Confusion Matrix plot...\n",
      "Saved Confusion Matrix plot to: confusion_matrix_val.png\n"
     ]
    },
    {
     "name": "stderr",
     "output_type": "stream",
     "text": [
      "c:\\Users\\vaseekaranv\\Desktop\\NIBM-MSc\\FYP\\utils\\threshold.py:106: UserWarning: Target recall 0.98 for class 0 was not met at any threshold.\n",
      "  warnings.warn(f\"Target recall {target_recall} for class {target_class} was not met at any threshold.\")\n",
      "c:\\Users\\vaseekaranv\\Desktop\\NIBM-MSc\\FYP\\utils\\mlflow_ml_model_logger.py:97: UserWarning: Custom threshold search failed (target Recall[0] >= 0.9800), using 0.5.\n",
      "  warnings.warn(threshold_details)\n"
     ]
    },
    {
     "data": {
      "image/png": "[encoded data removed]",
      "text/plain": [
       "<Figure size 600x500 with 1 Axes>"
      ]
     },
     "metadata": {},
     "output_type": "display_data"
    },
    {
     "name": "stdout",
     "output_type": "stream",
     "text": [
      "Displayed Confusion Matrix plot.\n",
      "Logged Confusion Matrix plot artifact.\n",
      "Logging classification report artifact...\n",
      "Logged classification report artifact: classification_report_val.json\n",
      "Logging the model...\n"
     ]
    },
    {
     "name": "stderr",
     "output_type": "stream",
     "text": [
      "2025/04/16 15:27:15 WARNING mlflow.models.model: Model logged without a signature and input example. Please set `input_example` parameter when logging the model to auto infer the model signature.\n"
     ]
    },
    {
     "name": "stdout",
     "output_type": "stream",
     "text": [
      "Logged the trained model using mlflow.sklearn.\n",
      "MLflow Run completed: ba9a06030c8d4c66a5e39b6cf91dd575\n",
      "View the run in the MLflow UI.\n"
     ]
    }
   ],
   "source": [
    "#Decision Tree\n",
    "from sklearn.tree import DecisionTreeClassifier\n",
    "model = DecisionTreeClassifier(random_state=0)\n",
    "log_classification_model(\n",
    "        model=model,\n",
    "        X_train=train_df.drop(columns=['customer_ID']),\n",
    "        y_train=y_train['target'].values,\n",
    "        X_val=val_df.drop(columns=['customer_ID']),\n",
    "        y_val=y_val['target'].values,\n",
    "        run_name=\"Decision Tree Classifier Base Model\"\n",
    "    )"
   ]
  },
  {
   "cell_type": "code",
   "execution_count": 14,
   "id": "69dcec84",
   "metadata": {},
   "outputs": [
    {
     "name": "stdout",
     "output_type": "stream",
     "text": [
      "Starting MLflow Run: XGBoost Base Model (62d5048f28e44135bdb17a91ca65cd07)\n",
      "Logged model parameters.\n",
      "Training the model...\n",
      "Model training complete.\n",
      "Evaluating the model on the validation set...\n",
      "Attempting to find custom threshold using find_threshold_binary_search for Recall[0] >= 0.9800\n"
     ]
    },
    {
     "name": "stderr",
     "output_type": "stream",
     "text": [
      "c:\\Users\\vaseekaranv\\AppData\\Local\\anaconda3\\envs\\nibm_dl\\lib\\site-packages\\xgboost\\core.py:158: UserWarning: [14:42:33] WARNING: C:\\buildkite-agent\\builds\\buildkite-windows-cpu-autoscaling-group-i-0c55ff5f71b100e98-1\\xgboost\\xgboost-ci-windows\\src\\common\\error_msg.cc:58: Falling back to prediction using DMatrix due to mismatched devices. This might lead to higher memory usage and slower performance. XGBoost is running on: cuda:0, while the input data is on: cpu.\n",
      "Potential solutions:\n",
      "- Use a data structure that matches the device ordinal in the booster.\n",
      "- Set the device for booster before call to inplace_predict.\n",
      "\n",
      "This warning will only be shown once.\n",
      "\n",
      "  warnings.warn(smsg, UserWarning)\n"
     ]
    },
    {
     "name": "stdout",
     "output_type": "stream",
     "text": [
      "Target Recall: >= 0.9800 for Class 0\n",
      "Threshold found by Binary Search: 0.7976488\n",
      "Achieved Recall at Threshold: 0.9800\n",
      "Using threshold: Custom threshold 0.7976 aiming for Recall[0] >= 0.9800 (func achieved 0.9800)\n",
      "Calculating performance metrics...\n",
      "Validation Accuracy: 0.8637\n",
      "Validation Weighted F1-Score: 0.8506\n",
      "Validation Macro F1-Score: 0.7914\n",
      "Validation Recall Class 0: 0.9800\n",
      "Validation Recall Class 1: 0.5309\n",
      "Validation Precision Class 0: 0.8567\n",
      "Validation Precision Class 1: 0.9027\n",
      "\n",
      "              precision    recall  f1-score   support\n",
      "\n",
      "           0     0.8567    0.9800    0.9142     23806\n",
      "           1     0.9027    0.5309    0.6686      8318\n",
      "\n",
      "    accuracy                         0.8637     32124\n",
      "   macro avg     0.8797    0.7555    0.7914     32124\n",
      "weighted avg     0.8686    0.8637    0.8506     32124\n",
      "\n",
      "Logged validation metrics (rounded to 4 decimals).\n",
      "Generating Confusion Matrix plot...\n",
      "Saved Confusion Matrix plot to: confusion_matrix_val.png\n"
     ]
    },
    {
     "data": {
      "image/png": "[encoded data removed]",
      "text/plain": [
       "<Figure size 600x500 with 1 Axes>"
      ]
     },
     "metadata": {},
     "output_type": "display_data"
    },
    {
     "name": "stdout",
     "output_type": "stream",
     "text": [
      "Displayed Confusion Matrix plot.\n",
      "Logged Confusion Matrix plot artifact.\n",
      "Logging classification report artifact...\n",
      "Logged classification report artifact: classification_report_val.json\n",
      "Logging the model...\n"
     ]
    },
    {
     "name": "stderr",
     "output_type": "stream",
     "text": [
      "2025/04/16 14:42:39 WARNING mlflow.models.model: Model logged without a signature and input example. Please set `input_example` parameter when logging the model to auto infer the model signature.\n"
     ]
    },
    {
     "name": "stdout",
     "output_type": "stream",
     "text": [
      "Logged the trained model using mlflow.sklearn.\n",
      "MLflow Run completed: 62d5048f28e44135bdb17a91ca65cd07\n",
      "View the run in the MLflow UI.\n"
     ]
    }
   ],
   "source": [
    "#XGBoost\n",
    "from xgboost import XGBClassifier\n",
    "model = XGBClassifier(random_state=0, tree_method = 'hist', device = 'cuda')\n",
    "log_classification_model(\n",
    "        model=model,\n",
    "        X_train=train_df.drop(columns=['customer_ID']),\n",
    "        y_train=y_train['target'].values,\n",
    "        X_val=val_df.drop(columns=['customer_ID']),\n",
    "        y_val=y_val['target'].values,\n",
    "        run_name=\"XGBoost Base Model\"\n",
    "    )"
   ]
  },
  {
   "cell_type": "code",
   "execution_count": 15,
   "id": "d4473b9e",
   "metadata": {},
   "outputs": [
    {
     "name": "stdout",
     "output_type": "stream",
     "text": [
      "Starting MLflow Run: CatBoost Base Model (6b27024331ca4004b8af8991c59108de)\n",
      "Logged model parameters.\n",
      "Training the model...\n",
      "Model training complete.\n",
      "Evaluating the model on the validation set...\n",
      "Attempting to find custom threshold using find_threshold_binary_search for Recall[0] >= 0.9800\n",
      "Target Recall: >= 0.9800 for Class 0\n",
      "Threshold found by Binary Search: 0.7588621\n",
      "Achieved Recall at Threshold: 0.9800\n",
      "Using threshold: Custom threshold 0.7589 aiming for Recall[0] >= 0.9800 (func achieved 0.9800)\n",
      "Calculating performance metrics...\n",
      "Validation Accuracy: 0.8701\n",
      "Validation Weighted F1-Score: 0.8586\n",
      "Validation Macro F1-Score: 0.8034\n",
      "Validation Recall Class 0: 0.9800\n",
      "Validation Recall Class 1: 0.5555\n",
      "Validation Precision Class 0: 0.8632\n",
      "Validation Precision Class 1: 0.9066\n",
      "\n",
      "              precision    recall  f1-score   support\n",
      "\n",
      "           0     0.8632    0.9800    0.9179     23806\n",
      "           1     0.9066    0.5555    0.6889      8318\n",
      "\n",
      "    accuracy                         0.8701     32124\n",
      "   macro avg     0.8849    0.7678    0.8034     32124\n",
      "weighted avg     0.8744    0.8701    0.8586     32124\n",
      "\n",
      "Logged validation metrics (rounded to 4 decimals).\n",
      "Generating Confusion Matrix plot...\n",
      "Saved Confusion Matrix plot to: confusion_matrix_val.png\n"
     ]
    },
    {
     "data": {
      "image/png": "[encoded data removed]",
      "text/plain": [
       "<Figure size 600x500 with 1 Axes>"
      ]
     },
     "metadata": {},
     "output_type": "display_data"
    },
    {
     "name": "stdout",
     "output_type": "stream",
     "text": [
      "Displayed Confusion Matrix plot.\n",
      "Logged Confusion Matrix plot artifact.\n",
      "Logging classification report artifact...\n",
      "Logged classification report artifact: classification_report_val.json\n",
      "Logging the model...\n"
     ]
    },
    {
     "name": "stderr",
     "output_type": "stream",
     "text": [
      "2025/04/16 14:43:14 WARNING mlflow.models.model: Model logged without a signature and input example. Please set `input_example` parameter when logging the model to auto infer the model signature.\n"
     ]
    },
    {
     "name": "stdout",
     "output_type": "stream",
     "text": [
      "Logged the trained model using mlflow.sklearn.\n",
      "MLflow Run completed: 6b27024331ca4004b8af8991c59108de\n",
      "View the run in the MLflow UI.\n"
     ]
    }
   ],
   "source": [
    "#CatBoost\n",
    "from catboost import CatBoostClassifier\n",
    "model = CatBoostClassifier(random_state=0, task_type='GPU', devices='0:1', verbose = 0)\n",
    "log_classification_model(\n",
    "        model=model,\n",
    "        X_train=train_df.drop(columns=['customer_ID']),\n",
    "        y_train=y_train['target'].values,\n",
    "        X_val=val_df.drop(columns=['customer_ID']),\n",
    "        y_val=y_val['target'].values,\n",
    "        run_name=\"CatBoost Base Model\"\n",
    "    )"
   ]
  },
  {
   "cell_type": "code",
   "execution_count": 16,
   "id": "2907f80c",
   "metadata": {},
   "outputs": [
    {
     "name": "stdout",
     "output_type": "stream",
     "text": [
      "Starting MLflow Run: LightGBM Base Model (59a39d028daa4fe3982d7c0f60a4c7f2)\n",
      "Logged model parameters.\n",
      "Training the model...\n",
      "[LightGBM] [Warning] Found whitespace in feature_names, replace with underlines\n",
      "[LightGBM] [Info] Number of positive: 74862, number of negative: 214253\n",
      "[LightGBM] [Info] Auto-choosing col-wise multi-threading, the overhead of testing was 0.206134 seconds.\n",
      "You can set `force_col_wise=true` to remove the overhead.\n",
      "[LightGBM] [Info] Total Bins 101943\n",
      "[LightGBM] [Info] Number of data points in the train set: 289115, number of used features: 425\n",
      "[LightGBM] [Info] [binary:BoostFromScore]: pavg=0.258935 -> initscore=-1.051511\n",
      "[LightGBM] [Info] Start training from score -1.051511\n",
      "Model training complete.\n",
      "Evaluating the model on the validation set...\n",
      "Attempting to find custom threshold using find_threshold_binary_search for Recall[0] >= 0.9800\n",
      "Target Recall: >= 0.9800 for Class 0\n",
      "Threshold found by Binary Search: 0.7737077\n",
      "Achieved Recall at Threshold: 0.9800\n",
      "Using threshold: Custom threshold 0.7737 aiming for Recall[0] >= 0.9800 (func achieved 0.9800)\n",
      "Calculating performance metrics...\n",
      "Validation Accuracy: 0.8686\n",
      "Validation Weighted F1-Score: 0.8568\n",
      "Validation Macro F1-Score: 0.8007\n",
      "Validation Recall Class 0: 0.9800\n",
      "Validation Recall Class 1: 0.5499\n",
      "Validation Precision Class 0: 0.8617\n",
      "Validation Precision Class 1: 0.9057\n",
      "\n",
      "              precision    recall  f1-score   support\n",
      "\n",
      "           0     0.8617    0.9800    0.9171     23806\n",
      "           1     0.9057    0.5499    0.6843      8318\n",
      "\n",
      "    accuracy                         0.8686     32124\n",
      "   macro avg     0.8837    0.7649    0.8007     32124\n",
      "weighted avg     0.8731    0.8686    0.8568     32124\n",
      "\n",
      "Logged validation metrics (rounded to 4 decimals).\n",
      "Generating Confusion Matrix plot...\n",
      "Saved Confusion Matrix plot to: confusion_matrix_val.png\n"
     ]
    },
    {
     "data": {
      "image/png": "[encoded data removed]",
      "text/plain": [
       "<Figure size 600x500 with 1 Axes>"
      ]
     },
     "metadata": {},
     "output_type": "display_data"
    },
    {
     "name": "stdout",
     "output_type": "stream",
     "text": [
      "Displayed Confusion Matrix plot.\n",
      "Logged Confusion Matrix plot artifact.\n",
      "Logging classification report artifact...\n",
      "Logged classification report artifact: classification_report_val.json\n",
      "Logging the model...\n"
     ]
    },
    {
     "name": "stderr",
     "output_type": "stream",
     "text": [
      "2025/04/16 14:43:52 WARNING mlflow.models.model: Model logged without a signature and input example. Please set `input_example` parameter when logging the model to auto infer the model signature.\n"
     ]
    },
    {
     "name": "stdout",
     "output_type": "stream",
     "text": [
      "Logged the trained model using mlflow.sklearn.\n",
      "MLflow Run completed: 59a39d028daa4fe3982d7c0f60a4c7f2\n",
      "View the run in the MLflow UI.\n"
     ]
    }
   ],
   "source": [
    "#LigtGBM\n",
    "from lightgbm import LGBMClassifier\n",
    "model = LGBMClassifier(random_state=0)\n",
    "log_classification_model(\n",
    "        model=model,\n",
    "        X_train=train_df.drop(columns=['customer_ID']),\n",
    "        y_train=y_train['target'].values,\n",
    "        X_val=val_df.drop(columns=['customer_ID']),\n",
    "        y_val=y_val['target'].values,\n",
    "        run_name=\"LightGBM Base Model\"\n",
    "    )"
   ]
  },
  {
   "cell_type": "code",
   "execution_count": 17,
   "id": "e7fecc9c",
   "metadata": {},
   "outputs": [
    {
     "name": "stdout",
     "output_type": "stream",
     "text": [
      "Starting MLflow Run: Random Forest Base Model (3f02946042ac4758b116f8e24ca07beb)\n",
      "Logged model parameters.\n",
      "Training the model...\n",
      "Model training complete.\n",
      "Evaluating the model on the validation set...\n",
      "Attempting to find custom threshold using find_threshold_binary_search for Recall[0] >= 0.9800\n",
      "Target Recall: >= 0.9800 for Class 0\n",
      "Threshold found by Binary Search: 0.7100000\n",
      "Achieved Recall at Threshold: 0.9810\n",
      "Using threshold: Custom threshold 0.7100 aiming for Recall[0] >= 0.9800 (func achieved 0.9810)\n",
      "Calculating performance metrics...\n",
      "Validation Accuracy: 0.8603\n",
      "Validation Weighted F1-Score: 0.8460\n",
      "Validation Macro F1-Score: 0.7843\n",
      "Validation Recall Class 0: 0.9810\n",
      "Validation Recall Class 1: 0.5149\n",
      "Validation Precision Class 0: 0.8527\n",
      "Validation Precision Class 1: 0.9043\n",
      "\n",
      "              precision    recall  f1-score   support\n",
      "\n",
      "           0     0.8527    0.9810    0.9123     23806\n",
      "           1     0.9043    0.5149    0.6562      8318\n",
      "\n",
      "    accuracy                         0.8603     32124\n",
      "   macro avg     0.8785    0.7479    0.7843     32124\n",
      "weighted avg     0.8661    0.8603    0.8460     32124\n",
      "\n",
      "Logged validation metrics (rounded to 4 decimals).\n",
      "Generating Confusion Matrix plot...\n",
      "Saved Confusion Matrix plot to: confusion_matrix_val.png\n"
     ]
    },
    {
     "data": {
      "image/png": "[encoded data removed]",
      "text/plain": [
       "<Figure size 600x500 with 1 Axes>"
      ]
     },
     "metadata": {},
     "output_type": "display_data"
    },
    {
     "name": "stdout",
     "output_type": "stream",
     "text": [
      "Displayed Confusion Matrix plot.\n",
      "Logged Confusion Matrix plot artifact.\n",
      "Logging classification report artifact...\n",
      "Logged classification report artifact: classification_report_val.json\n",
      "Logging the model...\n"
     ]
    },
    {
     "name": "stderr",
     "output_type": "stream",
     "text": [
      "2025/04/16 14:44:44 WARNING mlflow.models.model: Model logged without a signature and input example. Please set `input_example` parameter when logging the model to auto infer the model signature.\n"
     ]
    },
    {
     "name": "stdout",
     "output_type": "stream",
     "text": [
      "Logged the trained model using mlflow.sklearn.\n",
      "MLflow Run completed: 3f02946042ac4758b116f8e24ca07beb\n",
      "View the run in the MLflow UI.\n"
     ]
    }
   ],
   "source": [
    "#Random Forest\n",
    "from sklearn.ensemble import RandomForestClassifier\n",
    "model = RandomForestClassifier(random_state=0)\n",
    "log_classification_model(\n",
    "        model=model,\n",
    "        X_train=train_df.drop(columns=['customer_ID']),\n",
    "        y_train=y_train['target'].values,\n",
    "        X_val=val_df.drop(columns=['customer_ID']),\n",
    "        y_val=y_val['target'].values,\n",
    "        run_name=\"Random Forest Base Model\"\n",
    "    )"
   ]
  },
  {
   "cell_type": "code",
   "execution_count": 21,
   "id": "2aa648ea",
   "metadata": {},
   "outputs": [
    {
     "name": "stdout",
     "output_type": "stream",
     "text": [
      "Starting MLflow Run: Hist Gradient Boosting Base Model (a4aefc1af2164ba09b7ce0ad4ebbebda)\n",
      "Logged model parameters.\n",
      "Training the model...\n",
      "Model training complete.\n",
      "Evaluating the model on the validation set...\n",
      "Attempting to find custom threshold using find_threshold_binary_search for Recall[0] >= 0.9800\n",
      "Target Recall: >= 0.9800 for Class 0\n",
      "Threshold found by Binary Search: 0.7753919\n",
      "Achieved Recall at Threshold: 0.9800\n",
      "Using threshold: Custom threshold 0.7754 aiming for Recall[0] >= 0.9800 (func achieved 0.9800)\n",
      "Calculating performance metrics...\n",
      "Validation Accuracy: 0.8682\n",
      "Validation Weighted F1-Score: 0.8562\n",
      "Validation Macro F1-Score: 0.7998\n",
      "Validation Recall Class 0: 0.9800\n",
      "Validation Recall Class 1: 0.5481\n",
      "Validation Precision Class 0: 0.8612\n",
      "Validation Precision Class 1: 0.9055\n",
      "\n",
      "              precision    recall  f1-score   support\n",
      "\n",
      "           0     0.8612    0.9800    0.9168     23806\n",
      "           1     0.9055    0.5481    0.6828      8318\n",
      "\n",
      "    accuracy                         0.8682     32124\n",
      "   macro avg     0.8833    0.7640    0.7998     32124\n",
      "weighted avg     0.8727    0.8682    0.8562     32124\n",
      "\n",
      "Logged validation metrics (rounded to 4 decimals).\n",
      "Generating Confusion Matrix plot...\n",
      "Saved Confusion Matrix plot to: confusion_matrix_val.png\n"
     ]
    },
    {
     "data": {
      "image/png": "[encoded data removed]",
      "text/plain": [
       "<Figure size 600x500 with 1 Axes>"
      ]
     },
     "metadata": {},
     "output_type": "display_data"
    },
    {
     "name": "stdout",
     "output_type": "stream",
     "text": [
      "Displayed Confusion Matrix plot.\n",
      "Logged Confusion Matrix plot artifact.\n",
      "Logging classification report artifact...\n",
      "Logged classification report artifact: classification_report_val.json\n",
      "Logging the model...\n"
     ]
    },
    {
     "name": "stderr",
     "output_type": "stream",
     "text": [
      "2025/04/16 16:19:52 WARNING mlflow.models.model: Model logged without a signature and input example. Please set `input_example` parameter when logging the model to auto infer the model signature.\n"
     ]
    },
    {
     "name": "stdout",
     "output_type": "stream",
     "text": [
      "Logged the trained model using mlflow.sklearn.\n",
      "MLflow Run completed: a4aefc1af2164ba09b7ce0ad4ebbebda\n",
      "View the run in the MLflow UI.\n"
     ]
    }
   ],
   "source": [
    "#Gradient Boosting\n",
    "from sklearn.ensemble import HistGradientBoostingClassifier\n",
    "model = HistGradientBoostingClassifier(random_state=0)\n",
    "log_classification_model(\n",
    "        model=model,\n",
    "        X_train=train_df.drop(columns=['customer_ID']),\n",
    "        y_train=y_train['target'].values,\n",
    "        X_val=val_df.drop(columns=['customer_ID']),\n",
    "        y_val=y_val['target'].values,\n",
    "        run_name=\"Hist Gradient Boosting Base Model\"\n",
    "    )"
   ]
  },
  {
   "cell_type": "code",
   "execution_count": 24,
   "id": "7700bbb6",
   "metadata": {},
   "outputs": [],
   "source": [
    "from pytorch_tabnet.tab_model import TabNetClassifier\n",
    "import torch"
   ]
  },
  {
   "cell_type": "code",
   "execution_count": 25,
   "id": "1384a1e7",
   "metadata": {},
   "outputs": [
    {
     "name": "stderr",
     "output_type": "stream",
     "text": [
      "c:\\Users\\vaseekaranv\\AppData\\Local\\anaconda3\\envs\\nibm_dl\\lib\\site-packages\\pytorch_tabnet\\abstract_model.py:82: UserWarning: Device used : cuda\n",
      "  warnings.warn(f\"Device used : {self.device}\")\n"
     ]
    }
   ],
   "source": [
    "model = TabNetClassifier(\n",
    "    # n_d=8, n_a=8, # Size of decision/attention prediction layers (defaults are often fine)\n",
    "    # n_steps=3, # Number of decision steps (defaults are often fine)\n",
    "    # gamma=1.3, # Coefficient for feature reusage penalty\n",
    "    # cat_idxs=cat_idxs, # List of categorical feature indices\n",
    "    # cat_dims=cat_dims, # List of cardinalities for categorical features\n",
    "    # cat_emb_dim=cat_emb_dim, # List of embedding dimensions for categorical features\n",
    "    optimizer_fn=torch.optim.Adam, # Or AdamW, etc.\n",
    "    optimizer_params=dict(lr=2e-2),\n",
    "    scheduler_params={\"step_size\":10, \"gamma\":0.9}, # Example LR scheduler\n",
    "    scheduler_fn=torch.optim.lr_scheduler.StepLR,\n",
    "    mask_type='sparsemax', # 'sparsemax' or 'entmax'\n",
    "    verbose=10, # Print training progress every 10 epochs\n",
    "    device_name='cuda' # Use 'cuda' if GPU is available\n",
    ")"
   ]
  },
  {
   "cell_type": "code",
   "execution_count": 27,
   "id": "764725b6",
   "metadata": {},
   "outputs": [
    {
     "name": "stdout",
     "output_type": "stream",
     "text": [
      "Starting MLflow Run: TabNet Base Model (4cc1baf1c3974f47b67dfcdac19ac921)\n",
      "Logged model parameters.\n",
      "Training the model...\n"
     ]
    },
    {
     "name": "stderr",
     "output_type": "stream",
     "text": [
      "c:\\Users\\vaseekaranv\\AppData\\Local\\anaconda3\\envs\\nibm_dl\\lib\\site-packages\\pytorch_tabnet\\abstract_model.py:687: UserWarning: No early stopping will be performed, last training weights will be used.\n",
      "  warnings.warn(wrn_msg)\n"
     ]
    },
    {
     "name": "stdout",
     "output_type": "stream",
     "text": [
      "epoch 0  | loss: 0.32229 |  0:00:13s\n",
      "epoch 10 | loss: 0.24911 |  0:02:23s\n",
      "epoch 20 | loss: 0.24479 |  0:04:29s\n",
      "epoch 30 | loss: 0.23557 |  0:06:36s\n",
      "epoch 40 | loss: 0.23274 |  0:08:41s\n",
      "epoch 50 | loss: 0.2285  |  0:10:47s\n",
      "epoch 60 | loss: 0.22579 |  0:12:51s\n",
      "epoch 70 | loss: 0.22434 |  0:14:57s\n",
      "epoch 80 | loss: 0.22308 |  0:17:03s\n",
      "epoch 90 | loss: 0.22144 |  0:19:07s\n",
      "Model training complete.\n",
      "Evaluating the model on the validation set...\n",
      "Attempting to find custom threshold using find_threshold_binary_search for Recall[0] >= 0.9800\n",
      "Target Recall: >= 0.9800 for Class 0\n",
      "Threshold found by Binary Search: 0.7363391\n",
      "Achieved Recall at Threshold: 0.9800\n",
      "Using threshold: Custom threshold 0.7363 aiming for Recall[0] >= 0.9800 (func achieved 0.9800)\n",
      "Calculating performance metrics...\n",
      "Validation Accuracy: 0.8639\n",
      "Validation Weighted F1-Score: 0.8509\n",
      "Validation Macro F1-Score: 0.7918\n",
      "Validation Recall Class 0: 0.9800\n",
      "Validation Recall Class 1: 0.5316\n",
      "Validation Precision Class 0: 0.8569\n",
      "Validation Precision Class 1: 0.9028\n",
      "\n",
      "              precision    recall  f1-score   support\n",
      "\n",
      "           0     0.8569    0.9800    0.9143     23806\n",
      "           1     0.9028    0.5316    0.6692      8318\n",
      "\n",
      "    accuracy                         0.8639     32124\n",
      "   macro avg     0.8799    0.7558    0.7918     32124\n",
      "weighted avg     0.8688    0.8639    0.8509     32124\n",
      "\n",
      "Logged validation metrics (rounded to 4 decimals).\n",
      "Generating Confusion Matrix plot...\n",
      "Saved Confusion Matrix plot to: confusion_matrix_val.png\n"
     ]
    },
    {
     "data": {
      "image/png": "[encoded data removed]",
      "text/plain": [
       "<Figure size 600x500 with 1 Axes>"
      ]
     },
     "metadata": {},
     "output_type": "display_data"
    },
    {
     "name": "stdout",
     "output_type": "stream",
     "text": [
      "Displayed Confusion Matrix plot.\n",
      "Logged Confusion Matrix plot artifact.\n",
      "Logging classification report artifact...\n",
      "Logged classification report artifact: classification_report_val.json\n",
      "Logging the model...\n"
     ]
    },
    {
     "name": "stderr",
     "output_type": "stream",
     "text": [
      "2025/04/16 16:47:59 WARNING mlflow.utils.requirements_utils: Found torch version (2.4.1+cu118) contains a local version label (+cu118). MLflow logged a pip requirement for this package as 'torch==2.4.1' without the local version label to make it installable from PyPI. To specify pip requirements containing local version labels, please use `conda_env` or `pip_requirements`.\n",
      "2025/04/16 16:47:59 WARNING mlflow.models.model: Model logged without a signature and input example. Please set `input_example` parameter when logging the model to auto infer the model signature.\n"
     ]
    },
    {
     "name": "stdout",
     "output_type": "stream",
     "text": [
      "Logged the trained model using mlflow.sklearn.\n",
      "MLflow Run completed: 4cc1baf1c3974f47b67dfcdac19ac921\n",
      "View the run in the MLflow UI.\n"
     ]
    }
   ],
   "source": [
    "log_classification_model(\n",
    "        model=model,\n",
    "        X_train=train_df.drop(columns=['customer_ID']).values,\n",
    "        y_train=y_train['target'].values,\n",
    "        X_val=val_df.drop(columns=['customer_ID']).values,\n",
    "        y_val=y_val['target'].values,\n",
    "        run_name=\"TabNet Base Model\"\n",
    "    )"
   ]
  },
  {
   "cell_type": "code",
   "execution_count": 29,
   "id": "7931ed84",
   "metadata": {},
   "outputs": [
    {
     "name": "stdout",
     "output_type": "stream",
     "text": [
      "Starting MLflow Run: Balanced Random Forest Base Model (53b0fb2f9cb54c2db9170bedd766684b)\n",
      "Logged model parameters.\n",
      "Training the model...\n",
      "Model training complete.\n",
      "Evaluating the model on the validation set...\n",
      "Attempting to find custom threshold using find_threshold_binary_search for Recall[0] >= 0.9800\n",
      "Target Recall: >= 0.9800 for Class 0\n",
      "Threshold found by Binary Search: 0.8300000\n",
      "Achieved Recall at Threshold: 0.9802\n",
      "Using threshold: Custom threshold 0.8300 aiming for Recall[0] >= 0.9800 (func achieved 0.9802)\n",
      "Calculating performance metrics...\n",
      "Validation Accuracy: 0.8535\n",
      "Validation Weighted F1-Score: 0.8375\n",
      "Validation Macro F1-Score: 0.7714\n",
      "Validation Recall Class 0: 0.9802\n",
      "Validation Recall Class 1: 0.4910\n",
      "Validation Precision Class 0: 0.8464\n",
      "Validation Precision Class 1: 0.8964\n",
      "\n",
      "              precision    recall  f1-score   support\n",
      "\n",
      "           0     0.8464    0.9802    0.9084     23806\n",
      "           1     0.8964    0.4910    0.6345      8318\n",
      "\n",
      "    accuracy                         0.8535     32124\n",
      "   macro avg     0.8714    0.7356    0.7714     32124\n",
      "weighted avg     0.8594    0.8535    0.8375     32124\n",
      "\n",
      "Logged validation metrics (rounded to 4 decimals).\n",
      "Generating Confusion Matrix plot...\n",
      "Saved Confusion Matrix plot to: confusion_matrix_val.png\n"
     ]
    },
    {
     "data": {
      "image/png": "[encoded data removed]",
      "text/plain": [
       "<Figure size 600x500 with 1 Axes>"
      ]
     },
     "metadata": {},
     "output_type": "display_data"
    },
    {
     "name": "stdout",
     "output_type": "stream",
     "text": [
      "Displayed Confusion Matrix plot.\n",
      "Logged Confusion Matrix plot artifact.\n",
      "Logging classification report artifact...\n",
      "Logged classification report artifact: classification_report_val.json\n",
      "Logging the model...\n"
     ]
    },
    {
     "name": "stderr",
     "output_type": "stream",
     "text": [
      "2025/04/16 16:55:03 WARNING mlflow.models.model: Model logged without a signature and input example. Please set `input_example` parameter when logging the model to auto infer the model signature.\n"
     ]
    },
    {
     "name": "stdout",
     "output_type": "stream",
     "text": [
      "Logged the trained model using mlflow.sklearn.\n",
      "MLflow Run completed: 53b0fb2f9cb54c2db9170bedd766684b\n",
      "View the run in the MLflow UI.\n"
     ]
    }
   ],
   "source": [
    "#Balanced Random Forest Model\n",
    "from imblearn.ensemble import BalancedRandomForestClassifier\n",
    "model = BalancedRandomForestClassifier(random_state=0, n_jobs=-1)\n",
    "log_classification_model(\n",
    "        model=model,\n",
    "        X_train=train_df.drop(columns=['customer_ID']),\n",
    "        y_train=y_train['target'].values,\n",
    "        X_val=val_df.drop(columns=['customer_ID']),\n",
    "        y_val=y_val['target'].values,\n",
    "        run_name=\"Balanced Random Forest Base Model\"\n",
    "    )"
   ]
  },
  {
   "cell_type": "code",
   "execution_count": 31,
   "id": "d7691a16",
   "metadata": {},
   "outputs": [
    {
     "name": "stdout",
     "output_type": "stream",
     "text": [
      "Starting MLflow Run: Easy Ensemble + XGBoost Base Model (73fd7f6624424e5f8580a658372c2b93)\n",
      "Logged model parameters.\n",
      "Training the model...\n",
      "Model training complete.\n",
      "Evaluating the model on the validation set...\n",
      "Attempting to find custom threshold using find_threshold_binary_search for Recall[0] >= 0.9800\n",
      "Target Recall: >= 0.9800 for Class 0\n",
      "Threshold found by Binary Search: 0.9072713\n",
      "Achieved Recall at Threshold: 0.9800\n",
      "Using threshold: Custom threshold 0.9073 aiming for Recall[0] >= 0.9800 (func achieved 0.9800)\n",
      "Calculating performance metrics...\n",
      "Validation Accuracy: 0.8704\n",
      "Validation Weighted F1-Score: 0.8590\n",
      "Validation Macro F1-Score: 0.8040\n",
      "Validation Recall Class 0: 0.9800\n",
      "Validation Recall Class 1: 0.5567\n",
      "Validation Precision Class 0: 0.8635\n",
      "Validation Precision Class 1: 0.9068\n",
      "\n",
      "              precision    recall  f1-score   support\n",
      "\n",
      "           0     0.8635    0.9800    0.9181     23806\n",
      "           1     0.9068    0.5567    0.6899      8318\n",
      "\n",
      "    accuracy                         0.8704     32124\n",
      "   macro avg     0.8852    0.7684    0.8040     32124\n",
      "weighted avg     0.8747    0.8704    0.8590     32124\n",
      "\n",
      "Logged validation metrics (rounded to 4 decimals).\n",
      "Generating Confusion Matrix plot...\n",
      "Saved Confusion Matrix plot to: confusion_matrix_val.png\n"
     ]
    },
    {
     "data": {
      "image/png": "[encoded data removed]",
      "text/plain": [
       "<Figure size 600x500 with 1 Axes>"
      ]
     },
     "metadata": {},
     "output_type": "display_data"
    },
    {
     "name": "stdout",
     "output_type": "stream",
     "text": [
      "Displayed Confusion Matrix plot.\n",
      "Logged Confusion Matrix plot artifact.\n",
      "Logging classification report artifact...\n",
      "Logged classification report artifact: classification_report_val.json\n",
      "Logging the model...\n"
     ]
    },
    {
     "name": "stderr",
     "output_type": "stream",
     "text": [
      "2025/04/16 17:06:57 WARNING mlflow.models.model: Model logged without a signature and input example. Please set `input_example` parameter when logging the model to auto infer the model signature.\n"
     ]
    },
    {
     "name": "stdout",
     "output_type": "stream",
     "text": [
      "Logged the trained model using mlflow.sklearn.\n",
      "MLflow Run completed: 73fd7f6624424e5f8580a658372c2b93\n",
      "View the run in the MLflow UI.\n"
     ]
    }
   ],
   "source": [
    "#Easy Ensemble + XGBoost\n",
    "from imblearn.ensemble import EasyEnsembleClassifier\n",
    "model = EasyEnsembleClassifier(random_state=0, n_jobs=-1, estimator=XGBClassifier(random_state = 0, tree_method = 'hist', device = 'cuda'))\n",
    "log_classification_model(\n",
    "        model=model,\n",
    "        X_train=train_df.drop(columns=['customer_ID']),\n",
    "        y_train=y_train['target'].values,\n",
    "        X_val=val_df.drop(columns=['customer_ID']),\n",
    "        y_val=y_val['target'].values,\n",
    "        run_name=\"Easy Ensemble + XGBoost Base Model\"\n",
    "    )"
   ]
  },
  {
   "cell_type": "code",
   "execution_count": 32,
   "id": "4f878318",
   "metadata": {},
   "outputs": [
    {
     "name": "stdout",
     "output_type": "stream",
     "text": [
      "Starting MLflow Run: Easy Ensemble + LightGBM Base Model (2aa99d1219064f4b87aa8e0884200ee1)\n",
      "Logged model parameters.\n",
      "Training the model...\n",
      "Model training complete.\n",
      "Evaluating the model on the validation set...\n",
      "Attempting to find custom threshold using find_threshold_binary_search for Recall[0] >= 0.9800\n",
      "Target Recall: >= 0.9800 for Class 0\n",
      "Threshold found by Binary Search: 0.9040891\n",
      "Achieved Recall at Threshold: 0.9800\n",
      "Using threshold: Custom threshold 0.9041 aiming for Recall[0] >= 0.9800 (func achieved 0.9800)\n",
      "Calculating performance metrics...\n",
      "Validation Accuracy: 0.8679\n",
      "Validation Weighted F1-Score: 0.8559\n",
      "Validation Macro F1-Score: 0.7993\n",
      "Validation Recall Class 0: 0.9800\n",
      "Validation Recall Class 1: 0.5470\n",
      "Validation Precision Class 0: 0.8609\n",
      "Validation Precision Class 1: 0.9053\n",
      "\n",
      "              precision    recall  f1-score   support\n",
      "\n",
      "           0     0.8609    0.9800    0.9166     23806\n",
      "           1     0.9053    0.5470    0.6820      8318\n",
      "\n",
      "    accuracy                         0.8679     32124\n",
      "   macro avg     0.8831    0.7635    0.7993     32124\n",
      "weighted avg     0.8724    0.8679    0.8559     32124\n",
      "\n",
      "Logged validation metrics (rounded to 4 decimals).\n",
      "Generating Confusion Matrix plot...\n",
      "Saved Confusion Matrix plot to: confusion_matrix_val.png\n"
     ]
    },
    {
     "data": {
      "image/png": "[encoded data removed]",
      "text/plain": [
       "<Figure size 600x500 with 1 Axes>"
      ]
     },
     "metadata": {},
     "output_type": "display_data"
    },
    {
     "name": "stdout",
     "output_type": "stream",
     "text": [
      "Displayed Confusion Matrix plot.\n",
      "Logged Confusion Matrix plot artifact.\n",
      "Logging classification report artifact...\n",
      "Logged classification report artifact: classification_report_val.json\n",
      "Logging the model...\n"
     ]
    },
    {
     "name": "stderr",
     "output_type": "stream",
     "text": [
      "2025/04/16 17:08:49 WARNING mlflow.models.model: Model logged without a signature and input example. Please set `input_example` parameter when logging the model to auto infer the model signature.\n"
     ]
    },
    {
     "name": "stdout",
     "output_type": "stream",
     "text": [
      "Logged the trained model using mlflow.sklearn.\n",
      "MLflow Run completed: 2aa99d1219064f4b87aa8e0884200ee1\n",
      "View the run in the MLflow UI.\n"
     ]
    }
   ],
   "source": [
    "# Easy Ensemble + LightGBM\n",
    "from imblearn.ensemble import EasyEnsembleClassifier\n",
    "model = EasyEnsembleClassifier(random_state=0, n_jobs=-1, estimator=LGBMClassifier(random_state = 0))\n",
    "log_classification_model(\n",
    "        model=model,\n",
    "        X_train=train_df.drop(columns=['customer_ID']),\n",
    "        y_train=y_train['target'].values,\n",
    "        X_val=val_df.drop(columns=['customer_ID']),\n",
    "        y_val=y_val['target'].values,\n",
    "        run_name=\"Easy Ensemble + LightGBM Base Model\"\n",
    "    )"
   ]
  },
  {
   "cell_type": "code",
   "execution_count": 12,
   "id": "fb72e8b5",
   "metadata": {},
   "outputs": [
    {
     "name": "stdout",
     "output_type": "stream",
     "text": [
      "Starting MLflow Run: Easy Ensemble + CatBoost Base Model (5fff4492392e4a5c80015b23cd00a3c9)\n",
      "Logged model parameters.\n",
      "Training the model...\n",
      "Model training complete.\n",
      "Evaluating the model on the validation set...\n",
      "Attempting to find custom threshold using find_threshold_binary_search for Recall[0] >= 0.9800\n",
      "Target Recall: >= 0.9800 for Class 0\n",
      "Threshold found by Binary Search: 0.8991960\n",
      "Achieved Recall at Threshold: 0.9800\n",
      "Using threshold: Custom threshold 0.8992 aiming for Recall[0] >= 0.9800 (func achieved 0.9800)\n",
      "Calculating performance metrics...\n",
      "Validation Accuracy: 0.8709\n",
      "Validation Weighted F1-Score: 0.8596\n",
      "Validation Macro F1-Score: 0.8049\n",
      "Validation Recall Class 0: 0.9800\n",
      "Validation Recall Class 1: 0.5587\n",
      "Validation Precision Class 0: 0.8640\n",
      "Validation Precision Class 1: 0.9071\n",
      "\n",
      "              precision    recall  f1-score   support\n",
      "\n",
      "           0     0.8640    0.9800    0.9184     23806\n",
      "           1     0.9071    0.5587    0.6915      8318\n",
      "\n",
      "    accuracy                         0.8709     32124\n",
      "   macro avg     0.8856    0.7693    0.8049     32124\n",
      "weighted avg     0.8752    0.8709    0.8596     32124\n",
      "\n",
      "Logged validation metrics (rounded to 4 decimals).\n",
      "Generating Confusion Matrix plot...\n",
      "Saved Confusion Matrix plot to: confusion_matrix_val.png\n"
     ]
    },
    {
     "data": {
      "image/png": "[encoded data removed]",
      "text/plain": [
       "<Figure size 600x500 with 1 Axes>"
      ]
     },
     "metadata": {},
     "output_type": "display_data"
    },
    {
     "name": "stdout",
     "output_type": "stream",
     "text": [
      "Displayed Confusion Matrix plot.\n",
      "Logged Confusion Matrix plot artifact.\n",
      "Logging classification report artifact...\n",
      "Logged classification report artifact: classification_report_val.json\n",
      "Logging the model...\n"
     ]
    },
    {
     "name": "stderr",
     "output_type": "stream",
     "text": [
      "2025/04/16 17:37:35 WARNING mlflow.models.model: Model logged without a signature and input example. Please set `input_example` parameter when logging the model to auto infer the model signature.\n"
     ]
    },
    {
     "name": "stdout",
     "output_type": "stream",
     "text": [
      "Logged the trained model using mlflow.sklearn.\n",
      "MLflow Run completed: 5fff4492392e4a5c80015b23cd00a3c9\n",
      "View the run in the MLflow UI.\n"
     ]
    }
   ],
   "source": [
    "# Easy Ensemble + CatBoost\n",
    "from imblearn.ensemble import EasyEnsembleClassifier\n",
    "from catboost import CatBoostClassifier\n",
    "model = EasyEnsembleClassifier(random_state=0, estimator=CatBoostClassifier(random_state=0, task_type='GPU', devices='0:1', verbose = 0))\n",
    "log_classification_model(\n",
    "        model=model,\n",
    "        X_train=train_df.drop(columns=['customer_ID']),\n",
    "        y_train=y_train['target'].values,\n",
    "        X_val=val_df.drop(columns=['customer_ID']),\n",
    "        y_val=y_val['target'].values,\n",
    "        run_name=\"Easy Ensemble + CatBoost Base Model\"\n",
    "    )"
   ]
  },
  {
   "cell_type": "code",
   "execution_count": 14,
   "id": "9c7ae0ad",
   "metadata": {},
   "outputs": [
    {
     "name": "stdout",
     "output_type": "stream",
     "text": [
      "Starting MLflow Run: Balanced Bagging + XGBoost Base Model (82fcd98b90944d709b0e5b5cfaf9da46)\n",
      "Logged model parameters.\n",
      "Training the model...\n",
      "Model training complete.\n",
      "Evaluating the model on the validation set...\n"
     ]
    },
    {
     "name": "stderr",
     "output_type": "stream",
     "text": [
      "c:\\Users\\vaseekaranv\\AppData\\Local\\anaconda3\\envs\\nibm_dl\\lib\\site-packages\\xgboost\\core.py:158: UserWarning: [17:39:09] WARNING: C:\\buildkite-agent\\builds\\buildkite-windows-cpu-autoscaling-group-i-0c55ff5f71b100e98-1\\xgboost\\xgboost-ci-windows\\src\\common\\error_msg.cc:58: Falling back to prediction using DMatrix due to mismatched devices. This might lead to higher memory usage and slower performance. XGBoost is running on: cuda:0, while the input data is on: cpu.\n",
      "Potential solutions:\n",
      "- Use a data structure that matches the device ordinal in the booster.\n",
      "- Set the device for booster before call to inplace_predict.\n",
      "\n",
      "This warning will only be shown once.\n",
      "\n",
      "  warnings.warn(smsg, UserWarning)\n"
     ]
    },
    {
     "name": "stdout",
     "output_type": "stream",
     "text": [
      "Attempting to find custom threshold using find_threshold_binary_search for Recall[0] >= 0.9800\n",
      "Target Recall: >= 0.9800 for Class 0\n",
      "Threshold found by Binary Search: 0.9038606\n",
      "Achieved Recall at Threshold: 0.9800\n",
      "Using threshold: Custom threshold 0.9039 aiming for Recall[0] >= 0.9800 (func achieved 0.9800)\n",
      "Calculating performance metrics...\n",
      "Validation Accuracy: 0.8689\n",
      "Validation Weighted F1-Score: 0.8571\n",
      "Validation Macro F1-Score: 0.8012\n",
      "Validation Recall Class 0: 0.9800\n",
      "Validation Recall Class 1: 0.5509\n",
      "Validation Precision Class 0: 0.8620\n",
      "Validation Precision Class 1: 0.9059\n",
      "\n",
      "              precision    recall  f1-score   support\n",
      "\n",
      "           0     0.8620    0.9800    0.9172     23806\n",
      "           1     0.9059    0.5509    0.6851      8318\n",
      "\n",
      "    accuracy                         0.8689     32124\n",
      "   macro avg     0.8839    0.7654    0.8012     32124\n",
      "weighted avg     0.8733    0.8689    0.8571     32124\n",
      "\n",
      "Logged validation metrics (rounded to 4 decimals).\n",
      "Generating Confusion Matrix plot...\n",
      "Saved Confusion Matrix plot to: confusion_matrix_val.png\n"
     ]
    },
    {
     "data": {
      "image/png": "[encoded data removed]",
      "text/plain": [
       "<Figure size 600x500 with 1 Axes>"
      ]
     },
     "metadata": {},
     "output_type": "display_data"
    },
    {
     "name": "stdout",
     "output_type": "stream",
     "text": [
      "Displayed Confusion Matrix plot.\n",
      "Logged Confusion Matrix plot artifact.\n",
      "Logging classification report artifact...\n",
      "Logged classification report artifact: classification_report_val.json\n",
      "Logging the model...\n"
     ]
    },
    {
     "name": "stderr",
     "output_type": "stream",
     "text": [
      "2025/04/16 17:39:17 WARNING mlflow.models.model: Model logged without a signature and input example. Please set `input_example` parameter when logging the model to auto infer the model signature.\n"
     ]
    },
    {
     "name": "stdout",
     "output_type": "stream",
     "text": [
      "Logged the trained model using mlflow.sklearn.\n",
      "MLflow Run completed: 82fcd98b90944d709b0e5b5cfaf9da46\n",
      "View the run in the MLflow UI.\n"
     ]
    }
   ],
   "source": [
    "# Balanced Baagging + XGBoost Classifier\n",
    "from imblearn.ensemble import BalancedBaggingClassifier\n",
    "from xgboost import XGBClassifier\n",
    "model = BalancedBaggingClassifier(random_state=0, estimator=XGBClassifier(random_state = 0, tree_method = 'hist', device = 'cuda'))\n",
    "log_classification_model(\n",
    "        model=model,\n",
    "        X_train=train_df.drop(columns=['customer_ID']),\n",
    "        y_train=y_train['target'].values,\n",
    "        X_val=val_df.drop(columns=['customer_ID']),\n",
    "        y_val=y_val['target'].values,\n",
    "        run_name=\"Balanced Bagging + XGBoost Base Model\"\n",
    "    )"
   ]
  },
  {
   "cell_type": "code",
   "execution_count": 16,
   "id": "4ac6bf70",
   "metadata": {},
   "outputs": [
    {
     "name": "stdout",
     "output_type": "stream",
     "text": [
      "Starting MLflow Run: Balanced Bagging + LightGBM Base Model (3ea528bffa5a4ca980620e5708188963)\n",
      "Logged model parameters.\n",
      "Training the model...\n",
      "Model training complete.\n",
      "Evaluating the model on the validation set...\n",
      "Attempting to find custom threshold using find_threshold_binary_search for Recall[0] >= 0.9800\n",
      "Target Recall: >= 0.9800 for Class 0\n",
      "Threshold found by Binary Search: 0.9018360\n",
      "Achieved Recall at Threshold: 0.9800\n",
      "Using threshold: Custom threshold 0.9018 aiming for Recall[0] >= 0.9800 (func achieved 0.9800)\n",
      "Calculating performance metrics...\n",
      "Validation Accuracy: 0.8680\n",
      "Validation Weighted F1-Score: 0.8561\n",
      "Validation Macro F1-Score: 0.7996\n",
      "Validation Recall Class 0: 0.9800\n",
      "Validation Recall Class 1: 0.5476\n",
      "Validation Precision Class 0: 0.8611\n",
      "Validation Precision Class 1: 0.9054\n",
      "\n",
      "              precision    recall  f1-score   support\n",
      "\n",
      "           0     0.8611    0.9800    0.9167     23806\n",
      "           1     0.9054    0.5476    0.6824      8318\n",
      "\n",
      "    accuracy                         0.8680     32124\n",
      "   macro avg     0.8832    0.7638    0.7996     32124\n",
      "weighted avg     0.8726    0.8680    0.8561     32124\n",
      "\n",
      "Logged validation metrics (rounded to 4 decimals).\n",
      "Generating Confusion Matrix plot...\n",
      "Saved Confusion Matrix plot to: confusion_matrix_val.png\n"
     ]
    },
    {
     "data": {
      "image/png": "[encoded data removed]",
      "text/plain": [
       "<Figure size 600x500 with 1 Axes>"
      ]
     },
     "metadata": {},
     "output_type": "display_data"
    },
    {
     "name": "stdout",
     "output_type": "stream",
     "text": [
      "Displayed Confusion Matrix plot.\n",
      "Logged Confusion Matrix plot artifact.\n",
      "Logging classification report artifact...\n",
      "Logged classification report artifact: classification_report_val.json\n",
      "Logging the model...\n"
     ]
    },
    {
     "name": "stderr",
     "output_type": "stream",
     "text": [
      "2025/04/16 17:42:48 WARNING mlflow.models.model: Model logged without a signature and input example. Please set `input_example` parameter when logging the model to auto infer the model signature.\n"
     ]
    },
    {
     "name": "stdout",
     "output_type": "stream",
     "text": [
      "Logged the trained model using mlflow.sklearn.\n",
      "MLflow Run completed: 3ea528bffa5a4ca980620e5708188963\n",
      "View the run in the MLflow UI.\n"
     ]
    }
   ],
   "source": [
    "# Balanced Baagging + LightGBM Classifier\n",
    "from lightgbm import LGBMClassifier\n",
    "model = BalancedBaggingClassifier(random_state=0, estimator=LGBMClassifier(random_state = 0, verbose = 0))\n",
    "log_classification_model(\n",
    "        model=model,\n",
    "        X_train=train_df.drop(columns=['customer_ID']),\n",
    "        y_train=y_train['target'].values,\n",
    "        X_val=val_df.drop(columns=['customer_ID']),\n",
    "        y_val=y_val['target'].values,\n",
    "        run_name=\"Balanced Bagging + LightGBM Base Model\"\n",
    "    )"
   ]
  },
  {
   "cell_type": "code",
   "execution_count": 17,
   "id": "f473e40f",
   "metadata": {},
   "outputs": [
    {
     "name": "stdout",
     "output_type": "stream",
     "text": [
      "Starting MLflow Run: Balanced Bagging + CatBoost Base Model (b427ac7e0511472b983c86fef750c695)\n",
      "Logged model parameters.\n",
      "Training the model...\n",
      "Model training complete.\n",
      "Evaluating the model on the validation set...\n",
      "Attempting to find custom threshold using find_threshold_binary_search for Recall[0] >= 0.9800\n",
      "Target Recall: >= 0.9800 for Class 0\n",
      "Threshold found by Binary Search: 0.8981816\n",
      "Achieved Recall at Threshold: 0.9800\n",
      "Using threshold: Custom threshold 0.8982 aiming for Recall[0] >= 0.9800 (func achieved 0.9800)\n",
      "Calculating performance metrics...\n",
      "Validation Accuracy: 0.8703\n",
      "Validation Weighted F1-Score: 0.8588\n",
      "Validation Macro F1-Score: 0.8037\n",
      "Validation Recall Class 0: 0.9800\n",
      "Validation Recall Class 1: 0.5561\n",
      "Validation Precision Class 0: 0.8634\n",
      "Validation Precision Class 1: 0.9067\n",
      "\n",
      "              precision    recall  f1-score   support\n",
      "\n",
      "           0     0.8634    0.9800    0.9180     23806\n",
      "           1     0.9067    0.5561    0.6894      8318\n",
      "\n",
      "    accuracy                         0.8703     32124\n",
      "   macro avg     0.8850    0.7681    0.8037     32124\n",
      "weighted avg     0.8746    0.8703    0.8588     32124\n",
      "\n",
      "Logged validation metrics (rounded to 4 decimals).\n",
      "Generating Confusion Matrix plot...\n",
      "Saved Confusion Matrix plot to: confusion_matrix_val.png\n"
     ]
    },
    {
     "data": {
      "image/png": "[encoded data removed]",
      "text/plain": [
       "<Figure size 600x500 with 1 Axes>"
      ]
     },
     "metadata": {},
     "output_type": "display_data"
    },
    {
     "name": "stdout",
     "output_type": "stream",
     "text": [
      "Displayed Confusion Matrix plot.\n",
      "Logged Confusion Matrix plot artifact.\n",
      "Logging classification report artifact...\n",
      "Logged classification report artifact: classification_report_val.json\n",
      "Logging the model...\n"
     ]
    },
    {
     "name": "stderr",
     "output_type": "stream",
     "text": [
      "2025/04/16 17:50:05 WARNING mlflow.models.model: Model logged without a signature and input example. Please set `input_example` parameter when logging the model to auto infer the model signature.\n"
     ]
    },
    {
     "name": "stdout",
     "output_type": "stream",
     "text": [
      "Logged the trained model using mlflow.sklearn.\n",
      "MLflow Run completed: b427ac7e0511472b983c86fef750c695\n",
      "View the run in the MLflow UI.\n"
     ]
    }
   ],
   "source": [
    "# Balanced Baagging + CatBoost Classifier\n",
    "model = BalancedBaggingClassifier(random_state=0, estimator=CatBoostClassifier(random_state=0, task_type='GPU', devices='0:1', verbose = 0))\n",
    "log_classification_model(\n",
    "        model=model,\n",
    "        X_train=train_df.drop(columns=['customer_ID']),\n",
    "        y_train=y_train['target'].values,\n",
    "        X_val=val_df.drop(columns=['customer_ID']),\n",
    "        y_val=y_val['target'].values,\n",
    "        run_name=\"Balanced Bagging + CatBoost Base Model\"\n",
    "    )"
   ]
  },
  {
   "cell_type": "code",
   "execution_count": 12,
   "id": "2112b510",
   "metadata": {},
   "outputs": [
    {
     "name": "stdout",
     "output_type": "stream",
     "text": [
      "Starting MLflow Run: RUSBoosting + XGBoost Base Model (1dfc8174be8646978cad5e227f1c8a31)\n",
      "Logged model parameters.\n",
      "Training the model...\n"
     ]
    },
    {
     "name": "stderr",
     "output_type": "stream",
     "text": [
      "c:\\Users\\vaseekaranv\\AppData\\Local\\anaconda3\\envs\\nibm_dl\\lib\\site-packages\\xgboost\\core.py:158: UserWarning: [18:14:44] WARNING: C:\\buildkite-agent\\builds\\buildkite-windows-cpu-autoscaling-group-i-0c55ff5f71b100e98-1\\xgboost\\xgboost-ci-windows\\src\\common\\error_msg.cc:58: Falling back to prediction using DMatrix due to mismatched devices. This might lead to higher memory usage and slower performance. XGBoost is running on: cuda:0, while the input data is on: cpu.\n",
      "Potential solutions:\n",
      "- Use a data structure that matches the device ordinal in the booster.\n",
      "- Set the device for booster before call to inplace_predict.\n",
      "\n",
      "This warning will only be shown once.\n",
      "\n",
      "  warnings.warn(smsg, UserWarning)\n"
     ]
    },
    {
     "name": "stdout",
     "output_type": "stream",
     "text": [
      "Model training complete.\n",
      "Evaluating the model on the validation set...\n",
      "Attempting to find custom threshold using find_threshold_binary_search for Recall[0] >= 0.9800\n",
      "Target Recall: >= 0.9800 for Class 0\n",
      "Threshold found by Binary Search: 0.1192030\n",
      "Achieved Recall at Threshold: 1.0000\n",
      "Using threshold: Custom threshold 0.1192 aiming for Recall[0] >= 0.9800 (func achieved 1.0000)\n",
      "Calculating performance metrics...\n",
      "Validation Accuracy: 0.7411\n",
      "Validation Weighted F1-Score: 0.6309\n",
      "Validation Macro F1-Score: 0.4256\n",
      "Validation Recall Class 0: 1.0000\n",
      "Validation Recall Class 1: 0.0000\n",
      "Validation Precision Class 0: 0.7411\n",
      "Validation Precision Class 1: 0.0000\n",
      "\n",
      "              precision    recall  f1-score   support\n",
      "\n",
      "           0     0.7411    1.0000    0.8513     23806\n",
      "           1     0.0000    0.0000    0.0000      8318\n",
      "\n",
      "    accuracy                         0.7411     32124\n",
      "   macro avg     0.3705    0.5000    0.4256     32124\n",
      "weighted avg     0.5492    0.7411    0.6309     32124\n",
      "\n",
      "Logged validation metrics (rounded to 4 decimals).\n",
      "Generating Confusion Matrix plot...\n",
      "Saved Confusion Matrix plot to: confusion_matrix_val.png\n"
     ]
    },
    {
     "data": {
      "image/png": "[encoded data removed]",
      "text/plain": [
       "<Figure size 600x500 with 1 Axes>"
      ]
     },
     "metadata": {},
     "output_type": "display_data"
    },
    {
     "name": "stdout",
     "output_type": "stream",
     "text": [
      "Displayed Confusion Matrix plot.\n",
      "Logged Confusion Matrix plot artifact.\n",
      "Logging classification report artifact...\n",
      "Logged classification report artifact: classification_report_val.json\n",
      "Logging the model...\n"
     ]
    },
    {
     "name": "stderr",
     "output_type": "stream",
     "text": [
      "2025/04/16 18:14:58 WARNING mlflow.models.model: Model logged without a signature and input example. Please set `input_example` parameter when logging the model to auto infer the model signature.\n"
     ]
    },
    {
     "name": "stdout",
     "output_type": "stream",
     "text": [
      "Logged the trained model using mlflow.sklearn.\n",
      "MLflow Run completed: 1dfc8174be8646978cad5e227f1c8a31\n",
      "View the run in the MLflow UI.\n"
     ]
    }
   ],
   "source": [
    "# RUSBoosting + XGBoost Classifier\n",
    "from imblearn.ensemble import RUSBoostClassifier\n",
    "from xgboost import XGBClassifier\n",
    "model = RUSBoostClassifier(random_state=0, estimator=XGBClassifier(random_state = 0, tree_method = 'hist', device = 'cuda'), n_estimators=10)\n",
    "log_classification_model(\n",
    "        model=model,\n",
    "        X_train=train_df.drop(columns=['customer_ID']),\n",
    "        y_train=y_train['target'].values,\n",
    "        X_val=val_df.drop(columns=['customer_ID']),\n",
    "        y_val=y_val['target'].values,\n",
    "        run_name=\"RUSBoosting + XGBoost Base Model\"\n",
    "    )"
   ]
  },
  {
   "cell_type": "code",
   "execution_count": 19,
   "id": "095dce74",
   "metadata": {},
   "outputs": [
    {
     "name": "stdout",
     "output_type": "stream",
     "text": [
      "Starting MLflow Run: RUSBoosting + LightGBM Base Model (0f2bd1d41eb64e95b4e1f1e51fa3325d)\n",
      "Logged model parameters.\n",
      "Training the model...\n",
      "[LightGBM] [Warning] No further splits with positive gain, best gain: -inf\n",
      "[LightGBM] [Warning] No further splits with positive gain, best gain: -inf\n",
      "Model training complete.\n",
      "Evaluating the model on the validation set...\n",
      "Attempting to find custom threshold using find_threshold_binary_search for Recall[0] >= 0.9800\n",
      "Target Recall: >= 0.9800 for Class 0\n",
      "Threshold found by Binary Search: 0.6071149\n",
      "Achieved Recall at Threshold: 0.9800\n",
      "Using threshold: Custom threshold 0.6071 aiming for Recall[0] >= 0.9800 (func achieved 0.9800)\n",
      "Calculating performance metrics...\n",
      "Validation Accuracy: 0.8402\n",
      "Validation Weighted F1-Score: 0.8199\n",
      "Validation Macro F1-Score: 0.7445\n",
      "Validation Recall Class 0: 0.9800\n",
      "Validation Recall Class 1: 0.4403\n",
      "Validation Precision Class 0: 0.8336\n",
      "Validation Precision Class 1: 0.8850\n",
      "\n",
      "              precision    recall  f1-score   support\n",
      "\n",
      "           0     0.8336    0.9800    0.9009     23806\n",
      "           1     0.8850    0.4403    0.5880      8318\n",
      "\n",
      "    accuracy                         0.8402     32124\n",
      "   macro avg     0.8593    0.7101    0.7445     32124\n",
      "weighted avg     0.8469    0.8402    0.8199     32124\n",
      "\n",
      "Logged validation metrics (rounded to 4 decimals).\n",
      "Generating Confusion Matrix plot...\n",
      "Saved Confusion Matrix plot to: confusion_matrix_val.png\n"
     ]
    },
    {
     "data": {
      "image/png": "[encoded data removed]",
      "text/plain": [
       "<Figure size 600x500 with 1 Axes>"
      ]
     },
     "metadata": {},
     "output_type": "display_data"
    },
    {
     "name": "stdout",
     "output_type": "stream",
     "text": [
      "Displayed Confusion Matrix plot.\n",
      "Logged Confusion Matrix plot artifact.\n",
      "Logging classification report artifact...\n",
      "Logged classification report artifact: classification_report_val.json\n",
      "Logging the model...\n"
     ]
    },
    {
     "name": "stderr",
     "output_type": "stream",
     "text": [
      "2025/04/16 18:00:10 WARNING mlflow.models.model: Model logged without a signature and input example. Please set `input_example` parameter when logging the model to auto infer the model signature.\n"
     ]
    },
    {
     "name": "stdout",
     "output_type": "stream",
     "text": [
      "Logged the trained model using mlflow.sklearn.\n",
      "MLflow Run completed: 0f2bd1d41eb64e95b4e1f1e51fa3325d\n",
      "View the run in the MLflow UI.\n"
     ]
    }
   ],
   "source": [
    "#RUSBoost + LightGBM Classifier\n",
    "model = RUSBoostClassifier(random_state=0, estimator=LGBMClassifier(random_state = 0, verbose = 0))\n",
    "log_classification_model(\n",
    "        model=model,\n",
    "        X_train=train_df.drop(columns=['customer_ID']),\n",
    "        y_train=y_train['target'].values,\n",
    "        X_val=val_df.drop(columns=['customer_ID']),\n",
    "        y_val=y_val['target'].values,\n",
    "        run_name=\"RUSBoosting + LightGBM Base Model\"\n",
    "    )"
   ]
  },
  {
   "cell_type": "code",
   "execution_count": 14,
   "id": "63e7eaff",
   "metadata": {},
   "outputs": [
    {
     "name": "stdout",
     "output_type": "stream",
     "text": [
      "Starting MLflow Run: RUSBoosting + CatBoost Base Model (46570c99eeb0493f9597e06a4c253fca)\n",
      "Logged model parameters.\n",
      "Training the model...\n",
      "Model training complete.\n",
      "Evaluating the model on the validation set...\n",
      "Attempting to find custom threshold using find_threshold_binary_search for Recall[0] >= 0.9800\n",
      "Target Recall: >= 0.9800 for Class 0\n",
      "Threshold found by Binary Search: 0.7692707\n",
      "Achieved Recall at Threshold: 0.9860\n",
      "Using threshold: Custom threshold 0.7693 aiming for Recall[0] >= 0.9800 (func achieved 0.9860)\n",
      "Calculating performance metrics...\n",
      "Validation Accuracy: 0.8270\n",
      "Validation Weighted F1-Score: 0.7990\n",
      "Validation Macro F1-Score: 0.7104\n",
      "Validation Recall Class 0: 0.9860\n",
      "Validation Recall Class 1: 0.3717\n",
      "Validation Precision Class 0: 0.8179\n",
      "Validation Precision Class 1: 0.9028\n",
      "\n",
      "              precision    recall  f1-score   support\n",
      "\n",
      "           0     0.8179    0.9860    0.8941     23806\n",
      "           1     0.9028    0.3717    0.5266      8318\n",
      "\n",
      "    accuracy                         0.8270     32124\n",
      "   macro avg     0.8603    0.6789    0.7104     32124\n",
      "weighted avg     0.8399    0.8270    0.7990     32124\n",
      "\n",
      "Logged validation metrics (rounded to 4 decimals).\n",
      "Generating Confusion Matrix plot...\n",
      "Saved Confusion Matrix plot to: confusion_matrix_val.png\n"
     ]
    },
    {
     "data": {
      "image/png": "[encoded data removed]",
      "text/plain": [
       "<Figure size 600x500 with 1 Axes>"
      ]
     },
     "metadata": {},
     "output_type": "display_data"
    },
    {
     "name": "stdout",
     "output_type": "stream",
     "text": [
      "Displayed Confusion Matrix plot.\n",
      "Logged Confusion Matrix plot artifact.\n",
      "Logging classification report artifact...\n",
      "Logged classification report artifact: classification_report_val.json\n",
      "Logging the model...\n"
     ]
    },
    {
     "name": "stderr",
     "output_type": "stream",
     "text": [
      "2025/04/16 18:17:30 WARNING mlflow.models.model: Model logged without a signature and input example. Please set `input_example` parameter when logging the model to auto infer the model signature.\n"
     ]
    },
    {
     "name": "stdout",
     "output_type": "stream",
     "text": [
      "Logged the trained model using mlflow.sklearn.\n",
      "MLflow Run completed: 46570c99eeb0493f9597e06a4c253fca\n",
      "View the run in the MLflow UI.\n"
     ]
    }
   ],
   "source": [
    "#RUSBoost + CatBoost Classifier\n",
    "from catboost import CatBoostClassifier\n",
    "model = RUSBoostClassifier(random_state=0, estimator=CatBoostClassifier(random_state=0, task_type='GPU', devices='0:1', verbose = 0))\n",
    "log_classification_model(\n",
    "        model=model,\n",
    "        X_train=train_df.drop(columns=['customer_ID']),\n",
    "        y_train=y_train['target'].values,\n",
    "        X_val=val_df.drop(columns=['customer_ID']),\n",
    "        y_val=y_val['target'].values,\n",
    "        run_name=\"RUSBoosting + CatBoost Base Model\",\n",
    "        \n",
    "    )"
   ]
  },
  {
   "cell_type": "code",
   "execution_count": 15,
   "id": "70b5f7e7",
   "metadata": {},
   "outputs": [
    {
     "name": "stdout",
     "output_type": "stream",
     "text": [
      "Starting MLflow Run: AdaBoost + XGBoost Base Model (e4c9fbada5da4d528fd61d0587562e72)\n",
      "Logged model parameters.\n",
      "Training the model...\n"
     ]
    },
    {
     "name": "stderr",
     "output_type": "stream",
     "text": [
      "c:\\Users\\vaseekaranv\\AppData\\Local\\anaconda3\\envs\\nibm_dl\\lib\\site-packages\\sklearn\\ensemble\\_weight_boosting.py:527: FutureWarning: The SAMME.R algorithm (the default) is deprecated and will be removed in 1.6. Use the SAMME algorithm to circumvent this warning.\n",
      "  warnings.warn(\n"
     ]
    },
    {
     "name": "stdout",
     "output_type": "stream",
     "text": [
      "Model training complete.\n",
      "Evaluating the model on the validation set...\n",
      "Attempting to find custom threshold using find_threshold_binary_search for Recall[0] >= 0.9800\n",
      "Target Recall: >= 0.9800 for Class 0\n",
      "Threshold found by Binary Search: 0.4947426\n",
      "Achieved Recall at Threshold: 1.0000\n",
      "Using threshold: Custom threshold 0.4947 aiming for Recall[0] >= 0.9800 (func achieved 1.0000)\n",
      "Calculating performance metrics...\n",
      "Validation Accuracy: 0.7411\n",
      "Validation Weighted F1-Score: 0.6309\n",
      "Validation Macro F1-Score: 0.4256\n",
      "Validation Recall Class 0: 1.0000\n",
      "Validation Recall Class 1: 0.0000\n",
      "Validation Precision Class 0: 0.7411\n",
      "Validation Precision Class 1: 0.0000\n",
      "\n",
      "              precision    recall  f1-score   support\n",
      "\n",
      "           0     0.7411    1.0000    0.8513     23806\n",
      "           1     0.0000    0.0000    0.0000      8318\n",
      "\n",
      "    accuracy                         0.7411     32124\n",
      "   macro avg     0.3705    0.5000    0.4256     32124\n",
      "weighted avg     0.5492    0.7411    0.6309     32124\n",
      "\n",
      "Logged validation metrics (rounded to 4 decimals).\n",
      "Generating Confusion Matrix plot...\n",
      "Saved Confusion Matrix plot to: confusion_matrix_val.png\n"
     ]
    },
    {
     "data": {
      "image/png": "[encoded data removed]",
      "text/plain": [
       "<Figure size 600x500 with 1 Axes>"
      ]
     },
     "metadata": {},
     "output_type": "display_data"
    },
    {
     "name": "stdout",
     "output_type": "stream",
     "text": [
      "Displayed Confusion Matrix plot.\n",
      "Logged Confusion Matrix plot artifact.\n",
      "Logging classification report artifact...\n",
      "Logged classification report artifact: classification_report_val.json\n",
      "Logging the model...\n"
     ]
    },
    {
     "name": "stderr",
     "output_type": "stream",
     "text": [
      "2025/04/16 18:25:53 WARNING mlflow.models.model: Model logged without a signature and input example. Please set `input_example` parameter when logging the model to auto infer the model signature.\n"
     ]
    },
    {
     "name": "stdout",
     "output_type": "stream",
     "text": [
      "Logged the trained model using mlflow.sklearn.\n",
      "MLflow Run completed: e4c9fbada5da4d528fd61d0587562e72\n",
      "View the run in the MLflow UI.\n"
     ]
    }
   ],
   "source": [
    "#AdaBoost + XGBoost Classifier\n",
    "from sklearn.ensemble import AdaBoostClassifier\n",
    "from xgboost import XGBClassifier\n",
    "model = AdaBoostClassifier(random_state=0, estimator=XGBClassifier(random_state = 0, tree_method = 'hist', device = 'cuda'))\n",
    "log_classification_model(\n",
    "        model=model,\n",
    "        X_train=train_df.drop(columns=['customer_ID']),\n",
    "        y_train=y_train['target'].values,\n",
    "        X_val=val_df.drop(columns=['customer_ID']),\n",
    "        y_val=y_val['target'].values,\n",
    "        run_name=\"AdaBoost + XGBoost Base Model\"\n",
    "    )"
   ]
  },
  {
   "cell_type": "code",
   "execution_count": 16,
   "id": "5691f052",
   "metadata": {},
   "outputs": [
    {
     "name": "stdout",
     "output_type": "stream",
     "text": [
      "Starting MLflow Run: AdaBoost + LightGBM Base Model (e37356bb399f47989b3723f7bd19b523)\n",
      "Logged model parameters.\n",
      "Training the model...\n"
     ]
    },
    {
     "name": "stderr",
     "output_type": "stream",
     "text": [
      "c:\\Users\\vaseekaranv\\AppData\\Local\\anaconda3\\envs\\nibm_dl\\lib\\site-packages\\sklearn\\ensemble\\_weight_boosting.py:527: FutureWarning: The SAMME.R algorithm (the default) is deprecated and will be removed in 1.6. Use the SAMME algorithm to circumvent this warning.\n",
      "  warnings.warn(\n"
     ]
    },
    {
     "name": "stdout",
     "output_type": "stream",
     "text": [
      "Model training complete.\n",
      "Evaluating the model on the validation set...\n",
      "Attempting to find custom threshold using find_threshold_binary_search for Recall[0] >= 0.9800\n",
      "Target Recall: >= 0.9800 for Class 0\n",
      "Threshold found by Binary Search: 0.5165817\n",
      "Achieved Recall at Threshold: 0.9800\n",
      "Using threshold: Custom threshold 0.5166 aiming for Recall[0] >= 0.9800 (func achieved 0.9800)\n",
      "Calculating performance metrics...\n",
      "Validation Accuracy: 0.8663\n",
      "Validation Weighted F1-Score: 0.8539\n",
      "Validation Macro F1-Score: 0.7964\n",
      "Validation Recall Class 0: 0.9800\n",
      "Validation Recall Class 1: 0.5410\n",
      "Validation Precision Class 0: 0.8594\n",
      "Validation Precision Class 1: 0.9043\n",
      "\n",
      "              precision    recall  f1-score   support\n",
      "\n",
      "           0     0.8594    0.9800    0.9157     23806\n",
      "           1     0.9043    0.5410    0.6770      8318\n",
      "\n",
      "    accuracy                         0.8663     32124\n",
      "   macro avg     0.8819    0.7605    0.7964     32124\n",
      "weighted avg     0.8710    0.8663    0.8539     32124\n",
      "\n",
      "Logged validation metrics (rounded to 4 decimals).\n",
      "Generating Confusion Matrix plot...\n",
      "Saved Confusion Matrix plot to: confusion_matrix_val.png\n"
     ]
    },
    {
     "data": {
      "image/png": "[encoded data removed]",
      "text/plain": [
       "<Figure size 600x500 with 1 Axes>"
      ]
     },
     "metadata": {},
     "output_type": "display_data"
    },
    {
     "name": "stdout",
     "output_type": "stream",
     "text": [
      "Displayed Confusion Matrix plot.\n",
      "Logged Confusion Matrix plot artifact.\n",
      "Logging classification report artifact...\n",
      "Logged classification report artifact: classification_report_val.json\n",
      "Logging the model...\n"
     ]
    },
    {
     "name": "stderr",
     "output_type": "stream",
     "text": [
      "2025/04/16 18:36:27 WARNING mlflow.models.model: Model logged without a signature and input example. Please set `input_example` parameter when logging the model to auto infer the model signature.\n"
     ]
    },
    {
     "name": "stdout",
     "output_type": "stream",
     "text": [
      "Logged the trained model using mlflow.sklearn.\n",
      "MLflow Run completed: e37356bb399f47989b3723f7bd19b523\n",
      "View the run in the MLflow UI.\n"
     ]
    }
   ],
   "source": [
    "#AdaBoost + LightGBM Classifier\n",
    "from lightgbm import LGBMClassifier\n",
    "model = AdaBoostClassifier(random_state=0, estimator=LGBMClassifier(random_state = 0, verbose = 0))\n",
    "log_classification_model(\n",
    "        model=model,\n",
    "        X_train=train_df.drop(columns=['customer_ID']),\n",
    "        y_train=y_train['target'].values,\n",
    "        X_val=val_df.drop(columns=['customer_ID']),\n",
    "        y_val=y_val['target'].values,\n",
    "        run_name=\"AdaBoost + LightGBM Base Model\"\n",
    "    )"
   ]
  },
  {
   "cell_type": "code",
   "execution_count": 17,
   "id": "a6babebe",
   "metadata": {},
   "outputs": [
    {
     "name": "stdout",
     "output_type": "stream",
     "text": [
      "Starting MLflow Run: AdaBoost + CatBoost Base Model (821665ce28924394b388553d538ea3c8)\n",
      "Logged model parameters.\n",
      "Training the model...\n"
     ]
    },
    {
     "name": "stderr",
     "output_type": "stream",
     "text": [
      "c:\\Users\\vaseekaranv\\AppData\\Local\\anaconda3\\envs\\nibm_dl\\lib\\site-packages\\sklearn\\ensemble\\_weight_boosting.py:527: FutureWarning: The SAMME.R algorithm (the default) is deprecated and will be removed in 1.6. Use the SAMME algorithm to circumvent this warning.\n",
      "  warnings.warn(\n"
     ]
    },
    {
     "name": "stdout",
     "output_type": "stream",
     "text": [
      "Model training complete.\n",
      "Evaluating the model on the validation set...\n",
      "Attempting to find custom threshold using find_threshold_binary_search for Recall[0] >= 0.9800\n",
      "Target Recall: >= 0.9800 for Class 0\n",
      "Threshold found by Binary Search: 0.5057509\n",
      "Achieved Recall at Threshold: 0.9800\n",
      "Using threshold: Custom threshold 0.5058 aiming for Recall[0] >= 0.9800 (func achieved 0.9800)\n",
      "Calculating performance metrics...\n",
      "Validation Accuracy: 0.8667\n",
      "Validation Weighted F1-Score: 0.8544\n",
      "Validation Macro F1-Score: 0.7971\n",
      "Validation Recall Class 0: 0.9800\n",
      "Validation Recall Class 1: 0.5426\n",
      "Validation Precision Class 0: 0.8598\n",
      "Validation Precision Class 1: 0.9046\n",
      "\n",
      "              precision    recall  f1-score   support\n",
      "\n",
      "           0     0.8598    0.9800    0.9160     23806\n",
      "           1     0.9046    0.5426    0.6783      8318\n",
      "\n",
      "    accuracy                         0.8667     32124\n",
      "   macro avg     0.8822    0.7613    0.7971     32124\n",
      "weighted avg     0.8714    0.8667    0.8544     32124\n",
      "\n",
      "Logged validation metrics (rounded to 4 decimals).\n",
      "Generating Confusion Matrix plot...\n",
      "Saved Confusion Matrix plot to: confusion_matrix_val.png\n"
     ]
    },
    {
     "data": {
      "image/png": "[encoded data removed]",
      "text/plain": [
       "<Figure size 600x500 with 1 Axes>"
      ]
     },
     "metadata": {},
     "output_type": "display_data"
    },
    {
     "name": "stdout",
     "output_type": "stream",
     "text": [
      "Displayed Confusion Matrix plot.\n",
      "Logged Confusion Matrix plot artifact.\n",
      "Logging classification report artifact...\n",
      "Logged classification report artifact: classification_report_val.json\n",
      "Logging the model...\n"
     ]
    },
    {
     "name": "stderr",
     "output_type": "stream",
     "text": [
      "2025/04/16 18:48:45 WARNING mlflow.models.model: Model logged without a signature and input example. Please set `input_example` parameter when logging the model to auto infer the model signature.\n"
     ]
    },
    {
     "name": "stdout",
     "output_type": "stream",
     "text": [
      "Logged the trained model using mlflow.sklearn.\n",
      "MLflow Run completed: 821665ce28924394b388553d538ea3c8\n",
      "View the run in the MLflow UI.\n"
     ]
    }
   ],
   "source": [
    "#AdaBoost + CatBoost Classifier\n",
    "from catboost import CatBoostClassifier\n",
    "model = AdaBoostClassifier(random_state=0, estimator=CatBoostClassifier(random_state=0, task_type='GPU', devices='0:1', verbose = 0))\n",
    "log_classification_model(\n",
    "        model=model,\n",
    "        X_train=train_df.drop(columns=['customer_ID']),\n",
    "        y_train=y_train['target'].values,\n",
    "        X_val=val_df.drop(columns=['customer_ID']),\n",
    "        y_val=y_val['target'].values,\n",
    "        run_name=\"AdaBoost + CatBoost Base Model\"\n",
    "    )"
   ]
  },
  {
   "cell_type": "code",
   "execution_count": null,
   "id": "a7e3817b",
   "metadata": {},
   "outputs": [],
   "source": []
  },
  {
   "cell_type": "code",
   "execution_count": null,
   "id": "ee81d971",
   "metadata": {},
   "outputs": [],
   "source": []
  },
  {
   "cell_type": "code",
   "execution_count": null,
   "id": "26226322",
   "metadata": {},
   "outputs": [],
   "source": []
  }
 ],
 "metadata": {
  "kernelspec": {
   "display_name": "nibm_dl",
   "language": "python",
   "name": "python3"
  },
  "language_info": {
   "codemirror_mode": {
    "name": "ipython",
    "version": 3
   },
   "file_extension": ".py",
   "mimetype": "text/x-python",
   "name": "python",
   "nbconvert_exporter": "python",
   "pygments_lexer": "ipython3",
   "version": "3.10.14"
  }
 },
 "nbformat": 4,
 "nbformat_minor": 5
}

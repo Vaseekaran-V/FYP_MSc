{
 "cells": [
  {
   "cell_type": "code",
   "execution_count": 1,
   "id": "e4a25e47",
   "metadata": {},
   "outputs": [
    {
     "name": "stderr",
     "output_type": "stream",
     "text": [
      "Intel(R) Extension for Scikit-learn* enabled (https://github.com/intel/scikit-learn-intelex)\n"
     ]
    }
   ],
   "source": [
    "import pandas as pd\n",
    "import numpy as np\n",
    "from sklearnex import patch_sklearn\n",
    "patch_sklearn()\n",
    "\n",
    "import sys\n",
    "import os"
   ]
  },
  {
   "cell_type": "code",
   "execution_count": 2,
   "id": "464470e0",
   "metadata": {},
   "outputs": [],
   "source": [
    "# Setting path to load util functions\n",
    "from pathlib import Path\n",
    "parent_dir = Path.cwd().parents[1]\n",
    "sys.path.append(os.path.abspath(parent_dir))"
   ]
  },
  {
   "cell_type": "code",
   "execution_count": 3,
   "id": "dcc93463",
   "metadata": {},
   "outputs": [],
   "source": [
    "train_df = pd.read_parquet('../../data/final_features_ml/train_all_features_last_month.parquet')\n",
    "val_df = pd.read_parquet('../../data/final_features_ml/val_all_features_last_month.parquet')\n",
    "test_df = pd.read_parquet('../../data/final_features_ml/test_all_features_last_month.parquet')"
   ]
  },
  {
   "cell_type": "code",
   "execution_count": 4,
   "id": "ff505651",
   "metadata": {},
   "outputs": [],
   "source": [
    "y_train = pd.read_parquet('../../data/3d_array/train_targets.parquet')\n",
    "y_val = pd.read_parquet('../../data/3d_array/val_targets.parquet')\n",
    "y_test = pd.read_parquet('../../data/3d_array/test_targets.parquet')"
   ]
  },
  {
   "cell_type": "code",
   "execution_count": 5,
   "id": "549f1386",
   "metadata": {},
   "outputs": [
    {
     "data": {
      "text/plain": [
       "((289115, 426),\n",
       " (289115, 3),\n",
       " (32124, 426),\n",
       " (32124, 3),\n",
       " (137674, 426),\n",
       " (137674, 3))"
      ]
     },
     "execution_count": 5,
     "metadata": {},
     "output_type": "execute_result"
    }
   ],
   "source": [
    "train_df.shape, y_train.shape, val_df.shape, y_val.shape, test_df.shape, y_test.shape"
   ]
  },
  {
   "cell_type": "code",
   "execution_count": 6,
   "id": "d399c764",
   "metadata": {},
   "outputs": [],
   "source": [
    "train_df.sort_values(by = ['customer_ID'], inplace=True)\n",
    "y_train.sort_values(by = ['customer_ID'], inplace=True)\n",
    "val_df.sort_values(by = ['customer_ID'], inplace=True)\n",
    "y_val.sort_values(by = ['customer_ID'], inplace=True)\n",
    "test_df.sort_values(by = ['customer_ID'], inplace=True)\n",
    "y_test.sort_values(by = ['customer_ID'], inplace=True)"
   ]
  },
  {
   "cell_type": "code",
   "execution_count": 7,
   "id": "5186a440",
   "metadata": {},
   "outputs": [],
   "source": [
    "train_df.reset_index(drop=True, inplace=True)\n",
    "y_train.reset_index(drop=True, inplace=True)\n",
    "val_df.reset_index(drop=True, inplace=True)\n",
    "y_val.reset_index(drop=True, inplace=True)\n",
    "test_df.reset_index(drop=True, inplace=True)\n",
    "y_test.reset_index(drop=True, inplace=True)"
   ]
  },
  {
   "cell_type": "code",
   "execution_count": 8,
   "id": "4b3a0639",
   "metadata": {},
   "outputs": [
    {
     "data": {
      "text/html": [
       "<div>\n",
       "<style scoped>\n",
       "    .dataframe tbody tr th:only-of-type {\n",
       "        vertical-align: middle;\n",
       "    }\n",
       "\n",
       "    .dataframe tbody tr th {\n",
       "        vertical-align: top;\n",
       "    }\n",
       "\n",
       "    .dataframe thead th {\n",
       "        text-align: right;\n",
       "    }\n",
       "</style>\n",
       "<table border=\"1\" class=\"dataframe\">\n",
       "  <thead>\n",
       "    <tr style=\"text-align: right;\">\n",
       "      <th></th>\n",
       "      <th>customer_ID</th>\n",
       "      <th>D_39</th>\n",
       "      <th>B_1</th>\n",
       "      <th>R_1</th>\n",
       "      <th>B_4</th>\n",
       "      <th>B_5</th>\n",
       "      <th>R_2</th>\n",
       "      <th>D_47</th>\n",
       "      <th>B_7</th>\n",
       "      <th>D_51</th>\n",
       "      <th>...</th>\n",
       "      <th>S_5_Signal distance</th>\n",
       "      <th>B_14_Mean diff</th>\n",
       "      <th>B_11_Mean diff</th>\n",
       "      <th>S_8_Area under the curve</th>\n",
       "      <th>B_11_Area under the curve</th>\n",
       "      <th>S_8_Centroid</th>\n",
       "      <th>B_1_Area under the curve</th>\n",
       "      <th>B_1_Mean diff</th>\n",
       "      <th>S_26_Area under the curve</th>\n",
       "      <th>S_5_Area under the curve</th>\n",
       "    </tr>\n",
       "  </thead>\n",
       "  <tbody>\n",
       "    <tr>\n",
       "      <th>0</th>\n",
       "      <td>0000099d6bd597052cdcda90ffabf56573fe9d7c79be5f...</td>\n",
       "      <td>0.009119</td>\n",
       "      <td>0.009382</td>\n",
       "      <td>0.006104</td>\n",
       "      <td>0.070793</td>\n",
       "      <td>0.231717</td>\n",
       "      <td>0.008309</td>\n",
       "      <td>0.539715</td>\n",
       "      <td>0.058425</td>\n",
       "      <td>0.673522</td>\n",
       "      <td>...</td>\n",
       "      <td>12.002586</td>\n",
       "      <td>-0.000679</td>\n",
       "      <td>0.000624</td>\n",
       "      <td>0.096573</td>\n",
       "      <td>0.000875</td>\n",
       "      <td>0.051362</td>\n",
       "      <td>0.001470</td>\n",
       "      <td>0.000055</td>\n",
       "      <td>0.001620</td>\n",
       "      <td>0.003494</td>\n",
       "    </tr>\n",
       "    <tr>\n",
       "      <th>1</th>\n",
       "      <td>00001b22f846c82c51f6e3958ccd81970162bae8b007e8...</td>\n",
       "      <td>0.009704</td>\n",
       "      <td>0.004284</td>\n",
       "      <td>0.006450</td>\n",
       "      <td>0.031044</td>\n",
       "      <td>0.001557</td>\n",
       "      <td>0.001687</td>\n",
       "      <td>0.339125</td>\n",
       "      <td>0.026981</td>\n",
       "      <td>0.342118</td>\n",
       "      <td>...</td>\n",
       "      <td>12.000076</td>\n",
       "      <td>0.000399</td>\n",
       "      <td>0.000285</td>\n",
       "      <td>0.000758</td>\n",
       "      <td>0.000575</td>\n",
       "      <td>0.066659</td>\n",
       "      <td>0.000541</td>\n",
       "      <td>0.000234</td>\n",
       "      <td>0.000715</td>\n",
       "      <td>0.000725</td>\n",
       "    </tr>\n",
       "    <tr>\n",
       "      <th>2</th>\n",
       "      <td>000084e5023181993c2e1b665ac88dbb1ce9ef621ec537...</td>\n",
       "      <td>0.009776</td>\n",
       "      <td>0.007853</td>\n",
       "      <td>0.006885</td>\n",
       "      <td>0.004432</td>\n",
       "      <td>0.012747</td>\n",
       "      <td>0.008217</td>\n",
       "      <td>1.053603</td>\n",
       "      <td>0.006804</td>\n",
       "      <td>0.003867</td>\n",
       "      <td>...</td>\n",
       "      <td>12.002037</td>\n",
       "      <td>0.000065</td>\n",
       "      <td>-0.000788</td>\n",
       "      <td>0.030051</td>\n",
       "      <td>0.001411</td>\n",
       "      <td>0.053169</td>\n",
       "      <td>0.003310</td>\n",
       "      <td>-0.002275</td>\n",
       "      <td>0.000515</td>\n",
       "      <td>0.002074</td>\n",
       "    </tr>\n",
       "    <tr>\n",
       "      <th>3</th>\n",
       "      <td>000098081fde4fd64bc4d503a5d6f86a0aedc425c96f52...</td>\n",
       "      <td>0.000467</td>\n",
       "      <td>0.009413</td>\n",
       "      <td>0.007775</td>\n",
       "      <td>0.002541</td>\n",
       "      <td>0.006761</td>\n",
       "      <td>0.000599</td>\n",
       "      <td>0.016223</td>\n",
       "      <td>0.010545</td>\n",
       "      <td>0.005974</td>\n",
       "      <td>...</td>\n",
       "      <td>12.000053</td>\n",
       "      <td>-0.000506</td>\n",
       "      <td>-0.002254</td>\n",
       "      <td>0.026627</td>\n",
       "      <td>0.005694</td>\n",
       "      <td>0.052700</td>\n",
       "      <td>0.008939</td>\n",
       "      <td>-0.002907</td>\n",
       "      <td>0.000445</td>\n",
       "      <td>0.001086</td>\n",
       "    </tr>\n",
       "    <tr>\n",
       "      <th>4</th>\n",
       "      <td>0000f99513770170a1aba690daeeb8a96da4a39f11fc27...</td>\n",
       "      <td>0.531173</td>\n",
       "      <td>0.979303</td>\n",
       "      <td>0.008500</td>\n",
       "      <td>1.105429</td>\n",
       "      <td>0.025943</td>\n",
       "      <td>0.003394</td>\n",
       "      <td>0.125423</td>\n",
       "      <td>0.998107</td>\n",
       "      <td>0.000275</td>\n",
       "      <td>...</td>\n",
       "      <td>12.001062</td>\n",
       "      <td>-0.001064</td>\n",
       "      <td>0.002243</td>\n",
       "      <td>0.018268</td>\n",
       "      <td>0.113519</td>\n",
       "      <td>0.105902</td>\n",
       "      <td>0.112342</td>\n",
       "      <td>0.002037</td>\n",
       "      <td>0.000684</td>\n",
       "      <td>0.002241</td>\n",
       "    </tr>\n",
       "  </tbody>\n",
       "</table>\n",
       "<p>5 rows × 426 columns</p>\n",
       "</div>"
      ],
      "text/plain": [
       "                                         customer_ID      D_39       B_1  \\\n",
       "0  0000099d6bd597052cdcda90ffabf56573fe9d7c79be5f...  0.009119  0.009382   \n",
       "1  00001b22f846c82c51f6e3958ccd81970162bae8b007e8...  0.009704  0.004284   \n",
       "2  000084e5023181993c2e1b665ac88dbb1ce9ef621ec537...  0.009776  0.007853   \n",
       "3  000098081fde4fd64bc4d503a5d6f86a0aedc425c96f52...  0.000467  0.009413   \n",
       "4  0000f99513770170a1aba690daeeb8a96da4a39f11fc27...  0.531173  0.979303   \n",
       "\n",
       "        R_1       B_4       B_5       R_2      D_47       B_7      D_51  ...  \\\n",
       "0  0.006104  0.070793  0.231717  0.008309  0.539715  0.058425  0.673522  ...   \n",
       "1  0.006450  0.031044  0.001557  0.001687  0.339125  0.026981  0.342118  ...   \n",
       "2  0.006885  0.004432  0.012747  0.008217  1.053603  0.006804  0.003867  ...   \n",
       "3  0.007775  0.002541  0.006761  0.000599  0.016223  0.010545  0.005974  ...   \n",
       "4  0.008500  1.105429  0.025943  0.003394  0.125423  0.998107  0.000275  ...   \n",
       "\n",
       "   S_5_Signal distance  B_14_Mean diff  B_11_Mean diff  \\\n",
       "0            12.002586       -0.000679        0.000624   \n",
       "1            12.000076        0.000399        0.000285   \n",
       "2            12.002037        0.000065       -0.000788   \n",
       "3            12.000053       -0.000506       -0.002254   \n",
       "4            12.001062       -0.001064        0.002243   \n",
       "\n",
       "   S_8_Area under the curve  B_11_Area under the curve  S_8_Centroid  \\\n",
       "0                  0.096573                   0.000875      0.051362   \n",
       "1                  0.000758                   0.000575      0.066659   \n",
       "2                  0.030051                   0.001411      0.053169   \n",
       "3                  0.026627                   0.005694      0.052700   \n",
       "4                  0.018268                   0.113519      0.105902   \n",
       "\n",
       "   B_1_Area under the curve  B_1_Mean diff  S_26_Area under the curve  \\\n",
       "0                  0.001470       0.000055                   0.001620   \n",
       "1                  0.000541       0.000234                   0.000715   \n",
       "2                  0.003310      -0.002275                   0.000515   \n",
       "3                  0.008939      -0.002907                   0.000445   \n",
       "4                  0.112342       0.002037                   0.000684   \n",
       "\n",
       "   S_5_Area under the curve  \n",
       "0                  0.003494  \n",
       "1                  0.000725  \n",
       "2                  0.002074  \n",
       "3                  0.001086  \n",
       "4                  0.002241  \n",
       "\n",
       "[5 rows x 426 columns]"
      ]
     },
     "execution_count": 8,
     "metadata": {},
     "output_type": "execute_result"
    }
   ],
   "source": [
    "train_df.head()"
   ]
  },
  {
   "cell_type": "code",
   "execution_count": 9,
   "id": "ec3d252b",
   "metadata": {},
   "outputs": [
    {
     "data": {
      "text/html": [
       "<div>\n",
       "<style scoped>\n",
       "    .dataframe tbody tr th:only-of-type {\n",
       "        vertical-align: middle;\n",
       "    }\n",
       "\n",
       "    .dataframe tbody tr th {\n",
       "        vertical-align: top;\n",
       "    }\n",
       "\n",
       "    .dataframe thead th {\n",
       "        text-align: right;\n",
       "    }\n",
       "</style>\n",
       "<table border=\"1\" class=\"dataframe\">\n",
       "  <thead>\n",
       "    <tr style=\"text-align: right;\">\n",
       "      <th></th>\n",
       "      <th>customer_ID</th>\n",
       "      <th>end_of_month</th>\n",
       "      <th>target</th>\n",
       "    </tr>\n",
       "  </thead>\n",
       "  <tbody>\n",
       "    <tr>\n",
       "      <th>0</th>\n",
       "      <td>0000099d6bd597052cdcda90ffabf56573fe9d7c79be5f...</td>\n",
       "      <td>2018-03-31</td>\n",
       "      <td>0</td>\n",
       "    </tr>\n",
       "    <tr>\n",
       "      <th>1</th>\n",
       "      <td>00001b22f846c82c51f6e3958ccd81970162bae8b007e8...</td>\n",
       "      <td>2018-03-31</td>\n",
       "      <td>0</td>\n",
       "    </tr>\n",
       "    <tr>\n",
       "      <th>2</th>\n",
       "      <td>000084e5023181993c2e1b665ac88dbb1ce9ef621ec537...</td>\n",
       "      <td>2018-03-31</td>\n",
       "      <td>0</td>\n",
       "    </tr>\n",
       "    <tr>\n",
       "      <th>3</th>\n",
       "      <td>000098081fde4fd64bc4d503a5d6f86a0aedc425c96f52...</td>\n",
       "      <td>2018-03-31</td>\n",
       "      <td>0</td>\n",
       "    </tr>\n",
       "    <tr>\n",
       "      <th>4</th>\n",
       "      <td>0000f99513770170a1aba690daeeb8a96da4a39f11fc27...</td>\n",
       "      <td>2018-03-31</td>\n",
       "      <td>1</td>\n",
       "    </tr>\n",
       "  </tbody>\n",
       "</table>\n",
       "</div>"
      ],
      "text/plain": [
       "                                         customer_ID end_of_month  target\n",
       "0  0000099d6bd597052cdcda90ffabf56573fe9d7c79be5f...   2018-03-31       0\n",
       "1  00001b22f846c82c51f6e3958ccd81970162bae8b007e8...   2018-03-31       0\n",
       "2  000084e5023181993c2e1b665ac88dbb1ce9ef621ec537...   2018-03-31       0\n",
       "3  000098081fde4fd64bc4d503a5d6f86a0aedc425c96f52...   2018-03-31       0\n",
       "4  0000f99513770170a1aba690daeeb8a96da4a39f11fc27...   2018-03-31       1"
      ]
     },
     "execution_count": 9,
     "metadata": {},
     "output_type": "execute_result"
    }
   ],
   "source": [
    "y_train.head()"
   ]
  },
  {
   "cell_type": "code",
   "execution_count": 10,
   "id": "d4422094",
   "metadata": {},
   "outputs": [
    {
     "name": "stdout",
     "output_type": "stream",
     "text": [
      "<class 'pandas.core.frame.DataFrame'>\n",
      "RangeIndex: 289115 entries, 0 to 289114\n",
      "Data columns (total 426 columns):\n",
      " #    Column                           Non-Null Count   Dtype  \n",
      "---   ------                           --------------   -----  \n",
      " 0    customer_ID                      289115 non-null  object \n",
      " 1    D_39                             289115 non-null  float32\n",
      " 2    B_1                              289115 non-null  float32\n",
      " 3    R_1                              289115 non-null  float32\n",
      " 4    B_4                              289115 non-null  float32\n",
      " 5    B_5                              289115 non-null  float32\n",
      " 6    R_2                              289115 non-null  float32\n",
      " 7    D_47                             289115 non-null  float32\n",
      " 8    B_7                              289115 non-null  float32\n",
      " 9    D_51                             289115 non-null  float32\n",
      " 10   B_9                              289115 non-null  float32\n",
      " 11   R_3                              289115 non-null  float32\n",
      " 12   B_10                             289115 non-null  float32\n",
      " 13   S_5                              289115 non-null  float32\n",
      " 14   B_11                             289115 non-null  float32\n",
      " 15   S_6                              289115 non-null  float32\n",
      " 16   R_4                              289115 non-null  float32\n",
      " 17   B_12                             289115 non-null  float32\n",
      " 18   S_8                              289115 non-null  float32\n",
      " 19   R_5                              289115 non-null  float32\n",
      " 20   D_58                             289115 non-null  float32\n",
      " 21   B_14                             289115 non-null  float32\n",
      " 22   D_60                             289115 non-null  float32\n",
      " 23   S_11                             289115 non-null  float32\n",
      " 24   D_65                             289115 non-null  float32\n",
      " 25   B_18                             289115 non-null  float32\n",
      " 26   S_12                             289115 non-null  float32\n",
      " 27   R_6                              289115 non-null  float32\n",
      " 28   S_13                             289115 non-null  float32\n",
      " 29   B_21                             289115 non-null  float32\n",
      " 30   D_71                             289115 non-null  float32\n",
      " 31   S_15                             289115 non-null  float32\n",
      " 32   B_23                             289115 non-null  float32\n",
      " 33   P_4                              289115 non-null  float32\n",
      " 34   D_75                             289115 non-null  float32\n",
      " 35   B_24                             289115 non-null  float32\n",
      " 36   R_7                              289115 non-null  float32\n",
      " 37   R_8                              289115 non-null  float32\n",
      " 38   S_16                             289115 non-null  float32\n",
      " 39   R_10                             289115 non-null  float32\n",
      " 40   R_11                             289115 non-null  float32\n",
      " 41   S_17                             289115 non-null  float32\n",
      " 42   R_12                             289115 non-null  float32\n",
      " 43   B_28                             289115 non-null  float32\n",
      " 44   R_13                             289115 non-null  float32\n",
      " 45   R_14                             289115 non-null  float32\n",
      " 46   R_15                             289115 non-null  float32\n",
      " 47   R_16                             289115 non-null  float32\n",
      " 48   S_18                             289115 non-null  float32\n",
      " 49   D_86                             289115 non-null  float32\n",
      " 50   R_17                             289115 non-null  float32\n",
      " 51   R_18                             289115 non-null  float32\n",
      " 52   B_31                             289115 non-null  int64  \n",
      " 53   S_19                             289115 non-null  float32\n",
      " 54   R_19                             289115 non-null  float32\n",
      " 55   B_32                             289115 non-null  float32\n",
      " 56   S_20                             289115 non-null  float32\n",
      " 57   R_20                             289115 non-null  float32\n",
      " 58   R_21                             289115 non-null  float32\n",
      " 59   R_22                             289115 non-null  float32\n",
      " 60   R_23                             289115 non-null  float32\n",
      " 61   D_92                             289115 non-null  float32\n",
      " 62   D_93                             289115 non-null  float32\n",
      " 63   D_94                             289115 non-null  float32\n",
      " 64   R_24                             289115 non-null  float32\n",
      " 65   R_25                             289115 non-null  float32\n",
      " 66   D_96                             289115 non-null  float32\n",
      " 67   S_26                             289115 non-null  float32\n",
      " 68   D_102                            289115 non-null  float32\n",
      " 69   B_36                             289115 non-null  float32\n",
      " 70   B_37                             289115 non-null  float32\n",
      " 71   B_40                             289115 non-null  float32\n",
      " 72   D_127                            289115 non-null  float32\n",
      " 73   B_41                             289115 non-null  float32\n",
      " 74   D_133                            289115 non-null  float32\n",
      " 75   R_28                             289115 non-null  float32\n",
      " 76   D_140                            289115 non-null  float32\n",
      " 77   D_144                            289115 non-null  float32\n",
      " 78   D_63_CL                          289115 non-null  float64\n",
      " 79   D_63_CO                          289115 non-null  float64\n",
      " 80   D_63_CR                          289115 non-null  float64\n",
      " 81   D_63_XL                          289115 non-null  float64\n",
      " 82   D_63_XM                          289115 non-null  float64\n",
      " 83   D_63_XZ                          289115 non-null  float64\n",
      " 84   D_126_1.0                        289115 non-null  float64\n",
      " 85   reverse_ewm_B_7_6                289115 non-null  float64\n",
      " 86   rolling_std_B_4_6                289115 non-null  float64\n",
      " 87   diff_B_4_10                      289115 non-null  float32\n",
      " 88   diff_B_4_9                       289115 non-null  float32\n",
      " 89   ewm_D_60_6                       289115 non-null  float64\n",
      " 90   diff_B_4_8                       289115 non-null  float32\n",
      " 91   diff_B_4_6                       289115 non-null  float32\n",
      " 92   diff_B_4_5                       289115 non-null  float32\n",
      " 93   diff_B_4_4                       289115 non-null  float32\n",
      " 94   diff_B_4_3                       289115 non-null  float32\n",
      " 95   rolling_mean_S_15_6              289115 non-null  float64\n",
      " 96   diff_B_4_2                       289115 non-null  float32\n",
      " 97   ewm_S_15_6                       289115 non-null  float64\n",
      " 98   expanding_max_B_4                289115 non-null  float32\n",
      " 99   ewm_R_1_6                        289115 non-null  float64\n",
      " 100  expanding_max_R_3                289115 non-null  float32\n",
      " 101  cummean_D_60                     289115 non-null  float32\n",
      " 102  cummean_R_1                      289115 non-null  float32\n",
      " 103  ewm_B_1_6                        289115 non-null  float64\n",
      " 104  cumsum_P_4                       289115 non-null  float32\n",
      " 105  cummean_P_4                      289115 non-null  float32\n",
      " 106  expanding_max_B_9                289115 non-null  float32\n",
      " 107  expanding_max_P_4                289115 non-null  float32\n",
      " 108  diff_B_9_2                       289115 non-null  float32\n",
      " 109  expanding_max_B_1                289115 non-null  float32\n",
      " 110  rolling_std_D_39_6               289115 non-null  float64\n",
      " 111  ewm_P_4_6                        289115 non-null  float64\n",
      " 112  diff_D_39_6                      289115 non-null  float32\n",
      " 113  diff_D_39_4                      289115 non-null  float32\n",
      " 114  diff_D_39_2                      289115 non-null  float32\n",
      " 115  expanding_max_D_39               289115 non-null  float32\n",
      " 116  expanding_max_R_1                289115 non-null  float32\n",
      " 117  cumsum_S_11                      289115 non-null  float32\n",
      " 118  expanding_max_S_15               289115 non-null  float32\n",
      " 119  cummean_S_15                     289115 non-null  float32\n",
      " 120  expanding_min_B_18               289115 non-null  float32\n",
      " 121  expanding_max_D_51               289115 non-null  float32\n",
      " 122  cumsum_B_18                      289115 non-null  float32\n",
      " 123  cummean_D_51                     289115 non-null  float32\n",
      " 124  cumsum_D_51                      289115 non-null  float32\n",
      " 125  ewm_D_65_6                       289115 non-null  float64\n",
      " 126  rolling_mean_D_65_6              289115 non-null  float64\n",
      " 127  ewm_D_47_6                       289115 non-null  float64\n",
      " 128  rolling_mean_D_47_6              289115 non-null  float64\n",
      " 129  expanding_max_D_47               289115 non-null  float32\n",
      " 130  expanding_min_D_47               289115 non-null  float32\n",
      " 131  cummean_D_47                     289115 non-null  float32\n",
      " 132  cumsum_D_47                      289115 non-null  float32\n",
      " 133  lag_D_47_3                       289115 non-null  float32\n",
      " 134  expanding_max_D_65               289115 non-null  float32\n",
      " 135  expanding_max_S_5                289115 non-null  float32\n",
      " 136  cummean_D_65                     289115 non-null  float32\n",
      " 137  cummean_R_3                      289115 non-null  float32\n",
      " 138  cumsum_R_3                       289115 non-null  float32\n",
      " 139  reverse_ewm_B_4_6                289115 non-null  float64\n",
      " 140  lag_B_5_1                        289115 non-null  float32\n",
      " 141  cummean_B_5                      289115 non-null  float32\n",
      " 142  expanding_min_B_5                289115 non-null  float32\n",
      " 143  ewm_S_8_6                        289115 non-null  float64\n",
      " 144  rolling_mean_B_5_6               289115 non-null  float64\n",
      " 145  reverse_ewm_B_5_6                289115 non-null  float64\n",
      " 146  cummean_R_2                      289115 non-null  float32\n",
      " 147  ewm_R_2_6                        289115 non-null  float64\n",
      " 148  lag_D_47_1                       289115 non-null  float32\n",
      " 149  lag_D_47_2                       289115 non-null  float32\n",
      " 150  cumsum_D_65                      289115 non-null  float32\n",
      " 151  ewm_B_5_6                        289115 non-null  float64\n",
      " 152  rolling_mean_S_8_6               289115 non-null  float64\n",
      " 153  ewm_D_39_6                       289115 non-null  float64\n",
      " 154  cummean_R_11                     289115 non-null  float32\n",
      " 155  rolling_std_D_75_6               289115 non-null  float64\n",
      " 156  expanding_max_D_102              289115 non-null  float32\n",
      " 157  ewm_R_5_6                        289115 non-null  float64\n",
      " 158  expanding_max_S_26               289115 non-null  float32\n",
      " 159  ewm_S_26_6                       289115 non-null  float64\n",
      " 160  cumsum_S_26                      289115 non-null  float32\n",
      " 161  lag_B_37_2                       289115 non-null  float32\n",
      " 162  ewm_B_7_6                        289115 non-null  float64\n",
      " 163  expanding_max_D_133              289115 non-null  float32\n",
      " 164  reverse_ewm_D_133_6              289115 non-null  float64\n",
      " 165  cummean_D_133                    289115 non-null  float32\n",
      " 166  rolling_mean_B_7_6               289115 non-null  float64\n",
      " 167  ewm_B_40_6                       289115 non-null  float64\n",
      " 168  rolling_std_B_40_6               289115 non-null  float64\n",
      " 169  expanding_max_B_40               289115 non-null  float32\n",
      " 170  expanding_max_D_75               289115 non-null  float32\n",
      " 171  diff_B_37_2                      289115 non-null  float32\n",
      " 172  expanding_max_S_8                289115 non-null  float32\n",
      " 173  cumsum_S_8                       289115 non-null  float32\n",
      " 174  ewm_R_11_6                       289115 non-null  float64\n",
      " 175  ewm_D_63_CR_6                    289115 non-null  float64\n",
      " 176  ewm_D_63_CO_6                    289115 non-null  float64\n",
      " 177  rolling_mean_D_63_CO_6           289115 non-null  float64\n",
      " 178  cumsum_D_63_CO                   289115 non-null  float64\n",
      " 179  lag_D_63_CO_2                    289115 non-null  float64\n",
      " 180  lag_D_63_CO_1                    289115 non-null  float64\n",
      " 181  expanding_min_B_28               289115 non-null  float32\n",
      " 182  diff_B_28_2                      289115 non-null  float32\n",
      " 183  ewm_D_51_6                       289115 non-null  float64\n",
      " 184  ewm_R_16_6                       289115 non-null  float64\n",
      " 185  rolling_mean_R_16_6              289115 non-null  float64\n",
      " 186  cumsum_R_16                      289115 non-null  float32\n",
      " 187  ewm_B_10_6                       289115 non-null  float64\n",
      " 188  R_10_Mean absolute deviation     289115 non-null  float64\n",
      " 189  R_5_Max                          289115 non-null  float64\n",
      " 190  D_126_1.0_Average power          289115 non-null  float64\n",
      " 191  D_102_Root mean square           289115 non-null  float64\n",
      " 192  B_9_Root mean square             289115 non-null  float64\n",
      " 193  B_9_Max                          289115 non-null  float64\n",
      " 194  B_9_Average power                289115 non-null  float64\n",
      " 195  R_5_Histogram mode               289115 non-null  float64\n",
      " 196  B_7_Root mean square             289115 non-null  float64\n",
      " 197  B_7_Max                          289115 non-null  float64\n",
      " 198  B_7_Average power                289115 non-null  float64\n",
      " 199  B_5_Root mean square             289115 non-null  float64\n",
      " 200  B_5_Mean absolute deviation      289115 non-null  float64\n",
      " 201  B_5_Mean                         289115 non-null  float64\n",
      " 202  S_5_ECDF Percentile_1            289115 non-null  float64\n",
      " 203  B_7_Mean                         289115 non-null  float64\n",
      " 204  B_5_Max                          289115 non-null  float64\n",
      " 205  D_133_Average power              289115 non-null  float64\n",
      " 206  D_133_Max                        289115 non-null  float64\n",
      " 207  D_47_Absolute energy             289115 non-null  float64\n",
      " 208  B_1_Average power                289115 non-null  float64\n",
      " 209  S_5_Max                          289115 non-null  float64\n",
      " 210  D_39_Standard deviation          289115 non-null  float64\n",
      " 211  D_39_Root mean square            289115 non-null  float64\n",
      " 212  D_39_Peak to peak distance       289115 non-null  float64\n",
      " 213  R_5_Average power                289115 non-null  float64\n",
      " 214  D_39_Mean                        289115 non-null  float64\n",
      " 215  D_39_Interquartile range         289115 non-null  float64\n",
      " 216  R_3_Root mean square             289115 non-null  float64\n",
      " 217  D_39_Average power               289115 non-null  float64\n",
      " 218  D_39_Absolute energy             289115 non-null  float64\n",
      " 219  D_144_Median absolute deviation  289115 non-null  float64\n",
      " 220  D_133_Root mean square           289115 non-null  float64\n",
      " 221  D_39_Max                         289115 non-null  float64\n",
      " 222  R_3_Mean                         289115 non-null  float64\n",
      " 223  B_5_ECDF Percentile_1            289115 non-null  float64\n",
      " 224  B_5_Absolute energy              289115 non-null  float64\n",
      " 225  S_15_Root mean square            289115 non-null  float64\n",
      " 226  B_23_Average power               289115 non-null  float64\n",
      " 227  B_1_Peak to peak distance        289115 non-null  float64\n",
      " 228  B_18_Histogram mode              289115 non-null  float64\n",
      " 229  B_1_Min                          289115 non-null  float64\n",
      " 230  B_1_Median                       289115 non-null  float64\n",
      " 231  B_23_Max                         289115 non-null  float64\n",
      " 232  B_1_Mean                         289115 non-null  float64\n",
      " 233  B_1_Max                          289115 non-null  float64\n",
      " 234  B_18_Median                      289115 non-null  float64\n",
      " 235  B_1_ECDF Percentile_1            289115 non-null  float64\n",
      " 236  B_18_Min                         289115 non-null  float64\n",
      " 237  B_1_ECDF Percentile_0            289115 non-null  float64\n",
      " 238  S_26_Max                         289115 non-null  float64\n",
      " 239  B_18_Mean                        289115 non-null  float64\n",
      " 240  B_5_Average power                289115 non-null  float64\n",
      " 241  S_15_Mean                        289115 non-null  float64\n",
      " 242  S_15_ECDF Percentile_0           289115 non-null  float64\n",
      " 243  B_4_Peak to peak distance        289115 non-null  float64\n",
      " 244  B_4_Median absolute deviation    289115 non-null  float64\n",
      " 245  B_4_Mean absolute deviation      289115 non-null  float64\n",
      " 246  B_4_Max                          289115 non-null  float64\n",
      " 247  S_11_Root mean square            289115 non-null  float64\n",
      " 248  B_4_ECDF Percentile_1            289115 non-null  float64\n",
      " 249  S_15_Max                         289115 non-null  float64\n",
      " 250  B_4_Absolute energy              289115 non-null  float64\n",
      " 251  B_40_ECDF Percentile_1           289115 non-null  float64\n",
      " 252  B_37_Root mean square            289115 non-null  float64\n",
      " 253  S_13_Root mean square            289115 non-null  float64\n",
      " 254  B_18_ECDF Percentile_0           289115 non-null  float64\n",
      " 255  S_15_Absolute energy             289115 non-null  float64\n",
      " 256  S_15_Average power               289115 non-null  float64\n",
      " 257  B_40_Max                         289115 non-null  float64\n",
      " 258  R_3_Max                          289115 non-null  float64\n",
      " 259  S_5_Mean                         289115 non-null  float64\n",
      " 260  S_5_Root mean square             289115 non-null  float64\n",
      " 261  D_65_Average power               289115 non-null  float64\n",
      " 262  D_65_Absolute energy             289115 non-null  float64\n",
      " 263  B_10_Min                         289115 non-null  float64\n",
      " 264  D_63_CR_Mean                     289115 non-null  float64\n",
      " 265  B_10_Root mean square            289115 non-null  float64\n",
      " 266  R_16_Interquartile range         289115 non-null  float64\n",
      " 267  D_65_Histogram mode              289115 non-null  float64\n",
      " 268  D_63_CR_Absolute energy          289115 non-null  float64\n",
      " 269  R_16_Mean absolute deviation     289115 non-null  float64\n",
      " 270  R_1_Average power                289115 non-null  float64\n",
      " 271  D_63_CO_ECDF Percentile_0        289115 non-null  float64\n",
      " 272  D_47_ECDF Percentile_0           289115 non-null  float64\n",
      " 273  D_63_CO_Absolute energy          289115 non-null  float64\n",
      " 274  R_1_Histogram mode               289115 non-null  float64\n",
      " 275  R_16_Mean                        289115 non-null  float64\n",
      " 276  D_65_Max                         289115 non-null  float64\n",
      " 277  D_65_Mean                        289115 non-null  float64\n",
      " 278  D_65_Mean absolute deviation     289115 non-null  float64\n",
      " 279  P_4_Median                       289115 non-null  float64\n",
      " 280  P_4_Mean                         289115 non-null  float64\n",
      " 281  P_4_Max                          289115 non-null  float64\n",
      " 282  B_10_ECDF Percentile_1           289115 non-null  float64\n",
      " 283  P_4_Histogram mode               289115 non-null  float64\n",
      " 284  S_8_Min                          289115 non-null  float64\n",
      " 285  P_4_Absolute energy              289115 non-null  float64\n",
      " 286  S_8_Median                       289115 non-null  float64\n",
      " 287  D_75_Standard deviation          289115 non-null  float64\n",
      " 288  S_8_Mean                         289115 non-null  float64\n",
      " 289  S_8_Max                          289115 non-null  float64\n",
      " 290  D_75_Max                         289115 non-null  float64\n",
      " 291  R_11_Mean                        289115 non-null  float64\n",
      " 292  D_65_Standard deviation          289115 non-null  float64\n",
      " 293  D_65_Peak to peak distance       289115 non-null  float64\n",
      " 294  R_1_Max                          289115 non-null  float64\n",
      " 295  R_1_Mean                         289115 non-null  float64\n",
      " 296  D_63_CO_Average power            289115 non-null  float64\n",
      " 297  R_1_Peak to peak distance        289115 non-null  float64\n",
      " 298  B_11_Median                      289115 non-null  float64\n",
      " 299  R_1_Mean absolute deviation      289115 non-null  float64\n",
      " 300  B_11_Min                         289115 non-null  float64\n",
      " 301  D_51_Histogram mode              289115 non-null  float64\n",
      " 302  B_11_Root mean square            289115 non-null  float64\n",
      " 303  R_3_Absolute energy              289115 non-null  float64\n",
      " 304  B_11_Standard deviation          289115 non-null  float64\n",
      " 305  R_3_Average power                289115 non-null  float64\n",
      " 306  D_51_Average power               289115 non-null  float64\n",
      " 307  S_8_Absolute energy              289115 non-null  float64\n",
      " 308  D_51_Absolute energy             289115 non-null  float64\n",
      " 309  D_47_Root mean square            289115 non-null  float64\n",
      " 310  D_47_Min                         289115 non-null  float64\n",
      " 311  D_47_Mean                        289115 non-null  float64\n",
      " 312  D_47_Max                         289115 non-null  float64\n",
      " 313  D_51_Median                      289115 non-null  float64\n",
      " 314  B_11_Mean                        289115 non-null  float64\n",
      " 315  D_51_Mean                        289115 non-null  float64\n",
      " 316  B_11_Max                         289115 non-null  float64\n",
      " 317  R_1_Root mean square             289115 non-null  float64\n",
      " 318  R_1_Standard deviation           289115 non-null  float64\n",
      " 319  D_60_Root mean square            289115 non-null  float64\n",
      " 320  R_2_Average power                289115 non-null  float64\n",
      " 321  D_60_Min                         289115 non-null  float64\n",
      " 322  D_58_Max                         289115 non-null  float64\n",
      " 323  D_51_Min                         289115 non-null  float64\n",
      " 324  D_51_Root mean square            289115 non-null  float64\n",
      " 325  B_10_Area under the curve        289115 non-null  float64\n",
      " 326  B_4_Sum absolute diff            289115 non-null  float64\n",
      " 327  B_5_Area under the curve         289115 non-null  float64\n",
      " 328  B_5_Mean absolute diff           289115 non-null  float64\n",
      " 329  B_5_Mean diff                    289115 non-null  float64\n",
      " 330  B_5_Median absolute diff         289115 non-null  float64\n",
      " 331  R_3_Mean absolute diff           289115 non-null  float64\n",
      " 332  B_7_Area under the curve         289115 non-null  float64\n",
      " 333  B_7_Mean diff                    289115 non-null  float64\n",
      " 334  R_3_Area under the curve         289115 non-null  float64\n",
      " 335  B_9_Area under the curve         289115 non-null  float64\n",
      " 336  R_2_Slope                        289115 non-null  float64\n",
      " 337  B_9_Mean diff                    289115 non-null  float64\n",
      " 338  B_9_Median diff                  289115 non-null  float64\n",
      " 339  B_9_Slope                        289115 non-null  float64\n",
      " 340  B_9_Sum absolute diff            289115 non-null  float64\n",
      " 341  R_2_Mean diff                    289115 non-null  float64\n",
      " 342  D_102_Area under the curve       289115 non-null  float64\n",
      " 343  B_4_Slope                        289115 non-null  float64\n",
      " 344  D_102_Median diff                289115 non-null  float64\n",
      " 345  B_4_Median diff                  289115 non-null  float64\n",
      " 346  B_4_Mean absolute diff           289115 non-null  float64\n",
      " 347  B_23_Slope                       289115 non-null  float64\n",
      " 348  B_24_Sum absolute diff           289115 non-null  float64\n",
      " 349  B_28_Mean diff                   289115 non-null  float64\n",
      " 350  B_28_Median diff                 289115 non-null  float64\n",
      " 351  S_11_Area under the curve        289115 non-null  float64\n",
      " 352  R_6_Mean diff                    289115 non-null  float64\n",
      " 353  B_37_Area under the curve        289115 non-null  float64\n",
      " 354  B_37_Mean diff                   289115 non-null  float64\n",
      " 355  B_37_Median diff                 289115 non-null  float64\n",
      " 356  R_5_Slope                        289115 non-null  float64\n",
      " 357  B_37_Positive turning points     289115 non-null  float64\n",
      " 358  B_37_Zero crossing rate          289115 non-null  float64\n",
      " 359  B_40_Area under the curve        289115 non-null  float64\n",
      " 360  R_5_Mean diff                    289115 non-null  float64\n",
      " 361  B_40_Mean absolute diff          289115 non-null  float64\n",
      " 362  B_4_Area under the curve         289115 non-null  float64\n",
      " 363  B_4_Centroid                     289115 non-null  float64\n",
      " 364  B_4_Mean diff                    289115 non-null  float64\n",
      " 365  R_2_Area under the curve         289115 non-null  float64\n",
      " 366  R_1_Slope                        289115 non-null  float64\n",
      " 367  D_126_1.0_Area under the curve   289115 non-null  float64\n",
      " 368  P_4_Area under the curve         289115 non-null  float64\n",
      " 369  D_75_Signal distance             289115 non-null  float64\n",
      " 370  D_60_Area under the curve        289115 non-null  float64\n",
      " 371  D_75_Mean diff                   289115 non-null  float64\n",
      " 372  D_75_Mean absolute diff          289115 non-null  float64\n",
      " 373  D_75_Area under the curve        289115 non-null  float64\n",
      " 374  D_65_Sum absolute diff           289115 non-null  float64\n",
      " 375  D_65_Slope                       289115 non-null  float64\n",
      " 376  D_65_Signal distance             289115 non-null  float64\n",
      " 377  D_63_CL_Slope                    289115 non-null  float64\n",
      " 378  D_65_Mean diff                   289115 non-null  float64\n",
      " 379  D_65_Mean absolute diff          289115 non-null  float64\n",
      " 380  D_63_CO_Area under the curve     289115 non-null  float64\n",
      " 381  D_63_CO_Centroid                 289115 non-null  float64\n",
      " 382  D_65_Area under the curve        289115 non-null  float64\n",
      " 383  D_63_CO_Mean diff                289115 non-null  float64\n",
      " 384  D_63_CR_Centroid                 289115 non-null  float64\n",
      " 385  P_4_Sum absolute diff            289115 non-null  float64\n",
      " 386  R_10_Mean absolute diff          289115 non-null  float64\n",
      " 387  D_51_Area under the curve        289115 non-null  float64\n",
      " 388  R_10_Slope                       289115 non-null  float64\n",
      " 389  R_1_Mean diff                    289115 non-null  float64\n",
      " 390  R_1_Mean absolute diff           289115 non-null  float64\n",
      " 391  R_1_Area under the curve         289115 non-null  float64\n",
      " 392  R_16_Slope                       289115 non-null  float64\n",
      " 393  D_133_Area under the curve       289115 non-null  float64\n",
      " 394  R_16_Mean absolute diff          289115 non-null  float64\n",
      " 395  D_133_Signal distance            289115 non-null  float64\n",
      " 396  R_16_Area under the curve        289115 non-null  float64\n",
      " 397  B_23_Positive turning points     289115 non-null  float64\n",
      " 398  D_144_Autocorrelation            289115 non-null  float64\n",
      " 399  D_144_Mean diff                  289115 non-null  float64\n",
      " 400  D_39_Area under the curve        289115 non-null  float64\n",
      " 401  D_39_Centroid                    289115 non-null  float64\n",
      " 402  D_39_Mean diff                   289115 non-null  float64\n",
      " 403  D_39_Signal distance             289115 non-null  float64\n",
      " 404  D_39_Slope                       289115 non-null  float64\n",
      " 405  D_47_Area under the curve        289115 non-null  float64\n",
      " 406  R_11_Area under the curve        289115 non-null  float64\n",
      " 407  D_144_Mean absolute diff         289115 non-null  float64\n",
      " 408  B_23_Mean diff                   289115 non-null  float64\n",
      " 409  B_5_Slope                        289115 non-null  float64\n",
      " 410  D_63_CO_Slope                    289115 non-null  float64\n",
      " 411  S_15_Area under the curve        289115 non-null  float64\n",
      " 412  S_26_Sum absolute diff           289115 non-null  float64\n",
      " 413  B_18_Area under the curve        289115 non-null  float64\n",
      " 414  S_26_Mean absolute diff          289115 non-null  float64\n",
      " 415  B_18_Mean diff                   289115 non-null  float64\n",
      " 416  S_5_Signal distance              289115 non-null  float64\n",
      " 417  B_14_Mean diff                   289115 non-null  float64\n",
      " 418  B_11_Mean diff                   289115 non-null  float64\n",
      " 419  S_8_Area under the curve         289115 non-null  float64\n",
      " 420  B_11_Area under the curve        289115 non-null  float64\n",
      " 421  S_8_Centroid                     289115 non-null  float64\n",
      " 422  B_1_Area under the curve         289115 non-null  float64\n",
      " 423  B_1_Mean diff                    289115 non-null  float64\n",
      " 424  S_26_Area under the curve        289115 non-null  float64\n",
      " 425  S_5_Area under the curve         289115 non-null  float64\n",
      "dtypes: float32(139), float64(285), int64(1), object(1)\n",
      "memory usage: 786.4+ MB\n"
     ]
    }
   ],
   "source": [
    "train_df.info(verbose=True, show_counts=True)"
   ]
  },
  {
   "cell_type": "code",
   "execution_count": 11,
   "id": "75b72832",
   "metadata": {},
   "outputs": [],
   "source": [
    "from utils.mlflow_ml_model_logger import log_classification_model"
   ]
  },
  {
   "cell_type": "code",
   "execution_count": 12,
   "id": "0cb2cffe",
   "metadata": {},
   "outputs": [
    {
     "name": "stdout",
     "output_type": "stream",
     "text": [
      "Starting MLflow Run: Logistic Regression Base Model - Test (0906710ec9a342cb9a17c01edd71e329)\n",
      "Logged model parameters.\n",
      "Training the model...\n"
     ]
    },
    {
     "name": "stderr",
     "output_type": "stream",
     "text": [
      "c:\\Users\\vaseekaranv\\AppData\\Local\\anaconda3\\envs\\nibm_dl\\lib\\site-packages\\daal4py\\sklearn\\linear_model\\logistic_path.py:627: ConvergenceWarning: lbfgs failed to converge (status=1):\n",
      "STOP: TOTAL NO. of ITERATIONS REACHED LIMIT.\n",
      "\n",
      "Increase the number of iterations (max_iter) or scale the data as shown in:\n",
      "    https://scikit-learn.org/stable/modules/preprocessing.html\n",
      "Please also refer to the documentation for alternative solver options:\n",
      "    https://scikit-learn.org/stable/modules/linear_model.html#logistic-regression\n",
      "  n_iter_i = _check_optimize_result(\n"
     ]
    },
    {
     "name": "stdout",
     "output_type": "stream",
     "text": [
      "Model training complete.\n",
      "Evaluating the model on the validation set...\n",
      "Attempting to find custom threshold using find_threshold_binary_search for Recall[0] >= 0.9800\n",
      "Target Recall: >= 0.9800 for Class 0\n",
      "Threshold found by Binary Search: 0.9000975\n",
      "Achieved Recall at Threshold: 0.9800\n",
      "Using threshold: Custom threshold 0.9001 aiming for Recall[0] >= 0.9800 (func achieved 0.9800)\n",
      "Calculating performance metrics...\n",
      "Validation Accuracy: 0.8323\n",
      "Validation Weighted F1-Score: 0.8090\n",
      "Validation Macro F1-Score: 0.7275\n",
      "Validation Recall Class 0: 0.9800\n",
      "Validation Recall Class 1: 0.4097\n",
      "Validation Precision Class 0: 0.8261\n",
      "Validation Precision Class 1: 0.8774\n",
      "\n",
      "              precision    recall  f1-score   support\n",
      "\n",
      "           0     0.8261    0.9800    0.8965    102026\n",
      "           1     0.8774    0.4097    0.5586     35648\n",
      "\n",
      "    accuracy                         0.8323    137674\n",
      "   macro avg     0.8518    0.6948    0.7275    137674\n",
      "weighted avg     0.8394    0.8323    0.8090    137674\n",
      "\n",
      "Logged validation metrics (rounded to 4 decimals).\n",
      "Generating Confusion Matrix plot...\n",
      "Saved Confusion Matrix plot to: confusion_matrix_val.png\n"
     ]
    },
    {
     "data": {
      "image/png": "[encoded data removed]",
      "text/plain": [
       "<Figure size 600x500 with 1 Axes>"
      ]
     },
     "metadata": {},
     "output_type": "display_data"
    },
    {
     "name": "stdout",
     "output_type": "stream",
     "text": [
      "Displayed Confusion Matrix plot.\n",
      "Logged Confusion Matrix plot artifact.\n",
      "Logging classification report artifact...\n",
      "Logged classification report artifact: classification_report_val.json\n",
      "Logging the model...\n"
     ]
    },
    {
     "name": "stderr",
     "output_type": "stream",
     "text": [
      "2025/04/17 10:32:10 WARNING mlflow.models.model: Model logged without a signature and input example. Please set `input_example` parameter when logging the model to auto infer the model signature.\n"
     ]
    },
    {
     "name": "stdout",
     "output_type": "stream",
     "text": [
      "Logged the trained model using mlflow.sklearn.\n",
      "MLflow Run completed: 0906710ec9a342cb9a17c01edd71e329\n",
      "View the run in the MLflow UI.\n"
     ]
    }
   ],
   "source": [
    "#Logistic Regression\n",
    "from sklearn.linear_model import LogisticRegression\n",
    "model = LogisticRegression(random_state=0, class_weight='balanced')\n",
    "log_classification_model(\n",
    "        model=model,\n",
    "        X_train=train_df.drop(columns=['customer_ID']),\n",
    "        y_train=y_train['target'].values,\n",
    "        X_val=test_df.drop(columns=['customer_ID']),\n",
    "        y_val=y_test['target'].values,\n",
    "        run_name=\"Logistic Regression Base Model - Test\"\n",
    "    )"
   ]
  },
  {
   "cell_type": "code",
   "execution_count": 13,
   "id": "6692e31b",
   "metadata": {},
   "outputs": [
    {
     "name": "stdout",
     "output_type": "stream",
     "text": [
      "Starting MLflow Run: Logistic Regression Base Model - Not Class Balanced - Test (6efde4c10cfd4fa49027fad07df837c6)\n",
      "Logged model parameters.\n",
      "Training the model...\n"
     ]
    },
    {
     "name": "stderr",
     "output_type": "stream",
     "text": [
      "c:\\Users\\vaseekaranv\\AppData\\Local\\anaconda3\\envs\\nibm_dl\\lib\\site-packages\\daal4py\\sklearn\\linear_model\\logistic_path.py:627: ConvergenceWarning: lbfgs failed to converge (status=1):\n",
      "STOP: TOTAL NO. of ITERATIONS REACHED LIMIT.\n",
      "\n",
      "Increase the number of iterations (max_iter) or scale the data as shown in:\n",
      "    https://scikit-learn.org/stable/modules/preprocessing.html\n",
      "Please also refer to the documentation for alternative solver options:\n",
      "    https://scikit-learn.org/stable/modules/linear_model.html#logistic-regression\n",
      "  n_iter_i = _check_optimize_result(\n"
     ]
    },
    {
     "name": "stdout",
     "output_type": "stream",
     "text": [
      "Model training complete.\n",
      "Evaluating the model on the validation set...\n",
      "Attempting to find custom threshold using find_threshold_binary_search for Recall[0] >= 0.9800\n",
      "Target Recall: >= 0.9800 for Class 0\n",
      "Threshold found by Binary Search: 0.7443509\n",
      "Achieved Recall at Threshold: 0.9800\n",
      "Using threshold: Custom threshold 0.7444 aiming for Recall[0] >= 0.9800 (func achieved 0.9800)\n",
      "Calculating performance metrics...\n",
      "Validation Accuracy: 0.8344\n",
      "Validation Weighted F1-Score: 0.8118\n",
      "Validation Macro F1-Score: 0.7320\n",
      "Validation Recall Class 0: 0.9800\n",
      "Validation Recall Class 1: 0.4176\n",
      "Validation Precision Class 0: 0.8280\n",
      "Validation Precision Class 1: 0.8795\n",
      "\n",
      "              precision    recall  f1-score   support\n",
      "\n",
      "           0     0.8280    0.9800    0.8976    102026\n",
      "           1     0.8795    0.4176    0.5663     35648\n",
      "\n",
      "    accuracy                         0.8344    137674\n",
      "   macro avg     0.8538    0.6988    0.7320    137674\n",
      "weighted avg     0.8414    0.8344    0.8118    137674\n",
      "\n",
      "Logged validation metrics (rounded to 4 decimals).\n",
      "Generating Confusion Matrix plot...\n",
      "Saved Confusion Matrix plot to: confusion_matrix_val.png\n"
     ]
    },
    {
     "data": {
      "image/png": "[encoded data removed]",
      "text/plain": [
       "<Figure size 600x500 with 1 Axes>"
      ]
     },
     "metadata": {},
     "output_type": "display_data"
    },
    {
     "name": "stdout",
     "output_type": "stream",
     "text": [
      "Displayed Confusion Matrix plot.\n",
      "Logged Confusion Matrix plot artifact.\n",
      "Logging classification report artifact...\n",
      "Logged classification report artifact: classification_report_val.json\n",
      "Logging the model...\n"
     ]
    },
    {
     "name": "stderr",
     "output_type": "stream",
     "text": [
      "2025/04/17 10:32:58 WARNING mlflow.models.model: Model logged without a signature and input example. Please set `input_example` parameter when logging the model to auto infer the model signature.\n"
     ]
    },
    {
     "name": "stdout",
     "output_type": "stream",
     "text": [
      "Logged the trained model using mlflow.sklearn.\n",
      "MLflow Run completed: 6efde4c10cfd4fa49027fad07df837c6\n",
      "View the run in the MLflow UI.\n"
     ]
    }
   ],
   "source": [
    "model = LogisticRegression(random_state=0)\n",
    "log_classification_model(\n",
    "        model=model,\n",
    "        X_train=train_df.drop(columns=['customer_ID']),\n",
    "        y_train=y_train['target'].values,\n",
    "        X_val=test_df.drop(columns=['customer_ID']),\n",
    "        y_val=y_test['target'].values,\n",
    "        run_name=\"Logistic Regression Base Model - Not Class Balanced - Test\"\n",
    "    )"
   ]
  },
  {
   "cell_type": "code",
   "execution_count": 14,
   "id": "69dcec84",
   "metadata": {},
   "outputs": [
    {
     "name": "stdout",
     "output_type": "stream",
     "text": [
      "Starting MLflow Run: XGBoost Base Model - Test (5de9663860694a30b71777fb0855f869)\n",
      "Logged model parameters.\n",
      "Training the model...\n",
      "Model training complete.\n",
      "Evaluating the model on the validation set...\n"
     ]
    },
    {
     "name": "stderr",
     "output_type": "stream",
     "text": [
      "c:\\Users\\vaseekaranv\\AppData\\Local\\anaconda3\\envs\\nibm_dl\\lib\\site-packages\\xgboost\\core.py:158: UserWarning: [10:33:04] WARNING: C:\\buildkite-agent\\builds\\buildkite-windows-cpu-autoscaling-group-i-0c55ff5f71b100e98-1\\xgboost\\xgboost-ci-windows\\src\\common\\error_msg.cc:58: Falling back to prediction using DMatrix due to mismatched devices. This might lead to higher memory usage and slower performance. XGBoost is running on: cuda:0, while the input data is on: cpu.\n",
      "Potential solutions:\n",
      "- Use a data structure that matches the device ordinal in the booster.\n",
      "- Set the device for booster before call to inplace_predict.\n",
      "\n",
      "This warning will only be shown once.\n",
      "\n",
      "  warnings.warn(smsg, UserWarning)\n"
     ]
    },
    {
     "name": "stdout",
     "output_type": "stream",
     "text": [
      "Attempting to find custom threshold using find_threshold_binary_search for Recall[0] >= 0.9800\n",
      "Target Recall: >= 0.9800 for Class 0\n",
      "Threshold found by Binary Search: 0.7901006\n",
      "Achieved Recall at Threshold: 0.9800\n",
      "Using threshold: Custom threshold 0.7901 aiming for Recall[0] >= 0.9800 (func achieved 0.9800)\n",
      "Calculating performance metrics...\n",
      "Validation Accuracy: 0.8653\n",
      "Validation Weighted F1-Score: 0.8526\n",
      "Validation Macro F1-Score: 0.7943\n",
      "Validation Recall Class 0: 0.9800\n",
      "Validation Recall Class 1: 0.5368\n",
      "Validation Precision Class 0: 0.8583\n",
      "Validation Precision Class 1: 0.9037\n",
      "\n",
      "              precision    recall  f1-score   support\n",
      "\n",
      "           0     0.8583    0.9800    0.9151    102026\n",
      "           1     0.9037    0.5368    0.6735     35648\n",
      "\n",
      "    accuracy                         0.8653    137674\n",
      "   macro avg     0.8810    0.7584    0.7943    137674\n",
      "weighted avg     0.8700    0.8653    0.8526    137674\n",
      "\n",
      "Logged validation metrics (rounded to 4 decimals).\n",
      "Generating Confusion Matrix plot...\n",
      "Saved Confusion Matrix plot to: confusion_matrix_val.png\n"
     ]
    },
    {
     "data": {
      "image/png": "[encoded data removed]",
      "text/plain": [
       "<Figure size 600x500 with 1 Axes>"
      ]
     },
     "metadata": {},
     "output_type": "display_data"
    },
    {
     "name": "stdout",
     "output_type": "stream",
     "text": [
      "Displayed Confusion Matrix plot.\n",
      "Logged Confusion Matrix plot artifact.\n",
      "Logging classification report artifact...\n",
      "Logged classification report artifact: classification_report_val.json\n",
      "Logging the model...\n"
     ]
    },
    {
     "name": "stderr",
     "output_type": "stream",
     "text": [
      "2025/04/17 10:33:12 WARNING mlflow.models.model: Model logged without a signature and input example. Please set `input_example` parameter when logging the model to auto infer the model signature.\n"
     ]
    },
    {
     "name": "stdout",
     "output_type": "stream",
     "text": [
      "Logged the trained model using mlflow.sklearn.\n",
      "MLflow Run completed: 5de9663860694a30b71777fb0855f869\n",
      "View the run in the MLflow UI.\n"
     ]
    }
   ],
   "source": [
    "#XGBoost\n",
    "from xgboost import XGBClassifier\n",
    "model = XGBClassifier(random_state=0, tree_method = 'hist', device = 'cuda')\n",
    "log_classification_model(\n",
    "        model=model,\n",
    "        X_train=train_df.drop(columns=['customer_ID']),\n",
    "        y_train=y_train['target'].values,\n",
    "        X_val=test_df.drop(columns=['customer_ID']),\n",
    "        y_val=y_test['target'].values,\n",
    "        run_name=\"XGBoost Base Model - Test\"\n",
    "    )"
   ]
  },
  {
   "cell_type": "code",
   "execution_count": 15,
   "id": "d4473b9e",
   "metadata": {},
   "outputs": [
    {
     "name": "stdout",
     "output_type": "stream",
     "text": [
      "Starting MLflow Run: CatBoost Base Model - Test (4ceba13cade64a56a8bcb98ae19d586f)\n",
      "Logged model parameters.\n",
      "Training the model...\n",
      "Model training complete.\n",
      "Evaluating the model on the validation set...\n",
      "Attempting to find custom threshold using find_threshold_binary_search for Recall[0] >= 0.9800\n",
      "Target Recall: >= 0.9800 for Class 0\n",
      "Threshold found by Binary Search: 0.7551773\n",
      "Achieved Recall at Threshold: 0.9800\n",
      "Using threshold: Custom threshold 0.7552 aiming for Recall[0] >= 0.9800 (func achieved 0.9800)\n",
      "Calculating performance metrics...\n",
      "Validation Accuracy: 0.8698\n",
      "Validation Weighted F1-Score: 0.8583\n",
      "Validation Macro F1-Score: 0.8029\n",
      "Validation Recall Class 0: 0.9800\n",
      "Validation Recall Class 1: 0.5546\n",
      "Validation Precision Class 0: 0.8630\n",
      "Validation Precision Class 1: 0.9065\n",
      "\n",
      "              precision    recall  f1-score   support\n",
      "\n",
      "           0     0.8630    0.9800    0.9178    102026\n",
      "           1     0.9065    0.5546    0.6881     35648\n",
      "\n",
      "    accuracy                         0.8698    137674\n",
      "   macro avg     0.8847    0.7673    0.8029    137674\n",
      "weighted avg     0.8742    0.8698    0.8583    137674\n",
      "\n",
      "Logged validation metrics (rounded to 4 decimals).\n",
      "Generating Confusion Matrix plot...\n",
      "Saved Confusion Matrix plot to: confusion_matrix_val.png\n"
     ]
    },
    {
     "data": {
      "image/png": "[encoded data removed]",
      "text/plain": [
       "<Figure size 600x500 with 1 Axes>"
      ]
     },
     "metadata": {},
     "output_type": "display_data"
    },
    {
     "name": "stdout",
     "output_type": "stream",
     "text": [
      "Displayed Confusion Matrix plot.\n",
      "Logged Confusion Matrix plot artifact.\n",
      "Logging classification report artifact...\n",
      "Logged classification report artifact: classification_report_val.json\n",
      "Logging the model...\n"
     ]
    },
    {
     "name": "stderr",
     "output_type": "stream",
     "text": [
      "2025/04/17 10:33:35 WARNING mlflow.models.model: Model logged without a signature and input example. Please set `input_example` parameter when logging the model to auto infer the model signature.\n"
     ]
    },
    {
     "name": "stdout",
     "output_type": "stream",
     "text": [
      "Logged the trained model using mlflow.sklearn.\n",
      "MLflow Run completed: 4ceba13cade64a56a8bcb98ae19d586f\n",
      "View the run in the MLflow UI.\n"
     ]
    }
   ],
   "source": [
    "#CatBoost\n",
    "from catboost import CatBoostClassifier\n",
    "model = CatBoostClassifier(random_state=0, task_type='GPU', devices='0:1', verbose = 0)\n",
    "log_classification_model(\n",
    "        model=model,\n",
    "        X_train=train_df.drop(columns=['customer_ID']),\n",
    "        y_train=y_train['target'].values,\n",
    "        X_val=test_df.drop(columns=['customer_ID']),\n",
    "        y_val=y_test['target'].values,\n",
    "        run_name=\"CatBoost Base Model - Test\"\n",
    "    )"
   ]
  },
  {
   "cell_type": "code",
   "execution_count": 16,
   "id": "2907f80c",
   "metadata": {},
   "outputs": [
    {
     "name": "stdout",
     "output_type": "stream",
     "text": [
      "Starting MLflow Run: LightGBM Base Model - Test (0518443c0811497b99a68df985891364)\n",
      "Logged model parameters.\n",
      "Training the model...\n",
      "[LightGBM] [Warning] Found whitespace in feature_names, replace with underlines\n",
      "[LightGBM] [Info] Number of positive: 74862, number of negative: 214253\n",
      "[LightGBM] [Info] Auto-choosing col-wise multi-threading, the overhead of testing was 0.229719 seconds.\n",
      "You can set `force_col_wise=true` to remove the overhead.\n",
      "[LightGBM] [Info] Total Bins 101943\n",
      "[LightGBM] [Info] Number of data points in the train set: 289115, number of used features: 425\n",
      "[LightGBM] [Info] [binary:BoostFromScore]: pavg=0.258935 -> initscore=-1.051511\n",
      "[LightGBM] [Info] Start training from score -1.051511\n",
      "Model training complete.\n",
      "Evaluating the model on the validation set...\n",
      "Attempting to find custom threshold using find_threshold_binary_search for Recall[0] >= 0.9800\n",
      "Target Recall: >= 0.9800 for Class 0\n",
      "Threshold found by Binary Search: 0.7716132\n",
      "Achieved Recall at Threshold: 0.9800\n",
      "Using threshold: Custom threshold 0.7716 aiming for Recall[0] >= 0.9800 (func achieved 0.9800)\n",
      "Calculating performance metrics...\n",
      "Validation Accuracy: 0.8677\n",
      "Validation Weighted F1-Score: 0.8557\n",
      "Validation Macro F1-Score: 0.7990\n",
      "Validation Recall Class 0: 0.9800\n",
      "Validation Recall Class 1: 0.5464\n",
      "Validation Precision Class 0: 0.8608\n",
      "Validation Precision Class 1: 0.9052\n",
      "\n",
      "              precision    recall  f1-score   support\n",
      "\n",
      "           0     0.8608    0.9800    0.9165    102026\n",
      "           1     0.9052    0.5464    0.6814     35648\n",
      "\n",
      "    accuracy                         0.8677    137674\n",
      "   macro avg     0.8830    0.7632    0.7990    137674\n",
      "weighted avg     0.8723    0.8677    0.8557    137674\n",
      "\n",
      "Logged validation metrics (rounded to 4 decimals).\n",
      "Generating Confusion Matrix plot...\n",
      "Saved Confusion Matrix plot to: confusion_matrix_val.png\n"
     ]
    },
    {
     "data": {
      "image/png": "[encoded data removed]",
      "text/plain": [
       "<Figure size 600x500 with 1 Axes>"
      ]
     },
     "metadata": {},
     "output_type": "display_data"
    },
    {
     "name": "stdout",
     "output_type": "stream",
     "text": [
      "Displayed Confusion Matrix plot.\n",
      "Logged Confusion Matrix plot artifact.\n",
      "Logging classification report artifact...\n",
      "Logged classification report artifact: classification_report_val.json\n",
      "Logging the model...\n"
     ]
    },
    {
     "name": "stderr",
     "output_type": "stream",
     "text": [
      "2025/04/17 10:34:03 WARNING mlflow.models.model: Model logged without a signature and input example. Please set `input_example` parameter when logging the model to auto infer the model signature.\n"
     ]
    },
    {
     "name": "stdout",
     "output_type": "stream",
     "text": [
      "Logged the trained model using mlflow.sklearn.\n",
      "MLflow Run completed: 0518443c0811497b99a68df985891364\n",
      "View the run in the MLflow UI.\n"
     ]
    }
   ],
   "source": [
    "#LigtGBM\n",
    "from lightgbm import LGBMClassifier\n",
    "model = LGBMClassifier(random_state=0)\n",
    "log_classification_model(\n",
    "        model=model,\n",
    "        X_train=train_df.drop(columns=['customer_ID']),\n",
    "        y_train=y_train['target'].values,\n",
    "        X_val=test_df.drop(columns=['customer_ID']),\n",
    "        y_val=y_test['target'].values,\n",
    "        run_name=\"LightGBM Base Model - Test\"\n",
    "    )"
   ]
  },
  {
   "cell_type": "code",
   "execution_count": 17,
   "id": "2aa648ea",
   "metadata": {},
   "outputs": [
    {
     "name": "stdout",
     "output_type": "stream",
     "text": [
      "Starting MLflow Run: Hist Gradient Boosting Base Model - Test (5dd51ced67914ac48b69306a80b540b0)\n",
      "Logged model parameters.\n",
      "Training the model...\n",
      "Model training complete.\n",
      "Evaluating the model on the validation set...\n",
      "Attempting to find custom threshold using find_threshold_binary_search for Recall[0] >= 0.9800\n",
      "Target Recall: >= 0.9800 for Class 0\n",
      "Threshold found by Binary Search: 0.7702805\n",
      "Achieved Recall at Threshold: 0.9800\n",
      "Using threshold: Custom threshold 0.7703 aiming for Recall[0] >= 0.9800 (func achieved 0.9800)\n",
      "Calculating performance metrics...\n",
      "Validation Accuracy: 0.8684\n",
      "Validation Weighted F1-Score: 0.8565\n",
      "Validation Macro F1-Score: 0.8002\n",
      "Validation Recall Class 0: 0.9800\n",
      "Validation Recall Class 1: 0.5490\n",
      "Validation Precision Class 0: 0.8615\n",
      "Validation Precision Class 1: 0.9056\n",
      "\n",
      "              precision    recall  f1-score   support\n",
      "\n",
      "           0     0.8615    0.9800    0.9169    102026\n",
      "           1     0.9056    0.5490    0.6835     35648\n",
      "\n",
      "    accuracy                         0.8684    137674\n",
      "   macro avg     0.8835    0.7645    0.8002    137674\n",
      "weighted avg     0.8729    0.8684    0.8565    137674\n",
      "\n",
      "Logged validation metrics (rounded to 4 decimals).\n",
      "Generating Confusion Matrix plot...\n",
      "Saved Confusion Matrix plot to: confusion_matrix_val.png\n"
     ]
    },
    {
     "data": {
      "image/png": "[encoded data removed]",
      "text/plain": [
       "<Figure size 600x500 with 1 Axes>"
      ]
     },
     "metadata": {},
     "output_type": "display_data"
    },
    {
     "name": "stdout",
     "output_type": "stream",
     "text": [
      "Displayed Confusion Matrix plot.\n",
      "Logged Confusion Matrix plot artifact.\n",
      "Logging classification report artifact...\n",
      "Logged classification report artifact: classification_report_val.json\n",
      "Logging the model...\n"
     ]
    },
    {
     "name": "stderr",
     "output_type": "stream",
     "text": [
      "2025/04/17 10:34:37 WARNING mlflow.models.model: Model logged without a signature and input example. Please set `input_example` parameter when logging the model to auto infer the model signature.\n"
     ]
    },
    {
     "name": "stdout",
     "output_type": "stream",
     "text": [
      "Logged the trained model using mlflow.sklearn.\n",
      "MLflow Run completed: 5dd51ced67914ac48b69306a80b540b0\n",
      "View the run in the MLflow UI.\n"
     ]
    }
   ],
   "source": [
    "#Gradient Boosting\n",
    "from sklearn.ensemble import HistGradientBoostingClassifier\n",
    "model = HistGradientBoostingClassifier(random_state=0)\n",
    "log_classification_model(\n",
    "        model=model,\n",
    "        X_train=train_df.drop(columns=['customer_ID']),\n",
    "        y_train=y_train['target'].values,\n",
    "        X_val=test_df.drop(columns=['customer_ID']),\n",
    "        y_val=y_test['target'].values,\n",
    "        run_name=\"Hist Gradient Boosting Base Model - Test\"\n",
    "    )"
   ]
  },
  {
   "cell_type": "code",
   "execution_count": 23,
   "id": "d7691a16",
   "metadata": {},
   "outputs": [
    {
     "name": "stdout",
     "output_type": "stream",
     "text": [
      "Starting MLflow Run: Easy Ensemble + XGBoost Base Model - Test (045b0cd45d344f7db44e86ec703f4ba4)\n",
      "Logged model parameters.\n",
      "Training the model...\n",
      "Model training complete.\n",
      "Evaluating the model on the validation set...\n",
      "Attempting to find custom threshold using find_threshold_binary_search for Recall[0] >= 0.9800\n",
      "Target Recall: >= 0.9800 for Class 0\n",
      "Threshold found by Binary Search: 0.9055046\n",
      "Achieved Recall at Threshold: 0.9800\n",
      "Using threshold: Custom threshold 0.9055 aiming for Recall[0] >= 0.9800 (func achieved 0.9800)\n",
      "Calculating performance metrics...\n",
      "Validation Accuracy: 0.8704\n",
      "Validation Weighted F1-Score: 0.8590\n",
      "Validation Macro F1-Score: 0.8039\n",
      "Validation Recall Class 0: 0.9800\n",
      "Validation Recall Class 1: 0.5566\n",
      "Validation Precision Class 0: 0.8635\n",
      "Validation Precision Class 1: 0.9068\n",
      "\n",
      "              precision    recall  f1-score   support\n",
      "\n",
      "           0     0.8635    0.9800    0.9181    102026\n",
      "           1     0.9068    0.5566    0.6898     35648\n",
      "\n",
      "    accuracy                         0.8704    137674\n",
      "   macro avg     0.8851    0.7683    0.8039    137674\n",
      "weighted avg     0.8747    0.8704    0.8590    137674\n",
      "\n",
      "Logged validation metrics (rounded to 4 decimals).\n",
      "Generating Confusion Matrix plot...\n",
      "Saved Confusion Matrix plot to: confusion_matrix_val.png\n"
     ]
    },
    {
     "data": {
      "image/png": "[encoded data removed]",
      "text/plain": [
       "<Figure size 600x500 with 1 Axes>"
      ]
     },
     "metadata": {},
     "output_type": "display_data"
    },
    {
     "name": "stdout",
     "output_type": "stream",
     "text": [
      "Displayed Confusion Matrix plot.\n",
      "Logged Confusion Matrix plot artifact.\n",
      "Logging classification report artifact...\n",
      "Logged classification report artifact: classification_report_val.json\n",
      "Logging the model...\n"
     ]
    },
    {
     "name": "stderr",
     "output_type": "stream",
     "text": [
      "2025/04/17 10:46:20 WARNING mlflow.models.model: Model logged without a signature and input example. Please set `input_example` parameter when logging the model to auto infer the model signature.\n"
     ]
    },
    {
     "name": "stdout",
     "output_type": "stream",
     "text": [
      "Logged the trained model using mlflow.sklearn.\n",
      "MLflow Run completed: 045b0cd45d344f7db44e86ec703f4ba4\n",
      "View the run in the MLflow UI.\n"
     ]
    }
   ],
   "source": [
    "#Easy Ensemble + XGBoost\n",
    "from imblearn.ensemble import EasyEnsembleClassifier\n",
    "model = EasyEnsembleClassifier(random_state=0, n_jobs=-1, estimator=XGBClassifier(random_state = 0, tree_method = 'hist', device = 'cuda'))\n",
    "log_classification_model(\n",
    "        model=model,\n",
    "        X_train=train_df.drop(columns=['customer_ID']),\n",
    "        y_train=y_train['target'].values,\n",
    "        X_val=test_df.drop(columns=['customer_ID']),\n",
    "        y_val=y_test['target'].values,\n",
    "        run_name=\"Easy Ensemble + XGBoost Base Model - Test\"\n",
    "    )"
   ]
  },
  {
   "cell_type": "code",
   "execution_count": 24,
   "id": "4f878318",
   "metadata": {},
   "outputs": [
    {
     "name": "stdout",
     "output_type": "stream",
     "text": [
      "Starting MLflow Run: Easy Ensemble + LightGBM Base Model - Test (2e954199c62b404a965eee2f57a2299b)\n",
      "Logged model parameters.\n",
      "Training the model...\n",
      "Model training complete.\n",
      "Evaluating the model on the validation set...\n",
      "Attempting to find custom threshold using find_threshold_binary_search for Recall[0] >= 0.9800\n",
      "Target Recall: >= 0.9800 for Class 0\n",
      "Threshold found by Binary Search: 0.9011245\n",
      "Achieved Recall at Threshold: 0.9800\n",
      "Using threshold: Custom threshold 0.9011 aiming for Recall[0] >= 0.9800 (func achieved 0.9800)\n",
      "Calculating performance metrics...\n",
      "Validation Accuracy: 0.8685\n",
      "Validation Weighted F1-Score: 0.8566\n",
      "Validation Macro F1-Score: 0.8005\n",
      "Validation Recall Class 0: 0.9800\n",
      "Validation Recall Class 1: 0.5494\n",
      "Validation Precision Class 0: 0.8616\n",
      "Validation Precision Class 1: 0.9057\n",
      "\n",
      "              precision    recall  f1-score   support\n",
      "\n",
      "           0     0.8616    0.9800    0.9170    102026\n",
      "           1     0.9057    0.5494    0.6839     35648\n",
      "\n",
      "    accuracy                         0.8685    137674\n",
      "   macro avg     0.8836    0.7647    0.8005    137674\n",
      "weighted avg     0.8730    0.8685    0.8566    137674\n",
      "\n",
      "Logged validation metrics (rounded to 4 decimals).\n",
      "Generating Confusion Matrix plot...\n",
      "Saved Confusion Matrix plot to: confusion_matrix_val.png\n"
     ]
    },
    {
     "data": {
      "image/png": "[encoded data removed]",
      "text/plain": [
       "<Figure size 600x500 with 1 Axes>"
      ]
     },
     "metadata": {},
     "output_type": "display_data"
    },
    {
     "name": "stdout",
     "output_type": "stream",
     "text": [
      "Displayed Confusion Matrix plot.\n",
      "Logged Confusion Matrix plot artifact.\n",
      "Logging classification report artifact...\n",
      "Logged classification report artifact: classification_report_val.json\n",
      "Logging the model...\n"
     ]
    },
    {
     "name": "stderr",
     "output_type": "stream",
     "text": [
      "2025/04/17 10:54:50 WARNING mlflow.models.model: Model logged without a signature and input example. Please set `input_example` parameter when logging the model to auto infer the model signature.\n"
     ]
    },
    {
     "name": "stdout",
     "output_type": "stream",
     "text": [
      "Logged the trained model using mlflow.sklearn.\n",
      "MLflow Run completed: 2e954199c62b404a965eee2f57a2299b\n",
      "View the run in the MLflow UI.\n"
     ]
    }
   ],
   "source": [
    "# Easy Ensemble + LightGBM\n",
    "from imblearn.ensemble import EasyEnsembleClassifier\n",
    "model = EasyEnsembleClassifier(random_state=0, n_jobs=-1, estimator=LGBMClassifier(random_state = 0))\n",
    "log_classification_model(\n",
    "        model=model,\n",
    "        X_train=train_df.drop(columns=['customer_ID']),\n",
    "        y_train=y_train['target'].values,\n",
    "        X_val=test_df.drop(columns=['customer_ID']),\n",
    "        y_val=y_test['target'].values,\n",
    "        run_name=\"Easy Ensemble + LightGBM Base Model - Test\"\n",
    "    )"
   ]
  },
  {
   "cell_type": "code",
   "execution_count": 25,
   "id": "fb72e8b5",
   "metadata": {},
   "outputs": [
    {
     "name": "stdout",
     "output_type": "stream",
     "text": [
      "Starting MLflow Run: Easy Ensemble + CatBoost Base Model - Test (cc6cb463fddb4ebb98260234776a844a)\n",
      "Logged model parameters.\n",
      "Training the model...\n",
      "Model training complete.\n",
      "Evaluating the model on the validation set...\n",
      "Attempting to find custom threshold using find_threshold_binary_search for Recall[0] >= 0.9800\n",
      "Target Recall: >= 0.9800 for Class 0\n",
      "Threshold found by Binary Search: 0.8988833\n",
      "Achieved Recall at Threshold: 0.9800\n",
      "Using threshold: Custom threshold 0.8989 aiming for Recall[0] >= 0.9800 (func achieved 0.9800)\n",
      "Calculating performance metrics...\n",
      "Validation Accuracy: 0.8690\n",
      "Validation Weighted F1-Score: 0.8572\n",
      "Validation Macro F1-Score: 0.8013\n",
      "Validation Recall Class 0: 0.9800\n",
      "Validation Recall Class 1: 0.5511\n",
      "Validation Precision Class 0: 0.8620\n",
      "Validation Precision Class 1: 0.9059\n",
      "\n",
      "              precision    recall  f1-score   support\n",
      "\n",
      "           0     0.8620    0.9800    0.9172    102026\n",
      "           1     0.9059    0.5511    0.6853     35648\n",
      "\n",
      "    accuracy                         0.8690    137674\n",
      "   macro avg     0.8840    0.7656    0.8013    137674\n",
      "weighted avg     0.8734    0.8690    0.8572    137674\n",
      "\n",
      "Logged validation metrics (rounded to 4 decimals).\n",
      "Generating Confusion Matrix plot...\n",
      "Saved Confusion Matrix plot to: confusion_matrix_val.png\n"
     ]
    },
    {
     "data": {
      "image/png": "[encoded data removed]",
      "text/plain": [
       "<Figure size 600x500 with 1 Axes>"
      ]
     },
     "metadata": {},
     "output_type": "display_data"
    },
    {
     "name": "stdout",
     "output_type": "stream",
     "text": [
      "Displayed Confusion Matrix plot.\n",
      "Logged Confusion Matrix plot artifact.\n",
      "Logging classification report artifact...\n",
      "Logged classification report artifact: classification_report_val.json\n",
      "Logging the model...\n"
     ]
    },
    {
     "name": "stderr",
     "output_type": "stream",
     "text": [
      "2025/04/17 11:05:03 WARNING mlflow.models.model: Model logged without a signature and input example. Please set `input_example` parameter when logging the model to auto infer the model signature.\n"
     ]
    },
    {
     "name": "stdout",
     "output_type": "stream",
     "text": [
      "Logged the trained model using mlflow.sklearn.\n",
      "MLflow Run completed: cc6cb463fddb4ebb98260234776a844a\n",
      "View the run in the MLflow UI.\n"
     ]
    }
   ],
   "source": [
    "# Easy Ensemble + CatBoost\n",
    "from imblearn.ensemble import EasyEnsembleClassifier\n",
    "from catboost import CatBoostClassifier\n",
    "model = EasyEnsembleClassifier(random_state=0, estimator=CatBoostClassifier(random_state=0, task_type='GPU', devices='0:1', verbose = 0))\n",
    "log_classification_model(\n",
    "        model=model,\n",
    "        X_train=train_df.drop(columns=['customer_ID']),\n",
    "        y_train=y_train['target'].values,\n",
    "        X_val=test_df.drop(columns=['customer_ID']),\n",
    "        y_val=y_test['target'].values,\n",
    "        run_name=\"Easy Ensemble + CatBoost Base Model - Test\"\n",
    "    )"
   ]
  },
  {
   "cell_type": "code",
   "execution_count": 20,
   "id": "9c7ae0ad",
   "metadata": {},
   "outputs": [
    {
     "name": "stdout",
     "output_type": "stream",
     "text": [
      "Starting MLflow Run: Balanced Bagging + XGBoost Base Model - Test (2b2b2c48747748709b1fee3b5627da52)\n",
      "Logged model parameters.\n",
      "Training the model...\n",
      "Model training complete.\n",
      "Evaluating the model on the validation set...\n",
      "Attempting to find custom threshold using find_threshold_binary_search for Recall[0] >= 0.9800\n",
      "Target Recall: >= 0.9800 for Class 0\n",
      "Threshold found by Binary Search: 0.9015044\n",
      "Achieved Recall at Threshold: 0.9800\n",
      "Using threshold: Custom threshold 0.9015 aiming for Recall[0] >= 0.9800 (func achieved 0.9800)\n",
      "Calculating performance metrics...\n",
      "Validation Accuracy: 0.8696\n",
      "Validation Weighted F1-Score: 0.8580\n",
      "Validation Macro F1-Score: 0.8026\n",
      "Validation Recall Class 0: 0.9800\n",
      "Validation Recall Class 1: 0.5537\n",
      "Validation Precision Class 0: 0.8627\n",
      "Validation Precision Class 1: 0.9063\n",
      "\n",
      "              precision    recall  f1-score   support\n",
      "\n",
      "           0     0.8627    0.9800    0.9176    102026\n",
      "           1     0.9063    0.5537    0.6875     35648\n",
      "\n",
      "    accuracy                         0.8696    137674\n",
      "   macro avg     0.8845    0.7669    0.8026    137674\n",
      "weighted avg     0.8740    0.8696    0.8580    137674\n",
      "\n",
      "Logged validation metrics (rounded to 4 decimals).\n",
      "Generating Confusion Matrix plot...\n",
      "Saved Confusion Matrix plot to: confusion_matrix_val.png\n"
     ]
    },
    {
     "data": {
      "image/png": "[encoded data removed]",
      "text/plain": [
       "<Figure size 600x500 with 1 Axes>"
      ]
     },
     "metadata": {},
     "output_type": "display_data"
    },
    {
     "name": "stdout",
     "output_type": "stream",
     "text": [
      "Displayed Confusion Matrix plot.\n",
      "Logged Confusion Matrix plot artifact.\n",
      "Logging classification report artifact...\n",
      "Logged classification report artifact: classification_report_val.json\n",
      "Logging the model...\n"
     ]
    },
    {
     "name": "stderr",
     "output_type": "stream",
     "text": [
      "2025/04/17 10:39:42 WARNING mlflow.models.model: Model logged without a signature and input example. Please set `input_example` parameter when logging the model to auto infer the model signature.\n"
     ]
    },
    {
     "name": "stdout",
     "output_type": "stream",
     "text": [
      "Logged the trained model using mlflow.sklearn.\n",
      "MLflow Run completed: 2b2b2c48747748709b1fee3b5627da52\n",
      "View the run in the MLflow UI.\n"
     ]
    }
   ],
   "source": [
    "# Balanced Baagging + XGBoost Classifier\n",
    "from imblearn.ensemble import BalancedBaggingClassifier\n",
    "from xgboost import XGBClassifier\n",
    "model = BalancedBaggingClassifier(random_state=0, estimator=XGBClassifier(random_state = 0, tree_method = 'hist', device = 'cuda'))\n",
    "log_classification_model(\n",
    "        model=model,\n",
    "        X_train=train_df.drop(columns=['customer_ID']),\n",
    "        y_train=y_train['target'].values,\n",
    "        X_val=test_df.drop(columns=['customer_ID']),\n",
    "        y_val=y_test['target'].values,\n",
    "        run_name=\"Balanced Bagging + XGBoost Base Model - Test\"\n",
    "    )"
   ]
  },
  {
   "cell_type": "code",
   "execution_count": 21,
   "id": "4ac6bf70",
   "metadata": {},
   "outputs": [
    {
     "name": "stdout",
     "output_type": "stream",
     "text": [
      "Starting MLflow Run: Balanced Bagging + LightGBM Base Model - Test (56b87af2d3714522aaeb597e9c95d326)\n",
      "Logged model parameters.\n",
      "Training the model...\n",
      "Model training complete.\n",
      "Evaluating the model on the validation set...\n",
      "Attempting to find custom threshold using find_threshold_binary_search for Recall[0] >= 0.9800\n",
      "Target Recall: >= 0.9800 for Class 0\n",
      "Threshold found by Binary Search: 0.8985029\n",
      "Achieved Recall at Threshold: 0.9800\n",
      "Using threshold: Custom threshold 0.8985 aiming for Recall[0] >= 0.9800 (func achieved 0.9800)\n",
      "Calculating performance metrics...\n",
      "Validation Accuracy: 0.8685\n",
      "Validation Weighted F1-Score: 0.8566\n",
      "Validation Macro F1-Score: 0.8004\n",
      "Validation Recall Class 0: 0.9800\n",
      "Validation Recall Class 1: 0.5493\n",
      "Validation Precision Class 0: 0.8616\n",
      "Validation Precision Class 1: 0.9056\n",
      "\n",
      "              precision    recall  f1-score   support\n",
      "\n",
      "           0     0.8616    0.9800    0.9170    102026\n",
      "           1     0.9056    0.5493    0.6838     35648\n",
      "\n",
      "    accuracy                         0.8685    137674\n",
      "   macro avg     0.8836    0.7646    0.8004    137674\n",
      "weighted avg     0.8730    0.8685    0.8566    137674\n",
      "\n",
      "Logged validation metrics (rounded to 4 decimals).\n",
      "Generating Confusion Matrix plot...\n",
      "Saved Confusion Matrix plot to: confusion_matrix_val.png\n"
     ]
    },
    {
     "data": {
      "image/png": "[encoded data removed]",
      "text/plain": [
       "<Figure size 600x500 with 1 Axes>"
      ]
     },
     "metadata": {},
     "output_type": "display_data"
    },
    {
     "name": "stdout",
     "output_type": "stream",
     "text": [
      "Displayed Confusion Matrix plot.\n",
      "Logged Confusion Matrix plot artifact.\n",
      "Logging classification report artifact...\n",
      "Logged classification report artifact: classification_report_val.json\n",
      "Logging the model...\n"
     ]
    },
    {
     "name": "stderr",
     "output_type": "stream",
     "text": [
      "2025/04/17 10:41:28 WARNING mlflow.models.model: Model logged without a signature and input example. Please set `input_example` parameter when logging the model to auto infer the model signature.\n"
     ]
    },
    {
     "name": "stdout",
     "output_type": "stream",
     "text": [
      "Logged the trained model using mlflow.sklearn.\n",
      "MLflow Run completed: 56b87af2d3714522aaeb597e9c95d326\n",
      "View the run in the MLflow UI.\n"
     ]
    }
   ],
   "source": [
    "# Balanced Baagging + LightGBM Classifier\n",
    "from lightgbm import LGBMClassifier\n",
    "model = BalancedBaggingClassifier(random_state=0, estimator=LGBMClassifier(random_state = 0, verbose = 0))\n",
    "log_classification_model(\n",
    "        model=model,\n",
    "        X_train=train_df.drop(columns=['customer_ID']),\n",
    "        y_train=y_train['target'].values,\n",
    "        X_val=test_df.drop(columns=['customer_ID']),\n",
    "        y_val=y_test['target'].values,\n",
    "        run_name=\"Balanced Bagging + LightGBM Base Model - Test\"\n",
    "    )"
   ]
  }
 ],
 "metadata": {
  "kernelspec": {
   "display_name": "nibm_dl",
   "language": "python",
   "name": "python3"
  },
  "language_info": {
   "codemirror_mode": {
    "name": "ipython",
    "version": 3
   },
   "file_extension": ".py",
   "mimetype": "text/x-python",
   "name": "python",
   "nbconvert_exporter": "python",
   "pygments_lexer": "ipython3",
   "version": "3.10.14"
  }
 },
 "nbformat": 4,
 "nbformat_minor": 5
}

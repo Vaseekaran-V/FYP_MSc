{
 "cells": [
  {
   "cell_type": "code",
   "execution_count": 1,
   "metadata": {},
   "outputs": [],
   "source": [
    "import pandas as pd\n",
    "import numpy as np\n",
    "import h5py\n",
    "import torch\n",
    "import torch.nn as nn\n",
    "import random\n",
    "import sys\n",
    "import os\n",
    "\n",
    "#trying to ensure reproducibility\n",
    "torch.manual_seed(0)\n",
    "random.seed(0)\n",
    "np.random.seed(0)"
   ]
  },
  {
   "cell_type": "code",
   "execution_count": 2,
   "metadata": {},
   "outputs": [],
   "source": [
    "# Setting path to load util functions\n",
    "from pathlib import Path\n",
    "parent_dir = Path.cwd().parents[1]\n",
    "sys.path.append(os.path.abspath(parent_dir))"
   ]
  },
  {
   "cell_type": "code",
   "execution_count": 3,
   "metadata": {},
   "outputs": [],
   "source": [
    "experiment_num = 25"
   ]
  },
  {
   "cell_type": "code",
   "execution_count": 4,
   "metadata": {},
   "outputs": [],
   "source": [
    "#Loading data\n",
    "with h5py.File('../../data/3d_array/mod_train_data_3d_h5.h5', 'r') as f:\n",
    "    train_X = f['train_data_3d'][:]\n",
    "with h5py.File('../../data/3d_array/mod_val_data_3d_h5.h5', 'r') as f:\n",
    "    val_X = f['val_data_3d'][:]\n",
    "with h5py.File('../../data/3d_array/mod_test_data_3d_h5.h5', 'r') as f:\n",
    "    test_X = f['test_data_3d'][:]\n",
    "\n",
    "train_y = pd.read_parquet('../../data/3d_array/train_targets.parquet')\n",
    "val_y = pd.read_parquet('../../data/3d_array/val_targets.parquet')\n",
    "test_y = pd.read_parquet('../../data/3d_array/test_targets.parquet')"
   ]
  },
  {
   "cell_type": "code",
   "execution_count": 5,
   "metadata": {},
   "outputs": [],
   "source": [
    "train_X = np.nan_to_num(train_X, nan=0.0)\n",
    "val_X = np.nan_to_num(val_X, nan=0.0)\n",
    "test_X = np.nan_to_num(test_X, nan=0.0)"
   ]
  },
  {
   "cell_type": "code",
   "execution_count": 6,
   "metadata": {},
   "outputs": [
    {
     "data": {
      "text/plain": [
       "end_of_month\n",
       "2018-03-31    289115\n",
       "Name: count, dtype: int64"
      ]
     },
     "execution_count": 6,
     "metadata": {},
     "output_type": "execute_result"
    }
   ],
   "source": [
    "train_y['end_of_month'].value_counts()"
   ]
  },
  {
   "cell_type": "code",
   "execution_count": 7,
   "metadata": {},
   "outputs": [
    {
     "name": "stderr",
     "output_type": "stream",
     "text": [
      "C:\\Users\\vaseekaranv\\AppData\\Local\\Temp\\ipykernel_19828\\847019464.py:1: FutureWarning: The behavior of 'isin' with dtype=datetime64[ns] and castable values (e.g. strings) is deprecated. In a future version, these will not be considered matching by isin. Explicitly cast to the appropriate dtype before calling isin instead.\n",
      "  train_y = train_y[train_y['end_of_month'].isin(['2018-03-31'])]\n",
      "C:\\Users\\vaseekaranv\\AppData\\Local\\Temp\\ipykernel_19828\\847019464.py:2: FutureWarning: The behavior of 'isin' with dtype=datetime64[ns] and castable values (e.g. strings) is deprecated. In a future version, these will not be considered matching by isin. Explicitly cast to the appropriate dtype before calling isin instead.\n",
      "  val_y = val_y[val_y['end_of_month'].isin(['2018-03-31'])]\n",
      "C:\\Users\\vaseekaranv\\AppData\\Local\\Temp\\ipykernel_19828\\847019464.py:3: FutureWarning: The behavior of 'isin' with dtype=datetime64[ns] and castable values (e.g. strings) is deprecated. In a future version, these will not be considered matching by isin. Explicitly cast to the appropriate dtype before calling isin instead.\n",
      "  test_y = test_y[test_y['end_of_month'].isin(['2018-03-31'])]\n"
     ]
    }
   ],
   "source": [
    "train_y = train_y[train_y['end_of_month'].isin(['2018-03-31'])]\n",
    "val_y = val_y[val_y['end_of_month'].isin(['2018-03-31'])]\n",
    "test_y = test_y[test_y['end_of_month'].isin(['2018-03-31'])]"
   ]
  },
  {
   "cell_type": "code",
   "execution_count": 8,
   "metadata": {},
   "outputs": [
    {
     "data": {
      "text/html": [
       "<div>\n",
       "<style scoped>\n",
       "    .dataframe tbody tr th:only-of-type {\n",
       "        vertical-align: middle;\n",
       "    }\n",
       "\n",
       "    .dataframe tbody tr th {\n",
       "        vertical-align: top;\n",
       "    }\n",
       "\n",
       "    .dataframe thead th {\n",
       "        text-align: right;\n",
       "    }\n",
       "</style>\n",
       "<table border=\"1\" class=\"dataframe\">\n",
       "  <thead>\n",
       "    <tr style=\"text-align: right;\">\n",
       "      <th></th>\n",
       "      <th>customer_ID</th>\n",
       "      <th>end_of_month</th>\n",
       "      <th>target</th>\n",
       "    </tr>\n",
       "  </thead>\n",
       "  <tbody>\n",
       "    <tr>\n",
       "      <th>0</th>\n",
       "      <td>0000099d6bd597052cdcda90ffabf56573fe9d7c79be5f...</td>\n",
       "      <td>2018-03-31</td>\n",
       "      <td>0</td>\n",
       "    </tr>\n",
       "    <tr>\n",
       "      <th>1</th>\n",
       "      <td>00001b22f846c82c51f6e3958ccd81970162bae8b007e8...</td>\n",
       "      <td>2018-03-31</td>\n",
       "      <td>0</td>\n",
       "    </tr>\n",
       "    <tr>\n",
       "      <th>2</th>\n",
       "      <td>000084e5023181993c2e1b665ac88dbb1ce9ef621ec537...</td>\n",
       "      <td>2018-03-31</td>\n",
       "      <td>0</td>\n",
       "    </tr>\n",
       "    <tr>\n",
       "      <th>3</th>\n",
       "      <td>000098081fde4fd64bc4d503a5d6f86a0aedc425c96f52...</td>\n",
       "      <td>2018-03-31</td>\n",
       "      <td>0</td>\n",
       "    </tr>\n",
       "    <tr>\n",
       "      <th>4</th>\n",
       "      <td>0000f99513770170a1aba690daeeb8a96da4a39f11fc27...</td>\n",
       "      <td>2018-03-31</td>\n",
       "      <td>1</td>\n",
       "    </tr>\n",
       "    <tr>\n",
       "      <th>...</th>\n",
       "      <td>...</td>\n",
       "      <td>...</td>\n",
       "      <td>...</td>\n",
       "    </tr>\n",
       "    <tr>\n",
       "      <th>289110</th>\n",
       "      <td>fffe3ec7cdbc1caac845c884b389ed347bfc1da9d09731...</td>\n",
       "      <td>2018-03-31</td>\n",
       "      <td>1</td>\n",
       "    </tr>\n",
       "    <tr>\n",
       "      <th>289111</th>\n",
       "      <td>fffef3305f19a11fb6c15f4ebe9be1bd664540e57c0a6a...</td>\n",
       "      <td>2018-03-31</td>\n",
       "      <td>0</td>\n",
       "    </tr>\n",
       "    <tr>\n",
       "      <th>289112</th>\n",
       "      <td>ffff39cc22a375d07369980d02d617883dd28ad81a6aa3...</td>\n",
       "      <td>2018-03-31</td>\n",
       "      <td>0</td>\n",
       "    </tr>\n",
       "    <tr>\n",
       "      <th>289113</th>\n",
       "      <td>ffff518bb2075e4816ee3fe9f3b152c57fc0e6f01bf7fd...</td>\n",
       "      <td>2018-03-31</td>\n",
       "      <td>0</td>\n",
       "    </tr>\n",
       "    <tr>\n",
       "      <th>289114</th>\n",
       "      <td>fffff1d38b785cef84adeace64f8f83db3a0c31e8d92ea...</td>\n",
       "      <td>2018-03-31</td>\n",
       "      <td>0</td>\n",
       "    </tr>\n",
       "  </tbody>\n",
       "</table>\n",
       "<p>289115 rows × 3 columns</p>\n",
       "</div>"
      ],
      "text/plain": [
       "                                              customer_ID end_of_month  target\n",
       "0       0000099d6bd597052cdcda90ffabf56573fe9d7c79be5f...   2018-03-31       0\n",
       "1       00001b22f846c82c51f6e3958ccd81970162bae8b007e8...   2018-03-31       0\n",
       "2       000084e5023181993c2e1b665ac88dbb1ce9ef621ec537...   2018-03-31       0\n",
       "3       000098081fde4fd64bc4d503a5d6f86a0aedc425c96f52...   2018-03-31       0\n",
       "4       0000f99513770170a1aba690daeeb8a96da4a39f11fc27...   2018-03-31       1\n",
       "...                                                   ...          ...     ...\n",
       "289110  fffe3ec7cdbc1caac845c884b389ed347bfc1da9d09731...   2018-03-31       1\n",
       "289111  fffef3305f19a11fb6c15f4ebe9be1bd664540e57c0a6a...   2018-03-31       0\n",
       "289112  ffff39cc22a375d07369980d02d617883dd28ad81a6aa3...   2018-03-31       0\n",
       "289113  ffff518bb2075e4816ee3fe9f3b152c57fc0e6f01bf7fd...   2018-03-31       0\n",
       "289114  fffff1d38b785cef84adeace64f8f83db3a0c31e8d92ea...   2018-03-31       0\n",
       "\n",
       "[289115 rows x 3 columns]"
      ]
     },
     "execution_count": 8,
     "metadata": {},
     "output_type": "execute_result"
    }
   ],
   "source": [
    "train_y.sort_values(by=['customer_ID'])"
   ]
  },
  {
   "cell_type": "code",
   "execution_count": 9,
   "metadata": {},
   "outputs": [
    {
     "data": {
      "text/plain": [
       "((289115, 13, 86), (289115, 3))"
      ]
     },
     "execution_count": 9,
     "metadata": {},
     "output_type": "execute_result"
    }
   ],
   "source": [
    "train_X.shape, train_y.shape"
   ]
  },
  {
   "cell_type": "code",
   "execution_count": 10,
   "metadata": {},
   "outputs": [
    {
     "data": {
      "text/plain": [
       "((32124, 13, 86), (32124, 3))"
      ]
     },
     "execution_count": 10,
     "metadata": {},
     "output_type": "execute_result"
    }
   ],
   "source": [
    "val_X.shape, val_y.shape"
   ]
  },
  {
   "cell_type": "code",
   "execution_count": 11,
   "metadata": {},
   "outputs": [],
   "source": [
    "class ParallelConvBlock(nn.Module):\n",
    "    def __init__(self, in_channels, out_channels, kernel_sizes=[3, 5, 7], dropout_rate=0.2):\n",
    "        \"\"\"\n",
    "        Parallel Convolutional Block that processes input through multiple convolutional paths\n",
    "        with different kernel sizes and concatenates the results.\n",
    "        \n",
    "        Args:\n",
    "            in_channels: Number of input channels\n",
    "            out_channels: Number of output channels\n",
    "            kernel_sizes: List of kernel sizes for parallel convolutions\n",
    "            dropout_rate: Dropout probability\n",
    "        \"\"\"\n",
    "        super(ParallelConvBlock, self).__init__()\n",
    "        \n",
    "        self.n_paths = len(kernel_sizes)\n",
    "        # Calculate channels per path\n",
    "        path_channels = out_channels // self.n_paths\n",
    "        \n",
    "        # Create parallel convolutional paths\n",
    "        self.paths = nn.ModuleList()\n",
    "        for k_size in kernel_sizes:\n",
    "            padding = k_size // 2  # Same padding to maintain sequence length\n",
    "            path = nn.Sequential(\n",
    "                nn.Conv1d(in_channels, path_channels, kernel_size=k_size, padding=padding),\n",
    "                nn.BatchNorm1d(path_channels),\n",
    "                nn.ReLU(),\n",
    "                nn.Dropout(dropout_rate)\n",
    "            )\n",
    "            self.paths.append(path)\n",
    "            \n",
    "        # Projection layer to ensure output has exactly out_channels\n",
    "        self.projection = nn.Sequential(\n",
    "            nn.Conv1d(path_channels * self.n_paths, out_channels, kernel_size=1),\n",
    "            nn.BatchNorm1d(out_channels),\n",
    "            nn.ReLU()\n",
    "        )\n",
    "    \n",
    "    def forward(self, x):\n",
    "        # Process input through parallel paths\n",
    "        outputs = [path(x) for path in self.paths]\n",
    "        \n",
    "        # Concatenate along channel dimension\n",
    "        # print(f\"Outputs shape before concatenation: {[out.shape for out in outputs]}\")\n",
    "        x = torch.cat(outputs, dim=1)\n",
    "        \n",
    "        # Apply projection to get final output\n",
    "        x = self.projection(x)\n",
    "        \n",
    "        return x"
   ]
  },
  {
   "cell_type": "code",
   "execution_count": 12,
   "metadata": {},
   "outputs": [],
   "source": [
    "class ConvBlock(nn.Module):\n",
    "    def __init__(self, in_channels, out_channels, kernel_size=3, padding=1, pool=True, dropout=0.3):\n",
    "        super(ConvBlock, self).__init__()\n",
    "        self.conv = nn.Conv1d(in_channels, out_channels, kernel_size, padding=padding)\n",
    "        self.bn = nn.BatchNorm1d(out_channels)\n",
    "        self.relu = nn.ReLU()\n",
    "        self.pool = nn.MaxPool1d(kernel_size=2) if pool else None\n",
    "        self.dropout = nn.Dropout(dropout)\n",
    "\n",
    "    def forward(self, x):\n",
    "        x = self.conv(x)\n",
    "        x = self.bn(x)\n",
    "        x = self.relu(x)\n",
    "        if self.pool:\n",
    "            x = self.pool(x)\n",
    "        x = self.dropout(x)\n",
    "        return x"
   ]
  },
  {
   "cell_type": "code",
   "execution_count": 13,
   "metadata": {},
   "outputs": [],
   "source": [
    "class ConvLSTMModel(nn.Module):\n",
    "    def __init__(self, input_size, lstm_hidden_size=64, num_lstm_layers=1, output_size=1):\n",
    "        \"\"\"\n",
    "        Args:\n",
    "            input_size (int): Number of features in the input sequence (feature dimension).\n",
    "            lstm_hidden_size (int): Hidden size for the LSTM layer.\n",
    "            num_lstm_layers (int): Number of layers for the LSTM.\n",
    "            output_size (int): Size of the final output (e.g., 1 for binary classification).\n",
    "        \"\"\"\n",
    "        super(ConvLSTMModel, self).__init__()\n",
    "\n",
    "        self.input_size = input_size\n",
    "        self.lstm_hidden_size = lstm_hidden_size\n",
    "\n",
    "        # --- CNN Path ---\n",
    "        # First convolutional block (Parallel)\n",
    "        # Input channels = input_size (features)\n",
    "        cnn_out_channels_1 = 100\n",
    "        self.parallel_conv = ParallelConvBlock(input_size, cnn_out_channels_1, kernel_sizes=[3, 5, 7, 9], dropout_rate=0.2)\n",
    "\n",
    "        # Second convolutional block\n",
    "        cnn_out_channels_2 = 64\n",
    "        self.block2 = ConvBlock(cnn_out_channels_1, cnn_out_channels_2, dropout=0.2)\n",
    "\n",
    "        # Third convolutional block\n",
    "        self.cnn_final_channels = 32\n",
    "        self.block3 = ConvBlock(cnn_out_channels_2, self.cnn_final_channels, pool=False, dropout=0.2) # No pooling in the last block\n",
    "\n",
    "        # Global pooling for CNN path\n",
    "        self.global_avg_pool = nn.AdaptiveAvgPool1d(1)\n",
    "\n",
    "        # --- LSTM Path ---\n",
    "        self.lstm = nn.LSTM(input_size=input_size,\n",
    "                            hidden_size=lstm_hidden_size,\n",
    "                            num_layers=num_lstm_layers,\n",
    "                            batch_first=True, # Crucial: input shape (batch, seq_len, features)\n",
    "                            bidirectional=False) # Set to True if needed, adjust feature concatenation below\n",
    "\n",
    "        # --- Combined Path ---\n",
    "        # Calculate the combined feature size after CNN pooling and LSTM\n",
    "        combined_features = self.cnn_final_channels + lstm_hidden_size # Add *2 if bidirectional LSTM\n",
    "\n",
    "        # Fully connected layers\n",
    "        self.fc1 = nn.Linear(combined_features, 16) # Input size adjusted\n",
    "        self.relu_fc1 = nn.ReLU()\n",
    "        self.dropout_fc1 = nn.Dropout(0.3) # Added dropout for FC layer\n",
    "        self.fc2 = nn.Linear(16, output_size)\n",
    "        self.sigmoid = nn.Sigmoid()\n",
    "\n",
    "    def forward(self, x):\n",
    "        # Input shape: batch_size x time_steps x features\n",
    "\n",
    "        # --- CNN Path ---\n",
    "        # For Conv1D: convert to batch_size x features(channels) x time_steps\n",
    "        x_cnn = x.permute(0, 2, 1)\n",
    "        # Pass through convolutional blocks\n",
    "        cnn_out = self.parallel_conv(x_cnn)\n",
    "        cnn_out = self.block2(cnn_out)\n",
    "        cnn_out = self.block3(cnn_out)\n",
    "        # Global pooling to get fixed-size representation for CNN path\n",
    "        cnn_pooled = self.global_avg_pool(cnn_out)\n",
    "        cnn_features = cnn_pooled.view(cnn_pooled.size(0), -1) # Flatten: batch_size x cnn_final_channels\n",
    "\n",
    "        # --- LSTM Path ---\n",
    "        # Input shape expected by LSTM (batch_first=True): batch_size x time_steps x features\n",
    "        # No permutation needed for LSTM path if input is already in this format\n",
    "        lstm_out, (h_n, c_n) = self.lstm(x)\n",
    "        # We typically use the last hidden state\n",
    "        # h_n shape: (num_layers * num_directions, batch_size, lstm_hidden_size)\n",
    "        # Get the hidden state of the last layer\n",
    "        lstm_features = h_n[-1] # Shape: batch_size x lstm_hidden_size (if not bidirectional)\n",
    "        # If bidirectional: h_n shape is (num_layers*2, batch, hidden_size)\n",
    "        # You might want to concatenate the last forward and backward hidden states:\n",
    "        # lstm_features = torch.cat((h_n[-2,:,:], h_n[-1,:,:]), dim=1) # If bidirectional\n",
    "\n",
    "        # --- Concatenate Features ---\n",
    "        combined_features = torch.cat((cnn_features, lstm_features), dim=1)\n",
    "\n",
    "        # --- Fully Connected Layers ---\n",
    "        x = self.fc1(combined_features)\n",
    "        x = self.relu_fc1(x)\n",
    "        x = self.dropout_fc1(x)\n",
    "        x = self.fc2(x)\n",
    "\n",
    "        # Output probability\n",
    "        return self.sigmoid(x)"
   ]
  },
  {
   "cell_type": "code",
   "execution_count": null,
   "metadata": {},
   "outputs": [],
   "source": []
  },
  {
   "cell_type": "code",
   "execution_count": 14,
   "metadata": {},
   "outputs": [
    {
     "name": "stdout",
     "output_type": "stream",
     "text": [
      "Model initialized with input_size=86, output_size=1\n"
     ]
    }
   ],
   "source": [
    "# Initialize the ConvModel\n",
    "input_size = train_X.shape[2]  # Number of features\n",
    "output_size = 1  # Binary classification\n",
    "lstm_hidden_size = 128\n",
    "num_lstm_layers = 1\n",
    "\n",
    "# Create model instance\n",
    "model = ConvLSTMModel(input_size=input_size, output_size=output_size, lstm_hidden_size=lstm_hidden_size, num_lstm_layers=num_lstm_layers)\n",
    "print(f\"Model initialized with input_size={input_size}, output_size={output_size}\")"
   ]
  },
  {
   "cell_type": "code",
   "execution_count": 16,
   "metadata": {},
   "outputs": [
    {
     "name": "stdout",
     "output_type": "stream",
     "text": [
      "Model parameters loaded successfully from ../../models/deep_learning/experiment_25.pth\n"
     ]
    },
    {
     "name": "stderr",
     "output_type": "stream",
     "text": [
      "C:\\Users\\vaseekaranv\\AppData\\Local\\Temp\\ipykernel_19828\\4247502569.py:7: FutureWarning: You are using `torch.load` with `weights_only=False` (the current default value), which uses the default pickle module implicitly. It is possible to construct malicious pickle data which will execute arbitrary code during unpickling (See https://github.com/pytorch/pytorch/blob/main/SECURITY.md#untrusted-models for more details). In a future release, the default value for `weights_only` will be flipped to `True`. This limits the functions that could be executed during unpickling. Arbitrary objects will no longer be allowed to be loaded via this mode unless they are explicitly allowlisted by the user via `torch.serialization.add_safe_globals`. We recommend you start setting `weights_only=True` for any use case where you don't have full control of the loaded file. Please open an issue on GitHub for any issues related to this experimental feature.\n",
      "  checkpoint = torch.load(model_path)\n"
     ]
    }
   ],
   "source": [
    "# Define the model path\n",
    "model_path = f'../../models/deep_learning/experiment_{experiment_num}.pth'\n",
    "\n",
    "# Load the model parameters\n",
    "try:\n",
    "    # Load the saved dictionary\n",
    "    checkpoint = torch.load(model_path)\n",
    "    \n",
    "    # Extract model parameters from the 'model_state_dict' key\n",
    "    model.load_state_dict(checkpoint['model_state_dict'])\n",
    "    print(f\"Model parameters loaded successfully from {model_path}\")\n",
    "except FileNotFoundError:\n",
    "    print(f\"Model file not found at {model_path}\")\n",
    "    print(\"Please specify the correct path to the model parameters\")\n",
    "except KeyError:\n",
    "    print(f\"'model_state_dict' key not found in the checkpoint file\")\n",
    "    print(\"The file may have been saved with a different structure\")\n",
    "except Exception as e:\n",
    "    print(f\"Error loading model parameters: {str(e)}\")"
   ]
  },
  {
   "cell_type": "code",
   "execution_count": 17,
   "metadata": {},
   "outputs": [
    {
     "data": {
      "text/plain": [
       "============================================================================================================================================\n",
       "Layer (type:depth-idx)                   Input Shape               Kernel Shape              Output Shape              Param #\n",
       "============================================================================================================================================\n",
       "ConvLSTMModel                            [2048, 13, 86]            --                        [2048, 1]                 --\n",
       "├─ParallelConvBlock: 1-1                 [2048, 86, 13]            --                        [2048, 100, 13]           62,200\n",
       "├─ConvBlock: 1-2                         [2048, 100, 13]           --                        [2048, 64, 6]             19,392\n",
       "├─ConvBlock: 1-3                         [2048, 64, 6]             --                        [2048, 32, 6]             6,240\n",
       "├─AdaptiveAvgPool1d: 1-4                 [2048, 32, 6]             --                        [2048, 32, 1]             --\n",
       "├─LSTM: 1-5                              [2048, 13, 86]            --                        [2048, 13, 128]           110,592\n",
       "├─Linear: 1-6                            [2048, 160]               --                        [2048, 16]                2,576\n",
       "├─ReLU: 1-7                              [2048, 16]                --                        [2048, 16]                --\n",
       "├─Dropout: 1-8                           [2048, 16]                --                        [2048, 16]                --\n",
       "├─Linear: 1-9                            [2048, 16]                --                        [2048, 1]                 17\n",
       "├─Sigmoid: 1-10                          [2048, 1]                 --                        [2048, 1]                 --\n",
       "============================================================================================================================================\n",
       "Total params: 201,017\n",
       "Trainable params: 201,017\n",
       "Non-trainable params: 0\n",
       "Total mult-adds (G): 5.19\n",
       "============================================================================================================================================\n",
       "Input size (MB): 9.16\n",
       "Forward/backward pass size (MB): 146.29\n",
       "Params size (MB): 0.80\n",
       "Estimated Total Size (MB): 156.26\n",
       "============================================================================================================================================"
      ]
     },
     "execution_count": 17,
     "metadata": {},
     "output_type": "execute_result"
    }
   ],
   "source": [
    "batch_size = 2048\n",
    "from torchinfo import summary\n",
    "summary(model, input_size=(batch_size, train_X.shape[1], train_X.shape[2]), device='cpu',\n",
    "        col_names=[\"input_size\", \"kernel_size\",\"output_size\", \"num_params\"], depth = 1)"
   ]
  },
  {
   "cell_type": "code",
   "execution_count": 18,
   "metadata": {},
   "outputs": [],
   "source": [
    "from torch.utils.data import Dataset, DataLoader\n",
    "class TimeSeriesDataset(Dataset):\n",
    "    def __init__(self, data, targets):\n",
    "        \"\"\"\n",
    "        Args:\n",
    "            data: numpy array of shape (num_ids, time_steps, features)\n",
    "            targets: numpy array of shape (num_ids,)\n",
    "        \"\"\"\n",
    "        self.data = torch.FloatTensor(data)\n",
    "        self.targets = torch.FloatTensor(targets).unsqueeze(1)  # Add dimension for output\n",
    "        \n",
    "    def __len__(self):\n",
    "        return len(self.data)\n",
    "    \n",
    "    def __getitem__(self, idx):\n",
    "        return self.data[idx], self.targets[idx]"
   ]
  },
  {
   "cell_type": "code",
   "execution_count": 19,
   "metadata": {},
   "outputs": [],
   "source": [
    "train_dataset = TimeSeriesDataset(train_X, train_y['target'].values)\n",
    "train_loader = DataLoader(train_dataset, batch_size=batch_size, shuffle=True)"
   ]
  },
  {
   "cell_type": "code",
   "execution_count": 20,
   "metadata": {},
   "outputs": [],
   "source": [
    "val_dataset = TimeSeriesDataset(val_X, val_y['target'].values)\n",
    "val_loader = DataLoader(val_dataset, batch_size=batch_size, shuffle=False)"
   ]
  },
  {
   "cell_type": "code",
   "execution_count": 21,
   "metadata": {},
   "outputs": [],
   "source": [
    "test_dataset = TimeSeriesDataset(test_X, test_y['target'].values)\n",
    "test_loader = DataLoader(test_dataset, batch_size=batch_size, shuffle=False)"
   ]
  },
  {
   "cell_type": "code",
   "execution_count": 22,
   "metadata": {},
   "outputs": [
    {
     "data": {
      "text/plain": [
       "(torch.Size([13, 86]), tensor([0.]))"
      ]
     },
     "execution_count": 22,
     "metadata": {},
     "output_type": "execute_result"
    }
   ],
   "source": [
    "train_dataset.__getitem__(0)[0].shape, train_dataset.__getitem__(0)[1]"
   ]
  },
  {
   "cell_type": "code",
   "execution_count": 23,
   "metadata": {},
   "outputs": [
    {
     "data": {
      "text/plain": [
       "(torch.Size([13, 86]), tensor([1.]))"
      ]
     },
     "execution_count": 23,
     "metadata": {},
     "output_type": "execute_result"
    }
   ],
   "source": [
    "val_dataset.__getitem__(0)[0].shape, val_dataset.__getitem__(0)[1]"
   ]
  },
  {
   "cell_type": "code",
   "execution_count": 24,
   "metadata": {},
   "outputs": [],
   "source": [
    "device = torch.device(\"cuda:0\" if torch.cuda.is_available() else \"cpu\")"
   ]
  },
  {
   "cell_type": "code",
   "execution_count": 25,
   "metadata": {},
   "outputs": [
    {
     "name": "stdout",
     "output_type": "stream",
     "text": [
      "Classification Report:\n",
      "              precision    recall  f1-score   support\n",
      "\n",
      "           0     0.9202    0.9353    0.9276    102026\n",
      "           1     0.8056    0.7678    0.7862     35648\n",
      "\n",
      "    accuracy                         0.8919    137674\n",
      "   macro avg     0.8629    0.8515    0.8569    137674\n",
      "weighted avg     0.8905    0.8919    0.8910    137674\n",
      "\n",
      "Accuracy: 0.8919\n",
      "ROC-AUC Score: 0.9530\n",
      "\n",
      "Confusion Matrix:\n",
      "[[95420  6606]\n",
      " [ 8279 27369]]\n"
     ]
    }
   ],
   "source": [
    "from sklearn.metrics import classification_report, accuracy_score, roc_auc_score, confusion_matrix\n",
    "\n",
    "# Set model to evaluation mode\n",
    "model.eval()\n",
    "\n",
    "# Check if CUDA is available and move model to the appropriate device\n",
    "device = torch.device('cuda:0' if torch.cuda.is_available() else 'cpu')\n",
    "model = model.to(device)\n",
    "\n",
    "# Lists to store predictions and true values\n",
    "all_preds = []\n",
    "all_labels = []\n",
    "\n",
    "# Perform inference without gradient calculation\n",
    "with torch.no_grad():\n",
    "    for inputs, labels in test_loader:\n",
    "        # Move inputs and labels to the appropriate device\n",
    "        inputs, labels = inputs.to(device), labels.to(device)\n",
    "        \n",
    "        # Forward pass\n",
    "        outputs = model(inputs)\n",
    "        \n",
    "        # Store predictions and labels\n",
    "        all_preds.append(outputs.cpu().numpy())\n",
    "        all_labels.append(labels.cpu().numpy())\n",
    "\n",
    "# Concatenate all batches\n",
    "all_preds = np.concatenate(all_preds)\n",
    "all_labels = np.concatenate(all_labels)\n",
    "\n",
    "# Convert predictions to binary (0 or 1) using threshold of 0.5\n",
    "pred_classes = (all_preds > 0.5).astype(int)\n",
    "true_classes = all_labels.astype(int)\n",
    "\n",
    "# Generate classification report\n",
    "\n",
    "# Print classification report\n",
    "print(\"Classification Report:\")\n",
    "print(classification_report(true_classes, pred_classes, digits = 4))\n",
    "\n",
    "# Calculate and print accuracy\n",
    "accuracy = accuracy_score(true_classes, pred_classes)\n",
    "print(f\"Accuracy: {accuracy:.4f}\")\n",
    "\n",
    "# Calculate and print ROC-AUC score\n",
    "auc = roc_auc_score(true_classes, all_preds)\n",
    "print(f\"ROC-AUC Score: {auc:.4f}\")\n",
    "\n",
    "# Print confusion matrix\n",
    "print(\"\\nConfusion Matrix:\")\n",
    "print(confusion_matrix(true_classes, pred_classes))"
   ]
  },
  {
   "cell_type": "code",
   "execution_count": 26,
   "metadata": {},
   "outputs": [
    {
     "name": "stdout",
     "output_type": "stream",
     "text": [
      "Target Recall: >= 0.9800 for Class 0\n",
      "Threshold found by Binary Search: 0.7502944\n",
      "Achieved Recall at Threshold: 0.9800\n",
      "Classification Report:\n",
      "              precision    recall  f1-score   support\n",
      "\n",
      "     Class 0     0.8597    0.9800    0.9159    102026\n",
      "     Class 1     0.9046    0.5424    0.6782     35648\n",
      "\n",
      "    accuracy                         0.8667    137674\n",
      "   macro avg     0.8822    0.7612    0.7971    137674\n",
      "weighted avg     0.8713    0.8667    0.8544    137674\n",
      "\n"
     ]
    },
    {
     "data": {
      "image/png": "[encoded data removed]",
      "text/plain": [
       "<Figure size 640x480 with 2 Axes>"
      ]
     },
     "metadata": {},
     "output_type": "display_data"
    },
    {
     "data": {
      "text/plain": [
       "0.7502944469451904"
      ]
     },
     "execution_count": 26,
     "metadata": {},
     "output_type": "execute_result"
    }
   ],
   "source": [
    "from utils.eval_helpers import evaluate_model_for_recall\n",
    "evaluate_model_for_recall(target_class=0, desired_recall=0.98, y_true=true_classes, y_pred_proba=all_preds)"
   ]
  },
  {
   "cell_type": "code",
   "execution_count": 27,
   "metadata": {},
   "outputs": [
    {
     "name": "stdout",
     "output_type": "stream",
     "text": [
      "Name: '' \t Module Type: ConvLSTMModel\n",
      "Name: 'parallel_conv' \t Module Type: ParallelConvBlock\n",
      "Name: 'parallel_conv.paths' \t Module Type: ModuleList\n",
      "Name: 'parallel_conv.paths.0' \t Module Type: Sequential\n",
      "Name: 'parallel_conv.paths.0.0' \t Module Type: Conv1d\n",
      "Name: 'parallel_conv.paths.0.1' \t Module Type: BatchNorm1d\n",
      "Name: 'parallel_conv.paths.0.2' \t Module Type: ReLU\n",
      "Name: 'parallel_conv.paths.0.3' \t Module Type: Dropout\n",
      "Name: 'parallel_conv.paths.1' \t Module Type: Sequential\n",
      "Name: 'parallel_conv.paths.1.0' \t Module Type: Conv1d\n",
      "Name: 'parallel_conv.paths.1.1' \t Module Type: BatchNorm1d\n",
      "Name: 'parallel_conv.paths.1.2' \t Module Type: ReLU\n",
      "Name: 'parallel_conv.paths.1.3' \t Module Type: Dropout\n",
      "Name: 'parallel_conv.paths.2' \t Module Type: Sequential\n",
      "Name: 'parallel_conv.paths.2.0' \t Module Type: Conv1d\n",
      "Name: 'parallel_conv.paths.2.1' \t Module Type: BatchNorm1d\n",
      "Name: 'parallel_conv.paths.2.2' \t Module Type: ReLU\n",
      "Name: 'parallel_conv.paths.2.3' \t Module Type: Dropout\n",
      "Name: 'parallel_conv.paths.3' \t Module Type: Sequential\n",
      "Name: 'parallel_conv.paths.3.0' \t Module Type: Conv1d\n",
      "Name: 'parallel_conv.paths.3.1' \t Module Type: BatchNorm1d\n",
      "Name: 'parallel_conv.paths.3.2' \t Module Type: ReLU\n",
      "Name: 'parallel_conv.paths.3.3' \t Module Type: Dropout\n",
      "Name: 'parallel_conv.projection' \t Module Type: Sequential\n",
      "Name: 'parallel_conv.projection.0' \t Module Type: Conv1d\n",
      "Name: 'parallel_conv.projection.1' \t Module Type: BatchNorm1d\n",
      "Name: 'parallel_conv.projection.2' \t Module Type: ReLU\n",
      "Name: 'block2' \t Module Type: ConvBlock\n",
      "Name: 'block2.conv' \t Module Type: Conv1d\n",
      "Name: 'block2.bn' \t Module Type: BatchNorm1d\n",
      "Name: 'block2.relu' \t Module Type: ReLU\n",
      "Name: 'block2.pool' \t Module Type: MaxPool1d\n",
      "Name: 'block2.dropout' \t Module Type: Dropout\n",
      "Name: 'block3' \t Module Type: ConvBlock\n",
      "Name: 'block3.conv' \t Module Type: Conv1d\n",
      "Name: 'block3.bn' \t Module Type: BatchNorm1d\n",
      "Name: 'block3.relu' \t Module Type: ReLU\n",
      "Name: 'block3.dropout' \t Module Type: Dropout\n",
      "Name: 'global_avg_pool' \t Module Type: AdaptiveAvgPool1d\n",
      "Name: 'lstm' \t Module Type: LSTM\n",
      "Name: 'fc1' \t Module Type: Linear\n",
      "Name: 'relu_fc1' \t Module Type: ReLU\n",
      "Name: 'dropout_fc1' \t Module Type: Dropout\n",
      "Name: 'fc2' \t Module Type: Linear\n",
      "Name: 'sigmoid' \t Module Type: Sigmoid\n"
     ]
    }
   ],
   "source": [
    "for name, module in model.named_modules():\n",
    "    # 'name' is the hierarchical string name\n",
    "    # 'module' is the actual layer/module object\n",
    "    print(f\"Name: '{name}' \\t Module Type: {module.__class__.__name__}\")"
   ]
  },
  {
   "cell_type": "code",
   "execution_count": 29,
   "metadata": {},
   "outputs": [],
   "source": [
    "import pandas as pd\n",
    "import numpy as np\n",
    "from tqdm.auto import tqdm\n",
    "import torch # Make sure torch is imported\n",
    "\n",
    "def extract_features_with_hook(model: nn.Module, target_layer_name: str, data_loader: torch.utils.data.DataLoader, device: torch.device) -> pd.DataFrame:\n",
    "    \"\"\"\n",
    "    Runs inference using the model and extracts features from a specific layer\n",
    "    using forward hooks, without modifying the model's forward method.\n",
    "\n",
    "    Args:\n",
    "        model: The trained PyTorch model (original version).\n",
    "        target_layer_name: The string name of the layer to extract features from\n",
    "                           (e.g., 'dropout_fc1'). Must be an attribute of the model.\n",
    "        data_loader: DataLoader for the dataset (e.g., validation or test).\n",
    "        device: The device to run inference on ('cuda' or 'cpu').\n",
    "\n",
    "    Returns:\n",
    "        A pandas DataFrame containing the extracted features and corresponding labels.\n",
    "    \"\"\"\n",
    "    model.eval()  # Set the model to evaluation mode\n",
    "    captured_features = []\n",
    "    all_labels = []\n",
    "\n",
    "    # --- Hook Function ---\n",
    "    # This function will run every time the target layer computes its output\n",
    "    def hook_fn(module, input, output):\n",
    "        # The hook captures the output tensor of the layer\n",
    "        # Detach from graph, move to CPU, convert to numpy, and append\n",
    "        captured_features.append(output.detach().cpu().numpy())\n",
    "    # --------------------\n",
    "\n",
    "    # --- Find and Register Hook ---\n",
    "    hook_handle = None\n",
    "    target_layer = None\n",
    "    try:\n",
    "        # Access the target layer using its attribute name\n",
    "        target_layer = dict(model.named_modules())[target_layer_name]\n",
    "        # Register the forward hook\n",
    "        hook_handle = target_layer.register_forward_hook(hook_fn)\n",
    "        print(f\"Registered forward hook on layer: {target_layer_name}\")\n",
    "    except KeyError:\n",
    "        print(f\"Error: Layer '{target_layer_name}' not found in the model.\")\n",
    "        # Print available layer names for debugging\n",
    "        print(\"Available named modules:\")\n",
    "        for name, _ in model.named_modules():\n",
    "             print(f\"- {name}\")\n",
    "        return pd.DataFrame() # Return empty DataFrame\n",
    "    except Exception as e:\n",
    "        print(f\"An error occurred during hook registration: {e}\")\n",
    "        return pd.DataFrame()\n",
    "    # ---------------------------\n",
    "\n",
    "    print(f\"Extracting features using device: {device}\")\n",
    "    with torch.no_grad(): # Disable gradient calculations\n",
    "        pbar = tqdm(data_loader, desc=\"Extracting Features\")\n",
    "        for inputs, labels in pbar:\n",
    "            inputs = inputs.to(device)\n",
    "            original_labels = labels.numpy() # Keep labels on CPU\n",
    "\n",
    "            # Run the forward pass. We don't need the model's return value,\n",
    "            # but running it triggers the forward hook on the target layer.\n",
    "            _ = model(inputs)\n",
    "\n",
    "            all_labels.append(original_labels)\n",
    "\n",
    "    # --- Remove the Hook ---\n",
    "    # IMPORTANT: Always remove hooks when done to avoid memory leaks\n",
    "    if hook_handle:\n",
    "        hook_handle.remove()\n",
    "        print(f\"Removed forward hook from layer: {target_layer_name}\")\n",
    "    # -----------------------\n",
    "\n",
    "    # --- Process Captured Features ---\n",
    "    if not captured_features:\n",
    "        print(\"Warning: No features were captured. Check data_loader and model.\")\n",
    "        return pd.DataFrame()\n",
    "\n",
    "    all_features_np = np.concatenate(captured_features, axis=0)\n",
    "    all_labels_np = np.concatenate(all_labels, axis=0)\n",
    "\n",
    "    # Ensure labels are flattened\n",
    "    if all_labels_np.ndim > 1 and all_labels_np.shape[1] == 1:\n",
    "        all_labels_np = all_labels_np.flatten()\n",
    "\n",
    "    # Create pandas DataFrame\n",
    "    num_features = all_features_np.shape[1]\n",
    "    feature_columns = [f'DL_{i}' for i in range(num_features)]\n",
    "    features_df = pd.DataFrame(all_features_np, columns=feature_columns)\n",
    "    features_df['label'] = all_labels_np\n",
    "\n",
    "    print(f\"Feature extraction complete. DataFrame shape: {features_df.shape}\")\n",
    "    return features_df"
   ]
  },
  {
   "cell_type": "code",
   "execution_count": 32,
   "metadata": {},
   "outputs": [
    {
     "name": "stdout",
     "output_type": "stream",
     "text": [
      "Registered forward hook on layer: dropout_fc1\n",
      "Extracting features using device: cuda:0\n"
     ]
    },
    {
     "data": {
      "application/vnd.jupyter.widget-view+json": {
       "model_id": "f0256c9a17374c9d87c8346a2924cada",
       "version_major": 2,
       "version_minor": 0
      },
      "text/plain": [
       "Extracting Features:   0%|          | 0/68 [00:00<?, ?it/s]"
      ]
     },
     "metadata": {},
     "output_type": "display_data"
    },
    {
     "name": "stdout",
     "output_type": "stream",
     "text": [
      "Removed forward hook from layer: dropout_fc1\n",
      "Feature extraction complete. DataFrame shape: (137674, 17)\n"
     ]
    }
   ],
   "source": [
    "target_layer_name = 'dropout_fc1' # Make sure this matches!\n",
    "\n",
    "extracted_df = extract_features_with_hook(\n",
    "    model,\n",
    "    target_layer_name,\n",
    "    test_loader,\n",
    "    device\n",
    ")"
   ]
  },
  {
   "cell_type": "code",
   "execution_count": 33,
   "metadata": {},
   "outputs": [
    {
     "data": {
      "text/html": [
       "<div>\n",
       "<style scoped>\n",
       "    .dataframe tbody tr th:only-of-type {\n",
       "        vertical-align: middle;\n",
       "    }\n",
       "\n",
       "    .dataframe tbody tr th {\n",
       "        vertical-align: top;\n",
       "    }\n",
       "\n",
       "    .dataframe thead th {\n",
       "        text-align: right;\n",
       "    }\n",
       "</style>\n",
       "<table border=\"1\" class=\"dataframe\">\n",
       "  <thead>\n",
       "    <tr style=\"text-align: right;\">\n",
       "      <th></th>\n",
       "      <th>DL_0</th>\n",
       "      <th>DL_1</th>\n",
       "      <th>DL_2</th>\n",
       "      <th>DL_3</th>\n",
       "      <th>DL_4</th>\n",
       "      <th>DL_5</th>\n",
       "      <th>DL_6</th>\n",
       "      <th>DL_7</th>\n",
       "      <th>DL_8</th>\n",
       "      <th>DL_9</th>\n",
       "      <th>DL_10</th>\n",
       "      <th>DL_11</th>\n",
       "      <th>DL_12</th>\n",
       "      <th>DL_13</th>\n",
       "      <th>DL_14</th>\n",
       "      <th>DL_15</th>\n",
       "      <th>label</th>\n",
       "    </tr>\n",
       "  </thead>\n",
       "  <tbody>\n",
       "    <tr>\n",
       "      <th>0</th>\n",
       "      <td>6.035169</td>\n",
       "      <td>5.707216</td>\n",
       "      <td>0.000000</td>\n",
       "      <td>5.636570</td>\n",
       "      <td>0.000000</td>\n",
       "      <td>6.809452</td>\n",
       "      <td>5.764231</td>\n",
       "      <td>6.173485</td>\n",
       "      <td>0.000000</td>\n",
       "      <td>0.00000</td>\n",
       "      <td>0.000000</td>\n",
       "      <td>0.000000</td>\n",
       "      <td>6.153308</td>\n",
       "      <td>4.215621</td>\n",
       "      <td>6.063298</td>\n",
       "      <td>0.000000</td>\n",
       "      <td>0.0</td>\n",
       "    </tr>\n",
       "    <tr>\n",
       "      <th>1</th>\n",
       "      <td>4.716325</td>\n",
       "      <td>4.411739</td>\n",
       "      <td>0.000000</td>\n",
       "      <td>4.441925</td>\n",
       "      <td>0.000000</td>\n",
       "      <td>5.319164</td>\n",
       "      <td>4.509210</td>\n",
       "      <td>4.714250</td>\n",
       "      <td>0.000000</td>\n",
       "      <td>0.00000</td>\n",
       "      <td>0.000000</td>\n",
       "      <td>0.000000</td>\n",
       "      <td>4.894351</td>\n",
       "      <td>3.420918</td>\n",
       "      <td>4.600852</td>\n",
       "      <td>0.000000</td>\n",
       "      <td>0.0</td>\n",
       "    </tr>\n",
       "    <tr>\n",
       "      <th>2</th>\n",
       "      <td>3.970655</td>\n",
       "      <td>3.554694</td>\n",
       "      <td>0.000000</td>\n",
       "      <td>3.736287</td>\n",
       "      <td>0.000000</td>\n",
       "      <td>4.512755</td>\n",
       "      <td>3.706461</td>\n",
       "      <td>3.885978</td>\n",
       "      <td>0.000000</td>\n",
       "      <td>0.00000</td>\n",
       "      <td>0.000000</td>\n",
       "      <td>0.000000</td>\n",
       "      <td>4.245215</td>\n",
       "      <td>2.843341</td>\n",
       "      <td>3.793341</td>\n",
       "      <td>0.000000</td>\n",
       "      <td>0.0</td>\n",
       "    </tr>\n",
       "    <tr>\n",
       "      <th>3</th>\n",
       "      <td>5.287063</td>\n",
       "      <td>4.879447</td>\n",
       "      <td>0.000000</td>\n",
       "      <td>5.274143</td>\n",
       "      <td>0.000000</td>\n",
       "      <td>6.075306</td>\n",
       "      <td>5.021643</td>\n",
       "      <td>5.275514</td>\n",
       "      <td>0.000000</td>\n",
       "      <td>0.00000</td>\n",
       "      <td>0.000000</td>\n",
       "      <td>0.000000</td>\n",
       "      <td>5.387375</td>\n",
       "      <td>3.880430</td>\n",
       "      <td>5.249128</td>\n",
       "      <td>0.000000</td>\n",
       "      <td>0.0</td>\n",
       "    </tr>\n",
       "    <tr>\n",
       "      <th>4</th>\n",
       "      <td>0.000000</td>\n",
       "      <td>0.000000</td>\n",
       "      <td>3.338976</td>\n",
       "      <td>0.000000</td>\n",
       "      <td>1.966514</td>\n",
       "      <td>0.000000</td>\n",
       "      <td>0.000000</td>\n",
       "      <td>0.000000</td>\n",
       "      <td>2.390673</td>\n",
       "      <td>1.96816</td>\n",
       "      <td>2.084374</td>\n",
       "      <td>1.777916</td>\n",
       "      <td>0.000000</td>\n",
       "      <td>0.000000</td>\n",
       "      <td>0.000000</td>\n",
       "      <td>1.780722</td>\n",
       "      <td>1.0</td>\n",
       "    </tr>\n",
       "  </tbody>\n",
       "</table>\n",
       "</div>"
      ],
      "text/plain": [
       "       DL_0      DL_1      DL_2      DL_3      DL_4      DL_5      DL_6  \\\n",
       "0  6.035169  5.707216  0.000000  5.636570  0.000000  6.809452  5.764231   \n",
       "1  4.716325  4.411739  0.000000  4.441925  0.000000  5.319164  4.509210   \n",
       "2  3.970655  3.554694  0.000000  3.736287  0.000000  4.512755  3.706461   \n",
       "3  5.287063  4.879447  0.000000  5.274143  0.000000  6.075306  5.021643   \n",
       "4  0.000000  0.000000  3.338976  0.000000  1.966514  0.000000  0.000000   \n",
       "\n",
       "       DL_7      DL_8     DL_9     DL_10     DL_11     DL_12     DL_13  \\\n",
       "0  6.173485  0.000000  0.00000  0.000000  0.000000  6.153308  4.215621   \n",
       "1  4.714250  0.000000  0.00000  0.000000  0.000000  4.894351  3.420918   \n",
       "2  3.885978  0.000000  0.00000  0.000000  0.000000  4.245215  2.843341   \n",
       "3  5.275514  0.000000  0.00000  0.000000  0.000000  5.387375  3.880430   \n",
       "4  0.000000  2.390673  1.96816  2.084374  1.777916  0.000000  0.000000   \n",
       "\n",
       "      DL_14     DL_15  label  \n",
       "0  6.063298  0.000000    0.0  \n",
       "1  4.600852  0.000000    0.0  \n",
       "2  3.793341  0.000000    0.0  \n",
       "3  5.249128  0.000000    0.0  \n",
       "4  0.000000  1.780722    1.0  "
      ]
     },
     "execution_count": 33,
     "metadata": {},
     "output_type": "execute_result"
    }
   ],
   "source": [
    "extracted_df.head()"
   ]
  },
  {
   "cell_type": "code",
   "execution_count": null,
   "metadata": {},
   "outputs": [],
   "source": []
  }
 ],
 "metadata": {
  "kernelspec": {
   "display_name": "nibm_dl",
   "language": "python",
   "name": "python3"
  },
  "language_info": {
   "codemirror_mode": {
    "name": "ipython",
    "version": 3
   },
   "file_extension": ".py",
   "mimetype": "text/x-python",
   "name": "python",
   "nbconvert_exporter": "python",
   "pygments_lexer": "ipython3",
   "version": "3.10.14"
  }
 },
 "nbformat": 4,
 "nbformat_minor": 2
}

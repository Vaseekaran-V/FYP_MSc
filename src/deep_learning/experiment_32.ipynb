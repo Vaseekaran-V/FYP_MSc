{
 "cells": [
  {
   "cell_type": "code",
   "execution_count": 1,
   "metadata": {},
   "outputs": [],
   "source": [
    "import pandas as pd\n",
    "import numpy as np\n",
    "import h5py\n",
    "import torch\n",
    "import torch.nn as nn\n",
    "import random\n",
    "import sys\n",
    "import os\n",
    "\n",
    "#trying to ensure reproducibility\n",
    "torch.manual_seed(0)\n",
    "random.seed(0)\n",
    "np.random.seed(0)"
   ]
  },
  {
   "cell_type": "code",
   "execution_count": 2,
   "metadata": {},
   "outputs": [],
   "source": [
    "# Setting path to load util functions\n",
    "from pathlib import Path\n",
    "parent_dir = Path.cwd().parents[1]\n",
    "sys.path.append(os.path.abspath(parent_dir))"
   ]
  },
  {
   "cell_type": "code",
   "execution_count": 3,
   "metadata": {},
   "outputs": [],
   "source": [
    "experiment_num = 32"
   ]
  },
  {
   "cell_type": "code",
   "execution_count": 4,
   "metadata": {},
   "outputs": [],
   "source": [
    "#Loading data\n",
    "with h5py.File('../../data/3d_array/mod_train_data_3d_h5.h5', 'r') as f:\n",
    "    train_X = f['train_data_3d'][:]\n",
    "with h5py.File('../../data/3d_array/mod_val_data_3d_h5.h5', 'r') as f:\n",
    "    val_X = f['val_data_3d'][:]\n",
    "with h5py.File('../../data/3d_array/mod_test_data_3d_h5.h5', 'r') as f:\n",
    "    test_X = f['test_data_3d'][:]\n",
    "\n",
    "train_y = pd.read_parquet('../../data/3d_array/train_targets.parquet')\n",
    "val_y = pd.read_parquet('../../data/3d_array/val_targets.parquet')\n",
    "test_y = pd.read_parquet('../../data/3d_array/test_targets.parquet')"
   ]
  },
  {
   "cell_type": "code",
   "execution_count": 5,
   "metadata": {},
   "outputs": [],
   "source": [
    "train_X = np.nan_to_num(train_X, nan=0.0)\n",
    "val_X = np.nan_to_num(val_X, nan=0.0)\n",
    "test_X = np.nan_to_num(test_X, nan=0.0)"
   ]
  },
  {
   "cell_type": "code",
   "execution_count": 6,
   "metadata": {},
   "outputs": [
    {
     "data": {
      "text/plain": [
       "end_of_month\n",
       "2018-03-31    289115\n",
       "Name: count, dtype: int64"
      ]
     },
     "execution_count": 6,
     "metadata": {},
     "output_type": "execute_result"
    }
   ],
   "source": [
    "train_y['end_of_month'].value_counts()"
   ]
  },
  {
   "cell_type": "code",
   "execution_count": 7,
   "metadata": {},
   "outputs": [
    {
     "name": "stderr",
     "output_type": "stream",
     "text": [
      "C:\\Users\\vaseekaranv\\AppData\\Local\\Temp\\ipykernel_13372\\847019464.py:1: FutureWarning: The behavior of 'isin' with dtype=datetime64[ns] and castable values (e.g. strings) is deprecated. In a future version, these will not be considered matching by isin. Explicitly cast to the appropriate dtype before calling isin instead.\n",
      "  train_y = train_y[train_y['end_of_month'].isin(['2018-03-31'])]\n",
      "C:\\Users\\vaseekaranv\\AppData\\Local\\Temp\\ipykernel_13372\\847019464.py:2: FutureWarning: The behavior of 'isin' with dtype=datetime64[ns] and castable values (e.g. strings) is deprecated. In a future version, these will not be considered matching by isin. Explicitly cast to the appropriate dtype before calling isin instead.\n",
      "  val_y = val_y[val_y['end_of_month'].isin(['2018-03-31'])]\n",
      "C:\\Users\\vaseekaranv\\AppData\\Local\\Temp\\ipykernel_13372\\847019464.py:3: FutureWarning: The behavior of 'isin' with dtype=datetime64[ns] and castable values (e.g. strings) is deprecated. In a future version, these will not be considered matching by isin. Explicitly cast to the appropriate dtype before calling isin instead.\n",
      "  test_y = test_y[test_y['end_of_month'].isin(['2018-03-31'])]\n"
     ]
    }
   ],
   "source": [
    "train_y = train_y[train_y['end_of_month'].isin(['2018-03-31'])]\n",
    "val_y = val_y[val_y['end_of_month'].isin(['2018-03-31'])]\n",
    "test_y = test_y[test_y['end_of_month'].isin(['2018-03-31'])]"
   ]
  },
  {
   "cell_type": "code",
   "execution_count": 8,
   "metadata": {},
   "outputs": [
    {
     "data": {
      "text/html": [
       "<div>\n",
       "<style scoped>\n",
       "    .dataframe tbody tr th:only-of-type {\n",
       "        vertical-align: middle;\n",
       "    }\n",
       "\n",
       "    .dataframe tbody tr th {\n",
       "        vertical-align: top;\n",
       "    }\n",
       "\n",
       "    .dataframe thead th {\n",
       "        text-align: right;\n",
       "    }\n",
       "</style>\n",
       "<table border=\"1\" class=\"dataframe\">\n",
       "  <thead>\n",
       "    <tr style=\"text-align: right;\">\n",
       "      <th></th>\n",
       "      <th>customer_ID</th>\n",
       "      <th>end_of_month</th>\n",
       "      <th>target</th>\n",
       "    </tr>\n",
       "  </thead>\n",
       "  <tbody>\n",
       "    <tr>\n",
       "      <th>0</th>\n",
       "      <td>0000099d6bd597052cdcda90ffabf56573fe9d7c79be5f...</td>\n",
       "      <td>2018-03-31</td>\n",
       "      <td>0</td>\n",
       "    </tr>\n",
       "    <tr>\n",
       "      <th>1</th>\n",
       "      <td>00001b22f846c82c51f6e3958ccd81970162bae8b007e8...</td>\n",
       "      <td>2018-03-31</td>\n",
       "      <td>0</td>\n",
       "    </tr>\n",
       "    <tr>\n",
       "      <th>2</th>\n",
       "      <td>000084e5023181993c2e1b665ac88dbb1ce9ef621ec537...</td>\n",
       "      <td>2018-03-31</td>\n",
       "      <td>0</td>\n",
       "    </tr>\n",
       "    <tr>\n",
       "      <th>3</th>\n",
       "      <td>000098081fde4fd64bc4d503a5d6f86a0aedc425c96f52...</td>\n",
       "      <td>2018-03-31</td>\n",
       "      <td>0</td>\n",
       "    </tr>\n",
       "    <tr>\n",
       "      <th>4</th>\n",
       "      <td>0000f99513770170a1aba690daeeb8a96da4a39f11fc27...</td>\n",
       "      <td>2018-03-31</td>\n",
       "      <td>1</td>\n",
       "    </tr>\n",
       "    <tr>\n",
       "      <th>...</th>\n",
       "      <td>...</td>\n",
       "      <td>...</td>\n",
       "      <td>...</td>\n",
       "    </tr>\n",
       "    <tr>\n",
       "      <th>289110</th>\n",
       "      <td>fffe3ec7cdbc1caac845c884b389ed347bfc1da9d09731...</td>\n",
       "      <td>2018-03-31</td>\n",
       "      <td>1</td>\n",
       "    </tr>\n",
       "    <tr>\n",
       "      <th>289111</th>\n",
       "      <td>fffef3305f19a11fb6c15f4ebe9be1bd664540e57c0a6a...</td>\n",
       "      <td>2018-03-31</td>\n",
       "      <td>0</td>\n",
       "    </tr>\n",
       "    <tr>\n",
       "      <th>289112</th>\n",
       "      <td>ffff39cc22a375d07369980d02d617883dd28ad81a6aa3...</td>\n",
       "      <td>2018-03-31</td>\n",
       "      <td>0</td>\n",
       "    </tr>\n",
       "    <tr>\n",
       "      <th>289113</th>\n",
       "      <td>ffff518bb2075e4816ee3fe9f3b152c57fc0e6f01bf7fd...</td>\n",
       "      <td>2018-03-31</td>\n",
       "      <td>0</td>\n",
       "    </tr>\n",
       "    <tr>\n",
       "      <th>289114</th>\n",
       "      <td>fffff1d38b785cef84adeace64f8f83db3a0c31e8d92ea...</td>\n",
       "      <td>2018-03-31</td>\n",
       "      <td>0</td>\n",
       "    </tr>\n",
       "  </tbody>\n",
       "</table>\n",
       "<p>289115 rows × 3 columns</p>\n",
       "</div>"
      ],
      "text/plain": [
       "                                              customer_ID end_of_month  target\n",
       "0       0000099d6bd597052cdcda90ffabf56573fe9d7c79be5f...   2018-03-31       0\n",
       "1       00001b22f846c82c51f6e3958ccd81970162bae8b007e8...   2018-03-31       0\n",
       "2       000084e5023181993c2e1b665ac88dbb1ce9ef621ec537...   2018-03-31       0\n",
       "3       000098081fde4fd64bc4d503a5d6f86a0aedc425c96f52...   2018-03-31       0\n",
       "4       0000f99513770170a1aba690daeeb8a96da4a39f11fc27...   2018-03-31       1\n",
       "...                                                   ...          ...     ...\n",
       "289110  fffe3ec7cdbc1caac845c884b389ed347bfc1da9d09731...   2018-03-31       1\n",
       "289111  fffef3305f19a11fb6c15f4ebe9be1bd664540e57c0a6a...   2018-03-31       0\n",
       "289112  ffff39cc22a375d07369980d02d617883dd28ad81a6aa3...   2018-03-31       0\n",
       "289113  ffff518bb2075e4816ee3fe9f3b152c57fc0e6f01bf7fd...   2018-03-31       0\n",
       "289114  fffff1d38b785cef84adeace64f8f83db3a0c31e8d92ea...   2018-03-31       0\n",
       "\n",
       "[289115 rows x 3 columns]"
      ]
     },
     "execution_count": 8,
     "metadata": {},
     "output_type": "execute_result"
    }
   ],
   "source": [
    "train_y.sort_values(by=['customer_ID'])"
   ]
  },
  {
   "cell_type": "code",
   "execution_count": 9,
   "metadata": {},
   "outputs": [
    {
     "data": {
      "text/plain": [
       "((289115, 13, 86), (289115, 3))"
      ]
     },
     "execution_count": 9,
     "metadata": {},
     "output_type": "execute_result"
    }
   ],
   "source": [
    "train_X.shape, train_y.shape"
   ]
  },
  {
   "cell_type": "code",
   "execution_count": 10,
   "metadata": {},
   "outputs": [
    {
     "data": {
      "text/plain": [
       "((32124, 13, 86), (32124, 3))"
      ]
     },
     "execution_count": 10,
     "metadata": {},
     "output_type": "execute_result"
    }
   ],
   "source": [
    "val_X.shape, val_y.shape"
   ]
  },
  {
   "cell_type": "code",
   "execution_count": 11,
   "metadata": {},
   "outputs": [],
   "source": [
    "class ParallelConvBlock(nn.Module):\n",
    "    def __init__(self, in_channels, out_channels, kernel_sizes=[3, 5, 7], dropout_rate=0.2):\n",
    "        \"\"\"\n",
    "        Parallel Convolutional Block that processes input through multiple convolutional paths\n",
    "        with different kernel sizes and concatenates the results.\n",
    "        \n",
    "        Args:\n",
    "            in_channels: Number of input channels\n",
    "            out_channels: Number of output channels\n",
    "            kernel_sizes: List of kernel sizes for parallel convolutions\n",
    "            dropout_rate: Dropout probability\n",
    "        \"\"\"\n",
    "        super(ParallelConvBlock, self).__init__()\n",
    "        \n",
    "        self.n_paths = len(kernel_sizes)\n",
    "        # Calculate channels per path\n",
    "        path_channels = out_channels // self.n_paths\n",
    "        \n",
    "        # Create parallel convolutional paths\n",
    "        self.paths = nn.ModuleList()\n",
    "        for k_size in kernel_sizes:\n",
    "            padding = k_size // 2  # Same padding to maintain sequence length\n",
    "            path = nn.Sequential(\n",
    "                nn.Conv1d(in_channels, path_channels, kernel_size=k_size, padding=padding),\n",
    "                nn.BatchNorm1d(path_channels),\n",
    "                nn.ReLU(),\n",
    "                nn.Dropout(dropout_rate)\n",
    "            )\n",
    "            self.paths.append(path)\n",
    "            \n",
    "        # Projection layer to ensure output has exactly out_channels\n",
    "        self.projection = nn.Sequential(\n",
    "            nn.Conv1d(path_channels * self.n_paths, out_channels, kernel_size=1),\n",
    "            nn.BatchNorm1d(out_channels),\n",
    "            nn.ReLU()\n",
    "        )\n",
    "    \n",
    "    def forward(self, x):\n",
    "        # Process input through parallel paths\n",
    "        outputs = [path(x) for path in self.paths]\n",
    "        \n",
    "        # Concatenate along channel dimension\n",
    "        # print(f\"Outputs shape before concatenation: {[out.shape for out in outputs]}\")\n",
    "        x = torch.cat(outputs, dim=1)\n",
    "        \n",
    "        # Apply projection to get final output\n",
    "        x = self.projection(x)\n",
    "        \n",
    "        return x"
   ]
  },
  {
   "cell_type": "code",
   "execution_count": 12,
   "metadata": {},
   "outputs": [],
   "source": [
    "class ConvBlock(nn.Module):\n",
    "    def __init__(self, in_channels, out_channels, kernel_size=3, padding=1, pool=True, dropout=0.3):\n",
    "        super(ConvBlock, self).__init__()\n",
    "        self.conv = nn.Conv1d(in_channels, out_channels, kernel_size, padding=padding)\n",
    "        self.bn = nn.BatchNorm1d(out_channels)\n",
    "        self.relu = nn.ReLU()\n",
    "        self.pool = nn.MaxPool1d(kernel_size=2) if pool else None\n",
    "        self.dropout = nn.Dropout(dropout)\n",
    "\n",
    "    def forward(self, x):\n",
    "        x = self.conv(x)\n",
    "        x = self.bn(x)\n",
    "        x = self.relu(x)\n",
    "        if self.pool:\n",
    "            x = self.pool(x)\n",
    "        x = self.dropout(x)\n",
    "        return x"
   ]
  },
  {
   "cell_type": "code",
   "execution_count": 13,
   "metadata": {},
   "outputs": [],
   "source": [
    "class ConvLSTMModel(nn.Module):\n",
    "    def __init__(self, input_size, lstm_hidden_size=64, num_lstm_layers=1, output_size=1):\n",
    "        \"\"\"\n",
    "        Args:\n",
    "            input_size (int): Number of features in the input sequence (feature dimension).\n",
    "            lstm_hidden_size (int): Hidden size for the LSTM layer.\n",
    "            num_lstm_layers (int): Number of layers for the LSTM.\n",
    "            output_size (int): Size of the final output (e.g., 1 for binary classification).\n",
    "        \"\"\"\n",
    "        super(ConvLSTMModel, self).__init__()\n",
    "\n",
    "        self.input_size = input_size\n",
    "        self.lstm_hidden_size = lstm_hidden_size\n",
    "\n",
    "        # --- CNN Path ---\n",
    "        # First convolutional block (Parallel)\n",
    "        # Input channels = input_size (features)\n",
    "        cnn_out_channels_1 = 128\n",
    "        self.parallel_conv = ParallelConvBlock(input_size, cnn_out_channels_1, kernel_sizes=[3, 5, 7, 9], dropout_rate=0.2)\n",
    "\n",
    "        # Second convolutional block\n",
    "        cnn_out_channels_2 = 64\n",
    "        self.block2 = ConvBlock(cnn_out_channels_1, cnn_out_channels_2, dropout=0.2)\n",
    "\n",
    "        # Third convolutional block\n",
    "        self.cnn_final_channels = 128\n",
    "        self.block3 = ConvBlock(cnn_out_channels_2, self.cnn_final_channels, pool=False, dropout=0.2) # No pooling in the last block\n",
    "\n",
    "        # Global pooling for CNN path\n",
    "        self.global_avg_pool = nn.AdaptiveAvgPool1d(1)\n",
    "\n",
    "        # --- LSTM Path ---\n",
    "        self.lstm = nn.LSTM(input_size=input_size,\n",
    "                            hidden_size=lstm_hidden_size,\n",
    "                            num_layers=num_lstm_layers,\n",
    "                            batch_first=True, # Crucial: input shape (batch, seq_len, features)\n",
    "                            bidirectional=False) # Set to True if needed, adjust feature concatenation below\n",
    "\n",
    "        # --- Combined Path ---\n",
    "        # Calculate the combined feature size after CNN pooling and LSTM\n",
    "        combined_features = self.cnn_final_channels + lstm_hidden_size # Add *2 if bidirectional LSTM\n",
    "\n",
    "        # Fully connected layers\n",
    "        self.fc1 = nn.Linear(combined_features, 16) # Input size adjusted\n",
    "        self.relu_fc1 = nn.ReLU()\n",
    "        self.dropout_fc1 = nn.Dropout(0.3) # Added dropout for FC layer\n",
    "        self.fc2 = nn.Linear(16, output_size)\n",
    "        self.sigmoid = nn.Sigmoid()\n",
    "\n",
    "    def forward(self, x):\n",
    "        # Input shape: batch_size x time_steps x features\n",
    "\n",
    "        # --- CNN Path ---\n",
    "        # For Conv1D: convert to batch_size x features(channels) x time_steps\n",
    "        x_cnn = x.permute(0, 2, 1)\n",
    "        # Pass through convolutional blocks\n",
    "        cnn_out = self.parallel_conv(x_cnn)\n",
    "        cnn_out = self.block2(cnn_out)\n",
    "        cnn_out = self.block3(cnn_out)\n",
    "        # Global pooling to get fixed-size representation for CNN path\n",
    "        cnn_pooled = self.global_avg_pool(cnn_out)\n",
    "        cnn_features = cnn_pooled.view(cnn_pooled.size(0), -1) # Flatten: batch_size x cnn_final_channels\n",
    "\n",
    "        # --- LSTM Path ---\n",
    "        # Input shape expected by LSTM (batch_first=True): batch_size x time_steps x features\n",
    "        # No permutation needed for LSTM path if input is already in this format\n",
    "        lstm_out, (h_n, c_n) = self.lstm(x)\n",
    "        # We typically use the last hidden state\n",
    "        # h_n shape: (num_layers * num_directions, batch_size, lstm_hidden_size)\n",
    "        # Get the hidden state of the last layer\n",
    "        lstm_features = h_n[-1] # Shape: batch_size x lstm_hidden_size (if not bidirectional)\n",
    "        # If bidirectional: h_n shape is (num_layers*2, batch, hidden_size)\n",
    "        # You might want to concatenate the last forward and backward hidden states:\n",
    "        # lstm_features = torch.cat((h_n[-2,:,:], h_n[-1,:,:]), dim=1) # If bidirectional\n",
    "\n",
    "        # --- Concatenate Features ---\n",
    "        combined_features = torch.cat((cnn_features, lstm_features), dim=1)\n",
    "\n",
    "        # --- Fully Connected Layers ---\n",
    "        x = self.fc1(combined_features)\n",
    "        x = self.relu_fc1(x)\n",
    "        x = self.dropout_fc1(x)\n",
    "        x = self.fc2(x)\n",
    "\n",
    "        # Output probability\n",
    "        return self.sigmoid(x)"
   ]
  },
  {
   "cell_type": "code",
   "execution_count": null,
   "metadata": {},
   "outputs": [],
   "source": []
  },
  {
   "cell_type": "code",
   "execution_count": 14,
   "metadata": {},
   "outputs": [
    {
     "name": "stdout",
     "output_type": "stream",
     "text": [
      "Model initialized with input_size=86, output_size=1\n"
     ]
    }
   ],
   "source": [
    "# Initialize the ConvModel\n",
    "input_size = train_X.shape[2]  # Number of features\n",
    "output_size = 1  # Binary classification\n",
    "lstm_hidden_size = 256\n",
    "num_lstm_layers = 1\n",
    "\n",
    "# Create model instance\n",
    "model = ConvLSTMModel(input_size=input_size, output_size=output_size, lstm_hidden_size=lstm_hidden_size, num_lstm_layers=num_lstm_layers)\n",
    "print(f\"Model initialized with input_size={input_size}, output_size={output_size}\")"
   ]
  },
  {
   "cell_type": "code",
   "execution_count": 15,
   "metadata": {},
   "outputs": [
    {
     "data": {
      "text/plain": [
       "============================================================================================================================================\n",
       "Layer (type:depth-idx)                   Input Shape               Kernel Shape              Output Shape              Param #\n",
       "============================================================================================================================================\n",
       "ConvLSTMModel                            [2048, 13, 86]            --                        [2048, 1]                 --\n",
       "├─ParallelConvBlock: 1-1                 [2048, 86, 13]            --                        [2048, 128, 13]           83,200\n",
       "├─ConvBlock: 1-2                         [2048, 128, 13]           --                        [2048, 64, 6]             24,768\n",
       "├─ConvBlock: 1-3                         [2048, 64, 6]             --                        [2048, 128, 6]            24,960\n",
       "├─AdaptiveAvgPool1d: 1-4                 [2048, 128, 6]            --                        [2048, 128, 1]            --\n",
       "├─LSTM: 1-5                              [2048, 13, 86]            --                        [2048, 13, 256]           352,256\n",
       "├─Linear: 1-6                            [2048, 384]               --                        [2048, 16]                6,160\n",
       "├─ReLU: 1-7                              [2048, 16]                --                        [2048, 16]                --\n",
       "├─Dropout: 1-8                           [2048, 16]                --                        [2048, 16]                --\n",
       "├─Linear: 1-9                            [2048, 16]                --                        [2048, 1]                 17\n",
       "├─Sigmoid: 1-10                          [2048, 1]                 --                        [2048, 1]                 --\n",
       "============================================================================================================================================\n",
       "Total params: 491,361\n",
       "Trainable params: 491,361\n",
       "Non-trainable params: 0\n",
       "Total mult-adds (G): 12.55\n",
       "============================================================================================================================================\n",
       "Input size (MB): 9.16\n",
       "Forward/backward pass size (MB): 216.29\n",
       "Params size (MB): 1.97\n",
       "Estimated Total Size (MB): 227.41\n",
       "============================================================================================================================================"
      ]
     },
     "execution_count": 15,
     "metadata": {},
     "output_type": "execute_result"
    }
   ],
   "source": [
    "batch_size = 2048\n",
    "from torchinfo import summary\n",
    "summary(model, input_size=(batch_size, train_X.shape[1], train_X.shape[2]), device='cpu',\n",
    "        col_names=[\"input_size\", \"kernel_size\",\"output_size\", \"num_params\"], depth = 1)"
   ]
  },
  {
   "cell_type": "code",
   "execution_count": 16,
   "metadata": {},
   "outputs": [],
   "source": [
    "from torch.utils.data import Dataset, DataLoader\n",
    "class TimeSeriesDataset(Dataset):\n",
    "    def __init__(self, data, targets):\n",
    "        \"\"\"\n",
    "        Args:\n",
    "            data: numpy array of shape (num_ids, time_steps, features)\n",
    "            targets: numpy array of shape (num_ids,)\n",
    "        \"\"\"\n",
    "        self.data = torch.FloatTensor(data)\n",
    "        self.targets = torch.FloatTensor(targets).unsqueeze(1)  # Add dimension for output\n",
    "        \n",
    "    def __len__(self):\n",
    "        return len(self.data)\n",
    "    \n",
    "    def __getitem__(self, idx):\n",
    "        return self.data[idx], self.targets[idx]"
   ]
  },
  {
   "cell_type": "code",
   "execution_count": 17,
   "metadata": {},
   "outputs": [],
   "source": [
    "train_dataset = TimeSeriesDataset(train_X, train_y['target'].values)\n",
    "train_loader = DataLoader(train_dataset, batch_size=batch_size, shuffle=True)"
   ]
  },
  {
   "cell_type": "code",
   "execution_count": 18,
   "metadata": {},
   "outputs": [],
   "source": [
    "val_dataset = TimeSeriesDataset(val_X, val_y['target'].values)\n",
    "val_loader = DataLoader(val_dataset, batch_size=batch_size, shuffle=False)"
   ]
  },
  {
   "cell_type": "code",
   "execution_count": 19,
   "metadata": {},
   "outputs": [],
   "source": [
    "test_dataset = TimeSeriesDataset(test_X, test_y['target'].values)\n",
    "test_loader = DataLoader(test_dataset, batch_size=batch_size, shuffle=False)"
   ]
  },
  {
   "cell_type": "code",
   "execution_count": 20,
   "metadata": {},
   "outputs": [
    {
     "data": {
      "text/plain": [
       "(torch.Size([13, 86]), tensor([0.]))"
      ]
     },
     "execution_count": 20,
     "metadata": {},
     "output_type": "execute_result"
    }
   ],
   "source": [
    "train_dataset.__getitem__(0)[0].shape, train_dataset.__getitem__(0)[1]"
   ]
  },
  {
   "cell_type": "code",
   "execution_count": 21,
   "metadata": {},
   "outputs": [
    {
     "data": {
      "text/plain": [
       "(torch.Size([13, 86]), tensor([1.]))"
      ]
     },
     "execution_count": 21,
     "metadata": {},
     "output_type": "execute_result"
    }
   ],
   "source": [
    "val_dataset.__getitem__(0)[0].shape, val_dataset.__getitem__(0)[1]"
   ]
  },
  {
   "cell_type": "code",
   "execution_count": 22,
   "metadata": {},
   "outputs": [
    {
     "name": "stdout",
     "output_type": "stream",
     "text": [
      "Training on cuda:0\n",
      "Initial Learning Rate: 0.001\n",
      "LR Scheduler Patience: 5, Factor: 0.1\n",
      "Early Stopping Patience: 20\n"
     ]
    },
    {
     "name": "stderr",
     "output_type": "stream",
     "text": [
      "c:\\Users\\vaseekaranv\\AppData\\Local\\anaconda3\\envs\\nibm_dl\\lib\\site-packages\\torch\\optim\\lr_scheduler.py:60: UserWarning: The verbose parameter is deprecated. Please use get_last_lr() to access the learning rate.\n",
      "  warnings.warn(\n"
     ]
    },
    {
     "data": {
      "application/vnd.jupyter.widget-view+json": {
       "model_id": "a502fd2b44ef4c228555b16b963ec533",
       "version_major": 2,
       "version_minor": 0
      },
      "text/plain": [
       "Epoch 1/100 [Train]:   0%|          | 0/142 [00:00<?, ?it/s]"
      ]
     },
     "metadata": {},
     "output_type": "display_data"
    },
    {
     "data": {
      "application/vnd.jupyter.widget-view+json": {
       "model_id": "3d48f7745f1b40e4a509d7788b7094eb",
       "version_major": 2,
       "version_minor": 0
      },
      "text/plain": [
       "Epoch 1/100 [Valid]:   0%|          | 0/16 [00:00<?, ?it/s]"
      ]
     },
     "metadata": {},
     "output_type": "display_data"
    },
    {
     "name": "stdout",
     "output_type": "stream",
     "text": [
      "Epoch 1/100 - Train Loss: 0.3164, Val Loss: 0.2609, Val AUC: 0.9490, LR: 1.0e-03\n",
      "Validation loss improved (inf --> 0.2609). Saving model...\n"
     ]
    },
    {
     "data": {
      "application/vnd.jupyter.widget-view+json": {
       "model_id": "0effe5aaa0d44b2f80bba2bda732532f",
       "version_major": 2,
       "version_minor": 0
      },
      "text/plain": [
       "Epoch 2/100 [Train]:   0%|          | 0/142 [00:00<?, ?it/s]"
      ]
     },
     "metadata": {},
     "output_type": "display_data"
    },
    {
     "data": {
      "application/vnd.jupyter.widget-view+json": {
       "model_id": "3503eefc5b19451f937b7c61beade8a3",
       "version_major": 2,
       "version_minor": 0
      },
      "text/plain": [
       "Epoch 2/100 [Valid]:   0%|          | 0/16 [00:00<?, ?it/s]"
      ]
     },
     "metadata": {},
     "output_type": "display_data"
    },
    {
     "name": "stdout",
     "output_type": "stream",
     "text": [
      "Epoch 2/100 - Train Loss: 0.2585, Val Loss: 0.2439, Val AUC: 0.9516, LR: 1.0e-03\n",
      "Validation loss improved (0.2609 --> 0.2439). Saving model...\n"
     ]
    },
    {
     "data": {
      "application/vnd.jupyter.widget-view+json": {
       "model_id": "c453b357c79f49d18efef66681127a0c",
       "version_major": 2,
       "version_minor": 0
      },
      "text/plain": [
       "Epoch 3/100 [Train]:   0%|          | 0/142 [00:00<?, ?it/s]"
      ]
     },
     "metadata": {},
     "output_type": "display_data"
    },
    {
     "data": {
      "application/vnd.jupyter.widget-view+json": {
       "model_id": "e2fc5a66f89246f7a2a0bfecce1e3d9a",
       "version_major": 2,
       "version_minor": 0
      },
      "text/plain": [
       "Epoch 3/100 [Valid]:   0%|          | 0/16 [00:00<?, ?it/s]"
      ]
     },
     "metadata": {},
     "output_type": "display_data"
    },
    {
     "name": "stdout",
     "output_type": "stream",
     "text": [
      "Epoch 3/100 - Train Loss: 0.2527, Val Loss: 0.2431, Val AUC: 0.9519, LR: 1.0e-03\n",
      "Validation loss improved (0.2439 --> 0.2431). Saving model...\n"
     ]
    },
    {
     "data": {
      "application/vnd.jupyter.widget-view+json": {
       "model_id": "5d4f9f7133e64ea49a56500f44a552fe",
       "version_major": 2,
       "version_minor": 0
      },
      "text/plain": [
       "Epoch 4/100 [Train]:   0%|          | 0/142 [00:00<?, ?it/s]"
      ]
     },
     "metadata": {},
     "output_type": "display_data"
    },
    {
     "data": {
      "application/vnd.jupyter.widget-view+json": {
       "model_id": "082f94b5ada24cb49aa1c3a18c2c4170",
       "version_major": 2,
       "version_minor": 0
      },
      "text/plain": [
       "Epoch 4/100 [Valid]:   0%|          | 0/16 [00:00<?, ?it/s]"
      ]
     },
     "metadata": {},
     "output_type": "display_data"
    },
    {
     "name": "stdout",
     "output_type": "stream",
     "text": [
      "Epoch 4/100 - Train Loss: 0.2490, Val Loss: 0.2438, Val AUC: 0.9530, LR: 1.0e-03\n",
      "Validation loss did not improve for 1 epoch(s).\n"
     ]
    },
    {
     "data": {
      "application/vnd.jupyter.widget-view+json": {
       "model_id": "356627fd13da4a6791998c606a301586",
       "version_major": 2,
       "version_minor": 0
      },
      "text/plain": [
       "Epoch 5/100 [Train]:   0%|          | 0/142 [00:00<?, ?it/s]"
      ]
     },
     "metadata": {},
     "output_type": "display_data"
    },
    {
     "data": {
      "application/vnd.jupyter.widget-view+json": {
       "model_id": "1d50e7f000ad4691985a2c0de1b94ef7",
       "version_major": 2,
       "version_minor": 0
      },
      "text/plain": [
       "Epoch 5/100 [Valid]:   0%|          | 0/16 [00:00<?, ?it/s]"
      ]
     },
     "metadata": {},
     "output_type": "display_data"
    },
    {
     "name": "stdout",
     "output_type": "stream",
     "text": [
      "Epoch 5/100 - Train Loss: 0.2474, Val Loss: 0.2393, Val AUC: 0.9533, LR: 1.0e-03\n",
      "Validation loss improved (0.2431 --> 0.2393). Saving model...\n"
     ]
    },
    {
     "data": {
      "application/vnd.jupyter.widget-view+json": {
       "model_id": "7436d1806f3c4d2cbfefbad6149690f2",
       "version_major": 2,
       "version_minor": 0
      },
      "text/plain": [
       "Epoch 6/100 [Train]:   0%|          | 0/142 [00:00<?, ?it/s]"
      ]
     },
     "metadata": {},
     "output_type": "display_data"
    },
    {
     "data": {
      "application/vnd.jupyter.widget-view+json": {
       "model_id": "4b65b4a9f308415fbe5cacfe6df719c0",
       "version_major": 2,
       "version_minor": 0
      },
      "text/plain": [
       "Epoch 6/100 [Valid]:   0%|          | 0/16 [00:00<?, ?it/s]"
      ]
     },
     "metadata": {},
     "output_type": "display_data"
    },
    {
     "name": "stdout",
     "output_type": "stream",
     "text": [
      "Epoch 6/100 - Train Loss: 0.2454, Val Loss: 0.2402, Val AUC: 0.9536, LR: 1.0e-03\n",
      "Validation loss did not improve for 1 epoch(s).\n"
     ]
    },
    {
     "data": {
      "application/vnd.jupyter.widget-view+json": {
       "model_id": "b4af6e84530e4550994c01cbade4576c",
       "version_major": 2,
       "version_minor": 0
      },
      "text/plain": [
       "Epoch 7/100 [Train]:   0%|          | 0/142 [00:00<?, ?it/s]"
      ]
     },
     "metadata": {},
     "output_type": "display_data"
    },
    {
     "data": {
      "application/vnd.jupyter.widget-view+json": {
       "model_id": "bfb3b084deff4b408368862c840a01df",
       "version_major": 2,
       "version_minor": 0
      },
      "text/plain": [
       "Epoch 7/100 [Valid]:   0%|          | 0/16 [00:00<?, ?it/s]"
      ]
     },
     "metadata": {},
     "output_type": "display_data"
    },
    {
     "name": "stdout",
     "output_type": "stream",
     "text": [
      "Epoch 7/100 - Train Loss: 0.2438, Val Loss: 0.2422, Val AUC: 0.9535, LR: 1.0e-03\n",
      "Validation loss did not improve for 2 epoch(s).\n"
     ]
    },
    {
     "data": {
      "application/vnd.jupyter.widget-view+json": {
       "model_id": "274bbaadfe7f46debe317d9871257338",
       "version_major": 2,
       "version_minor": 0
      },
      "text/plain": [
       "Epoch 8/100 [Train]:   0%|          | 0/142 [00:00<?, ?it/s]"
      ]
     },
     "metadata": {},
     "output_type": "display_data"
    },
    {
     "data": {
      "application/vnd.jupyter.widget-view+json": {
       "model_id": "fefdf7aadd3942f29ea9c063a0714b06",
       "version_major": 2,
       "version_minor": 0
      },
      "text/plain": [
       "Epoch 8/100 [Valid]:   0%|          | 0/16 [00:00<?, ?it/s]"
      ]
     },
     "metadata": {},
     "output_type": "display_data"
    },
    {
     "name": "stdout",
     "output_type": "stream",
     "text": [
      "Epoch 8/100 - Train Loss: 0.2431, Val Loss: 0.2420, Val AUC: 0.9530, LR: 1.0e-03\n",
      "Validation loss did not improve for 3 epoch(s).\n"
     ]
    },
    {
     "data": {
      "application/vnd.jupyter.widget-view+json": {
       "model_id": "243f21136771421a901f5bf8e7f8c8e7",
       "version_major": 2,
       "version_minor": 0
      },
      "text/plain": [
       "Epoch 9/100 [Train]:   0%|          | 0/142 [00:00<?, ?it/s]"
      ]
     },
     "metadata": {},
     "output_type": "display_data"
    },
    {
     "data": {
      "application/vnd.jupyter.widget-view+json": {
       "model_id": "5974ccc11df1430c96b3afb9b3d241c0",
       "version_major": 2,
       "version_minor": 0
      },
      "text/plain": [
       "Epoch 9/100 [Valid]:   0%|          | 0/16 [00:00<?, ?it/s]"
      ]
     },
     "metadata": {},
     "output_type": "display_data"
    },
    {
     "name": "stdout",
     "output_type": "stream",
     "text": [
      "Epoch 9/100 - Train Loss: 0.2420, Val Loss: 0.2376, Val AUC: 0.9543, LR: 1.0e-03\n",
      "Validation loss improved (0.2393 --> 0.2376). Saving model...\n"
     ]
    },
    {
     "data": {
      "application/vnd.jupyter.widget-view+json": {
       "model_id": "ff4080c7a50c4c8c830553822bc7348f",
       "version_major": 2,
       "version_minor": 0
      },
      "text/plain": [
       "Epoch 10/100 [Train]:   0%|          | 0/142 [00:00<?, ?it/s]"
      ]
     },
     "metadata": {},
     "output_type": "display_data"
    },
    {
     "data": {
      "application/vnd.jupyter.widget-view+json": {
       "model_id": "02d1aecaef6740c7af34d4566ddc659d",
       "version_major": 2,
       "version_minor": 0
      },
      "text/plain": [
       "Epoch 10/100 [Valid]:   0%|          | 0/16 [00:00<?, ?it/s]"
      ]
     },
     "metadata": {},
     "output_type": "display_data"
    },
    {
     "name": "stdout",
     "output_type": "stream",
     "text": [
      "Epoch 10/100 - Train Loss: 0.2404, Val Loss: 0.2395, Val AUC: 0.9539, LR: 1.0e-03\n",
      "Validation loss did not improve for 1 epoch(s).\n"
     ]
    },
    {
     "data": {
      "application/vnd.jupyter.widget-view+json": {
       "model_id": "f8002f96e3b0421b98cc02e8a8de7749",
       "version_major": 2,
       "version_minor": 0
      },
      "text/plain": [
       "Epoch 11/100 [Train]:   0%|          | 0/142 [00:00<?, ?it/s]"
      ]
     },
     "metadata": {},
     "output_type": "display_data"
    },
    {
     "data": {
      "application/vnd.jupyter.widget-view+json": {
       "model_id": "55217ccf48d54cfa8a60273446cb7bc0",
       "version_major": 2,
       "version_minor": 0
      },
      "text/plain": [
       "Epoch 11/100 [Valid]:   0%|          | 0/16 [00:00<?, ?it/s]"
      ]
     },
     "metadata": {},
     "output_type": "display_data"
    },
    {
     "name": "stdout",
     "output_type": "stream",
     "text": [
      "Epoch 11/100 - Train Loss: 0.2381, Val Loss: 0.2379, Val AUC: 0.9541, LR: 1.0e-03\n",
      "Validation loss did not improve for 2 epoch(s).\n"
     ]
    },
    {
     "data": {
      "application/vnd.jupyter.widget-view+json": {
       "model_id": "42b2a5e3e67f46e29d771ff85863bcd5",
       "version_major": 2,
       "version_minor": 0
      },
      "text/plain": [
       "Epoch 12/100 [Train]:   0%|          | 0/142 [00:00<?, ?it/s]"
      ]
     },
     "metadata": {},
     "output_type": "display_data"
    },
    {
     "data": {
      "application/vnd.jupyter.widget-view+json": {
       "model_id": "dac64e5fe1f94e02bc10e8c2855cf90d",
       "version_major": 2,
       "version_minor": 0
      },
      "text/plain": [
       "Epoch 12/100 [Valid]:   0%|          | 0/16 [00:00<?, ?it/s]"
      ]
     },
     "metadata": {},
     "output_type": "display_data"
    },
    {
     "name": "stdout",
     "output_type": "stream",
     "text": [
      "Epoch 12/100 - Train Loss: 0.2371, Val Loss: 0.2401, Val AUC: 0.9542, LR: 1.0e-03\n",
      "Validation loss did not improve for 3 epoch(s).\n"
     ]
    },
    {
     "data": {
      "application/vnd.jupyter.widget-view+json": {
       "model_id": "cd9170aad9c846e6871e72e055bc9ef6",
       "version_major": 2,
       "version_minor": 0
      },
      "text/plain": [
       "Epoch 13/100 [Train]:   0%|          | 0/142 [00:00<?, ?it/s]"
      ]
     },
     "metadata": {},
     "output_type": "display_data"
    },
    {
     "data": {
      "application/vnd.jupyter.widget-view+json": {
       "model_id": "dfc4b8c0c3af4569873548a94dfde704",
       "version_major": 2,
       "version_minor": 0
      },
      "text/plain": [
       "Epoch 13/100 [Valid]:   0%|          | 0/16 [00:00<?, ?it/s]"
      ]
     },
     "metadata": {},
     "output_type": "display_data"
    },
    {
     "name": "stdout",
     "output_type": "stream",
     "text": [
      "Epoch 13/100 - Train Loss: 0.2361, Val Loss: 0.2389, Val AUC: 0.9539, LR: 1.0e-03\n",
      "Validation loss did not improve for 4 epoch(s).\n"
     ]
    },
    {
     "data": {
      "application/vnd.jupyter.widget-view+json": {
       "model_id": "450e6976ac844759af5b81d4f6232707",
       "version_major": 2,
       "version_minor": 0
      },
      "text/plain": [
       "Epoch 14/100 [Train]:   0%|          | 0/142 [00:00<?, ?it/s]"
      ]
     },
     "metadata": {},
     "output_type": "display_data"
    },
    {
     "data": {
      "application/vnd.jupyter.widget-view+json": {
       "model_id": "f2c988befaa642d89e9503bdd7a7799d",
       "version_major": 2,
       "version_minor": 0
      },
      "text/plain": [
       "Epoch 14/100 [Valid]:   0%|          | 0/16 [00:00<?, ?it/s]"
      ]
     },
     "metadata": {},
     "output_type": "display_data"
    },
    {
     "name": "stdout",
     "output_type": "stream",
     "text": [
      "Epoch 14/100 - Train Loss: 0.2352, Val Loss: 0.2409, Val AUC: 0.9531, LR: 1.0e-03\n",
      "Validation loss did not improve for 5 epoch(s).\n"
     ]
    },
    {
     "data": {
      "application/vnd.jupyter.widget-view+json": {
       "model_id": "d9a0d10bc366451d971c4a6bed03f412",
       "version_major": 2,
       "version_minor": 0
      },
      "text/plain": [
       "Epoch 15/100 [Train]:   0%|          | 0/142 [00:00<?, ?it/s]"
      ]
     },
     "metadata": {},
     "output_type": "display_data"
    },
    {
     "data": {
      "application/vnd.jupyter.widget-view+json": {
       "model_id": "549418c162c04e75846c7fe4f41d08c3",
       "version_major": 2,
       "version_minor": 0
      },
      "text/plain": [
       "Epoch 15/100 [Valid]:   0%|          | 0/16 [00:00<?, ?it/s]"
      ]
     },
     "metadata": {},
     "output_type": "display_data"
    },
    {
     "name": "stdout",
     "output_type": "stream",
     "text": [
      "Learning rate reduced from 0.001 to 0.0001\n",
      "Epoch 15/100 - Train Loss: 0.2344, Val Loss: 0.2428, Val AUC: 0.9528, LR: 1.0e-04\n",
      "Validation loss did not improve for 6 epoch(s).\n"
     ]
    },
    {
     "data": {
      "application/vnd.jupyter.widget-view+json": {
       "model_id": "a568247ade684a5eb2f7d7ebac9ee319",
       "version_major": 2,
       "version_minor": 0
      },
      "text/plain": [
       "Epoch 16/100 [Train]:   0%|          | 0/142 [00:00<?, ?it/s]"
      ]
     },
     "metadata": {},
     "output_type": "display_data"
    },
    {
     "data": {
      "application/vnd.jupyter.widget-view+json": {
       "model_id": "82453a9f713f44f1a3bd929dc49c880d",
       "version_major": 2,
       "version_minor": 0
      },
      "text/plain": [
       "Epoch 16/100 [Valid]:   0%|          | 0/16 [00:00<?, ?it/s]"
      ]
     },
     "metadata": {},
     "output_type": "display_data"
    },
    {
     "name": "stdout",
     "output_type": "stream",
     "text": [
      "Epoch 16/100 - Train Loss: 0.2286, Val Loss: 0.2419, Val AUC: 0.9528, LR: 1.0e-04\n",
      "Validation loss did not improve for 7 epoch(s).\n"
     ]
    },
    {
     "data": {
      "application/vnd.jupyter.widget-view+json": {
       "model_id": "c2a8499e12534edaa26df25ff043a05d",
       "version_major": 2,
       "version_minor": 0
      },
      "text/plain": [
       "Epoch 17/100 [Train]:   0%|          | 0/142 [00:00<?, ?it/s]"
      ]
     },
     "metadata": {},
     "output_type": "display_data"
    },
    {
     "data": {
      "application/vnd.jupyter.widget-view+json": {
       "model_id": "28b4666f71d9496fbceceaef6e6420db",
       "version_major": 2,
       "version_minor": 0
      },
      "text/plain": [
       "Epoch 17/100 [Valid]:   0%|          | 0/16 [00:00<?, ?it/s]"
      ]
     },
     "metadata": {},
     "output_type": "display_data"
    },
    {
     "name": "stdout",
     "output_type": "stream",
     "text": [
      "Epoch 17/100 - Train Loss: 0.2271, Val Loss: 0.2406, Val AUC: 0.9535, LR: 1.0e-04\n",
      "Validation loss did not improve for 8 epoch(s).\n"
     ]
    },
    {
     "data": {
      "application/vnd.jupyter.widget-view+json": {
       "model_id": "03a24ffa465945feb035dbfe5dea835b",
       "version_major": 2,
       "version_minor": 0
      },
      "text/plain": [
       "Epoch 18/100 [Train]:   0%|          | 0/142 [00:00<?, ?it/s]"
      ]
     },
     "metadata": {},
     "output_type": "display_data"
    },
    {
     "data": {
      "application/vnd.jupyter.widget-view+json": {
       "model_id": "660734f3d52f49398aa4a0818093b6ef",
       "version_major": 2,
       "version_minor": 0
      },
      "text/plain": [
       "Epoch 18/100 [Valid]:   0%|          | 0/16 [00:00<?, ?it/s]"
      ]
     },
     "metadata": {},
     "output_type": "display_data"
    },
    {
     "name": "stdout",
     "output_type": "stream",
     "text": [
      "Epoch 18/100 - Train Loss: 0.2264, Val Loss: 0.2420, Val AUC: 0.9533, LR: 1.0e-04\n",
      "Validation loss did not improve for 9 epoch(s).\n"
     ]
    },
    {
     "data": {
      "application/vnd.jupyter.widget-view+json": {
       "model_id": "c4f04db60755464786b9bd4131f73ad8",
       "version_major": 2,
       "version_minor": 0
      },
      "text/plain": [
       "Epoch 19/100 [Train]:   0%|          | 0/142 [00:00<?, ?it/s]"
      ]
     },
     "metadata": {},
     "output_type": "display_data"
    },
    {
     "data": {
      "application/vnd.jupyter.widget-view+json": {
       "model_id": "63b94e8417784869ab604d0936bf0a7a",
       "version_major": 2,
       "version_minor": 0
      },
      "text/plain": [
       "Epoch 19/100 [Valid]:   0%|          | 0/16 [00:00<?, ?it/s]"
      ]
     },
     "metadata": {},
     "output_type": "display_data"
    },
    {
     "name": "stdout",
     "output_type": "stream",
     "text": [
      "Epoch 19/100 - Train Loss: 0.2255, Val Loss: 0.2412, Val AUC: 0.9534, LR: 1.0e-04\n",
      "Validation loss did not improve for 10 epoch(s).\n"
     ]
    },
    {
     "data": {
      "application/vnd.jupyter.widget-view+json": {
       "model_id": "4e1962cf6f4b4dd38f626198d404f739",
       "version_major": 2,
       "version_minor": 0
      },
      "text/plain": [
       "Epoch 20/100 [Train]:   0%|          | 0/142 [00:00<?, ?it/s]"
      ]
     },
     "metadata": {},
     "output_type": "display_data"
    },
    {
     "data": {
      "application/vnd.jupyter.widget-view+json": {
       "model_id": "4d82152cc1734978b14daabc81a69eff",
       "version_major": 2,
       "version_minor": 0
      },
      "text/plain": [
       "Epoch 20/100 [Valid]:   0%|          | 0/16 [00:00<?, ?it/s]"
      ]
     },
     "metadata": {},
     "output_type": "display_data"
    },
    {
     "name": "stdout",
     "output_type": "stream",
     "text": [
      "Epoch 20/100 - Train Loss: 0.2251, Val Loss: 0.2460, Val AUC: 0.9510, LR: 1.0e-04\n",
      "Validation loss did not improve for 11 epoch(s).\n"
     ]
    },
    {
     "data": {
      "application/vnd.jupyter.widget-view+json": {
       "model_id": "06db4286b14246f7a95f62b9410e32e8",
       "version_major": 2,
       "version_minor": 0
      },
      "text/plain": [
       "Epoch 21/100 [Train]:   0%|          | 0/142 [00:00<?, ?it/s]"
      ]
     },
     "metadata": {},
     "output_type": "display_data"
    },
    {
     "data": {
      "application/vnd.jupyter.widget-view+json": {
       "model_id": "780752498c644c0cbc73d914690326c2",
       "version_major": 2,
       "version_minor": 0
      },
      "text/plain": [
       "Epoch 21/100 [Valid]:   0%|          | 0/16 [00:00<?, ?it/s]"
      ]
     },
     "metadata": {},
     "output_type": "display_data"
    },
    {
     "name": "stdout",
     "output_type": "stream",
     "text": [
      "Learning rate reduced from 0.0001 to 1e-05\n",
      "Epoch 21/100 - Train Loss: 0.2243, Val Loss: 0.2414, Val AUC: 0.9531, LR: 1.0e-05\n",
      "Validation loss did not improve for 12 epoch(s).\n"
     ]
    },
    {
     "data": {
      "application/vnd.jupyter.widget-view+json": {
       "model_id": "3db41beb24ea48dd890bdba6455c1af8",
       "version_major": 2,
       "version_minor": 0
      },
      "text/plain": [
       "Epoch 22/100 [Train]:   0%|          | 0/142 [00:00<?, ?it/s]"
      ]
     },
     "metadata": {},
     "output_type": "display_data"
    },
    {
     "data": {
      "application/vnd.jupyter.widget-view+json": {
       "model_id": "7e9964636a6546d59643d76bcec2067e",
       "version_major": 2,
       "version_minor": 0
      },
      "text/plain": [
       "Epoch 22/100 [Valid]:   0%|          | 0/16 [00:00<?, ?it/s]"
      ]
     },
     "metadata": {},
     "output_type": "display_data"
    },
    {
     "name": "stdout",
     "output_type": "stream",
     "text": [
      "Epoch 22/100 - Train Loss: 0.2238, Val Loss: 0.2413, Val AUC: 0.9527, LR: 1.0e-05\n",
      "Validation loss did not improve for 13 epoch(s).\n"
     ]
    },
    {
     "data": {
      "application/vnd.jupyter.widget-view+json": {
       "model_id": "889681503adf4941a668ddaddfdaadaf",
       "version_major": 2,
       "version_minor": 0
      },
      "text/plain": [
       "Epoch 23/100 [Train]:   0%|          | 0/142 [00:00<?, ?it/s]"
      ]
     },
     "metadata": {},
     "output_type": "display_data"
    },
    {
     "data": {
      "application/vnd.jupyter.widget-view+json": {
       "model_id": "404121c0c78e494b9d37ceb6011c2558",
       "version_major": 2,
       "version_minor": 0
      },
      "text/plain": [
       "Epoch 23/100 [Valid]:   0%|          | 0/16 [00:00<?, ?it/s]"
      ]
     },
     "metadata": {},
     "output_type": "display_data"
    },
    {
     "name": "stdout",
     "output_type": "stream",
     "text": [
      "Epoch 23/100 - Train Loss: 0.2228, Val Loss: 0.2424, Val AUC: 0.9521, LR: 1.0e-05\n",
      "Validation loss did not improve for 14 epoch(s).\n"
     ]
    },
    {
     "data": {
      "application/vnd.jupyter.widget-view+json": {
       "model_id": "79471ce46d1c467b839ce5385df21ace",
       "version_major": 2,
       "version_minor": 0
      },
      "text/plain": [
       "Epoch 24/100 [Train]:   0%|          | 0/142 [00:00<?, ?it/s]"
      ]
     },
     "metadata": {},
     "output_type": "display_data"
    },
    {
     "data": {
      "application/vnd.jupyter.widget-view+json": {
       "model_id": "331f11c824f74361aff4bca304af0254",
       "version_major": 2,
       "version_minor": 0
      },
      "text/plain": [
       "Epoch 24/100 [Valid]:   0%|          | 0/16 [00:00<?, ?it/s]"
      ]
     },
     "metadata": {},
     "output_type": "display_data"
    },
    {
     "name": "stdout",
     "output_type": "stream",
     "text": [
      "Epoch 24/100 - Train Loss: 0.2231, Val Loss: 0.2420, Val AUC: 0.9530, LR: 1.0e-05\n",
      "Validation loss did not improve for 15 epoch(s).\n"
     ]
    },
    {
     "data": {
      "application/vnd.jupyter.widget-view+json": {
       "model_id": "f2be5616246e4ad69bc682100bdcb20c",
       "version_major": 2,
       "version_minor": 0
      },
      "text/plain": [
       "Epoch 25/100 [Train]:   0%|          | 0/142 [00:00<?, ?it/s]"
      ]
     },
     "metadata": {},
     "output_type": "display_data"
    },
    {
     "data": {
      "application/vnd.jupyter.widget-view+json": {
       "model_id": "7e5742a6b6a648b189406dc296d2fece",
       "version_major": 2,
       "version_minor": 0
      },
      "text/plain": [
       "Epoch 25/100 [Valid]:   0%|          | 0/16 [00:00<?, ?it/s]"
      ]
     },
     "metadata": {},
     "output_type": "display_data"
    },
    {
     "name": "stdout",
     "output_type": "stream",
     "text": [
      "Epoch 25/100 - Train Loss: 0.2229, Val Loss: 0.2429, Val AUC: 0.9528, LR: 1.0e-05\n",
      "Validation loss did not improve for 16 epoch(s).\n"
     ]
    },
    {
     "data": {
      "application/vnd.jupyter.widget-view+json": {
       "model_id": "ccd2d7e654f944ef8cb20eb2b368563e",
       "version_major": 2,
       "version_minor": 0
      },
      "text/plain": [
       "Epoch 26/100 [Train]:   0%|          | 0/142 [00:00<?, ?it/s]"
      ]
     },
     "metadata": {},
     "output_type": "display_data"
    },
    {
     "data": {
      "application/vnd.jupyter.widget-view+json": {
       "model_id": "2ad89105e15148cdad7640c728ae6285",
       "version_major": 2,
       "version_minor": 0
      },
      "text/plain": [
       "Epoch 26/100 [Valid]:   0%|          | 0/16 [00:00<?, ?it/s]"
      ]
     },
     "metadata": {},
     "output_type": "display_data"
    },
    {
     "name": "stdout",
     "output_type": "stream",
     "text": [
      "Epoch 26/100 - Train Loss: 0.2230, Val Loss: 0.2420, Val AUC: 0.9527, LR: 1.0e-05\n",
      "Validation loss did not improve for 17 epoch(s).\n"
     ]
    },
    {
     "data": {
      "application/vnd.jupyter.widget-view+json": {
       "model_id": "1c0776451d2847aab5e15f04a97d7072",
       "version_major": 2,
       "version_minor": 0
      },
      "text/plain": [
       "Epoch 27/100 [Train]:   0%|          | 0/142 [00:00<?, ?it/s]"
      ]
     },
     "metadata": {},
     "output_type": "display_data"
    },
    {
     "data": {
      "application/vnd.jupyter.widget-view+json": {
       "model_id": "32a2c263249a411683ad3c7b63113e37",
       "version_major": 2,
       "version_minor": 0
      },
      "text/plain": [
       "Epoch 27/100 [Valid]:   0%|          | 0/16 [00:00<?, ?it/s]"
      ]
     },
     "metadata": {},
     "output_type": "display_data"
    },
    {
     "name": "stdout",
     "output_type": "stream",
     "text": [
      "Learning rate reduced from 1e-05 to 1.0000000000000002e-06\n",
      "Epoch 27/100 - Train Loss: 0.2232, Val Loss: 0.2421, Val AUC: 0.9529, LR: 1.0e-06\n",
      "Validation loss did not improve for 18 epoch(s).\n"
     ]
    },
    {
     "data": {
      "application/vnd.jupyter.widget-view+json": {
       "model_id": "5ed3f2e5db264615b5e4d20a91eb8643",
       "version_major": 2,
       "version_minor": 0
      },
      "text/plain": [
       "Epoch 28/100 [Train]:   0%|          | 0/142 [00:00<?, ?it/s]"
      ]
     },
     "metadata": {},
     "output_type": "display_data"
    },
    {
     "data": {
      "application/vnd.jupyter.widget-view+json": {
       "model_id": "4508bd2af5d148409459691755cd3fae",
       "version_major": 2,
       "version_minor": 0
      },
      "text/plain": [
       "Epoch 28/100 [Valid]:   0%|          | 0/16 [00:00<?, ?it/s]"
      ]
     },
     "metadata": {},
     "output_type": "display_data"
    },
    {
     "name": "stdout",
     "output_type": "stream",
     "text": [
      "Epoch 28/100 - Train Loss: 0.2228, Val Loss: 0.2476, Val AUC: 0.9505, LR: 1.0e-06\n",
      "Validation loss did not improve for 19 epoch(s).\n"
     ]
    },
    {
     "data": {
      "application/vnd.jupyter.widget-view+json": {
       "model_id": "6eadb0243102486988e838e07226c5e4",
       "version_major": 2,
       "version_minor": 0
      },
      "text/plain": [
       "Epoch 29/100 [Train]:   0%|          | 0/142 [00:00<?, ?it/s]"
      ]
     },
     "metadata": {},
     "output_type": "display_data"
    },
    {
     "data": {
      "application/vnd.jupyter.widget-view+json": {
       "model_id": "481616fe77fd4ab896da17e9f00252d9",
       "version_major": 2,
       "version_minor": 0
      },
      "text/plain": [
       "Epoch 29/100 [Valid]:   0%|          | 0/16 [00:00<?, ?it/s]"
      ]
     },
     "metadata": {},
     "output_type": "display_data"
    },
    {
     "name": "stdout",
     "output_type": "stream",
     "text": [
      "Epoch 29/100 - Train Loss: 0.2228, Val Loss: 0.2436, Val AUC: 0.9530, LR: 1.0e-06\n",
      "Validation loss did not improve for 20 epoch(s).\n",
      "Early stopping triggered after 29 epochs due to no improvement for 20 epochs.\n",
      "Training completed in 5m 21s\n",
      "Best val loss: 0.2376, Best val AUC at that point: 0.9543\n",
      "Best model weights loaded.\n"
     ]
    }
   ],
   "source": [
    "import torch.optim as optim\n",
    "# Import the learning rate scheduler\n",
    "from torch.optim.lr_scheduler import ReduceLROnPlateau\n",
    "from sklearn.metrics import roc_auc_score\n",
    "import numpy as np # Needed for checking NaN if AUC fails\n",
    "import time\n",
    "import copy\n",
    "from tqdm.auto import tqdm\n",
    "\n",
    "# --- Define Loss Function and Optimizer ---\n",
    "# NOTE: Ensure your model's output layer includes a Sigmoid activation for BCELoss\n",
    "criterion = nn.BCELoss()\n",
    "optimizer = optim.Adam(model.parameters(), lr=0.001) # Initial learning rate\n",
    "\n",
    "# --- Learning Rate Scheduler ---\n",
    "lr_patience = 5 # Number of epochs with no improvement after which learning rate will be reduced\n",
    "lr_factor = 0.1 # Factor by which the learning rate will be reduced. new_lr = lr * factor\n",
    "scheduler = ReduceLROnPlateau(optimizer,\n",
    "                              mode='min',      # Reduce LR when the monitored quantity stops decreasing\n",
    "                              factor=lr_factor,\n",
    "                              patience=lr_patience,\n",
    "                              verbose=True,    # Print a message when LR is reduced\n",
    "                              threshold=0.0001, # Threshold for measuring the new optimum\n",
    "                              min_lr=1e-8)     # Lower bound on the learning rate\n",
    "\n",
    "# --- Training parameters ---\n",
    "num_epochs = 100\n",
    "early_stopping_patience = 20  # Number of epochs for early stopping (can be same or different from lr_patience)\n",
    "\n",
    "# --- Initialize variables for early stopping ---\n",
    "best_val_loss = float('inf')\n",
    "best_val_auc = 0.0\n",
    "# Correctly use state_dict() for saving/loading model weights\n",
    "best_model_wts = copy.deepcopy(model.state_dict())\n",
    "no_improve_epochs = 0 # Counter for early stopping\n",
    "\n",
    "# --- For tracking metrics ---\n",
    "train_losses = []\n",
    "val_losses = []\n",
    "val_aucs = []\n",
    "\n",
    "# --- Move model to device ---\n",
    "device = torch.device(\"cuda:0\" if torch.cuda.is_available() else \"cpu\")\n",
    "model.to(device)\n",
    "\n",
    "print(f\"Training on {device}\")\n",
    "print(f\"Initial Learning Rate: {optimizer.param_groups[0]['lr']}\")\n",
    "print(f\"LR Scheduler Patience: {lr_patience}, Factor: {lr_factor}\")\n",
    "print(f\"Early Stopping Patience: {early_stopping_patience}\")\n",
    "\n",
    "start_time = time.time()\n",
    "\n",
    "# --- Training loop ---\n",
    "for epoch in range(num_epochs):\n",
    "    # --- Training phase ---\n",
    "    model.train()\n",
    "    running_loss = 0.0\n",
    "    train_pbar = tqdm(train_loader, desc=f\"Epoch {epoch+1}/{num_epochs} [Train]\", leave=False)\n",
    "    for inputs, labels in train_pbar:\n",
    "        # Ensure labels are float for BCELoss\n",
    "        inputs, labels = inputs.to(device), labels.to(device).float()\n",
    "\n",
    "        optimizer.zero_grad()\n",
    "        outputs = model(inputs) # Should be probabilities (output of Sigmoid)\n",
    "        loss = criterion(outputs, labels)\n",
    "        loss.backward()\n",
    "        optimizer.step()\n",
    "\n",
    "        running_loss += loss.item() * inputs.size(0)\n",
    "        train_pbar.set_postfix({'loss': loss.item()})\n",
    "\n",
    "    epoch_train_loss = running_loss / len(train_dataset) # Use len(train_dataset) for average\n",
    "    train_losses.append(epoch_train_loss)\n",
    "\n",
    "    # --- Validation phase ---\n",
    "    model.eval()\n",
    "    running_loss = 0.0\n",
    "    all_preds = []\n",
    "    all_labels = []\n",
    "    val_pbar = tqdm(val_loader, desc=f\"Epoch {epoch+1}/{num_epochs} [Valid]\", leave=False)\n",
    "    with torch.no_grad():\n",
    "        for inputs, labels in val_pbar:\n",
    "            # Ensure labels are float for BCELoss\n",
    "            inputs, labels = inputs.to(device), labels.to(device).float()\n",
    "\n",
    "            outputs = model(inputs) # Probabilities\n",
    "            loss = criterion(outputs, labels)\n",
    "\n",
    "            running_loss += loss.item() * inputs.size(0)\n",
    "            all_preds.extend(outputs.cpu().numpy())\n",
    "            all_labels.extend(labels.cpu().numpy())\n",
    "            val_pbar.set_postfix({'loss': loss.item()})\n",
    "\n",
    "    epoch_val_loss = running_loss / len(val_dataset) # Use len(val_dataset) for average\n",
    "    val_losses.append(epoch_val_loss)\n",
    "\n",
    "    # Flatten potentially nested lists/arrays if output_size=1\n",
    "    try:\n",
    "        all_preds_flat = [p[0] for p in all_preds]\n",
    "        all_labels_flat = [l[0] for l in all_labels]\n",
    "    except IndexError: # Handle cases where outputs/labels might already be flat\n",
    "        all_preds_flat = all_preds\n",
    "        all_labels_flat = all_labels\n",
    "\n",
    "    # Calculate AUC\n",
    "    try:\n",
    "        epoch_val_auc = roc_auc_score(all_labels_flat, all_preds_flat)\n",
    "        val_aucs.append(epoch_val_auc)\n",
    "    except ValueError as e:\n",
    "        print(f\"Could not calculate AUC: {e}. Skipping AUC for this epoch.\")\n",
    "        epoch_val_auc = float('nan') # Assign NaN or handle as appropriate\n",
    "        val_aucs.append(epoch_val_auc)\n",
    "\n",
    "\n",
    "    # --- Learning Rate Scheduler Step ---\n",
    "    # Pass the validation loss to the scheduler\n",
    "    current_lr = optimizer.param_groups[0]['lr']\n",
    "    scheduler.step(epoch_val_loss)\n",
    "    new_lr = optimizer.param_groups[0]['lr']\n",
    "    if new_lr < current_lr:\n",
    "        print(f\"Learning rate reduced from {current_lr} to {new_lr}\")\n",
    "\n",
    "\n",
    "    # Print epoch statistics\n",
    "    print(f\"Epoch {epoch+1}/{num_epochs} - \"\n",
    "          f\"Train Loss: {epoch_train_loss:.4f}, \"\n",
    "          f\"Val Loss: {epoch_val_loss:.4f}, \"\n",
    "          f\"Val AUC: {epoch_val_auc:.4f}, \"\n",
    "          f\"LR: {optimizer.param_groups[0]['lr']:.1e}\") # Display current LR\n",
    "\n",
    "    # Check if this is the best model (based on validation loss)\n",
    "    if epoch_val_loss < best_val_loss - scheduler.threshold: # Use scheduler's threshold\n",
    "        print(f\"Validation loss improved ({best_val_loss:.4f} --> {epoch_val_loss:.4f}). Saving model...\")\n",
    "        best_val_loss = epoch_val_loss\n",
    "        if not np.isnan(epoch_val_auc): # Only update best AUC if it's valid\n",
    "            best_val_auc = epoch_val_auc\n",
    "        best_model_wts = copy.deepcopy(model.state_dict())\n",
    "        no_improve_epochs = 0 # Reset early stopping counter\n",
    "    else:\n",
    "        no_improve_epochs += 1\n",
    "        print(f\"Validation loss did not improve for {no_improve_epochs} epoch(s).\")\n",
    "\n",
    "    # Early stopping check (using early_stopping_patience)\n",
    "    if no_improve_epochs >= early_stopping_patience:\n",
    "        print(f\"Early stopping triggered after {epoch+1} epochs due to no improvement for {early_stopping_patience} epochs.\")\n",
    "        break\n",
    "\n",
    "# --- Training complete ---\n",
    "time_elapsed = time.time() - start_time\n",
    "print(f\"Training completed in {time_elapsed // 60:.0f}m {time_elapsed % 60:.0f}s\")\n",
    "print(f\"Best val loss: {best_val_loss:.4f}, Best val AUC at that point: {best_val_auc:.4f}\")\n",
    "\n",
    "# Load best model weights\n",
    "model.load_state_dict(best_model_wts)\n",
    "print(\"Best model weights loaded.\")"
   ]
  },
  {
   "cell_type": "code",
   "execution_count": 23,
   "metadata": {},
   "outputs": [
    {
     "name": "stdout",
     "output_type": "stream",
     "text": [
      "Model saved to ../../models/deep_learning\\experiment_32.pth\n",
      "Checkpoint saved to ../../models/deep_learning\\experiment_32.pth\n"
     ]
    }
   ],
   "source": [
    "import os\n",
    "\n",
    "# Save the model weights\n",
    "\n",
    "# Create directory if it doesn't exist\n",
    "save_dir = '../../models/deep_learning'\n",
    "os.makedirs(save_dir, exist_ok=True)\n",
    "\n",
    "# Save model state dictionary\n",
    "model_path = os.path.join(save_dir, f'experiment_{experiment_num}.pth')\n",
    "torch.save(model.state_dict(), model_path)\n",
    "\n",
    "# Save additional information for later reference\n",
    "checkpoint_path = os.path.join(save_dir, f'experiment_{experiment_num}.pth')\n",
    "checkpoint = {\n",
    "    'model_state_dict': model.state_dict(),\n",
    "    'optimizer_state_dict': optimizer.state_dict(),\n",
    "}\n",
    "torch.save(checkpoint, checkpoint_path)\n",
    "\n",
    "print(f\"Model saved to {model_path}\")\n",
    "print(f\"Checkpoint saved to {checkpoint_path}\")"
   ]
  },
  {
   "cell_type": "code",
   "execution_count": 24,
   "metadata": {},
   "outputs": [
    {
     "name": "stdout",
     "output_type": "stream",
     "text": [
      "Validation predictions obtained.\n",
      "Target Recall: >= 0.9800 for Class 0\n",
      "Threshold found by Binary Search: 0.7362363\n",
      "Achieved Recall at Threshold: 0.9800\n",
      "Classification Report:\n",
      "              precision    recall  f1-score   support\n",
      "\n",
      "     Class 0     0.8599    0.9800    0.9160     23806\n",
      "     Class 1     0.9046    0.5429    0.6786      8318\n",
      "\n",
      "    accuracy                         0.8668     32124\n",
      "   macro avg     0.8823    0.7615    0.7973     32124\n",
      "weighted avg     0.8715    0.8668    0.8545     32124\n",
      "\n"
     ]
    },
    {
     "data": {
      "image/png": "[encoded data removed]",
      "text/plain": [
       "<Figure size 640x480 with 2 Axes>"
      ]
     },
     "metadata": {},
     "output_type": "display_data"
    },
    {
     "data": {
      "text/plain": [
       "0.7362362742424011"
      ]
     },
     "execution_count": 24,
     "metadata": {},
     "output_type": "execute_result"
    }
   ],
   "source": [
    "# Ensure the model is in evaluation mode\n",
    "model.eval()\n",
    "\n",
    "# Initialize a list to store predictions\n",
    "val_predictions = []\n",
    "\n",
    "# Disable gradient computation for inference\n",
    "with torch.no_grad():\n",
    "    for inputs, _ in val_loader:\n",
    "        inputs = inputs.to(device)\n",
    "        outputs = model(inputs)\n",
    "        val_predictions.extend(outputs.cpu().numpy())\n",
    "\n",
    "# Flatten the predictions\n",
    "val_predictions = [p[0] for p in val_predictions]\n",
    "print(\"Validation predictions obtained.\")\n",
    "\n",
    "from utils.eval_helpers import evaluate_model_for_recall\n",
    "evaluate_model_for_recall(target_class=0, desired_recall=0.98, y_true=np.array(all_labels).astype('int'), y_pred_proba=np.array(val_predictions))"
   ]
  },
  {
   "cell_type": "code",
   "execution_count": 25,
   "metadata": {},
   "outputs": [
    {
     "name": "stdout",
     "output_type": "stream",
     "text": [
      "Classification Report:\n",
      "              precision    recall  f1-score   support\n",
      "\n",
      "           0     0.9251    0.9293    0.9272    102026\n",
      "           1     0.7949    0.7846    0.7897     35648\n",
      "\n",
      "    accuracy                         0.8918    137674\n",
      "   macro avg     0.8600    0.8569    0.8584    137674\n",
      "weighted avg     0.8914    0.8918    0.8916    137674\n",
      "\n",
      "Accuracy: 0.8918\n",
      "ROC-AUC Score: 0.9526\n",
      "\n",
      "Confusion Matrix:\n",
      "[[94808  7218]\n",
      " [ 7678 27970]]\n"
     ]
    }
   ],
   "source": [
    "from sklearn.metrics import classification_report, accuracy_score, roc_auc_score, confusion_matrix\n",
    "\n",
    "# Set model to evaluation mode\n",
    "model.eval()\n",
    "\n",
    "# Check if CUDA is available and move model to the appropriate device\n",
    "device = torch.device('cuda:0' if torch.cuda.is_available() else 'cpu')\n",
    "model = model.to(device)\n",
    "\n",
    "# Lists to store predictions and true values\n",
    "all_preds = []\n",
    "all_labels = []\n",
    "\n",
    "# Perform inference without gradient calculation\n",
    "with torch.no_grad():\n",
    "    for inputs, labels in test_loader:\n",
    "        # Move inputs and labels to the appropriate device\n",
    "        inputs, labels = inputs.to(device), labels.to(device)\n",
    "        \n",
    "        # Forward pass\n",
    "        outputs = model(inputs)\n",
    "        \n",
    "        # Store predictions and labels\n",
    "        all_preds.append(outputs.cpu().numpy())\n",
    "        all_labels.append(labels.cpu().numpy())\n",
    "\n",
    "# Concatenate all batches\n",
    "all_preds = np.concatenate(all_preds)\n",
    "all_labels = np.concatenate(all_labels)\n",
    "\n",
    "# Convert predictions to binary (0 or 1) using threshold of 0.5\n",
    "pred_classes = (all_preds > 0.5).astype(int)\n",
    "true_classes = all_labels.astype(int)\n",
    "\n",
    "# Generate classification report\n",
    "\n",
    "# Print classification report\n",
    "print(\"Classification Report:\")\n",
    "print(classification_report(true_classes, pred_classes, digits = 4))\n",
    "\n",
    "# Calculate and print accuracy\n",
    "accuracy = accuracy_score(true_classes, pred_classes)\n",
    "print(f\"Accuracy: {accuracy:.4f}\")\n",
    "\n",
    "# Calculate and print ROC-AUC score\n",
    "auc = roc_auc_score(true_classes, all_preds)\n",
    "print(f\"ROC-AUC Score: {auc:.4f}\")\n",
    "\n",
    "# Print confusion matrix\n",
    "print(\"\\nConfusion Matrix:\")\n",
    "print(confusion_matrix(true_classes, pred_classes))"
   ]
  },
  {
   "cell_type": "code",
   "execution_count": 26,
   "metadata": {},
   "outputs": [
    {
     "name": "stdout",
     "output_type": "stream",
     "text": [
      "Target Recall: >= 0.9800 for Class 0\n",
      "Threshold found by Binary Search: 0.7340957\n",
      "Achieved Recall at Threshold: 0.9800\n",
      "Classification Report:\n",
      "              precision    recall  f1-score   support\n",
      "\n",
      "     Class 0     0.8584    0.9800    0.9152    102026\n",
      "     Class 1     0.9037    0.5372    0.6739     35648\n",
      "\n",
      "    accuracy                         0.8654    137674\n",
      "   macro avg     0.8811    0.7586    0.7945    137674\n",
      "weighted avg     0.8701    0.8654    0.8527    137674\n",
      "\n"
     ]
    },
    {
     "data": {
      "image/png": "[encoded data removed]",
      "text/plain": [
       "<Figure size 640x480 with 2 Axes>"
      ]
     },
     "metadata": {},
     "output_type": "display_data"
    },
    {
     "data": {
      "text/plain": [
       "0.7340956926345825"
      ]
     },
     "execution_count": 26,
     "metadata": {},
     "output_type": "execute_result"
    }
   ],
   "source": [
    "evaluate_model_for_recall(target_class=0, desired_recall=0.98, y_true=true_classes, y_pred_proba=all_preds)"
   ]
  },
  {
   "cell_type": "code",
   "execution_count": null,
   "metadata": {},
   "outputs": [],
   "source": []
  }
 ],
 "metadata": {
  "kernelspec": {
   "display_name": "nibm_dl",
   "language": "python",
   "name": "python3"
  },
  "language_info": {
   "codemirror_mode": {
    "name": "ipython",
    "version": 3
   },
   "file_extension": ".py",
   "mimetype": "text/x-python",
   "name": "python",
   "nbconvert_exporter": "python",
   "pygments_lexer": "ipython3",
   "version": "3.10.14"
  }
 },
 "nbformat": 4,
 "nbformat_minor": 2
}

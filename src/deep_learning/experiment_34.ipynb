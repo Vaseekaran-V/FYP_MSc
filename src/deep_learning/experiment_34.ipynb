{
 "cells": [
  {
   "cell_type": "code",
   "execution_count": 1,
   "metadata": {},
   "outputs": [],
   "source": [
    "import pandas as pd\n",
    "import numpy as np\n",
    "import h5py\n",
    "import torch\n",
    "import torch.nn as nn\n",
    "import random\n",
    "import sys\n",
    "import os\n",
    "\n",
    "#trying to ensure reproducibility\n",
    "torch.manual_seed(0)\n",
    "random.seed(0)\n",
    "np.random.seed(0)"
   ]
  },
  {
   "cell_type": "code",
   "execution_count": 2,
   "metadata": {},
   "outputs": [],
   "source": [
    "# Setting path to load util functions\n",
    "from pathlib import Path\n",
    "parent_dir = Path.cwd().parents[1]\n",
    "sys.path.append(os.path.abspath(parent_dir))"
   ]
  },
  {
   "cell_type": "code",
   "execution_count": 3,
   "metadata": {},
   "outputs": [],
   "source": [
    "experiment_num = 34"
   ]
  },
  {
   "cell_type": "code",
   "execution_count": 4,
   "metadata": {},
   "outputs": [],
   "source": [
    "#Loading data\n",
    "with h5py.File('../../data/3d_array/mod_train_data_3d_h5.h5', 'r') as f:\n",
    "    train_X = f['train_data_3d'][:]\n",
    "with h5py.File('../../data/3d_array/mod_val_data_3d_h5.h5', 'r') as f:\n",
    "    val_X = f['val_data_3d'][:]\n",
    "with h5py.File('../../data/3d_array/mod_test_data_3d_h5.h5', 'r') as f:\n",
    "    test_X = f['test_data_3d'][:]\n",
    "\n",
    "train_y = pd.read_parquet('../../data/3d_array/train_targets.parquet')\n",
    "val_y = pd.read_parquet('../../data/3d_array/val_targets.parquet')\n",
    "test_y = pd.read_parquet('../../data/3d_array/test_targets.parquet')"
   ]
  },
  {
   "cell_type": "code",
   "execution_count": 5,
   "metadata": {},
   "outputs": [],
   "source": [
    "train_X = np.nan_to_num(train_X, nan=0.0)\n",
    "val_X = np.nan_to_num(val_X, nan=0.0)\n",
    "test_X = np.nan_to_num(test_X, nan=0.0)"
   ]
  },
  {
   "cell_type": "code",
   "execution_count": 6,
   "metadata": {},
   "outputs": [
    {
     "data": {
      "text/plain": [
       "end_of_month\n",
       "2018-03-31    289115\n",
       "Name: count, dtype: int64"
      ]
     },
     "execution_count": 6,
     "metadata": {},
     "output_type": "execute_result"
    }
   ],
   "source": [
    "train_y['end_of_month'].value_counts()"
   ]
  },
  {
   "cell_type": "code",
   "execution_count": 7,
   "metadata": {},
   "outputs": [
    {
     "name": "stderr",
     "output_type": "stream",
     "text": [
      "C:\\Users\\vaseekaranv\\AppData\\Local\\Temp\\ipykernel_12940\\847019464.py:1: FutureWarning: The behavior of 'isin' with dtype=datetime64[ns] and castable values (e.g. strings) is deprecated. In a future version, these will not be considered matching by isin. Explicitly cast to the appropriate dtype before calling isin instead.\n",
      "  train_y = train_y[train_y['end_of_month'].isin(['2018-03-31'])]\n",
      "C:\\Users\\vaseekaranv\\AppData\\Local\\Temp\\ipykernel_12940\\847019464.py:2: FutureWarning: The behavior of 'isin' with dtype=datetime64[ns] and castable values (e.g. strings) is deprecated. In a future version, these will not be considered matching by isin. Explicitly cast to the appropriate dtype before calling isin instead.\n",
      "  val_y = val_y[val_y['end_of_month'].isin(['2018-03-31'])]\n",
      "C:\\Users\\vaseekaranv\\AppData\\Local\\Temp\\ipykernel_12940\\847019464.py:3: FutureWarning: The behavior of 'isin' with dtype=datetime64[ns] and castable values (e.g. strings) is deprecated. In a future version, these will not be considered matching by isin. Explicitly cast to the appropriate dtype before calling isin instead.\n",
      "  test_y = test_y[test_y['end_of_month'].isin(['2018-03-31'])]\n"
     ]
    }
   ],
   "source": [
    "train_y = train_y[train_y['end_of_month'].isin(['2018-03-31'])]\n",
    "val_y = val_y[val_y['end_of_month'].isin(['2018-03-31'])]\n",
    "test_y = test_y[test_y['end_of_month'].isin(['2018-03-31'])]"
   ]
  },
  {
   "cell_type": "code",
   "execution_count": 8,
   "metadata": {},
   "outputs": [
    {
     "data": {
      "text/html": [
       "<div>\n",
       "<style scoped>\n",
       "    .dataframe tbody tr th:only-of-type {\n",
       "        vertical-align: middle;\n",
       "    }\n",
       "\n",
       "    .dataframe tbody tr th {\n",
       "        vertical-align: top;\n",
       "    }\n",
       "\n",
       "    .dataframe thead th {\n",
       "        text-align: right;\n",
       "    }\n",
       "</style>\n",
       "<table border=\"1\" class=\"dataframe\">\n",
       "  <thead>\n",
       "    <tr style=\"text-align: right;\">\n",
       "      <th></th>\n",
       "      <th>customer_ID</th>\n",
       "      <th>end_of_month</th>\n",
       "      <th>target</th>\n",
       "    </tr>\n",
       "  </thead>\n",
       "  <tbody>\n",
       "    <tr>\n",
       "      <th>0</th>\n",
       "      <td>0000099d6bd597052cdcda90ffabf56573fe9d7c79be5f...</td>\n",
       "      <td>2018-03-31</td>\n",
       "      <td>0</td>\n",
       "    </tr>\n",
       "    <tr>\n",
       "      <th>1</th>\n",
       "      <td>00001b22f846c82c51f6e3958ccd81970162bae8b007e8...</td>\n",
       "      <td>2018-03-31</td>\n",
       "      <td>0</td>\n",
       "    </tr>\n",
       "    <tr>\n",
       "      <th>2</th>\n",
       "      <td>000084e5023181993c2e1b665ac88dbb1ce9ef621ec537...</td>\n",
       "      <td>2018-03-31</td>\n",
       "      <td>0</td>\n",
       "    </tr>\n",
       "    <tr>\n",
       "      <th>3</th>\n",
       "      <td>000098081fde4fd64bc4d503a5d6f86a0aedc425c96f52...</td>\n",
       "      <td>2018-03-31</td>\n",
       "      <td>0</td>\n",
       "    </tr>\n",
       "    <tr>\n",
       "      <th>4</th>\n",
       "      <td>0000f99513770170a1aba690daeeb8a96da4a39f11fc27...</td>\n",
       "      <td>2018-03-31</td>\n",
       "      <td>1</td>\n",
       "    </tr>\n",
       "    <tr>\n",
       "      <th>...</th>\n",
       "      <td>...</td>\n",
       "      <td>...</td>\n",
       "      <td>...</td>\n",
       "    </tr>\n",
       "    <tr>\n",
       "      <th>289110</th>\n",
       "      <td>fffe3ec7cdbc1caac845c884b389ed347bfc1da9d09731...</td>\n",
       "      <td>2018-03-31</td>\n",
       "      <td>1</td>\n",
       "    </tr>\n",
       "    <tr>\n",
       "      <th>289111</th>\n",
       "      <td>fffef3305f19a11fb6c15f4ebe9be1bd664540e57c0a6a...</td>\n",
       "      <td>2018-03-31</td>\n",
       "      <td>0</td>\n",
       "    </tr>\n",
       "    <tr>\n",
       "      <th>289112</th>\n",
       "      <td>ffff39cc22a375d07369980d02d617883dd28ad81a6aa3...</td>\n",
       "      <td>2018-03-31</td>\n",
       "      <td>0</td>\n",
       "    </tr>\n",
       "    <tr>\n",
       "      <th>289113</th>\n",
       "      <td>ffff518bb2075e4816ee3fe9f3b152c57fc0e6f01bf7fd...</td>\n",
       "      <td>2018-03-31</td>\n",
       "      <td>0</td>\n",
       "    </tr>\n",
       "    <tr>\n",
       "      <th>289114</th>\n",
       "      <td>fffff1d38b785cef84adeace64f8f83db3a0c31e8d92ea...</td>\n",
       "      <td>2018-03-31</td>\n",
       "      <td>0</td>\n",
       "    </tr>\n",
       "  </tbody>\n",
       "</table>\n",
       "<p>289115 rows × 3 columns</p>\n",
       "</div>"
      ],
      "text/plain": [
       "                                              customer_ID end_of_month  target\n",
       "0       0000099d6bd597052cdcda90ffabf56573fe9d7c79be5f...   2018-03-31       0\n",
       "1       00001b22f846c82c51f6e3958ccd81970162bae8b007e8...   2018-03-31       0\n",
       "2       000084e5023181993c2e1b665ac88dbb1ce9ef621ec537...   2018-03-31       0\n",
       "3       000098081fde4fd64bc4d503a5d6f86a0aedc425c96f52...   2018-03-31       0\n",
       "4       0000f99513770170a1aba690daeeb8a96da4a39f11fc27...   2018-03-31       1\n",
       "...                                                   ...          ...     ...\n",
       "289110  fffe3ec7cdbc1caac845c884b389ed347bfc1da9d09731...   2018-03-31       1\n",
       "289111  fffef3305f19a11fb6c15f4ebe9be1bd664540e57c0a6a...   2018-03-31       0\n",
       "289112  ffff39cc22a375d07369980d02d617883dd28ad81a6aa3...   2018-03-31       0\n",
       "289113  ffff518bb2075e4816ee3fe9f3b152c57fc0e6f01bf7fd...   2018-03-31       0\n",
       "289114  fffff1d38b785cef84adeace64f8f83db3a0c31e8d92ea...   2018-03-31       0\n",
       "\n",
       "[289115 rows x 3 columns]"
      ]
     },
     "execution_count": 8,
     "metadata": {},
     "output_type": "execute_result"
    }
   ],
   "source": [
    "train_y.sort_values(by=['customer_ID'])"
   ]
  },
  {
   "cell_type": "code",
   "execution_count": 9,
   "metadata": {},
   "outputs": [
    {
     "data": {
      "text/plain": [
       "((289115, 13, 86), (289115, 3))"
      ]
     },
     "execution_count": 9,
     "metadata": {},
     "output_type": "execute_result"
    }
   ],
   "source": [
    "train_X.shape, train_y.shape"
   ]
  },
  {
   "cell_type": "code",
   "execution_count": 10,
   "metadata": {},
   "outputs": [
    {
     "data": {
      "text/plain": [
       "((32124, 13, 86), (32124, 3))"
      ]
     },
     "execution_count": 10,
     "metadata": {},
     "output_type": "execute_result"
    }
   ],
   "source": [
    "val_X.shape, val_y.shape"
   ]
  },
  {
   "cell_type": "code",
   "execution_count": 11,
   "metadata": {},
   "outputs": [],
   "source": [
    "class ParallelConvBlock(nn.Module):\n",
    "    def __init__(self, in_channels, out_channels, kernel_sizes=[3, 5, 7], dropout_rate=0.2):\n",
    "        \"\"\"\n",
    "        Parallel Convolutional Block that processes input through multiple convolutional paths\n",
    "        with different kernel sizes and concatenates the results.\n",
    "        \n",
    "        Args:\n",
    "            in_channels: Number of input channels\n",
    "            out_channels: Number of output channels\n",
    "            kernel_sizes: List of kernel sizes for parallel convolutions\n",
    "            dropout_rate: Dropout probability\n",
    "        \"\"\"\n",
    "        super(ParallelConvBlock, self).__init__()\n",
    "        \n",
    "        self.n_paths = len(kernel_sizes)\n",
    "        # Calculate channels per path\n",
    "        path_channels = out_channels // self.n_paths\n",
    "        \n",
    "        # Create parallel convolutional paths\n",
    "        self.paths = nn.ModuleList()\n",
    "        for k_size in kernel_sizes:\n",
    "            padding = k_size // 2  # Same padding to maintain sequence length\n",
    "            path = nn.Sequential(\n",
    "                nn.Conv1d(in_channels, path_channels, kernel_size=k_size, padding=padding),\n",
    "                nn.BatchNorm1d(path_channels),\n",
    "                nn.ReLU(),\n",
    "                nn.Dropout(dropout_rate)\n",
    "            )\n",
    "            self.paths.append(path)\n",
    "            \n",
    "        # Projection layer to ensure output has exactly out_channels\n",
    "        self.projection = nn.Sequential(\n",
    "            nn.Conv1d(path_channels * self.n_paths, out_channels, kernel_size=1),\n",
    "            nn.BatchNorm1d(out_channels),\n",
    "            nn.ReLU()\n",
    "        )\n",
    "    \n",
    "    def forward(self, x):\n",
    "        # Process input through parallel paths\n",
    "        outputs = [path(x) for path in self.paths]\n",
    "        \n",
    "        # Concatenate along channel dimension\n",
    "        # print(f\"Outputs shape before concatenation: {[out.shape for out in outputs]}\")\n",
    "        x = torch.cat(outputs, dim=1)\n",
    "        \n",
    "        # Apply projection to get final output\n",
    "        x = self.projection(x)\n",
    "        \n",
    "        return x"
   ]
  },
  {
   "cell_type": "code",
   "execution_count": 12,
   "metadata": {},
   "outputs": [],
   "source": [
    "class ConvBlock(nn.Module):\n",
    "    def __init__(self, in_channels, out_channels, kernel_size=3, padding=1, pool=True, dropout=0.3):\n",
    "        super(ConvBlock, self).__init__()\n",
    "        self.conv = nn.Conv1d(in_channels, out_channels, kernel_size, padding=padding)\n",
    "        self.bn = nn.BatchNorm1d(out_channels)\n",
    "        self.relu = nn.ReLU()\n",
    "        self.pool = nn.MaxPool1d(kernel_size=2) if pool else None\n",
    "        self.dropout = nn.Dropout(dropout)\n",
    "\n",
    "    def forward(self, x):\n",
    "        x = self.conv(x)\n",
    "        x = self.bn(x)\n",
    "        x = self.relu(x)\n",
    "        if self.pool:\n",
    "            x = self.pool(x)\n",
    "        x = self.dropout(x)\n",
    "        return x"
   ]
  },
  {
   "cell_type": "code",
   "execution_count": 13,
   "metadata": {},
   "outputs": [],
   "source": [
    "class ConvLSTMModel(nn.Module):\n",
    "    def __init__(self, input_size, lstm_hidden_size=64, num_lstm_layers=1, output_size=1):\n",
    "        \"\"\"\n",
    "        Args:\n",
    "            input_size (int): Number of features in the input sequence (feature dimension).\n",
    "            lstm_hidden_size (int): Hidden size for the LSTM layer.\n",
    "            num_lstm_layers (int): Number of layers for the LSTM.\n",
    "            output_size (int): Size of the final output (e.g., 1 for binary classification).\n",
    "        \"\"\"\n",
    "        super(ConvLSTMModel, self).__init__()\n",
    "\n",
    "        self.input_size = input_size\n",
    "        self.lstm_hidden_size = lstm_hidden_size\n",
    "\n",
    "        # --- CNN Path ---\n",
    "        # First convolutional block (Parallel)\n",
    "        # Input channels = input_size (features)\n",
    "        cnn_out_channels_1 = 100\n",
    "        self.parallel_conv = ParallelConvBlock(input_size, cnn_out_channels_1, kernel_sizes=[3, 5, 7, 9], dropout_rate=0.2)\n",
    "\n",
    "        # Second convolutional block\n",
    "        cnn_out_channels_2 = 64\n",
    "        self.block2 = ConvBlock(cnn_out_channels_1, cnn_out_channels_2, dropout=0.2)\n",
    "\n",
    "        # Third convolutional block\n",
    "        self.cnn_final_channels = 32\n",
    "        self.block3 = ConvBlock(cnn_out_channels_2, self.cnn_final_channels, pool=False, dropout=0.2) # No pooling in the last block\n",
    "\n",
    "        # Global pooling for CNN path\n",
    "        self.global_avg_pool = nn.AdaptiveAvgPool1d(1)\n",
    "\n",
    "        # --- LSTM Path ---\n",
    "        self.lstm = nn.LSTM(input_size=input_size,\n",
    "                            hidden_size=lstm_hidden_size,\n",
    "                            num_layers=num_lstm_layers,\n",
    "                            batch_first=True, # Crucial: input shape (batch, seq_len, features)\n",
    "                            bidirectional=False) # Set to True if needed, adjust feature concatenation below\n",
    "\n",
    "        # --- Combined Path ---\n",
    "        # Calculate the combined feature size after CNN pooling and LSTM\n",
    "        combined_features = self.cnn_final_channels + lstm_hidden_size # Add *2 if bidirectional LSTM\n",
    "\n",
    "        # Fully connected layers\n",
    "        self.fc1 = nn.Linear(combined_features, 16) # Input size adjusted\n",
    "        self.relu_fc1 = nn.ReLU()\n",
    "        self.dropout_fc1 = nn.Dropout(0.3) # Added dropout for FC layer\n",
    "        self.fc2 = nn.Linear(16, output_size)\n",
    "        self.sigmoid = nn.Sigmoid()\n",
    "\n",
    "    def forward(self, x):\n",
    "        # Input shape: batch_size x time_steps x features\n",
    "\n",
    "        # --- CNN Path ---\n",
    "        # For Conv1D: convert to batch_size x features(channels) x time_steps\n",
    "        x_cnn = x.permute(0, 2, 1)\n",
    "        # Pass through convolutional blocks\n",
    "        cnn_out = self.parallel_conv(x_cnn)\n",
    "        cnn_out = self.block2(cnn_out)\n",
    "        cnn_out = self.block3(cnn_out)\n",
    "        # Global pooling to get fixed-size representation for CNN path\n",
    "        cnn_pooled = self.global_avg_pool(cnn_out)\n",
    "        cnn_features = cnn_pooled.view(cnn_pooled.size(0), -1) # Flatten: batch_size x cnn_final_channels\n",
    "\n",
    "        # --- LSTM Path ---\n",
    "        # Input shape expected by LSTM (batch_first=True): batch_size x time_steps x features\n",
    "        # No permutation needed for LSTM path if input is already in this format\n",
    "        lstm_out, (h_n, c_n) = self.lstm(x)\n",
    "        # We typically use the last hidden state\n",
    "        # h_n shape: (num_layers * num_directions, batch_size, lstm_hidden_size)\n",
    "        # Get the hidden state of the last layer\n",
    "        lstm_features = h_n[-1] # Shape: batch_size x lstm_hidden_size (if not bidirectional)\n",
    "        # If bidirectional: h_n shape is (num_layers*2, batch, hidden_size)\n",
    "        # You might want to concatenate the last forward and backward hidden states:\n",
    "        # lstm_features = torch.cat((h_n[-2,:,:], h_n[-1,:,:]), dim=1) # If bidirectional\n",
    "\n",
    "        # --- Concatenate Features ---\n",
    "        combined_features = torch.cat((cnn_features, lstm_features), dim=1)\n",
    "\n",
    "        # --- Fully Connected Layers ---\n",
    "        x = self.fc1(combined_features)\n",
    "        x = self.relu_fc1(x)\n",
    "        x = self.dropout_fc1(x)\n",
    "        x = self.fc2(x)\n",
    "\n",
    "        # Output probability\n",
    "        return self.sigmoid(x)"
   ]
  },
  {
   "cell_type": "code",
   "execution_count": null,
   "metadata": {},
   "outputs": [],
   "source": []
  },
  {
   "cell_type": "code",
   "execution_count": 14,
   "metadata": {},
   "outputs": [
    {
     "name": "stdout",
     "output_type": "stream",
     "text": [
      "Model initialized with input_size=86, output_size=1\n"
     ]
    }
   ],
   "source": [
    "# Initialize the ConvModel\n",
    "input_size = train_X.shape[2]  # Number of features\n",
    "output_size = 1  # Binary classification\n",
    "lstm_hidden_size = 128\n",
    "num_lstm_layers = 1\n",
    "\n",
    "# Create model instance\n",
    "model = ConvLSTMModel(input_size=input_size, output_size=output_size, lstm_hidden_size=lstm_hidden_size, num_lstm_layers=num_lstm_layers)\n",
    "print(f\"Model initialized with input_size={input_size}, output_size={output_size}\")"
   ]
  },
  {
   "cell_type": "code",
   "execution_count": 15,
   "metadata": {},
   "outputs": [
    {
     "data": {
      "text/plain": [
       "============================================================================================================================================\n",
       "Layer (type:depth-idx)                   Input Shape               Kernel Shape              Output Shape              Param #\n",
       "============================================================================================================================================\n",
       "ConvLSTMModel                            [2048, 13, 86]            --                        [2048, 1]                 --\n",
       "├─ParallelConvBlock: 1-1                 [2048, 86, 13]            --                        [2048, 100, 13]           62,200\n",
       "├─ConvBlock: 1-2                         [2048, 100, 13]           --                        [2048, 64, 6]             19,392\n",
       "├─ConvBlock: 1-3                         [2048, 64, 6]             --                        [2048, 32, 6]             6,240\n",
       "├─AdaptiveAvgPool1d: 1-4                 [2048, 32, 6]             --                        [2048, 32, 1]             --\n",
       "├─LSTM: 1-5                              [2048, 13, 86]            --                        [2048, 13, 128]           110,592\n",
       "├─Linear: 1-6                            [2048, 160]               --                        [2048, 16]                2,576\n",
       "├─ReLU: 1-7                              [2048, 16]                --                        [2048, 16]                --\n",
       "├─Dropout: 1-8                           [2048, 16]                --                        [2048, 16]                --\n",
       "├─Linear: 1-9                            [2048, 16]                --                        [2048, 1]                 17\n",
       "├─Sigmoid: 1-10                          [2048, 1]                 --                        [2048, 1]                 --\n",
       "============================================================================================================================================\n",
       "Total params: 201,017\n",
       "Trainable params: 201,017\n",
       "Non-trainable params: 0\n",
       "Total mult-adds (G): 5.19\n",
       "============================================================================================================================================\n",
       "Input size (MB): 9.16\n",
       "Forward/backward pass size (MB): 146.29\n",
       "Params size (MB): 0.80\n",
       "Estimated Total Size (MB): 156.26\n",
       "============================================================================================================================================"
      ]
     },
     "execution_count": 15,
     "metadata": {},
     "output_type": "execute_result"
    }
   ],
   "source": [
    "batch_size = 2048\n",
    "from torchinfo import summary\n",
    "summary(model, input_size=(batch_size, train_X.shape[1], train_X.shape[2]), device='cpu',\n",
    "        col_names=[\"input_size\", \"kernel_size\",\"output_size\", \"num_params\"], depth = 1)"
   ]
  },
  {
   "cell_type": "code",
   "execution_count": 16,
   "metadata": {},
   "outputs": [],
   "source": [
    "from torch.utils.data import Dataset, DataLoader\n",
    "class TimeSeriesDataset(Dataset):\n",
    "    def __init__(self, data, targets):\n",
    "        \"\"\"\n",
    "        Args:\n",
    "            data: numpy array of shape (num_ids, time_steps, features)\n",
    "            targets: numpy array of shape (num_ids,)\n",
    "        \"\"\"\n",
    "        self.data = torch.FloatTensor(data)\n",
    "        self.targets = torch.FloatTensor(targets).unsqueeze(1)  # Add dimension for output\n",
    "        \n",
    "    def __len__(self):\n",
    "        return len(self.data)\n",
    "    \n",
    "    def __getitem__(self, idx):\n",
    "        return self.data[idx], self.targets[idx]"
   ]
  },
  {
   "cell_type": "code",
   "execution_count": 17,
   "metadata": {},
   "outputs": [],
   "source": [
    "train_dataset = TimeSeriesDataset(train_X, train_y['target'].values)\n",
    "train_loader = DataLoader(train_dataset, batch_size=batch_size, shuffle=True)"
   ]
  },
  {
   "cell_type": "code",
   "execution_count": 18,
   "metadata": {},
   "outputs": [],
   "source": [
    "val_dataset = TimeSeriesDataset(val_X, val_y['target'].values)\n",
    "val_loader = DataLoader(val_dataset, batch_size=batch_size, shuffle=False)"
   ]
  },
  {
   "cell_type": "code",
   "execution_count": 19,
   "metadata": {},
   "outputs": [],
   "source": [
    "test_dataset = TimeSeriesDataset(test_X, test_y['target'].values)\n",
    "test_loader = DataLoader(test_dataset, batch_size=batch_size, shuffle=False)"
   ]
  },
  {
   "cell_type": "code",
   "execution_count": 20,
   "metadata": {},
   "outputs": [
    {
     "data": {
      "text/plain": [
       "(torch.Size([13, 86]), tensor([0.]))"
      ]
     },
     "execution_count": 20,
     "metadata": {},
     "output_type": "execute_result"
    }
   ],
   "source": [
    "train_dataset.__getitem__(0)[0].shape, train_dataset.__getitem__(0)[1]"
   ]
  },
  {
   "cell_type": "code",
   "execution_count": 21,
   "metadata": {},
   "outputs": [
    {
     "data": {
      "text/plain": [
       "(torch.Size([13, 86]), tensor([1.]))"
      ]
     },
     "execution_count": 21,
     "metadata": {},
     "output_type": "execute_result"
    }
   ],
   "source": [
    "val_dataset.__getitem__(0)[0].shape, val_dataset.__getitem__(0)[1]"
   ]
  },
  {
   "cell_type": "code",
   "execution_count": 22,
   "metadata": {},
   "outputs": [
    {
     "name": "stdout",
     "output_type": "stream",
     "text": [
      "Training on cuda:0\n",
      "Using Optimizer: RAdam\n",
      "Initial Learning Rate: 0.001\n",
      "LR Scheduler Patience: 5, Factor: 0.1\n",
      "Early Stopping Patience: 20\n"
     ]
    },
    {
     "name": "stderr",
     "output_type": "stream",
     "text": [
      "c:\\Users\\vaseekaranv\\AppData\\Local\\anaconda3\\envs\\nibm_dl\\lib\\site-packages\\torch\\optim\\lr_scheduler.py:60: UserWarning: The verbose parameter is deprecated. Please use get_last_lr() to access the learning rate.\n",
      "  warnings.warn(\n"
     ]
    },
    {
     "data": {
      "application/vnd.jupyter.widget-view+json": {
       "model_id": "95dfbcef89614344ab40150aabe2c242",
       "version_major": 2,
       "version_minor": 0
      },
      "text/plain": [
       "Epoch 1/100 [Train]:   0%|          | 0/142 [00:00<?, ?it/s]"
      ]
     },
     "metadata": {},
     "output_type": "display_data"
    },
    {
     "data": {
      "application/vnd.jupyter.widget-view+json": {
       "model_id": "25a54b0943c14e53b0b450ef55b60f4a",
       "version_major": 2,
       "version_minor": 0
      },
      "text/plain": [
       "Epoch 1/100 [Valid]:   0%|          | 0/16 [00:00<?, ?it/s]"
      ]
     },
     "metadata": {},
     "output_type": "display_data"
    },
    {
     "name": "stdout",
     "output_type": "stream",
     "text": [
      "Epoch 1/100 - Train Loss: 0.5109, Val Loss: 0.2858, Val AUC: 0.9375, LR: 1.0e-03\n",
      "Validation loss improved (inf --> 0.2858). Saving model...\n"
     ]
    },
    {
     "data": {
      "application/vnd.jupyter.widget-view+json": {
       "model_id": "b2f9e4b241b24708ba68eb2480de79e9",
       "version_major": 2,
       "version_minor": 0
      },
      "text/plain": [
       "Epoch 2/100 [Train]:   0%|          | 0/142 [00:00<?, ?it/s]"
      ]
     },
     "metadata": {},
     "output_type": "display_data"
    },
    {
     "data": {
      "application/vnd.jupyter.widget-view+json": {
       "model_id": "609917fb2a8447b1839b9478f640786b",
       "version_major": 2,
       "version_minor": 0
      },
      "text/plain": [
       "Epoch 2/100 [Valid]:   0%|          | 0/16 [00:00<?, ?it/s]"
      ]
     },
     "metadata": {},
     "output_type": "display_data"
    },
    {
     "name": "stdout",
     "output_type": "stream",
     "text": [
      "Epoch 2/100 - Train Loss: 0.2784, Val Loss: 0.2541, Val AUC: 0.9481, LR: 1.0e-03\n",
      "Validation loss improved (0.2858 --> 0.2541). Saving model...\n"
     ]
    },
    {
     "data": {
      "application/vnd.jupyter.widget-view+json": {
       "model_id": "87bde071196b45b3afd11fcc51716e7e",
       "version_major": 2,
       "version_minor": 0
      },
      "text/plain": [
       "Epoch 3/100 [Train]:   0%|          | 0/142 [00:00<?, ?it/s]"
      ]
     },
     "metadata": {},
     "output_type": "display_data"
    },
    {
     "data": {
      "application/vnd.jupyter.widget-view+json": {
       "model_id": "e6129b02a32341dcb442d18792c2bcc0",
       "version_major": 2,
       "version_minor": 0
      },
      "text/plain": [
       "Epoch 3/100 [Valid]:   0%|          | 0/16 [00:00<?, ?it/s]"
      ]
     },
     "metadata": {},
     "output_type": "display_data"
    },
    {
     "name": "stdout",
     "output_type": "stream",
     "text": [
      "Epoch 3/100 - Train Loss: 0.2613, Val Loss: 0.2468, Val AUC: 0.9508, LR: 1.0e-03\n",
      "Validation loss improved (0.2541 --> 0.2468). Saving model...\n"
     ]
    },
    {
     "data": {
      "application/vnd.jupyter.widget-view+json": {
       "model_id": "222d4e376ca9405598e79bdc54b1be25",
       "version_major": 2,
       "version_minor": 0
      },
      "text/plain": [
       "Epoch 4/100 [Train]:   0%|          | 0/142 [00:00<?, ?it/s]"
      ]
     },
     "metadata": {},
     "output_type": "display_data"
    },
    {
     "data": {
      "application/vnd.jupyter.widget-view+json": {
       "model_id": "7551f1fc50c64b8ca527d61fedea464e",
       "version_major": 2,
       "version_minor": 0
      },
      "text/plain": [
       "Epoch 4/100 [Valid]:   0%|          | 0/16 [00:00<?, ?it/s]"
      ]
     },
     "metadata": {},
     "output_type": "display_data"
    },
    {
     "name": "stdout",
     "output_type": "stream",
     "text": [
      "Epoch 4/100 - Train Loss: 0.2547, Val Loss: 0.2414, Val AUC: 0.9524, LR: 1.0e-03\n",
      "Validation loss improved (0.2468 --> 0.2414). Saving model...\n"
     ]
    },
    {
     "data": {
      "application/vnd.jupyter.widget-view+json": {
       "model_id": "19532d63ef1e4a00a210b57a8480e718",
       "version_major": 2,
       "version_minor": 0
      },
      "text/plain": [
       "Epoch 5/100 [Train]:   0%|          | 0/142 [00:00<?, ?it/s]"
      ]
     },
     "metadata": {},
     "output_type": "display_data"
    },
    {
     "data": {
      "application/vnd.jupyter.widget-view+json": {
       "model_id": "2eb413c0a5b6461eb7c47c86f32a2c04",
       "version_major": 2,
       "version_minor": 0
      },
      "text/plain": [
       "Epoch 5/100 [Valid]:   0%|          | 0/16 [00:00<?, ?it/s]"
      ]
     },
     "metadata": {},
     "output_type": "display_data"
    },
    {
     "name": "stdout",
     "output_type": "stream",
     "text": [
      "Epoch 5/100 - Train Loss: 0.2524, Val Loss: 0.2535, Val AUC: 0.9522, LR: 1.0e-03\n",
      "Validation loss did not improve for 1 epoch(s).\n"
     ]
    },
    {
     "data": {
      "application/vnd.jupyter.widget-view+json": {
       "model_id": "03fa38e1edd14bf9a8da079b3f97c303",
       "version_major": 2,
       "version_minor": 0
      },
      "text/plain": [
       "Epoch 6/100 [Train]:   0%|          | 0/142 [00:00<?, ?it/s]"
      ]
     },
     "metadata": {},
     "output_type": "display_data"
    },
    {
     "data": {
      "application/vnd.jupyter.widget-view+json": {
       "model_id": "425b5429bc6545df8bfd1c107c259a1a",
       "version_major": 2,
       "version_minor": 0
      },
      "text/plain": [
       "Epoch 6/100 [Valid]:   0%|          | 0/16 [00:00<?, ?it/s]"
      ]
     },
     "metadata": {},
     "output_type": "display_data"
    },
    {
     "name": "stdout",
     "output_type": "stream",
     "text": [
      "Epoch 6/100 - Train Loss: 0.2490, Val Loss: 0.2400, Val AUC: 0.9531, LR: 1.0e-03\n",
      "Validation loss improved (0.2414 --> 0.2400). Saving model...\n"
     ]
    },
    {
     "data": {
      "application/vnd.jupyter.widget-view+json": {
       "model_id": "50affdb837824a3e9191db9c2e08eb58",
       "version_major": 2,
       "version_minor": 0
      },
      "text/plain": [
       "Epoch 7/100 [Train]:   0%|          | 0/142 [00:00<?, ?it/s]"
      ]
     },
     "metadata": {},
     "output_type": "display_data"
    },
    {
     "data": {
      "application/vnd.jupyter.widget-view+json": {
       "model_id": "18f64327620a456582ca59743b892cd7",
       "version_major": 2,
       "version_minor": 0
      },
      "text/plain": [
       "Epoch 7/100 [Valid]:   0%|          | 0/16 [00:00<?, ?it/s]"
      ]
     },
     "metadata": {},
     "output_type": "display_data"
    },
    {
     "name": "stdout",
     "output_type": "stream",
     "text": [
      "Epoch 7/100 - Train Loss: 0.2474, Val Loss: 0.2418, Val AUC: 0.9531, LR: 1.0e-03\n",
      "Validation loss did not improve for 1 epoch(s).\n"
     ]
    },
    {
     "data": {
      "application/vnd.jupyter.widget-view+json": {
       "model_id": "8e79ac320b954936bb7fd8bba146a999",
       "version_major": 2,
       "version_minor": 0
      },
      "text/plain": [
       "Epoch 8/100 [Train]:   0%|          | 0/142 [00:00<?, ?it/s]"
      ]
     },
     "metadata": {},
     "output_type": "display_data"
    },
    {
     "data": {
      "application/vnd.jupyter.widget-view+json": {
       "model_id": "7d1752d8e9304c029014ba7105ad0118",
       "version_major": 2,
       "version_minor": 0
      },
      "text/plain": [
       "Epoch 8/100 [Valid]:   0%|          | 0/16 [00:00<?, ?it/s]"
      ]
     },
     "metadata": {},
     "output_type": "display_data"
    },
    {
     "name": "stdout",
     "output_type": "stream",
     "text": [
      "Epoch 8/100 - Train Loss: 0.2463, Val Loss: 0.2436, Val AUC: 0.9524, LR: 1.0e-03\n",
      "Validation loss did not improve for 2 epoch(s).\n"
     ]
    },
    {
     "data": {
      "application/vnd.jupyter.widget-view+json": {
       "model_id": "80c02b698066467b85d105181ec01285",
       "version_major": 2,
       "version_minor": 0
      },
      "text/plain": [
       "Epoch 9/100 [Train]:   0%|          | 0/142 [00:00<?, ?it/s]"
      ]
     },
     "metadata": {},
     "output_type": "display_data"
    },
    {
     "data": {
      "application/vnd.jupyter.widget-view+json": {
       "model_id": "0ac196a4da6d42c3a3dd3ed656134f49",
       "version_major": 2,
       "version_minor": 0
      },
      "text/plain": [
       "Epoch 9/100 [Valid]:   0%|          | 0/16 [00:00<?, ?it/s]"
      ]
     },
     "metadata": {},
     "output_type": "display_data"
    },
    {
     "name": "stdout",
     "output_type": "stream",
     "text": [
      "Epoch 9/100 - Train Loss: 0.2457, Val Loss: 0.2384, Val AUC: 0.9536, LR: 1.0e-03\n",
      "Validation loss improved (0.2400 --> 0.2384). Saving model...\n"
     ]
    },
    {
     "data": {
      "application/vnd.jupyter.widget-view+json": {
       "model_id": "1d4736931747459fa057e1b35f4d716b",
       "version_major": 2,
       "version_minor": 0
      },
      "text/plain": [
       "Epoch 10/100 [Train]:   0%|          | 0/142 [00:00<?, ?it/s]"
      ]
     },
     "metadata": {},
     "output_type": "display_data"
    },
    {
     "data": {
      "application/vnd.jupyter.widget-view+json": {
       "model_id": "c6b58fd0884645479a783de240eb2c8b",
       "version_major": 2,
       "version_minor": 0
      },
      "text/plain": [
       "Epoch 10/100 [Valid]:   0%|          | 0/16 [00:00<?, ?it/s]"
      ]
     },
     "metadata": {},
     "output_type": "display_data"
    },
    {
     "name": "stdout",
     "output_type": "stream",
     "text": [
      "Epoch 10/100 - Train Loss: 0.2433, Val Loss: 0.2424, Val AUC: 0.9536, LR: 1.0e-03\n",
      "Validation loss did not improve for 1 epoch(s).\n"
     ]
    },
    {
     "data": {
      "application/vnd.jupyter.widget-view+json": {
       "model_id": "176f0ebf53be458c98d6a9611f647e73",
       "version_major": 2,
       "version_minor": 0
      },
      "text/plain": [
       "Epoch 11/100 [Train]:   0%|          | 0/142 [00:00<?, ?it/s]"
      ]
     },
     "metadata": {},
     "output_type": "display_data"
    },
    {
     "data": {
      "application/vnd.jupyter.widget-view+json": {
       "model_id": "1340bf73afcb43b997e24be1573c675c",
       "version_major": 2,
       "version_minor": 0
      },
      "text/plain": [
       "Epoch 11/100 [Valid]:   0%|          | 0/16 [00:00<?, ?it/s]"
      ]
     },
     "metadata": {},
     "output_type": "display_data"
    },
    {
     "name": "stdout",
     "output_type": "stream",
     "text": [
      "Epoch 11/100 - Train Loss: 0.2420, Val Loss: 0.2415, Val AUC: 0.9535, LR: 1.0e-03\n",
      "Validation loss did not improve for 2 epoch(s).\n"
     ]
    },
    {
     "data": {
      "application/vnd.jupyter.widget-view+json": {
       "model_id": "90afcbc957e74c5e884d7c5da0e36cd4",
       "version_major": 2,
       "version_minor": 0
      },
      "text/plain": [
       "Epoch 12/100 [Train]:   0%|          | 0/142 [00:00<?, ?it/s]"
      ]
     },
     "metadata": {},
     "output_type": "display_data"
    },
    {
     "data": {
      "application/vnd.jupyter.widget-view+json": {
       "model_id": "2119787a25b446a481d6bcd4f0769b9d",
       "version_major": 2,
       "version_minor": 0
      },
      "text/plain": [
       "Epoch 12/100 [Valid]:   0%|          | 0/16 [00:00<?, ?it/s]"
      ]
     },
     "metadata": {},
     "output_type": "display_data"
    },
    {
     "name": "stdout",
     "output_type": "stream",
     "text": [
      "Epoch 12/100 - Train Loss: 0.2408, Val Loss: 0.2445, Val AUC: 0.9526, LR: 1.0e-03\n",
      "Validation loss did not improve for 3 epoch(s).\n"
     ]
    },
    {
     "data": {
      "application/vnd.jupyter.widget-view+json": {
       "model_id": "23604a29baba4e12abea7df9d0772178",
       "version_major": 2,
       "version_minor": 0
      },
      "text/plain": [
       "Epoch 13/100 [Train]:   0%|          | 0/142 [00:00<?, ?it/s]"
      ]
     },
     "metadata": {},
     "output_type": "display_data"
    },
    {
     "data": {
      "application/vnd.jupyter.widget-view+json": {
       "model_id": "62029f8306cf4ecd8182e5ba86c62530",
       "version_major": 2,
       "version_minor": 0
      },
      "text/plain": [
       "Epoch 13/100 [Valid]:   0%|          | 0/16 [00:00<?, ?it/s]"
      ]
     },
     "metadata": {},
     "output_type": "display_data"
    },
    {
     "name": "stdout",
     "output_type": "stream",
     "text": [
      "Epoch 13/100 - Train Loss: 0.2393, Val Loss: 0.2379, Val AUC: 0.9539, LR: 1.0e-03\n",
      "Validation loss improved (0.2384 --> 0.2379). Saving model...\n"
     ]
    },
    {
     "data": {
      "application/vnd.jupyter.widget-view+json": {
       "model_id": "439530c3cea944a0bcb28d9d7d17091a",
       "version_major": 2,
       "version_minor": 0
      },
      "text/plain": [
       "Epoch 14/100 [Train]:   0%|          | 0/142 [00:00<?, ?it/s]"
      ]
     },
     "metadata": {},
     "output_type": "display_data"
    },
    {
     "data": {
      "application/vnd.jupyter.widget-view+json": {
       "model_id": "f86e8e195fec4692a8eaefcf607015d2",
       "version_major": 2,
       "version_minor": 0
      },
      "text/plain": [
       "Epoch 14/100 [Valid]:   0%|          | 0/16 [00:00<?, ?it/s]"
      ]
     },
     "metadata": {},
     "output_type": "display_data"
    },
    {
     "name": "stdout",
     "output_type": "stream",
     "text": [
      "Epoch 14/100 - Train Loss: 0.2392, Val Loss: 0.2393, Val AUC: 0.9539, LR: 1.0e-03\n",
      "Validation loss did not improve for 1 epoch(s).\n"
     ]
    },
    {
     "data": {
      "application/vnd.jupyter.widget-view+json": {
       "model_id": "d7473b7cb7d545429eb3338a36c23b49",
       "version_major": 2,
       "version_minor": 0
      },
      "text/plain": [
       "Epoch 15/100 [Train]:   0%|          | 0/142 [00:00<?, ?it/s]"
      ]
     },
     "metadata": {},
     "output_type": "display_data"
    },
    {
     "data": {
      "application/vnd.jupyter.widget-view+json": {
       "model_id": "709d50e2bc0240118c431731c325caf4",
       "version_major": 2,
       "version_minor": 0
      },
      "text/plain": [
       "Epoch 15/100 [Valid]:   0%|          | 0/16 [00:00<?, ?it/s]"
      ]
     },
     "metadata": {},
     "output_type": "display_data"
    },
    {
     "name": "stdout",
     "output_type": "stream",
     "text": [
      "Epoch 15/100 - Train Loss: 0.2386, Val Loss: 0.2381, Val AUC: 0.9538, LR: 1.0e-03\n",
      "Validation loss did not improve for 2 epoch(s).\n"
     ]
    },
    {
     "data": {
      "application/vnd.jupyter.widget-view+json": {
       "model_id": "b911f6fc8e274847812aa8fa170d2bcd",
       "version_major": 2,
       "version_minor": 0
      },
      "text/plain": [
       "Epoch 16/100 [Train]:   0%|          | 0/142 [00:00<?, ?it/s]"
      ]
     },
     "metadata": {},
     "output_type": "display_data"
    },
    {
     "data": {
      "application/vnd.jupyter.widget-view+json": {
       "model_id": "d88e1b46aee04aaea2b18239c87828a6",
       "version_major": 2,
       "version_minor": 0
      },
      "text/plain": [
       "Epoch 16/100 [Valid]:   0%|          | 0/16 [00:00<?, ?it/s]"
      ]
     },
     "metadata": {},
     "output_type": "display_data"
    },
    {
     "name": "stdout",
     "output_type": "stream",
     "text": [
      "Epoch 16/100 - Train Loss: 0.2377, Val Loss: 0.2385, Val AUC: 0.9543, LR: 1.0e-03\n",
      "Validation loss did not improve for 3 epoch(s).\n"
     ]
    },
    {
     "data": {
      "application/vnd.jupyter.widget-view+json": {
       "model_id": "d32112ae0a7e4f3a9c6ad12578456bf1",
       "version_major": 2,
       "version_minor": 0
      },
      "text/plain": [
       "Epoch 17/100 [Train]:   0%|          | 0/142 [00:00<?, ?it/s]"
      ]
     },
     "metadata": {},
     "output_type": "display_data"
    },
    {
     "data": {
      "application/vnd.jupyter.widget-view+json": {
       "model_id": "7183f88b0b4549009d5288d4b342b28f",
       "version_major": 2,
       "version_minor": 0
      },
      "text/plain": [
       "Epoch 17/100 [Valid]:   0%|          | 0/16 [00:00<?, ?it/s]"
      ]
     },
     "metadata": {},
     "output_type": "display_data"
    },
    {
     "name": "stdout",
     "output_type": "stream",
     "text": [
      "Epoch 17/100 - Train Loss: 0.2364, Val Loss: 0.2393, Val AUC: 0.9534, LR: 1.0e-03\n",
      "Validation loss did not improve for 4 epoch(s).\n"
     ]
    },
    {
     "data": {
      "application/vnd.jupyter.widget-view+json": {
       "model_id": "63c049050ab349f5903d2a37e2705d56",
       "version_major": 2,
       "version_minor": 0
      },
      "text/plain": [
       "Epoch 18/100 [Train]:   0%|          | 0/142 [00:00<?, ?it/s]"
      ]
     },
     "metadata": {},
     "output_type": "display_data"
    },
    {
     "data": {
      "application/vnd.jupyter.widget-view+json": {
       "model_id": "ac2874c9e9bb425ca865445e0c76f44f",
       "version_major": 2,
       "version_minor": 0
      },
      "text/plain": [
       "Epoch 18/100 [Valid]:   0%|          | 0/16 [00:00<?, ?it/s]"
      ]
     },
     "metadata": {},
     "output_type": "display_data"
    },
    {
     "name": "stdout",
     "output_type": "stream",
     "text": [
      "Epoch 18/100 - Train Loss: 0.2359, Val Loss: 0.2387, Val AUC: 0.9535, LR: 1.0e-03\n",
      "Validation loss did not improve for 5 epoch(s).\n"
     ]
    },
    {
     "data": {
      "application/vnd.jupyter.widget-view+json": {
       "model_id": "10c817f0dadb45abae15d1ed744fa6c0",
       "version_major": 2,
       "version_minor": 0
      },
      "text/plain": [
       "Epoch 19/100 [Train]:   0%|          | 0/142 [00:00<?, ?it/s]"
      ]
     },
     "metadata": {},
     "output_type": "display_data"
    },
    {
     "data": {
      "application/vnd.jupyter.widget-view+json": {
       "model_id": "a78cd590e9184b14bf64a1276b2c1fa7",
       "version_major": 2,
       "version_minor": 0
      },
      "text/plain": [
       "Epoch 19/100 [Valid]:   0%|          | 0/16 [00:00<?, ?it/s]"
      ]
     },
     "metadata": {},
     "output_type": "display_data"
    },
    {
     "name": "stdout",
     "output_type": "stream",
     "text": [
      "Learning rate reduced from 0.001 to 0.0001\n",
      "Epoch 19/100 - Train Loss: 0.2350, Val Loss: 0.2390, Val AUC: 0.9534, LR: 1.0e-04\n",
      "Validation loss did not improve for 6 epoch(s).\n"
     ]
    },
    {
     "data": {
      "application/vnd.jupyter.widget-view+json": {
       "model_id": "f1cc645b6c4f4a03b5593beed944eca7",
       "version_major": 2,
       "version_minor": 0
      },
      "text/plain": [
       "Epoch 20/100 [Train]:   0%|          | 0/142 [00:00<?, ?it/s]"
      ]
     },
     "metadata": {},
     "output_type": "display_data"
    },
    {
     "data": {
      "application/vnd.jupyter.widget-view+json": {
       "model_id": "498e2e74fb1942939f2b0e33b9479138",
       "version_major": 2,
       "version_minor": 0
      },
      "text/plain": [
       "Epoch 20/100 [Valid]:   0%|          | 0/16 [00:00<?, ?it/s]"
      ]
     },
     "metadata": {},
     "output_type": "display_data"
    },
    {
     "name": "stdout",
     "output_type": "stream",
     "text": [
      "Epoch 20/100 - Train Loss: 0.2299, Val Loss: 0.2387, Val AUC: 0.9543, LR: 1.0e-04\n",
      "Validation loss did not improve for 7 epoch(s).\n"
     ]
    },
    {
     "data": {
      "application/vnd.jupyter.widget-view+json": {
       "model_id": "3054c154324e4c4884b42a98b04d6b78",
       "version_major": 2,
       "version_minor": 0
      },
      "text/plain": [
       "Epoch 21/100 [Train]:   0%|          | 0/142 [00:00<?, ?it/s]"
      ]
     },
     "metadata": {},
     "output_type": "display_data"
    },
    {
     "data": {
      "application/vnd.jupyter.widget-view+json": {
       "model_id": "1d0b55dcd43e4bd182b8f7a01acb365b",
       "version_major": 2,
       "version_minor": 0
      },
      "text/plain": [
       "Epoch 21/100 [Valid]:   0%|          | 0/16 [00:00<?, ?it/s]"
      ]
     },
     "metadata": {},
     "output_type": "display_data"
    },
    {
     "name": "stdout",
     "output_type": "stream",
     "text": [
      "Epoch 21/100 - Train Loss: 0.2283, Val Loss: 0.2382, Val AUC: 0.9539, LR: 1.0e-04\n",
      "Validation loss did not improve for 8 epoch(s).\n"
     ]
    },
    {
     "data": {
      "application/vnd.jupyter.widget-view+json": {
       "model_id": "227f0264422846b39d6ed08d3336260f",
       "version_major": 2,
       "version_minor": 0
      },
      "text/plain": [
       "Epoch 22/100 [Train]:   0%|          | 0/142 [00:00<?, ?it/s]"
      ]
     },
     "metadata": {},
     "output_type": "display_data"
    },
    {
     "data": {
      "application/vnd.jupyter.widget-view+json": {
       "model_id": "f7ce7bdc1860436db9f0f2ebf89bd1d9",
       "version_major": 2,
       "version_minor": 0
      },
      "text/plain": [
       "Epoch 22/100 [Valid]:   0%|          | 0/16 [00:00<?, ?it/s]"
      ]
     },
     "metadata": {},
     "output_type": "display_data"
    },
    {
     "name": "stdout",
     "output_type": "stream",
     "text": [
      "Epoch 22/100 - Train Loss: 0.2281, Val Loss: 0.2396, Val AUC: 0.9537, LR: 1.0e-04\n",
      "Validation loss did not improve for 9 epoch(s).\n"
     ]
    },
    {
     "data": {
      "application/vnd.jupyter.widget-view+json": {
       "model_id": "84527d6e0d484029a1abd28d70ce5d30",
       "version_major": 2,
       "version_minor": 0
      },
      "text/plain": [
       "Epoch 23/100 [Train]:   0%|          | 0/142 [00:00<?, ?it/s]"
      ]
     },
     "metadata": {},
     "output_type": "display_data"
    },
    {
     "data": {
      "application/vnd.jupyter.widget-view+json": {
       "model_id": "e8baf9123de043aea172132177cc4555",
       "version_major": 2,
       "version_minor": 0
      },
      "text/plain": [
       "Epoch 23/100 [Valid]:   0%|          | 0/16 [00:00<?, ?it/s]"
      ]
     },
     "metadata": {},
     "output_type": "display_data"
    },
    {
     "name": "stdout",
     "output_type": "stream",
     "text": [
      "Epoch 23/100 - Train Loss: 0.2276, Val Loss: 0.2393, Val AUC: 0.9540, LR: 1.0e-04\n",
      "Validation loss did not improve for 10 epoch(s).\n"
     ]
    },
    {
     "data": {
      "application/vnd.jupyter.widget-view+json": {
       "model_id": "087bcc3120c54ac0ac049538a9829688",
       "version_major": 2,
       "version_minor": 0
      },
      "text/plain": [
       "Epoch 24/100 [Train]:   0%|          | 0/142 [00:00<?, ?it/s]"
      ]
     },
     "metadata": {},
     "output_type": "display_data"
    },
    {
     "data": {
      "application/vnd.jupyter.widget-view+json": {
       "model_id": "c2eda384058c4df19d24ec38d6c28cc0",
       "version_major": 2,
       "version_minor": 0
      },
      "text/plain": [
       "Epoch 24/100 [Valid]:   0%|          | 0/16 [00:00<?, ?it/s]"
      ]
     },
     "metadata": {},
     "output_type": "display_data"
    },
    {
     "name": "stdout",
     "output_type": "stream",
     "text": [
      "Epoch 24/100 - Train Loss: 0.2270, Val Loss: 0.2400, Val AUC: 0.9533, LR: 1.0e-04\n",
      "Validation loss did not improve for 11 epoch(s).\n"
     ]
    },
    {
     "data": {
      "application/vnd.jupyter.widget-view+json": {
       "model_id": "d07bb5ce8d1247b8994b71a5d628074a",
       "version_major": 2,
       "version_minor": 0
      },
      "text/plain": [
       "Epoch 25/100 [Train]:   0%|          | 0/142 [00:00<?, ?it/s]"
      ]
     },
     "metadata": {},
     "output_type": "display_data"
    },
    {
     "data": {
      "application/vnd.jupyter.widget-view+json": {
       "model_id": "e22c7c25cd424357a15b74fed29b5c40",
       "version_major": 2,
       "version_minor": 0
      },
      "text/plain": [
       "Epoch 25/100 [Valid]:   0%|          | 0/16 [00:00<?, ?it/s]"
      ]
     },
     "metadata": {},
     "output_type": "display_data"
    },
    {
     "name": "stdout",
     "output_type": "stream",
     "text": [
      "Learning rate reduced from 0.0001 to 1e-05\n",
      "Epoch 25/100 - Train Loss: 0.2267, Val Loss: 0.2426, Val AUC: 0.9519, LR: 1.0e-05\n",
      "Validation loss did not improve for 12 epoch(s).\n"
     ]
    },
    {
     "data": {
      "application/vnd.jupyter.widget-view+json": {
       "model_id": "449aea84079d4a34a82e7c157caa46f7",
       "version_major": 2,
       "version_minor": 0
      },
      "text/plain": [
       "Epoch 26/100 [Train]:   0%|          | 0/142 [00:00<?, ?it/s]"
      ]
     },
     "metadata": {},
     "output_type": "display_data"
    },
    {
     "data": {
      "application/vnd.jupyter.widget-view+json": {
       "model_id": "bda6dff5331e471cb6f8ba4ad23e2da0",
       "version_major": 2,
       "version_minor": 0
      },
      "text/plain": [
       "Epoch 26/100 [Valid]:   0%|          | 0/16 [00:00<?, ?it/s]"
      ]
     },
     "metadata": {},
     "output_type": "display_data"
    },
    {
     "name": "stdout",
     "output_type": "stream",
     "text": [
      "Epoch 26/100 - Train Loss: 0.2261, Val Loss: 0.2386, Val AUC: 0.9539, LR: 1.0e-05\n",
      "Validation loss did not improve for 13 epoch(s).\n"
     ]
    },
    {
     "data": {
      "application/vnd.jupyter.widget-view+json": {
       "model_id": "5003671facdd43d6ac68a97540f3092c",
       "version_major": 2,
       "version_minor": 0
      },
      "text/plain": [
       "Epoch 27/100 [Train]:   0%|          | 0/142 [00:00<?, ?it/s]"
      ]
     },
     "metadata": {},
     "output_type": "display_data"
    },
    {
     "data": {
      "application/vnd.jupyter.widget-view+json": {
       "model_id": "b0fa103447cd4345be22e33862c5b947",
       "version_major": 2,
       "version_minor": 0
      },
      "text/plain": [
       "Epoch 27/100 [Valid]:   0%|          | 0/16 [00:00<?, ?it/s]"
      ]
     },
     "metadata": {},
     "output_type": "display_data"
    },
    {
     "name": "stdout",
     "output_type": "stream",
     "text": [
      "Epoch 27/100 - Train Loss: 0.2254, Val Loss: 0.2400, Val AUC: 0.9532, LR: 1.0e-05\n",
      "Validation loss did not improve for 14 epoch(s).\n"
     ]
    },
    {
     "data": {
      "application/vnd.jupyter.widget-view+json": {
       "model_id": "384c8433a3174e5fa6c0057b0b46b023",
       "version_major": 2,
       "version_minor": 0
      },
      "text/plain": [
       "Epoch 28/100 [Train]:   0%|          | 0/142 [00:00<?, ?it/s]"
      ]
     },
     "metadata": {},
     "output_type": "display_data"
    },
    {
     "data": {
      "application/vnd.jupyter.widget-view+json": {
       "model_id": "b7c890cb7a754cb4b188d2fdb35f7628",
       "version_major": 2,
       "version_minor": 0
      },
      "text/plain": [
       "Epoch 28/100 [Valid]:   0%|          | 0/16 [00:00<?, ?it/s]"
      ]
     },
     "metadata": {},
     "output_type": "display_data"
    },
    {
     "name": "stdout",
     "output_type": "stream",
     "text": [
      "Epoch 28/100 - Train Loss: 0.2257, Val Loss: 0.2399, Val AUC: 0.9534, LR: 1.0e-05\n",
      "Validation loss did not improve for 15 epoch(s).\n"
     ]
    },
    {
     "data": {
      "application/vnd.jupyter.widget-view+json": {
       "model_id": "6406ec380bca4edf988632165337d805",
       "version_major": 2,
       "version_minor": 0
      },
      "text/plain": [
       "Epoch 29/100 [Train]:   0%|          | 0/142 [00:00<?, ?it/s]"
      ]
     },
     "metadata": {},
     "output_type": "display_data"
    },
    {
     "data": {
      "application/vnd.jupyter.widget-view+json": {
       "model_id": "5d9aa83d78e146adab915500129fec13",
       "version_major": 2,
       "version_minor": 0
      },
      "text/plain": [
       "Epoch 29/100 [Valid]:   0%|          | 0/16 [00:00<?, ?it/s]"
      ]
     },
     "metadata": {},
     "output_type": "display_data"
    },
    {
     "name": "stdout",
     "output_type": "stream",
     "text": [
      "Epoch 29/100 - Train Loss: 0.2254, Val Loss: 0.2399, Val AUC: 0.9539, LR: 1.0e-05\n",
      "Validation loss did not improve for 16 epoch(s).\n"
     ]
    },
    {
     "data": {
      "application/vnd.jupyter.widget-view+json": {
       "model_id": "08837237804043dbbb601015c53f8b21",
       "version_major": 2,
       "version_minor": 0
      },
      "text/plain": [
       "Epoch 30/100 [Train]:   0%|          | 0/142 [00:00<?, ?it/s]"
      ]
     },
     "metadata": {},
     "output_type": "display_data"
    },
    {
     "data": {
      "application/vnd.jupyter.widget-view+json": {
       "model_id": "922ceab72f2b40159cbea768c6b83ad2",
       "version_major": 2,
       "version_minor": 0
      },
      "text/plain": [
       "Epoch 30/100 [Valid]:   0%|          | 0/16 [00:00<?, ?it/s]"
      ]
     },
     "metadata": {},
     "output_type": "display_data"
    },
    {
     "name": "stdout",
     "output_type": "stream",
     "text": [
      "Epoch 30/100 - Train Loss: 0.2260, Val Loss: 0.2394, Val AUC: 0.9538, LR: 1.0e-05\n",
      "Validation loss did not improve for 17 epoch(s).\n"
     ]
    },
    {
     "data": {
      "application/vnd.jupyter.widget-view+json": {
       "model_id": "b84c95ff294d4b43a425a8a3338d0efa",
       "version_major": 2,
       "version_minor": 0
      },
      "text/plain": [
       "Epoch 31/100 [Train]:   0%|          | 0/142 [00:00<?, ?it/s]"
      ]
     },
     "metadata": {},
     "output_type": "display_data"
    },
    {
     "data": {
      "application/vnd.jupyter.widget-view+json": {
       "model_id": "7a78895151f74f3c8657064c714c1af0",
       "version_major": 2,
       "version_minor": 0
      },
      "text/plain": [
       "Epoch 31/100 [Valid]:   0%|          | 0/16 [00:00<?, ?it/s]"
      ]
     },
     "metadata": {},
     "output_type": "display_data"
    },
    {
     "name": "stdout",
     "output_type": "stream",
     "text": [
      "Learning rate reduced from 1e-05 to 1.0000000000000002e-06\n",
      "Epoch 31/100 - Train Loss: 0.2251, Val Loss: 0.2402, Val AUC: 0.9530, LR: 1.0e-06\n",
      "Validation loss did not improve for 18 epoch(s).\n"
     ]
    },
    {
     "data": {
      "application/vnd.jupyter.widget-view+json": {
       "model_id": "5c3a04774f1f4e13a6dfbef3060ab445",
       "version_major": 2,
       "version_minor": 0
      },
      "text/plain": [
       "Epoch 32/100 [Train]:   0%|          | 0/142 [00:00<?, ?it/s]"
      ]
     },
     "metadata": {},
     "output_type": "display_data"
    },
    {
     "data": {
      "application/vnd.jupyter.widget-view+json": {
       "model_id": "965fb0a74e904a47ac3a9a1a1b341a77",
       "version_major": 2,
       "version_minor": 0
      },
      "text/plain": [
       "Epoch 32/100 [Valid]:   0%|          | 0/16 [00:00<?, ?it/s]"
      ]
     },
     "metadata": {},
     "output_type": "display_data"
    },
    {
     "name": "stdout",
     "output_type": "stream",
     "text": [
      "Epoch 32/100 - Train Loss: 0.2254, Val Loss: 0.2429, Val AUC: 0.9522, LR: 1.0e-06\n",
      "Validation loss did not improve for 19 epoch(s).\n"
     ]
    },
    {
     "data": {
      "application/vnd.jupyter.widget-view+json": {
       "model_id": "468cbb1859b646aaa4e5d62414496b22",
       "version_major": 2,
       "version_minor": 0
      },
      "text/plain": [
       "Epoch 33/100 [Train]:   0%|          | 0/142 [00:00<?, ?it/s]"
      ]
     },
     "metadata": {},
     "output_type": "display_data"
    },
    {
     "data": {
      "application/vnd.jupyter.widget-view+json": {
       "model_id": "c138547df47645da8e960ace01631cc6",
       "version_major": 2,
       "version_minor": 0
      },
      "text/plain": [
       "Epoch 33/100 [Valid]:   0%|          | 0/16 [00:00<?, ?it/s]"
      ]
     },
     "metadata": {},
     "output_type": "display_data"
    },
    {
     "name": "stdout",
     "output_type": "stream",
     "text": [
      "Epoch 33/100 - Train Loss: 0.2254, Val Loss: 0.2395, Val AUC: 0.9533, LR: 1.0e-06\n",
      "Validation loss did not improve for 20 epoch(s).\n",
      "Early stopping triggered after 33 epochs due to no improvement for 20 epochs.\n",
      "Training completed in 5m 46s\n",
      "Best val loss: 0.2379, Best val AUC at that point: 0.9539\n",
      "Best model weights loaded.\n"
     ]
    }
   ],
   "source": [
    "import torch.optim as optim_torch # Keep original optim import with a different alias if needed\n",
    "import torch_optimizer as optim # Import the new optimizer library\n",
    "\n",
    "# Import the learning rate scheduler\n",
    "from torch.optim.lr_scheduler import ReduceLROnPlateau\n",
    "from sklearn.metrics import roc_auc_score\n",
    "import numpy as np # Needed for checking NaN if AUC fails\n",
    "import time\n",
    "import copy\n",
    "from tqdm.auto import tqdm\n",
    "\n",
    "# --- Define Loss Function ---\n",
    "# NOTE: Ensure your model's output layer includes a Sigmoid activation for BCELoss\n",
    "criterion = nn.BCELoss()\n",
    "\n",
    "# --- Define Optimizer (Using pytorch_optimizer) ---\n",
    "# Replace optim_torch.Adam with your chosen optimizer from torch_optimizer\n",
    "# Example 1: Using AdaBelief\n",
    "# optimizer = optim.AdaBelief(model.parameters(), lr=0.001, eps=1e-16, betas=(0.9, 0.999))\n",
    "\n",
    "# Example 2: Using RAdam\n",
    "optimizer = optim.RAdam(model.parameters(), lr=0.001)\n",
    "\n",
    "# Example 3: Using AdaBound\n",
    "# optimizer = optim.AdaBound(model.parameters(), lr=1e-3, final_lr=0.1)\n",
    "\n",
    "# --- Learning Rate Scheduler (remains the same) ---\n",
    "lr_patience = 5 # Number of epochs with no improvement after which learning rate will be reduced\n",
    "lr_factor = 0.1 # Factor by which the learning rate will be reduced. new_lr = lr * factor\n",
    "scheduler = ReduceLROnPlateau(optimizer, # Pass the new optimizer instance\n",
    "                              mode='min',      # Reduce LR when the monitored quantity stops decreasing\n",
    "                              factor=lr_factor,\n",
    "                              patience=lr_patience,\n",
    "                              verbose=True,    # Print a message when LR is reduced\n",
    "                              threshold=0.0001, # Threshold for measuring the new optimum\n",
    "                              min_lr=1e-6)     # Lower bound on the learning rate\n",
    "\n",
    "# --- Training parameters (remains the same) ---\n",
    "num_epochs = 100\n",
    "early_stopping_patience = 20  # Number of epochs for early stopping\n",
    "\n",
    "# --- Initialize variables for early stopping (remains the same) ---\n",
    "best_val_loss = float('inf')\n",
    "best_val_auc = 0.0\n",
    "best_model_wts = copy.deepcopy(model.state_dict())\n",
    "no_improve_epochs = 0 # Counter for early stopping\n",
    "\n",
    "# --- For tracking metrics (remains the same) ---\n",
    "train_losses = []\n",
    "val_losses = []\n",
    "val_aucs = []\n",
    "\n",
    "# --- Move model to device (remains the same) ---\n",
    "device = torch.device(\"cuda:0\" if torch.cuda.is_available() else \"cpu\")\n",
    "model.to(device)\n",
    "\n",
    "# --- Print setup info (remains the same) ---\n",
    "print(f\"Training on {device}\")\n",
    "print(f\"Using Optimizer: {type(optimizer).__name__}\") # Print the name of the optimizer being used\n",
    "print(f\"Initial Learning Rate: {optimizer.param_groups[0]['lr']}\")\n",
    "print(f\"LR Scheduler Patience: {lr_patience}, Factor: {lr_factor}\")\n",
    "print(f\"Early Stopping Patience: {early_stopping_patience}\")\n",
    "\n",
    "start_time = time.time()\n",
    "\n",
    "# --- Training loop ---\n",
    "for epoch in range(num_epochs):\n",
    "    # --- Training phase ---\n",
    "    model.train()\n",
    "    running_loss = 0.0\n",
    "    train_pbar = tqdm(train_loader, desc=f\"Epoch {epoch+1}/{num_epochs} [Train]\", leave=False)\n",
    "    for inputs, labels in train_pbar:\n",
    "        # Ensure labels are float for BCELoss\n",
    "        inputs, labels = inputs.to(device), labels.to(device).float()\n",
    "\n",
    "        optimizer.zero_grad()\n",
    "        outputs = model(inputs) # Should be probabilities (output of Sigmoid)\n",
    "        loss = criterion(outputs, labels)\n",
    "        loss.backward()\n",
    "        optimizer.step()\n",
    "\n",
    "        running_loss += loss.item() * inputs.size(0)\n",
    "        train_pbar.set_postfix({'loss': loss.item()})\n",
    "\n",
    "    epoch_train_loss = running_loss / len(train_dataset) # Use len(train_dataset) for average\n",
    "    train_losses.append(epoch_train_loss)\n",
    "\n",
    "    # --- Validation phase ---\n",
    "    model.eval()\n",
    "    running_loss = 0.0\n",
    "    all_preds = []\n",
    "    all_labels = []\n",
    "    val_pbar = tqdm(val_loader, desc=f\"Epoch {epoch+1}/{num_epochs} [Valid]\", leave=False)\n",
    "    with torch.no_grad():\n",
    "        for inputs, labels in val_pbar:\n",
    "            # Ensure labels are float for BCELoss\n",
    "            inputs, labels = inputs.to(device), labels.to(device).float()\n",
    "\n",
    "            outputs = model(inputs) # Probabilities\n",
    "            loss = criterion(outputs, labels)\n",
    "\n",
    "            running_loss += loss.item() * inputs.size(0)\n",
    "            all_preds.extend(outputs.cpu().numpy())\n",
    "            all_labels.extend(labels.cpu().numpy())\n",
    "            val_pbar.set_postfix({'loss': loss.item()})\n",
    "\n",
    "    epoch_val_loss = running_loss / len(val_dataset) # Use len(val_dataset) for average\n",
    "    val_losses.append(epoch_val_loss)\n",
    "\n",
    "    # Flatten potentially nested lists/arrays if output_size=1\n",
    "    try:\n",
    "        all_preds_flat = [p[0] for p in all_preds]\n",
    "        all_labels_flat = [l[0] for l in all_labels]\n",
    "    except IndexError: # Handle cases where outputs/labels might already be flat\n",
    "        all_preds_flat = all_preds\n",
    "        all_labels_flat = all_labels\n",
    "\n",
    "    # Calculate AUC\n",
    "    try:\n",
    "        epoch_val_auc = roc_auc_score(all_labels_flat, all_preds_flat)\n",
    "        val_aucs.append(epoch_val_auc)\n",
    "    except ValueError as e:\n",
    "        print(f\"Could not calculate AUC: {e}. Skipping AUC for this epoch.\")\n",
    "        epoch_val_auc = float('nan') # Assign NaN or handle as appropriate\n",
    "        val_aucs.append(epoch_val_auc)\n",
    "\n",
    "\n",
    "    # --- Learning Rate Scheduler Step ---\n",
    "    # Pass the validation loss to the scheduler\n",
    "    current_lr = optimizer.param_groups[0]['lr']\n",
    "    scheduler.step(epoch_val_loss)\n",
    "    new_lr = optimizer.param_groups[0]['lr']\n",
    "    if new_lr < current_lr:\n",
    "        print(f\"Learning rate reduced from {current_lr} to {new_lr}\")\n",
    "\n",
    "\n",
    "    # Print epoch statistics\n",
    "    print(f\"Epoch {epoch+1}/{num_epochs} - \"\n",
    "          f\"Train Loss: {epoch_train_loss:.4f}, \"\n",
    "          f\"Val Loss: {epoch_val_loss:.4f}, \"\n",
    "          f\"Val AUC: {epoch_val_auc:.4f}, \"\n",
    "          f\"LR: {optimizer.param_groups[0]['lr']:.1e}\") # Display current LR\n",
    "\n",
    "    # Check if this is the best model (based on validation loss)\n",
    "    if epoch_val_loss < best_val_loss - scheduler.threshold: # Use scheduler's threshold\n",
    "        print(f\"Validation loss improved ({best_val_loss:.4f} --> {epoch_val_loss:.4f}). Saving model...\")\n",
    "        best_val_loss = epoch_val_loss\n",
    "        if not np.isnan(epoch_val_auc): # Only update best AUC if it's valid\n",
    "            best_val_auc = epoch_val_auc\n",
    "        best_model_wts = copy.deepcopy(model.state_dict())\n",
    "        no_improve_epochs = 0 # Reset early stopping counter\n",
    "    else:\n",
    "        no_improve_epochs += 1\n",
    "        print(f\"Validation loss did not improve for {no_improve_epochs} epoch(s).\")\n",
    "\n",
    "    # Early stopping check (using early_stopping_patience)\n",
    "    if no_improve_epochs >= early_stopping_patience:\n",
    "        print(f\"Early stopping triggered after {epoch+1} epochs due to no improvement for {early_stopping_patience} epochs.\")\n",
    "        break\n",
    "\n",
    "# --- Training complete ---\n",
    "time_elapsed = time.time() - start_time\n",
    "print(f\"Training completed in {time_elapsed // 60:.0f}m {time_elapsed % 60:.0f}s\")\n",
    "print(f\"Best val loss: {best_val_loss:.4f}, Best val AUC at that point: {best_val_auc:.4f}\")\n",
    "\n",
    "# Load best model weights\n",
    "model.load_state_dict(best_model_wts)\n",
    "print(\"Best model weights loaded.\")"
   ]
  },
  {
   "cell_type": "code",
   "execution_count": 23,
   "metadata": {},
   "outputs": [
    {
     "name": "stdout",
     "output_type": "stream",
     "text": [
      "Model saved to ../../models/deep_learning\\experiment_34.pth\n",
      "Checkpoint saved to ../../models/deep_learning\\experiment_34.pth\n"
     ]
    }
   ],
   "source": [
    "import os\n",
    "\n",
    "# Save the model weights\n",
    "\n",
    "# Create directory if it doesn't exist\n",
    "save_dir = '../../models/deep_learning'\n",
    "os.makedirs(save_dir, exist_ok=True)\n",
    "\n",
    "# Save model state dictionary\n",
    "model_path = os.path.join(save_dir, f'experiment_{experiment_num}.pth')\n",
    "torch.save(model.state_dict(), model_path)\n",
    "\n",
    "# Save additional information for later reference\n",
    "checkpoint_path = os.path.join(save_dir, f'experiment_{experiment_num}.pth')\n",
    "checkpoint = {\n",
    "    'model_state_dict': model.state_dict(),\n",
    "    'optimizer_state_dict': optimizer.state_dict(),\n",
    "}\n",
    "torch.save(checkpoint, checkpoint_path)\n",
    "\n",
    "print(f\"Model saved to {model_path}\")\n",
    "print(f\"Checkpoint saved to {checkpoint_path}\")"
   ]
  },
  {
   "cell_type": "code",
   "execution_count": 24,
   "metadata": {},
   "outputs": [
    {
     "name": "stdout",
     "output_type": "stream",
     "text": [
      "Validation predictions obtained.\n",
      "Target Recall: >= 0.9800 for Class 0\n",
      "Threshold found by Binary Search: 0.7307941\n",
      "Achieved Recall at Threshold: 0.9800\n",
      "Classification Report:\n",
      "              precision    recall  f1-score   support\n",
      "\n",
      "     Class 0     0.8601    0.9800    0.9162     23806\n",
      "     Class 1     0.9048    0.5439    0.6794      8318\n",
      "\n",
      "    accuracy                         0.8671     32124\n",
      "   macro avg     0.8825    0.7619    0.7978     32124\n",
      "weighted avg     0.8717    0.8671    0.8548     32124\n",
      "\n"
     ]
    },
    {
     "data": {
      "image/png": "[encoded data removed]",
      "text/plain": [
       "<Figure size 640x480 with 2 Axes>"
      ]
     },
     "metadata": {},
     "output_type": "display_data"
    },
    {
     "data": {
      "text/plain": [
       "0.7307941317558289"
      ]
     },
     "execution_count": 24,
     "metadata": {},
     "output_type": "execute_result"
    }
   ],
   "source": [
    "# Ensure the model is in evaluation mode\n",
    "model.eval()\n",
    "\n",
    "# Initialize a list to store predictions\n",
    "val_predictions = []\n",
    "\n",
    "# Disable gradient computation for inference\n",
    "with torch.no_grad():\n",
    "    for inputs, _ in val_loader:\n",
    "        inputs = inputs.to(device)\n",
    "        outputs = model(inputs)\n",
    "        val_predictions.extend(outputs.cpu().numpy())\n",
    "\n",
    "# Flatten the predictions\n",
    "val_predictions = [p[0] for p in val_predictions]\n",
    "print(\"Validation predictions obtained.\")\n",
    "\n",
    "from utils.eval_helpers import evaluate_model_for_recall\n",
    "evaluate_model_for_recall(target_class=0, desired_recall=0.98, y_true=np.array(all_labels).astype('int'), y_pred_proba=np.array(val_predictions))"
   ]
  },
  {
   "cell_type": "code",
   "execution_count": 25,
   "metadata": {},
   "outputs": [
    {
     "name": "stdout",
     "output_type": "stream",
     "text": [
      "Classification Report:\n",
      "              precision    recall  f1-score   support\n",
      "\n",
      "           0     0.9164    0.9386    0.9274    102026\n",
      "           1     0.8111    0.7549    0.7820     35648\n",
      "\n",
      "    accuracy                         0.8910    137674\n",
      "   macro avg     0.8638    0.8467    0.8547    137674\n",
      "weighted avg     0.8891    0.8910    0.8897    137674\n",
      "\n",
      "Accuracy: 0.8910\n",
      "ROC-AUC Score: 0.9524\n",
      "\n",
      "Confusion Matrix:\n",
      "[[95761  6265]\n",
      " [ 8739 26909]]\n"
     ]
    }
   ],
   "source": [
    "from sklearn.metrics import classification_report, accuracy_score, roc_auc_score, confusion_matrix\n",
    "\n",
    "# Set model to evaluation mode\n",
    "model.eval()\n",
    "\n",
    "# Check if CUDA is available and move model to the appropriate device\n",
    "device = torch.device('cuda:0' if torch.cuda.is_available() else 'cpu')\n",
    "model = model.to(device)\n",
    "\n",
    "# Lists to store predictions and true values\n",
    "all_preds = []\n",
    "all_labels = []\n",
    "\n",
    "# Perform inference without gradient calculation\n",
    "with torch.no_grad():\n",
    "    for inputs, labels in test_loader:\n",
    "        # Move inputs and labels to the appropriate device\n",
    "        inputs, labels = inputs.to(device), labels.to(device)\n",
    "        \n",
    "        # Forward pass\n",
    "        outputs = model(inputs)\n",
    "        \n",
    "        # Store predictions and labels\n",
    "        all_preds.append(outputs.cpu().numpy())\n",
    "        all_labels.append(labels.cpu().numpy())\n",
    "\n",
    "# Concatenate all batches\n",
    "all_preds = np.concatenate(all_preds)\n",
    "all_labels = np.concatenate(all_labels)\n",
    "\n",
    "# Convert predictions to binary (0 or 1) using threshold of 0.5\n",
    "pred_classes = (all_preds > 0.5).astype(int)\n",
    "true_classes = all_labels.astype(int)\n",
    "\n",
    "# Generate classification report\n",
    "\n",
    "# Print classification report\n",
    "print(\"Classification Report:\")\n",
    "print(classification_report(true_classes, pred_classes, digits = 4))\n",
    "\n",
    "# Calculate and print accuracy\n",
    "accuracy = accuracy_score(true_classes, pred_classes)\n",
    "print(f\"Accuracy: {accuracy:.4f}\")\n",
    "\n",
    "# Calculate and print ROC-AUC score\n",
    "auc = roc_auc_score(true_classes, all_preds)\n",
    "print(f\"ROC-AUC Score: {auc:.4f}\")\n",
    "\n",
    "# Print confusion matrix\n",
    "print(\"\\nConfusion Matrix:\")\n",
    "print(confusion_matrix(true_classes, pred_classes))"
   ]
  },
  {
   "cell_type": "code",
   "execution_count": 26,
   "metadata": {},
   "outputs": [
    {
     "name": "stdout",
     "output_type": "stream",
     "text": [
      "Target Recall: >= 0.9800 for Class 0\n",
      "Threshold found by Binary Search: 0.7281061\n",
      "Achieved Recall at Threshold: 0.9800\n",
      "Classification Report:\n",
      "              precision    recall  f1-score   support\n",
      "\n",
      "     Class 0     0.8584    0.9800    0.9152    102026\n",
      "     Class 1     0.9038    0.5374    0.6740     35648\n",
      "\n",
      "    accuracy                         0.8654    137674\n",
      "   macro avg     0.8811    0.7587    0.7946    137674\n",
      "weighted avg     0.8702    0.8654    0.8527    137674\n",
      "\n"
     ]
    },
    {
     "data": {
      "image/png": "[encoded data removed]",
      "text/plain": [
       "<Figure size 640x480 with 2 Axes>"
      ]
     },
     "metadata": {},
     "output_type": "display_data"
    },
    {
     "data": {
      "text/plain": [
       "0.7281061410903931"
      ]
     },
     "execution_count": 26,
     "metadata": {},
     "output_type": "execute_result"
    }
   ],
   "source": [
    "evaluate_model_for_recall(target_class=0, desired_recall=0.98, y_true=true_classes, y_pred_proba=all_preds)"
   ]
  },
  {
   "cell_type": "code",
   "execution_count": null,
   "metadata": {},
   "outputs": [],
   "source": []
  }
 ],
 "metadata": {
  "kernelspec": {
   "display_name": "nibm_dl",
   "language": "python",
   "name": "python3"
  },
  "language_info": {
   "codemirror_mode": {
    "name": "ipython",
    "version": 3
   },
   "file_extension": ".py",
   "mimetype": "text/x-python",
   "name": "python",
   "nbconvert_exporter": "python",
   "pygments_lexer": "ipython3",
   "version": "3.10.14"
  }
 },
 "nbformat": 4,
 "nbformat_minor": 2
}

{
 "cells": [
  {
   "cell_type": "code",
   "execution_count": 1,
   "metadata": {},
   "outputs": [],
   "source": [
    "import pandas as pd\n",
    "import numpy as np\n",
    "import h5py\n",
    "import torch\n",
    "import torch.nn as nn\n",
    "import random\n",
    "import sys\n",
    "import os\n",
    "\n",
    "#trying to ensure reproducibility\n",
    "torch.manual_seed(0)\n",
    "random.seed(0)\n",
    "np.random.seed(0)"
   ]
  },
  {
   "cell_type": "code",
   "execution_count": 2,
   "metadata": {},
   "outputs": [],
   "source": [
    "# Setting path to load util functions\n",
    "from pathlib import Path\n",
    "parent_dir = Path.cwd().parents[1]\n",
    "sys.path.append(os.path.abspath(parent_dir))"
   ]
  },
  {
   "cell_type": "code",
   "execution_count": 3,
   "metadata": {},
   "outputs": [],
   "source": [
    "experiment_num = 35"
   ]
  },
  {
   "cell_type": "code",
   "execution_count": 4,
   "metadata": {},
   "outputs": [],
   "source": [
    "#Loading data\n",
    "with h5py.File('../../data/3d_array/mod_train_data_3d_h5.h5', 'r') as f:\n",
    "    train_X = f['train_data_3d'][:]\n",
    "with h5py.File('../../data/3d_array/mod_val_data_3d_h5.h5', 'r') as f:\n",
    "    val_X = f['val_data_3d'][:]\n",
    "with h5py.File('../../data/3d_array/mod_test_data_3d_h5.h5', 'r') as f:\n",
    "    test_X = f['test_data_3d'][:]\n",
    "\n",
    "train_y = pd.read_parquet('../../data/3d_array/train_targets.parquet')\n",
    "val_y = pd.read_parquet('../../data/3d_array/val_targets.parquet')\n",
    "test_y = pd.read_parquet('../../data/3d_array/test_targets.parquet')"
   ]
  },
  {
   "cell_type": "code",
   "execution_count": 5,
   "metadata": {},
   "outputs": [],
   "source": [
    "train_X = np.nan_to_num(train_X, nan=0.0)\n",
    "val_X = np.nan_to_num(val_X, nan=0.0)\n",
    "test_X = np.nan_to_num(test_X, nan=0.0)"
   ]
  },
  {
   "cell_type": "code",
   "execution_count": 6,
   "metadata": {},
   "outputs": [
    {
     "data": {
      "text/plain": [
       "end_of_month\n",
       "2018-03-31    289115\n",
       "Name: count, dtype: int64"
      ]
     },
     "execution_count": 6,
     "metadata": {},
     "output_type": "execute_result"
    }
   ],
   "source": [
    "train_y['end_of_month'].value_counts()"
   ]
  },
  {
   "cell_type": "code",
   "execution_count": 7,
   "metadata": {},
   "outputs": [
    {
     "name": "stderr",
     "output_type": "stream",
     "text": [
      "C:\\Users\\vaseekaranv\\AppData\\Local\\Temp\\ipykernel_27416\\847019464.py:1: FutureWarning: The behavior of 'isin' with dtype=datetime64[ns] and castable values (e.g. strings) is deprecated. In a future version, these will not be considered matching by isin. Explicitly cast to the appropriate dtype before calling isin instead.\n",
      "  train_y = train_y[train_y['end_of_month'].isin(['2018-03-31'])]\n",
      "C:\\Users\\vaseekaranv\\AppData\\Local\\Temp\\ipykernel_27416\\847019464.py:2: FutureWarning: The behavior of 'isin' with dtype=datetime64[ns] and castable values (e.g. strings) is deprecated. In a future version, these will not be considered matching by isin. Explicitly cast to the appropriate dtype before calling isin instead.\n",
      "  val_y = val_y[val_y['end_of_month'].isin(['2018-03-31'])]\n",
      "C:\\Users\\vaseekaranv\\AppData\\Local\\Temp\\ipykernel_27416\\847019464.py:3: FutureWarning: The behavior of 'isin' with dtype=datetime64[ns] and castable values (e.g. strings) is deprecated. In a future version, these will not be considered matching by isin. Explicitly cast to the appropriate dtype before calling isin instead.\n",
      "  test_y = test_y[test_y['end_of_month'].isin(['2018-03-31'])]\n"
     ]
    }
   ],
   "source": [
    "train_y = train_y[train_y['end_of_month'].isin(['2018-03-31'])]\n",
    "val_y = val_y[val_y['end_of_month'].isin(['2018-03-31'])]\n",
    "test_y = test_y[test_y['end_of_month'].isin(['2018-03-31'])]"
   ]
  },
  {
   "cell_type": "code",
   "execution_count": 8,
   "metadata": {},
   "outputs": [
    {
     "data": {
      "text/html": [
       "<div>\n",
       "<style scoped>\n",
       "    .dataframe tbody tr th:only-of-type {\n",
       "        vertical-align: middle;\n",
       "    }\n",
       "\n",
       "    .dataframe tbody tr th {\n",
       "        vertical-align: top;\n",
       "    }\n",
       "\n",
       "    .dataframe thead th {\n",
       "        text-align: right;\n",
       "    }\n",
       "</style>\n",
       "<table border=\"1\" class=\"dataframe\">\n",
       "  <thead>\n",
       "    <tr style=\"text-align: right;\">\n",
       "      <th></th>\n",
       "      <th>customer_ID</th>\n",
       "      <th>end_of_month</th>\n",
       "      <th>target</th>\n",
       "    </tr>\n",
       "  </thead>\n",
       "  <tbody>\n",
       "    <tr>\n",
       "      <th>0</th>\n",
       "      <td>0000099d6bd597052cdcda90ffabf56573fe9d7c79be5f...</td>\n",
       "      <td>2018-03-31</td>\n",
       "      <td>0</td>\n",
       "    </tr>\n",
       "    <tr>\n",
       "      <th>1</th>\n",
       "      <td>00001b22f846c82c51f6e3958ccd81970162bae8b007e8...</td>\n",
       "      <td>2018-03-31</td>\n",
       "      <td>0</td>\n",
       "    </tr>\n",
       "    <tr>\n",
       "      <th>2</th>\n",
       "      <td>000084e5023181993c2e1b665ac88dbb1ce9ef621ec537...</td>\n",
       "      <td>2018-03-31</td>\n",
       "      <td>0</td>\n",
       "    </tr>\n",
       "    <tr>\n",
       "      <th>3</th>\n",
       "      <td>000098081fde4fd64bc4d503a5d6f86a0aedc425c96f52...</td>\n",
       "      <td>2018-03-31</td>\n",
       "      <td>0</td>\n",
       "    </tr>\n",
       "    <tr>\n",
       "      <th>4</th>\n",
       "      <td>0000f99513770170a1aba690daeeb8a96da4a39f11fc27...</td>\n",
       "      <td>2018-03-31</td>\n",
       "      <td>1</td>\n",
       "    </tr>\n",
       "    <tr>\n",
       "      <th>...</th>\n",
       "      <td>...</td>\n",
       "      <td>...</td>\n",
       "      <td>...</td>\n",
       "    </tr>\n",
       "    <tr>\n",
       "      <th>289110</th>\n",
       "      <td>fffe3ec7cdbc1caac845c884b389ed347bfc1da9d09731...</td>\n",
       "      <td>2018-03-31</td>\n",
       "      <td>1</td>\n",
       "    </tr>\n",
       "    <tr>\n",
       "      <th>289111</th>\n",
       "      <td>fffef3305f19a11fb6c15f4ebe9be1bd664540e57c0a6a...</td>\n",
       "      <td>2018-03-31</td>\n",
       "      <td>0</td>\n",
       "    </tr>\n",
       "    <tr>\n",
       "      <th>289112</th>\n",
       "      <td>ffff39cc22a375d07369980d02d617883dd28ad81a6aa3...</td>\n",
       "      <td>2018-03-31</td>\n",
       "      <td>0</td>\n",
       "    </tr>\n",
       "    <tr>\n",
       "      <th>289113</th>\n",
       "      <td>ffff518bb2075e4816ee3fe9f3b152c57fc0e6f01bf7fd...</td>\n",
       "      <td>2018-03-31</td>\n",
       "      <td>0</td>\n",
       "    </tr>\n",
       "    <tr>\n",
       "      <th>289114</th>\n",
       "      <td>fffff1d38b785cef84adeace64f8f83db3a0c31e8d92ea...</td>\n",
       "      <td>2018-03-31</td>\n",
       "      <td>0</td>\n",
       "    </tr>\n",
       "  </tbody>\n",
       "</table>\n",
       "<p>289115 rows × 3 columns</p>\n",
       "</div>"
      ],
      "text/plain": [
       "                                              customer_ID end_of_month  target\n",
       "0       0000099d6bd597052cdcda90ffabf56573fe9d7c79be5f...   2018-03-31       0\n",
       "1       00001b22f846c82c51f6e3958ccd81970162bae8b007e8...   2018-03-31       0\n",
       "2       000084e5023181993c2e1b665ac88dbb1ce9ef621ec537...   2018-03-31       0\n",
       "3       000098081fde4fd64bc4d503a5d6f86a0aedc425c96f52...   2018-03-31       0\n",
       "4       0000f99513770170a1aba690daeeb8a96da4a39f11fc27...   2018-03-31       1\n",
       "...                                                   ...          ...     ...\n",
       "289110  fffe3ec7cdbc1caac845c884b389ed347bfc1da9d09731...   2018-03-31       1\n",
       "289111  fffef3305f19a11fb6c15f4ebe9be1bd664540e57c0a6a...   2018-03-31       0\n",
       "289112  ffff39cc22a375d07369980d02d617883dd28ad81a6aa3...   2018-03-31       0\n",
       "289113  ffff518bb2075e4816ee3fe9f3b152c57fc0e6f01bf7fd...   2018-03-31       0\n",
       "289114  fffff1d38b785cef84adeace64f8f83db3a0c31e8d92ea...   2018-03-31       0\n",
       "\n",
       "[289115 rows x 3 columns]"
      ]
     },
     "execution_count": 8,
     "metadata": {},
     "output_type": "execute_result"
    }
   ],
   "source": [
    "train_y.sort_values(by=['customer_ID'])"
   ]
  },
  {
   "cell_type": "code",
   "execution_count": 9,
   "metadata": {},
   "outputs": [
    {
     "data": {
      "text/plain": [
       "((289115, 13, 86), (289115, 3))"
      ]
     },
     "execution_count": 9,
     "metadata": {},
     "output_type": "execute_result"
    }
   ],
   "source": [
    "train_X.shape, train_y.shape"
   ]
  },
  {
   "cell_type": "code",
   "execution_count": 10,
   "metadata": {},
   "outputs": [
    {
     "data": {
      "text/plain": [
       "((32124, 13, 86), (32124, 3))"
      ]
     },
     "execution_count": 10,
     "metadata": {},
     "output_type": "execute_result"
    }
   ],
   "source": [
    "val_X.shape, val_y.shape"
   ]
  },
  {
   "cell_type": "code",
   "execution_count": 11,
   "metadata": {},
   "outputs": [],
   "source": [
    "class ParallelConvBlock(nn.Module):\n",
    "    def __init__(self, in_channels, out_channels, kernel_sizes=[3, 5, 7], dropout_rate=0.2):\n",
    "        \"\"\"\n",
    "        Parallel Convolutional Block that processes input through multiple convolutional paths\n",
    "        with different kernel sizes and concatenates the results.\n",
    "        \n",
    "        Args:\n",
    "            in_channels: Number of input channels\n",
    "            out_channels: Number of output channels\n",
    "            kernel_sizes: List of kernel sizes for parallel convolutions\n",
    "            dropout_rate: Dropout probability\n",
    "        \"\"\"\n",
    "        super(ParallelConvBlock, self).__init__()\n",
    "        \n",
    "        self.n_paths = len(kernel_sizes)\n",
    "        # Calculate channels per path\n",
    "        path_channels = out_channels // self.n_paths\n",
    "        \n",
    "        # Create parallel convolutional paths\n",
    "        self.paths = nn.ModuleList()\n",
    "        for k_size in kernel_sizes:\n",
    "            padding = k_size // 2  # Same padding to maintain sequence length\n",
    "            path = nn.Sequential(\n",
    "                nn.Conv1d(in_channels, path_channels, kernel_size=k_size, padding=padding),\n",
    "                nn.BatchNorm1d(path_channels),\n",
    "                nn.ReLU(),\n",
    "                nn.Dropout(dropout_rate)\n",
    "            )\n",
    "            self.paths.append(path)\n",
    "            \n",
    "        # Projection layer to ensure output has exactly out_channels\n",
    "        self.projection = nn.Sequential(\n",
    "            nn.Conv1d(path_channels * self.n_paths, out_channels, kernel_size=1),\n",
    "            nn.BatchNorm1d(out_channels),\n",
    "            nn.ReLU()\n",
    "        )\n",
    "    \n",
    "    def forward(self, x):\n",
    "        # Process input through parallel paths\n",
    "        outputs = [path(x) for path in self.paths]\n",
    "        \n",
    "        # Concatenate along channel dimension\n",
    "        # print(f\"Outputs shape before concatenation: {[out.shape for out in outputs]}\")\n",
    "        x = torch.cat(outputs, dim=1)\n",
    "        \n",
    "        # Apply projection to get final output\n",
    "        x = self.projection(x)\n",
    "        \n",
    "        return x"
   ]
  },
  {
   "cell_type": "code",
   "execution_count": 12,
   "metadata": {},
   "outputs": [],
   "source": [
    "class ConvBlock(nn.Module):\n",
    "    def __init__(self, in_channels, out_channels, kernel_size=3, padding=1, pool=True, dropout=0.3):\n",
    "        super(ConvBlock, self).__init__()\n",
    "        self.conv = nn.Conv1d(in_channels, out_channels, kernel_size, padding=padding)\n",
    "        self.bn = nn.BatchNorm1d(out_channels)\n",
    "        self.relu = nn.ReLU()\n",
    "        self.pool = nn.MaxPool1d(kernel_size=2) if pool else None\n",
    "        self.dropout = nn.Dropout(dropout)\n",
    "\n",
    "    def forward(self, x):\n",
    "        x = self.conv(x)\n",
    "        x = self.bn(x)\n",
    "        x = self.relu(x)\n",
    "        if self.pool:\n",
    "            x = self.pool(x)\n",
    "        x = self.dropout(x)\n",
    "        return x"
   ]
  },
  {
   "cell_type": "code",
   "execution_count": 13,
   "metadata": {},
   "outputs": [],
   "source": [
    "class ConvLSTMModel(nn.Module):\n",
    "    def __init__(self, input_size, lstm_hidden_size=64, num_lstm_layers=1, output_size=1):\n",
    "        \"\"\"\n",
    "        Args:\n",
    "            input_size (int): Number of features in the input sequence (feature dimension).\n",
    "            lstm_hidden_size (int): Hidden size for the LSTM layer.\n",
    "            num_lstm_layers (int): Number of layers for the LSTM.\n",
    "            output_size (int): Size of the final output (e.g., 1 for binary classification).\n",
    "        \"\"\"\n",
    "        super(ConvLSTMModel, self).__init__()\n",
    "\n",
    "        self.input_size = input_size\n",
    "        self.lstm_hidden_size = lstm_hidden_size\n",
    "\n",
    "        # --- CNN Path ---\n",
    "        # First convolutional block (Parallel)\n",
    "        # Input channels = input_size (features)\n",
    "        cnn_out_channels_1 = 100\n",
    "        self.parallel_conv = ParallelConvBlock(input_size, cnn_out_channels_1, kernel_sizes=[3, 5, 7, 9], dropout_rate=0.2)\n",
    "\n",
    "        # Second convolutional block\n",
    "        cnn_out_channels_2 = 64\n",
    "        self.block2 = ConvBlock(cnn_out_channels_1, cnn_out_channels_2, dropout=0.2)\n",
    "\n",
    "        # Third convolutional block\n",
    "        self.cnn_final_channels = 32\n",
    "        self.block3 = ConvBlock(cnn_out_channels_2, self.cnn_final_channels, pool=False, dropout=0.2) # No pooling in the last block\n",
    "\n",
    "        # Global pooling for CNN path\n",
    "        self.global_avg_pool = nn.AdaptiveAvgPool1d(1)\n",
    "\n",
    "        # --- LSTM Path ---\n",
    "        self.lstm = nn.LSTM(input_size=input_size,\n",
    "                            hidden_size=lstm_hidden_size,\n",
    "                            num_layers=num_lstm_layers,\n",
    "                            batch_first=True, # Crucial: input shape (batch, seq_len, features)\n",
    "                            bidirectional=False) # Set to True if needed, adjust feature concatenation below\n",
    "\n",
    "        # --- Combined Path ---\n",
    "        # Calculate the combined feature size after CNN pooling and LSTM\n",
    "        combined_features = self.cnn_final_channels + lstm_hidden_size # Add *2 if bidirectional LSTM\n",
    "\n",
    "        # Fully connected layers\n",
    "        self.fc1 = nn.Linear(combined_features, 16) # Input size adjusted\n",
    "        self.relu_fc1 = nn.ReLU()\n",
    "        self.dropout_fc1 = nn.Dropout(0.3) # Added dropout for FC layer\n",
    "        self.fc2 = nn.Linear(16, output_size)\n",
    "        self.sigmoid = nn.Sigmoid()\n",
    "\n",
    "    def forward(self, x):\n",
    "        # Input shape: batch_size x time_steps x features\n",
    "\n",
    "        # --- CNN Path ---\n",
    "        # For Conv1D: convert to batch_size x features(channels) x time_steps\n",
    "        x_cnn = x.permute(0, 2, 1)\n",
    "        # Pass through convolutional blocks\n",
    "        cnn_out = self.parallel_conv(x_cnn)\n",
    "        cnn_out = self.block2(cnn_out)\n",
    "        cnn_out = self.block3(cnn_out)\n",
    "        # Global pooling to get fixed-size representation for CNN path\n",
    "        cnn_pooled = self.global_avg_pool(cnn_out)\n",
    "        cnn_features = cnn_pooled.view(cnn_pooled.size(0), -1) # Flatten: batch_size x cnn_final_channels\n",
    "\n",
    "        # --- LSTM Path ---\n",
    "        # Input shape expected by LSTM (batch_first=True): batch_size x time_steps x features\n",
    "        # No permutation needed for LSTM path if input is already in this format\n",
    "        lstm_out, (h_n, c_n) = self.lstm(x)\n",
    "        # We typically use the last hidden state\n",
    "        # h_n shape: (num_layers * num_directions, batch_size, lstm_hidden_size)\n",
    "        # Get the hidden state of the last layer\n",
    "        lstm_features = h_n[-1] # Shape: batch_size x lstm_hidden_size (if not bidirectional)\n",
    "        # If bidirectional: h_n shape is (num_layers*2, batch, hidden_size)\n",
    "        # You might want to concatenate the last forward and backward hidden states:\n",
    "        # lstm_features = torch.cat((h_n[-2,:,:], h_n[-1,:,:]), dim=1) # If bidirectional\n",
    "\n",
    "        # --- Concatenate Features ---\n",
    "        combined_features = torch.cat((cnn_features, lstm_features), dim=1)\n",
    "\n",
    "        # --- Fully Connected Layers ---\n",
    "        x = self.fc1(combined_features)\n",
    "        x = self.relu_fc1(x)\n",
    "        x = self.dropout_fc1(x)\n",
    "        x = self.fc2(x)\n",
    "\n",
    "        # Output probability\n",
    "        return self.sigmoid(x)"
   ]
  },
  {
   "cell_type": "code",
   "execution_count": null,
   "metadata": {},
   "outputs": [],
   "source": []
  },
  {
   "cell_type": "code",
   "execution_count": 14,
   "metadata": {},
   "outputs": [
    {
     "name": "stdout",
     "output_type": "stream",
     "text": [
      "Model initialized with input_size=86, output_size=1\n"
     ]
    }
   ],
   "source": [
    "# Initialize the ConvModel\n",
    "input_size = train_X.shape[2]  # Number of features\n",
    "output_size = 1  # Binary classification\n",
    "lstm_hidden_size = 128\n",
    "num_lstm_layers = 1\n",
    "\n",
    "# Create model instance\n",
    "model = ConvLSTMModel(input_size=input_size, output_size=output_size, lstm_hidden_size=lstm_hidden_size, num_lstm_layers=num_lstm_layers)\n",
    "print(f\"Model initialized with input_size={input_size}, output_size={output_size}\")"
   ]
  },
  {
   "cell_type": "code",
   "execution_count": 15,
   "metadata": {},
   "outputs": [
    {
     "data": {
      "text/plain": [
       "============================================================================================================================================\n",
       "Layer (type:depth-idx)                   Input Shape               Kernel Shape              Output Shape              Param #\n",
       "============================================================================================================================================\n",
       "ConvLSTMModel                            [2048, 13, 86]            --                        [2048, 1]                 --\n",
       "├─ParallelConvBlock: 1-1                 [2048, 86, 13]            --                        [2048, 100, 13]           62,200\n",
       "├─ConvBlock: 1-2                         [2048, 100, 13]           --                        [2048, 64, 6]             19,392\n",
       "├─ConvBlock: 1-3                         [2048, 64, 6]             --                        [2048, 32, 6]             6,240\n",
       "├─AdaptiveAvgPool1d: 1-4                 [2048, 32, 6]             --                        [2048, 32, 1]             --\n",
       "├─LSTM: 1-5                              [2048, 13, 86]            --                        [2048, 13, 128]           110,592\n",
       "├─Linear: 1-6                            [2048, 160]               --                        [2048, 16]                2,576\n",
       "├─ReLU: 1-7                              [2048, 16]                --                        [2048, 16]                --\n",
       "├─Dropout: 1-8                           [2048, 16]                --                        [2048, 16]                --\n",
       "├─Linear: 1-9                            [2048, 16]                --                        [2048, 1]                 17\n",
       "├─Sigmoid: 1-10                          [2048, 1]                 --                        [2048, 1]                 --\n",
       "============================================================================================================================================\n",
       "Total params: 201,017\n",
       "Trainable params: 201,017\n",
       "Non-trainable params: 0\n",
       "Total mult-adds (G): 5.19\n",
       "============================================================================================================================================\n",
       "Input size (MB): 9.16\n",
       "Forward/backward pass size (MB): 146.29\n",
       "Params size (MB): 0.80\n",
       "Estimated Total Size (MB): 156.26\n",
       "============================================================================================================================================"
      ]
     },
     "execution_count": 15,
     "metadata": {},
     "output_type": "execute_result"
    }
   ],
   "source": [
    "batch_size = 2048\n",
    "from torchinfo import summary\n",
    "summary(model, input_size=(batch_size, train_X.shape[1], train_X.shape[2]), device='cpu',\n",
    "        col_names=[\"input_size\", \"kernel_size\",\"output_size\", \"num_params\"], depth = 1)"
   ]
  },
  {
   "cell_type": "code",
   "execution_count": 16,
   "metadata": {},
   "outputs": [],
   "source": [
    "from torch.utils.data import Dataset, DataLoader\n",
    "class TimeSeriesDataset(Dataset):\n",
    "    def __init__(self, data, targets):\n",
    "        \"\"\"\n",
    "        Args:\n",
    "            data: numpy array of shape (num_ids, time_steps, features)\n",
    "            targets: numpy array of shape (num_ids,)\n",
    "        \"\"\"\n",
    "        self.data = torch.FloatTensor(data)\n",
    "        self.targets = torch.FloatTensor(targets).unsqueeze(1)  # Add dimension for output\n",
    "        \n",
    "    def __len__(self):\n",
    "        return len(self.data)\n",
    "    \n",
    "    def __getitem__(self, idx):\n",
    "        return self.data[idx], self.targets[idx]"
   ]
  },
  {
   "cell_type": "code",
   "execution_count": 17,
   "metadata": {},
   "outputs": [],
   "source": [
    "train_dataset = TimeSeriesDataset(train_X, train_y['target'].values)\n",
    "train_loader = DataLoader(train_dataset, batch_size=batch_size, shuffle=True)"
   ]
  },
  {
   "cell_type": "code",
   "execution_count": 18,
   "metadata": {},
   "outputs": [],
   "source": [
    "val_dataset = TimeSeriesDataset(val_X, val_y['target'].values)\n",
    "val_loader = DataLoader(val_dataset, batch_size=batch_size, shuffle=False)"
   ]
  },
  {
   "cell_type": "code",
   "execution_count": 19,
   "metadata": {},
   "outputs": [],
   "source": [
    "test_dataset = TimeSeriesDataset(test_X, test_y['target'].values)\n",
    "test_loader = DataLoader(test_dataset, batch_size=batch_size, shuffle=False)"
   ]
  },
  {
   "cell_type": "code",
   "execution_count": 20,
   "metadata": {},
   "outputs": [
    {
     "data": {
      "text/plain": [
       "(torch.Size([13, 86]), tensor([0.]))"
      ]
     },
     "execution_count": 20,
     "metadata": {},
     "output_type": "execute_result"
    }
   ],
   "source": [
    "train_dataset.__getitem__(0)[0].shape, train_dataset.__getitem__(0)[1]"
   ]
  },
  {
   "cell_type": "code",
   "execution_count": 21,
   "metadata": {},
   "outputs": [
    {
     "data": {
      "text/plain": [
       "(torch.Size([13, 86]), tensor([1.]))"
      ]
     },
     "execution_count": 21,
     "metadata": {},
     "output_type": "execute_result"
    }
   ],
   "source": [
    "val_dataset.__getitem__(0)[0].shape, val_dataset.__getitem__(0)[1]"
   ]
  },
  {
   "cell_type": "code",
   "execution_count": 22,
   "metadata": {},
   "outputs": [
    {
     "name": "stdout",
     "output_type": "stream",
     "text": [
      "Training on cuda:0\n",
      "Using Optimizer: AdaBound\n",
      "Initial Learning Rate: 0.001\n",
      "LR Scheduler Patience: 5, Factor: 0.1\n",
      "Early Stopping Patience: 20\n"
     ]
    },
    {
     "name": "stderr",
     "output_type": "stream",
     "text": [
      "c:\\Users\\vaseekaranv\\AppData\\Local\\anaconda3\\envs\\nibm_dl\\lib\\site-packages\\torch\\optim\\lr_scheduler.py:60: UserWarning: The verbose parameter is deprecated. Please use get_last_lr() to access the learning rate.\n",
      "  warnings.warn(\n"
     ]
    },
    {
     "data": {
      "application/vnd.jupyter.widget-view+json": {
       "model_id": "2a25f9601f934b189edc2fd34520de98",
       "version_major": 2,
       "version_minor": 0
      },
      "text/plain": [
       "Epoch 1/100 [Train]:   0%|          | 0/142 [00:00<?, ?it/s]"
      ]
     },
     "metadata": {},
     "output_type": "display_data"
    },
    {
     "data": {
      "application/vnd.jupyter.widget-view+json": {
       "model_id": "e03dd1c4f88b4305a6f696ad62662443",
       "version_major": 2,
       "version_minor": 0
      },
      "text/plain": [
       "Epoch 1/100 [Valid]:   0%|          | 0/16 [00:00<?, ?it/s]"
      ]
     },
     "metadata": {},
     "output_type": "display_data"
    },
    {
     "name": "stdout",
     "output_type": "stream",
     "text": [
      "Epoch 1/100 - Train Loss: 0.3301, Val Loss: 0.2563, Val AUC: 0.9471, LR: 1.0e-03\n",
      "Validation loss improved (inf --> 0.2563). Saving model...\n"
     ]
    },
    {
     "data": {
      "application/vnd.jupyter.widget-view+json": {
       "model_id": "3605e89a42514ede9a4ff843103ca91f",
       "version_major": 2,
       "version_minor": 0
      },
      "text/plain": [
       "Epoch 2/100 [Train]:   0%|          | 0/142 [00:00<?, ?it/s]"
      ]
     },
     "metadata": {},
     "output_type": "display_data"
    },
    {
     "data": {
      "application/vnd.jupyter.widget-view+json": {
       "model_id": "cf37e7048b2a425f89ba4bff481f01f3",
       "version_major": 2,
       "version_minor": 0
      },
      "text/plain": [
       "Epoch 2/100 [Valid]:   0%|          | 0/16 [00:00<?, ?it/s]"
      ]
     },
     "metadata": {},
     "output_type": "display_data"
    },
    {
     "name": "stdout",
     "output_type": "stream",
     "text": [
      "Epoch 2/100 - Train Loss: 0.2658, Val Loss: 0.2515, Val AUC: 0.9493, LR: 1.0e-03\n",
      "Validation loss improved (0.2563 --> 0.2515). Saving model...\n"
     ]
    },
    {
     "data": {
      "application/vnd.jupyter.widget-view+json": {
       "model_id": "ca8e418fb78842299857ccb7816e42c5",
       "version_major": 2,
       "version_minor": 0
      },
      "text/plain": [
       "Epoch 3/100 [Train]:   0%|          | 0/142 [00:00<?, ?it/s]"
      ]
     },
     "metadata": {},
     "output_type": "display_data"
    },
    {
     "data": {
      "application/vnd.jupyter.widget-view+json": {
       "model_id": "e3b97a363ca24b23a8ab0bd6ed252de7",
       "version_major": 2,
       "version_minor": 0
      },
      "text/plain": [
       "Epoch 3/100 [Valid]:   0%|          | 0/16 [00:00<?, ?it/s]"
      ]
     },
     "metadata": {},
     "output_type": "display_data"
    },
    {
     "name": "stdout",
     "output_type": "stream",
     "text": [
      "Epoch 3/100 - Train Loss: 0.2600, Val Loss: 0.2495, Val AUC: 0.9501, LR: 1.0e-03\n",
      "Validation loss improved (0.2515 --> 0.2495). Saving model...\n"
     ]
    },
    {
     "data": {
      "application/vnd.jupyter.widget-view+json": {
       "model_id": "30f75eb54d3e4655a66d5a580082fe33",
       "version_major": 2,
       "version_minor": 0
      },
      "text/plain": [
       "Epoch 4/100 [Train]:   0%|          | 0/142 [00:00<?, ?it/s]"
      ]
     },
     "metadata": {},
     "output_type": "display_data"
    },
    {
     "data": {
      "application/vnd.jupyter.widget-view+json": {
       "model_id": "5ad080c3d50147ffb788061c75dffc73",
       "version_major": 2,
       "version_minor": 0
      },
      "text/plain": [
       "Epoch 4/100 [Valid]:   0%|          | 0/16 [00:00<?, ?it/s]"
      ]
     },
     "metadata": {},
     "output_type": "display_data"
    },
    {
     "name": "stdout",
     "output_type": "stream",
     "text": [
      "Epoch 4/100 - Train Loss: 0.2571, Val Loss: 0.2442, Val AUC: 0.9515, LR: 1.0e-03\n",
      "Validation loss improved (0.2495 --> 0.2442). Saving model...\n"
     ]
    },
    {
     "data": {
      "application/vnd.jupyter.widget-view+json": {
       "model_id": "a6b788a1bfc849f4b9b7954a8f21d66d",
       "version_major": 2,
       "version_minor": 0
      },
      "text/plain": [
       "Epoch 5/100 [Train]:   0%|          | 0/142 [00:00<?, ?it/s]"
      ]
     },
     "metadata": {},
     "output_type": "display_data"
    },
    {
     "data": {
      "application/vnd.jupyter.widget-view+json": {
       "model_id": "4e4f4f4a87ad4a94b5567affcbf34f01",
       "version_major": 2,
       "version_minor": 0
      },
      "text/plain": [
       "Epoch 5/100 [Valid]:   0%|          | 0/16 [00:00<?, ?it/s]"
      ]
     },
     "metadata": {},
     "output_type": "display_data"
    },
    {
     "name": "stdout",
     "output_type": "stream",
     "text": [
      "Epoch 5/100 - Train Loss: 0.2558, Val Loss: 0.2494, Val AUC: 0.9505, LR: 1.0e-03\n",
      "Validation loss did not improve for 1 epoch(s).\n"
     ]
    },
    {
     "data": {
      "application/vnd.jupyter.widget-view+json": {
       "model_id": "9798feb74e324db1bc7fadd38e3cfd18",
       "version_major": 2,
       "version_minor": 0
      },
      "text/plain": [
       "Epoch 6/100 [Train]:   0%|          | 0/142 [00:00<?, ?it/s]"
      ]
     },
     "metadata": {},
     "output_type": "display_data"
    },
    {
     "data": {
      "application/vnd.jupyter.widget-view+json": {
       "model_id": "498d31b0e9c5423abe732f4a40897949",
       "version_major": 2,
       "version_minor": 0
      },
      "text/plain": [
       "Epoch 6/100 [Valid]:   0%|          | 0/16 [00:00<?, ?it/s]"
      ]
     },
     "metadata": {},
     "output_type": "display_data"
    },
    {
     "name": "stdout",
     "output_type": "stream",
     "text": [
      "Epoch 6/100 - Train Loss: 0.2539, Val Loss: 0.2437, Val AUC: 0.9519, LR: 1.0e-03\n",
      "Validation loss improved (0.2442 --> 0.2437). Saving model...\n"
     ]
    },
    {
     "data": {
      "application/vnd.jupyter.widget-view+json": {
       "model_id": "74a8c94fec1d4d30950b6ecb817a46d9",
       "version_major": 2,
       "version_minor": 0
      },
      "text/plain": [
       "Epoch 7/100 [Train]:   0%|          | 0/142 [00:00<?, ?it/s]"
      ]
     },
     "metadata": {},
     "output_type": "display_data"
    },
    {
     "data": {
      "application/vnd.jupyter.widget-view+json": {
       "model_id": "c747393b14e84d468287b6c08b6f1101",
       "version_major": 2,
       "version_minor": 0
      },
      "text/plain": [
       "Epoch 7/100 [Valid]:   0%|          | 0/16 [00:00<?, ?it/s]"
      ]
     },
     "metadata": {},
     "output_type": "display_data"
    },
    {
     "name": "stdout",
     "output_type": "stream",
     "text": [
      "Epoch 7/100 - Train Loss: 0.2529, Val Loss: 0.2440, Val AUC: 0.9517, LR: 1.0e-03\n",
      "Validation loss did not improve for 1 epoch(s).\n"
     ]
    },
    {
     "data": {
      "application/vnd.jupyter.widget-view+json": {
       "model_id": "e774b02f21974f9b96d873ac89ea9448",
       "version_major": 2,
       "version_minor": 0
      },
      "text/plain": [
       "Epoch 8/100 [Train]:   0%|          | 0/142 [00:00<?, ?it/s]"
      ]
     },
     "metadata": {},
     "output_type": "display_data"
    },
    {
     "data": {
      "application/vnd.jupyter.widget-view+json": {
       "model_id": "bc072b6b60874ca1b12ed3684799cfdd",
       "version_major": 2,
       "version_minor": 0
      },
      "text/plain": [
       "Epoch 8/100 [Valid]:   0%|          | 0/16 [00:00<?, ?it/s]"
      ]
     },
     "metadata": {},
     "output_type": "display_data"
    },
    {
     "name": "stdout",
     "output_type": "stream",
     "text": [
      "Epoch 8/100 - Train Loss: 0.2527, Val Loss: 0.2451, Val AUC: 0.9513, LR: 1.0e-03\n",
      "Validation loss did not improve for 2 epoch(s).\n"
     ]
    },
    {
     "data": {
      "application/vnd.jupyter.widget-view+json": {
       "model_id": "71856b9de44d48468deaea23f0a5b1e3",
       "version_major": 2,
       "version_minor": 0
      },
      "text/plain": [
       "Epoch 9/100 [Train]:   0%|          | 0/142 [00:00<?, ?it/s]"
      ]
     },
     "metadata": {},
     "output_type": "display_data"
    },
    {
     "data": {
      "application/vnd.jupyter.widget-view+json": {
       "model_id": "e32b88f62e1e49709d6b874394d786fb",
       "version_major": 2,
       "version_minor": 0
      },
      "text/plain": [
       "Epoch 9/100 [Valid]:   0%|          | 0/16 [00:00<?, ?it/s]"
      ]
     },
     "metadata": {},
     "output_type": "display_data"
    },
    {
     "name": "stdout",
     "output_type": "stream",
     "text": [
      "Epoch 9/100 - Train Loss: 0.2519, Val Loss: 0.2429, Val AUC: 0.9522, LR: 1.0e-03\n",
      "Validation loss improved (0.2437 --> 0.2429). Saving model...\n"
     ]
    },
    {
     "data": {
      "application/vnd.jupyter.widget-view+json": {
       "model_id": "79963ae97bac45e09f14ec6f987441c9",
       "version_major": 2,
       "version_minor": 0
      },
      "text/plain": [
       "Epoch 10/100 [Train]:   0%|          | 0/142 [00:00<?, ?it/s]"
      ]
     },
     "metadata": {},
     "output_type": "display_data"
    },
    {
     "data": {
      "application/vnd.jupyter.widget-view+json": {
       "model_id": "fa7fba16655f41f4ac57b869317f0642",
       "version_major": 2,
       "version_minor": 0
      },
      "text/plain": [
       "Epoch 10/100 [Valid]:   0%|          | 0/16 [00:00<?, ?it/s]"
      ]
     },
     "metadata": {},
     "output_type": "display_data"
    },
    {
     "name": "stdout",
     "output_type": "stream",
     "text": [
      "Epoch 10/100 - Train Loss: 0.2507, Val Loss: 0.2453, Val AUC: 0.9520, LR: 1.0e-03\n",
      "Validation loss did not improve for 1 epoch(s).\n"
     ]
    },
    {
     "data": {
      "application/vnd.jupyter.widget-view+json": {
       "model_id": "b563905b225148c0832fec3e67add819",
       "version_major": 2,
       "version_minor": 0
      },
      "text/plain": [
       "Epoch 11/100 [Train]:   0%|          | 0/142 [00:00<?, ?it/s]"
      ]
     },
     "metadata": {},
     "output_type": "display_data"
    },
    {
     "data": {
      "application/vnd.jupyter.widget-view+json": {
       "model_id": "1047f67812c745fc8f144f662ed89960",
       "version_major": 2,
       "version_minor": 0
      },
      "text/plain": [
       "Epoch 11/100 [Valid]:   0%|          | 0/16 [00:00<?, ?it/s]"
      ]
     },
     "metadata": {},
     "output_type": "display_data"
    },
    {
     "name": "stdout",
     "output_type": "stream",
     "text": [
      "Epoch 11/100 - Train Loss: 0.2498, Val Loss: 0.2420, Val AUC: 0.9524, LR: 1.0e-03\n",
      "Validation loss improved (0.2429 --> 0.2420). Saving model...\n"
     ]
    },
    {
     "data": {
      "application/vnd.jupyter.widget-view+json": {
       "model_id": "78e47845d1cb4ddd99e4c38a786cbab2",
       "version_major": 2,
       "version_minor": 0
      },
      "text/plain": [
       "Epoch 12/100 [Train]:   0%|          | 0/142 [00:00<?, ?it/s]"
      ]
     },
     "metadata": {},
     "output_type": "display_data"
    },
    {
     "data": {
      "application/vnd.jupyter.widget-view+json": {
       "model_id": "3c04345b33be46e08572768d4facc315",
       "version_major": 2,
       "version_minor": 0
      },
      "text/plain": [
       "Epoch 12/100 [Valid]:   0%|          | 0/16 [00:00<?, ?it/s]"
      ]
     },
     "metadata": {},
     "output_type": "display_data"
    },
    {
     "name": "stdout",
     "output_type": "stream",
     "text": [
      "Epoch 12/100 - Train Loss: 0.2495, Val Loss: 0.2441, Val AUC: 0.9519, LR: 1.0e-03\n",
      "Validation loss did not improve for 1 epoch(s).\n"
     ]
    },
    {
     "data": {
      "application/vnd.jupyter.widget-view+json": {
       "model_id": "b6c7ebd849b14ba7ab1b3d4213ef3d33",
       "version_major": 2,
       "version_minor": 0
      },
      "text/plain": [
       "Epoch 13/100 [Train]:   0%|          | 0/142 [00:00<?, ?it/s]"
      ]
     },
     "metadata": {},
     "output_type": "display_data"
    },
    {
     "data": {
      "application/vnd.jupyter.widget-view+json": {
       "model_id": "831297db018146348ea4921881768bc4",
       "version_major": 2,
       "version_minor": 0
      },
      "text/plain": [
       "Epoch 13/100 [Valid]:   0%|          | 0/16 [00:00<?, ?it/s]"
      ]
     },
     "metadata": {},
     "output_type": "display_data"
    },
    {
     "name": "stdout",
     "output_type": "stream",
     "text": [
      "Epoch 13/100 - Train Loss: 0.2484, Val Loss: 0.2419, Val AUC: 0.9527, LR: 1.0e-03\n",
      "Validation loss improved (0.2420 --> 0.2419). Saving model...\n"
     ]
    },
    {
     "data": {
      "application/vnd.jupyter.widget-view+json": {
       "model_id": "f21a516399de42a19b0d6f919d45c35e",
       "version_major": 2,
       "version_minor": 0
      },
      "text/plain": [
       "Epoch 14/100 [Train]:   0%|          | 0/142 [00:00<?, ?it/s]"
      ]
     },
     "metadata": {},
     "output_type": "display_data"
    },
    {
     "data": {
      "application/vnd.jupyter.widget-view+json": {
       "model_id": "bd933b7b2d8b4838b9ee81add3330fd6",
       "version_major": 2,
       "version_minor": 0
      },
      "text/plain": [
       "Epoch 14/100 [Valid]:   0%|          | 0/16 [00:00<?, ?it/s]"
      ]
     },
     "metadata": {},
     "output_type": "display_data"
    },
    {
     "name": "stdout",
     "output_type": "stream",
     "text": [
      "Epoch 14/100 - Train Loss: 0.2486, Val Loss: 0.2438, Val AUC: 0.9528, LR: 1.0e-03\n",
      "Validation loss did not improve for 1 epoch(s).\n"
     ]
    },
    {
     "data": {
      "application/vnd.jupyter.widget-view+json": {
       "model_id": "217b5396b9b8490c8f872f3d559913c3",
       "version_major": 2,
       "version_minor": 0
      },
      "text/plain": [
       "Epoch 15/100 [Train]:   0%|          | 0/142 [00:00<?, ?it/s]"
      ]
     },
     "metadata": {},
     "output_type": "display_data"
    },
    {
     "data": {
      "application/vnd.jupyter.widget-view+json": {
       "model_id": "c50477f48d7949a1b6ccbdf9bc4c0292",
       "version_major": 2,
       "version_minor": 0
      },
      "text/plain": [
       "Epoch 15/100 [Valid]:   0%|          | 0/16 [00:00<?, ?it/s]"
      ]
     },
     "metadata": {},
     "output_type": "display_data"
    },
    {
     "name": "stdout",
     "output_type": "stream",
     "text": [
      "Epoch 15/100 - Train Loss: 0.2482, Val Loss: 0.2414, Val AUC: 0.9527, LR: 1.0e-03\n",
      "Validation loss improved (0.2419 --> 0.2414). Saving model...\n"
     ]
    },
    {
     "data": {
      "application/vnd.jupyter.widget-view+json": {
       "model_id": "9669be8b73cf4b5f8bda706cc6e9ec02",
       "version_major": 2,
       "version_minor": 0
      },
      "text/plain": [
       "Epoch 16/100 [Train]:   0%|          | 0/142 [00:00<?, ?it/s]"
      ]
     },
     "metadata": {},
     "output_type": "display_data"
    },
    {
     "data": {
      "application/vnd.jupyter.widget-view+json": {
       "model_id": "0e244ffe076940359ffd1dadb6d06afc",
       "version_major": 2,
       "version_minor": 0
      },
      "text/plain": [
       "Epoch 16/100 [Valid]:   0%|          | 0/16 [00:00<?, ?it/s]"
      ]
     },
     "metadata": {},
     "output_type": "display_data"
    },
    {
     "name": "stdout",
     "output_type": "stream",
     "text": [
      "Epoch 16/100 - Train Loss: 0.2477, Val Loss: 0.2411, Val AUC: 0.9528, LR: 1.0e-03\n",
      "Validation loss improved (0.2414 --> 0.2411). Saving model...\n"
     ]
    },
    {
     "data": {
      "application/vnd.jupyter.widget-view+json": {
       "model_id": "e0852732958b4909a5d103b3027bf777",
       "version_major": 2,
       "version_minor": 0
      },
      "text/plain": [
       "Epoch 17/100 [Train]:   0%|          | 0/142 [00:00<?, ?it/s]"
      ]
     },
     "metadata": {},
     "output_type": "display_data"
    },
    {
     "data": {
      "application/vnd.jupyter.widget-view+json": {
       "model_id": "5451b4bae1714029aa9b6d271af8e296",
       "version_major": 2,
       "version_minor": 0
      },
      "text/plain": [
       "Epoch 17/100 [Valid]:   0%|          | 0/16 [00:00<?, ?it/s]"
      ]
     },
     "metadata": {},
     "output_type": "display_data"
    },
    {
     "name": "stdout",
     "output_type": "stream",
     "text": [
      "Epoch 17/100 - Train Loss: 0.2472, Val Loss: 0.2414, Val AUC: 0.9526, LR: 1.0e-03\n",
      "Validation loss did not improve for 1 epoch(s).\n"
     ]
    },
    {
     "data": {
      "application/vnd.jupyter.widget-view+json": {
       "model_id": "f7a5a014780c49bbaa4866b0000e5330",
       "version_major": 2,
       "version_minor": 0
      },
      "text/plain": [
       "Epoch 18/100 [Train]:   0%|          | 0/142 [00:00<?, ?it/s]"
      ]
     },
     "metadata": {},
     "output_type": "display_data"
    },
    {
     "data": {
      "application/vnd.jupyter.widget-view+json": {
       "model_id": "747510d444f4476a906b10038ad575e4",
       "version_major": 2,
       "version_minor": 0
      },
      "text/plain": [
       "Epoch 18/100 [Valid]:   0%|          | 0/16 [00:00<?, ?it/s]"
      ]
     },
     "metadata": {},
     "output_type": "display_data"
    },
    {
     "name": "stdout",
     "output_type": "stream",
     "text": [
      "Epoch 18/100 - Train Loss: 0.2468, Val Loss: 0.2404, Val AUC: 0.9529, LR: 1.0e-03\n",
      "Validation loss improved (0.2411 --> 0.2404). Saving model...\n"
     ]
    },
    {
     "data": {
      "application/vnd.jupyter.widget-view+json": {
       "model_id": "8e48a79a503c414997891694a6731a27",
       "version_major": 2,
       "version_minor": 0
      },
      "text/plain": [
       "Epoch 19/100 [Train]:   0%|          | 0/142 [00:00<?, ?it/s]"
      ]
     },
     "metadata": {},
     "output_type": "display_data"
    },
    {
     "data": {
      "application/vnd.jupyter.widget-view+json": {
       "model_id": "facfd21021314af8b4d643c9c56d8ab2",
       "version_major": 2,
       "version_minor": 0
      },
      "text/plain": [
       "Epoch 19/100 [Valid]:   0%|          | 0/16 [00:00<?, ?it/s]"
      ]
     },
     "metadata": {},
     "output_type": "display_data"
    },
    {
     "name": "stdout",
     "output_type": "stream",
     "text": [
      "Epoch 19/100 - Train Loss: 0.2460, Val Loss: 0.2419, Val AUC: 0.9526, LR: 1.0e-03\n",
      "Validation loss did not improve for 1 epoch(s).\n"
     ]
    },
    {
     "data": {
      "application/vnd.jupyter.widget-view+json": {
       "model_id": "4867847209734e28958ec50cda293565",
       "version_major": 2,
       "version_minor": 0
      },
      "text/plain": [
       "Epoch 20/100 [Train]:   0%|          | 0/142 [00:00<?, ?it/s]"
      ]
     },
     "metadata": {},
     "output_type": "display_data"
    },
    {
     "data": {
      "application/vnd.jupyter.widget-view+json": {
       "model_id": "dd4b29af010945e682246c91102942ce",
       "version_major": 2,
       "version_minor": 0
      },
      "text/plain": [
       "Epoch 20/100 [Valid]:   0%|          | 0/16 [00:00<?, ?it/s]"
      ]
     },
     "metadata": {},
     "output_type": "display_data"
    },
    {
     "name": "stdout",
     "output_type": "stream",
     "text": [
      "Epoch 20/100 - Train Loss: 0.2462, Val Loss: 0.2397, Val AUC: 0.9534, LR: 1.0e-03\n",
      "Validation loss improved (0.2404 --> 0.2397). Saving model...\n"
     ]
    },
    {
     "data": {
      "application/vnd.jupyter.widget-view+json": {
       "model_id": "1b1d0d44593046cdb9cf5cc4a0cfe914",
       "version_major": 2,
       "version_minor": 0
      },
      "text/plain": [
       "Epoch 21/100 [Train]:   0%|          | 0/142 [00:00<?, ?it/s]"
      ]
     },
     "metadata": {},
     "output_type": "display_data"
    },
    {
     "data": {
      "application/vnd.jupyter.widget-view+json": {
       "model_id": "c3af1a7692a14b2f9a034e35c345c694",
       "version_major": 2,
       "version_minor": 0
      },
      "text/plain": [
       "Epoch 21/100 [Valid]:   0%|          | 0/16 [00:00<?, ?it/s]"
      ]
     },
     "metadata": {},
     "output_type": "display_data"
    },
    {
     "name": "stdout",
     "output_type": "stream",
     "text": [
      "Epoch 21/100 - Train Loss: 0.2454, Val Loss: 0.2407, Val AUC: 0.9532, LR: 1.0e-03\n",
      "Validation loss did not improve for 1 epoch(s).\n"
     ]
    },
    {
     "data": {
      "application/vnd.jupyter.widget-view+json": {
       "model_id": "4b4b5594bf8844d8a57957ba0db133e4",
       "version_major": 2,
       "version_minor": 0
      },
      "text/plain": [
       "Epoch 22/100 [Train]:   0%|          | 0/142 [00:00<?, ?it/s]"
      ]
     },
     "metadata": {},
     "output_type": "display_data"
    },
    {
     "data": {
      "application/vnd.jupyter.widget-view+json": {
       "model_id": "ae0c6d56b895421e9e6e8700c3bb8dab",
       "version_major": 2,
       "version_minor": 0
      },
      "text/plain": [
       "Epoch 22/100 [Valid]:   0%|          | 0/16 [00:00<?, ?it/s]"
      ]
     },
     "metadata": {},
     "output_type": "display_data"
    },
    {
     "name": "stdout",
     "output_type": "stream",
     "text": [
      "Epoch 22/100 - Train Loss: 0.2459, Val Loss: 0.2401, Val AUC: 0.9532, LR: 1.0e-03\n",
      "Validation loss did not improve for 2 epoch(s).\n"
     ]
    },
    {
     "data": {
      "application/vnd.jupyter.widget-view+json": {
       "model_id": "891cbe6ddd824488bde18dc2e9d0dc52",
       "version_major": 2,
       "version_minor": 0
      },
      "text/plain": [
       "Epoch 23/100 [Train]:   0%|          | 0/142 [00:00<?, ?it/s]"
      ]
     },
     "metadata": {},
     "output_type": "display_data"
    },
    {
     "data": {
      "application/vnd.jupyter.widget-view+json": {
       "model_id": "0c9017bc246c4187a3f448435ab585d0",
       "version_major": 2,
       "version_minor": 0
      },
      "text/plain": [
       "Epoch 23/100 [Valid]:   0%|          | 0/16 [00:00<?, ?it/s]"
      ]
     },
     "metadata": {},
     "output_type": "display_data"
    },
    {
     "name": "stdout",
     "output_type": "stream",
     "text": [
      "Epoch 23/100 - Train Loss: 0.2454, Val Loss: 0.2395, Val AUC: 0.9534, LR: 1.0e-03\n",
      "Validation loss improved (0.2397 --> 0.2395). Saving model...\n"
     ]
    },
    {
     "data": {
      "application/vnd.jupyter.widget-view+json": {
       "model_id": "cdbae73c48d447dc9ca05db95a0c2603",
       "version_major": 2,
       "version_minor": 0
      },
      "text/plain": [
       "Epoch 24/100 [Train]:   0%|          | 0/142 [00:00<?, ?it/s]"
      ]
     },
     "metadata": {},
     "output_type": "display_data"
    },
    {
     "data": {
      "application/vnd.jupyter.widget-view+json": {
       "model_id": "5abf0b4e821d412897248e5568617912",
       "version_major": 2,
       "version_minor": 0
      },
      "text/plain": [
       "Epoch 24/100 [Valid]:   0%|          | 0/16 [00:00<?, ?it/s]"
      ]
     },
     "metadata": {},
     "output_type": "display_data"
    },
    {
     "name": "stdout",
     "output_type": "stream",
     "text": [
      "Epoch 24/100 - Train Loss: 0.2450, Val Loss: 0.2422, Val AUC: 0.9524, LR: 1.0e-03\n",
      "Validation loss did not improve for 1 epoch(s).\n"
     ]
    },
    {
     "data": {
      "application/vnd.jupyter.widget-view+json": {
       "model_id": "675778f889e04b70b4bbd772ddbdcc99",
       "version_major": 2,
       "version_minor": 0
      },
      "text/plain": [
       "Epoch 25/100 [Train]:   0%|          | 0/142 [00:00<?, ?it/s]"
      ]
     },
     "metadata": {},
     "output_type": "display_data"
    },
    {
     "data": {
      "application/vnd.jupyter.widget-view+json": {
       "model_id": "095d23b02eed47cc8f196e9ecd4ec391",
       "version_major": 2,
       "version_minor": 0
      },
      "text/plain": [
       "Epoch 25/100 [Valid]:   0%|          | 0/16 [00:00<?, ?it/s]"
      ]
     },
     "metadata": {},
     "output_type": "display_data"
    },
    {
     "name": "stdout",
     "output_type": "stream",
     "text": [
      "Epoch 25/100 - Train Loss: 0.2446, Val Loss: 0.2443, Val AUC: 0.9520, LR: 1.0e-03\n",
      "Validation loss did not improve for 2 epoch(s).\n"
     ]
    },
    {
     "data": {
      "application/vnd.jupyter.widget-view+json": {
       "model_id": "0e2e53708f624d80af649180ed42dd34",
       "version_major": 2,
       "version_minor": 0
      },
      "text/plain": [
       "Epoch 26/100 [Train]:   0%|          | 0/142 [00:00<?, ?it/s]"
      ]
     },
     "metadata": {},
     "output_type": "display_data"
    },
    {
     "data": {
      "application/vnd.jupyter.widget-view+json": {
       "model_id": "f767153eaa094ee0aaf14286e8bec92b",
       "version_major": 2,
       "version_minor": 0
      },
      "text/plain": [
       "Epoch 26/100 [Valid]:   0%|          | 0/16 [00:00<?, ?it/s]"
      ]
     },
     "metadata": {},
     "output_type": "display_data"
    },
    {
     "name": "stdout",
     "output_type": "stream",
     "text": [
      "Epoch 26/100 - Train Loss: 0.2443, Val Loss: 0.2388, Val AUC: 0.9535, LR: 1.0e-03\n",
      "Validation loss improved (0.2395 --> 0.2388). Saving model...\n"
     ]
    },
    {
     "data": {
      "application/vnd.jupyter.widget-view+json": {
       "model_id": "0f0b157d2cfe4216ba7a5b49dc8ea6e2",
       "version_major": 2,
       "version_minor": 0
      },
      "text/plain": [
       "Epoch 27/100 [Train]:   0%|          | 0/142 [00:00<?, ?it/s]"
      ]
     },
     "metadata": {},
     "output_type": "display_data"
    },
    {
     "data": {
      "application/vnd.jupyter.widget-view+json": {
       "model_id": "a3259068da2d415d9d18415a9411b177",
       "version_major": 2,
       "version_minor": 0
      },
      "text/plain": [
       "Epoch 27/100 [Valid]:   0%|          | 0/16 [00:00<?, ?it/s]"
      ]
     },
     "metadata": {},
     "output_type": "display_data"
    },
    {
     "name": "stdout",
     "output_type": "stream",
     "text": [
      "Epoch 27/100 - Train Loss: 0.2439, Val Loss: 0.2400, Val AUC: 0.9532, LR: 1.0e-03\n",
      "Validation loss did not improve for 1 epoch(s).\n"
     ]
    },
    {
     "data": {
      "application/vnd.jupyter.widget-view+json": {
       "model_id": "f76b87518cfd4bd090b9bf510469be2c",
       "version_major": 2,
       "version_minor": 0
      },
      "text/plain": [
       "Epoch 28/100 [Train]:   0%|          | 0/142 [00:00<?, ?it/s]"
      ]
     },
     "metadata": {},
     "output_type": "display_data"
    },
    {
     "data": {
      "application/vnd.jupyter.widget-view+json": {
       "model_id": "621f8d14eb694fd28652ca10b552c8e4",
       "version_major": 2,
       "version_minor": 0
      },
      "text/plain": [
       "Epoch 28/100 [Valid]:   0%|          | 0/16 [00:00<?, ?it/s]"
      ]
     },
     "metadata": {},
     "output_type": "display_data"
    },
    {
     "name": "stdout",
     "output_type": "stream",
     "text": [
      "Epoch 28/100 - Train Loss: 0.2440, Val Loss: 0.2398, Val AUC: 0.9532, LR: 1.0e-03\n",
      "Validation loss did not improve for 2 epoch(s).\n"
     ]
    },
    {
     "data": {
      "application/vnd.jupyter.widget-view+json": {
       "model_id": "837debf271f14951b551db90ecbedcca",
       "version_major": 2,
       "version_minor": 0
      },
      "text/plain": [
       "Epoch 29/100 [Train]:   0%|          | 0/142 [00:00<?, ?it/s]"
      ]
     },
     "metadata": {},
     "output_type": "display_data"
    },
    {
     "data": {
      "application/vnd.jupyter.widget-view+json": {
       "model_id": "1472936fdc7a4b8aacd7cb7bcc2d4b60",
       "version_major": 2,
       "version_minor": 0
      },
      "text/plain": [
       "Epoch 29/100 [Valid]:   0%|          | 0/16 [00:00<?, ?it/s]"
      ]
     },
     "metadata": {},
     "output_type": "display_data"
    },
    {
     "name": "stdout",
     "output_type": "stream",
     "text": [
      "Epoch 29/100 - Train Loss: 0.2433, Val Loss: 0.2390, Val AUC: 0.9536, LR: 1.0e-03\n",
      "Validation loss did not improve for 3 epoch(s).\n"
     ]
    },
    {
     "data": {
      "application/vnd.jupyter.widget-view+json": {
       "model_id": "ecfd4cacaa2044ce8f97b80fd8b78636",
       "version_major": 2,
       "version_minor": 0
      },
      "text/plain": [
       "Epoch 30/100 [Train]:   0%|          | 0/142 [00:00<?, ?it/s]"
      ]
     },
     "metadata": {},
     "output_type": "display_data"
    },
    {
     "data": {
      "application/vnd.jupyter.widget-view+json": {
       "model_id": "38e9e1c098674719b830f382ca50f8ba",
       "version_major": 2,
       "version_minor": 0
      },
      "text/plain": [
       "Epoch 30/100 [Valid]:   0%|          | 0/16 [00:00<?, ?it/s]"
      ]
     },
     "metadata": {},
     "output_type": "display_data"
    },
    {
     "name": "stdout",
     "output_type": "stream",
     "text": [
      "Epoch 30/100 - Train Loss: 0.2438, Val Loss: 0.2384, Val AUC: 0.9537, LR: 1.0e-03\n",
      "Validation loss improved (0.2388 --> 0.2384). Saving model...\n"
     ]
    },
    {
     "data": {
      "application/vnd.jupyter.widget-view+json": {
       "model_id": "5f9159e1358043a4859a1bb7da9df97e",
       "version_major": 2,
       "version_minor": 0
      },
      "text/plain": [
       "Epoch 31/100 [Train]:   0%|          | 0/142 [00:00<?, ?it/s]"
      ]
     },
     "metadata": {},
     "output_type": "display_data"
    },
    {
     "data": {
      "application/vnd.jupyter.widget-view+json": {
       "model_id": "3bfcd754e3c544a5844802a1fca2dc3e",
       "version_major": 2,
       "version_minor": 0
      },
      "text/plain": [
       "Epoch 31/100 [Valid]:   0%|          | 0/16 [00:00<?, ?it/s]"
      ]
     },
     "metadata": {},
     "output_type": "display_data"
    },
    {
     "name": "stdout",
     "output_type": "stream",
     "text": [
      "Epoch 31/100 - Train Loss: 0.2427, Val Loss: 0.2420, Val AUC: 0.9529, LR: 1.0e-03\n",
      "Validation loss did not improve for 1 epoch(s).\n"
     ]
    },
    {
     "data": {
      "application/vnd.jupyter.widget-view+json": {
       "model_id": "d0fdaeac212742aab070672034f9bced",
       "version_major": 2,
       "version_minor": 0
      },
      "text/plain": [
       "Epoch 32/100 [Train]:   0%|          | 0/142 [00:00<?, ?it/s]"
      ]
     },
     "metadata": {},
     "output_type": "display_data"
    },
    {
     "data": {
      "application/vnd.jupyter.widget-view+json": {
       "model_id": "f7ec4bc65d1b4b059459695ee4ff39a0",
       "version_major": 2,
       "version_minor": 0
      },
      "text/plain": [
       "Epoch 32/100 [Valid]:   0%|          | 0/16 [00:00<?, ?it/s]"
      ]
     },
     "metadata": {},
     "output_type": "display_data"
    },
    {
     "name": "stdout",
     "output_type": "stream",
     "text": [
      "Epoch 32/100 - Train Loss: 0.2427, Val Loss: 0.2413, Val AUC: 0.9527, LR: 1.0e-03\n",
      "Validation loss did not improve for 2 epoch(s).\n"
     ]
    },
    {
     "data": {
      "application/vnd.jupyter.widget-view+json": {
       "model_id": "28e644292d1649f186a508017237be8e",
       "version_major": 2,
       "version_minor": 0
      },
      "text/plain": [
       "Epoch 33/100 [Train]:   0%|          | 0/142 [00:00<?, ?it/s]"
      ]
     },
     "metadata": {},
     "output_type": "display_data"
    },
    {
     "data": {
      "application/vnd.jupyter.widget-view+json": {
       "model_id": "048a4da1a9a9419480b6163feb8bd350",
       "version_major": 2,
       "version_minor": 0
      },
      "text/plain": [
       "Epoch 33/100 [Valid]:   0%|          | 0/16 [00:00<?, ?it/s]"
      ]
     },
     "metadata": {},
     "output_type": "display_data"
    },
    {
     "name": "stdout",
     "output_type": "stream",
     "text": [
      "Epoch 33/100 - Train Loss: 0.2427, Val Loss: 0.2399, Val AUC: 0.9531, LR: 1.0e-03\n",
      "Validation loss did not improve for 3 epoch(s).\n"
     ]
    },
    {
     "data": {
      "application/vnd.jupyter.widget-view+json": {
       "model_id": "c8d2431e57bd438ab713dffff8371e54",
       "version_major": 2,
       "version_minor": 0
      },
      "text/plain": [
       "Epoch 34/100 [Train]:   0%|          | 0/142 [00:00<?, ?it/s]"
      ]
     },
     "metadata": {},
     "output_type": "display_data"
    },
    {
     "data": {
      "application/vnd.jupyter.widget-view+json": {
       "model_id": "130ed61cfb0a4145a12f88f1c0989084",
       "version_major": 2,
       "version_minor": 0
      },
      "text/plain": [
       "Epoch 34/100 [Valid]:   0%|          | 0/16 [00:00<?, ?it/s]"
      ]
     },
     "metadata": {},
     "output_type": "display_data"
    },
    {
     "name": "stdout",
     "output_type": "stream",
     "text": [
      "Epoch 34/100 - Train Loss: 0.2424, Val Loss: 0.2387, Val AUC: 0.9538, LR: 1.0e-03\n",
      "Validation loss did not improve for 4 epoch(s).\n"
     ]
    },
    {
     "data": {
      "application/vnd.jupyter.widget-view+json": {
       "model_id": "2a8097d6c00d4369bc99c678ba8966ea",
       "version_major": 2,
       "version_minor": 0
      },
      "text/plain": [
       "Epoch 35/100 [Train]:   0%|          | 0/142 [00:00<?, ?it/s]"
      ]
     },
     "metadata": {},
     "output_type": "display_data"
    },
    {
     "data": {
      "application/vnd.jupyter.widget-view+json": {
       "model_id": "85744ba5a2f84315bcb21424b0045d33",
       "version_major": 2,
       "version_minor": 0
      },
      "text/plain": [
       "Epoch 35/100 [Valid]:   0%|          | 0/16 [00:00<?, ?it/s]"
      ]
     },
     "metadata": {},
     "output_type": "display_data"
    },
    {
     "name": "stdout",
     "output_type": "stream",
     "text": [
      "Epoch 35/100 - Train Loss: 0.2421, Val Loss: 0.2448, Val AUC: 0.9520, LR: 1.0e-03\n",
      "Validation loss did not improve for 5 epoch(s).\n"
     ]
    },
    {
     "data": {
      "application/vnd.jupyter.widget-view+json": {
       "model_id": "bc7c84760e214ce8ad69d60f47f67676",
       "version_major": 2,
       "version_minor": 0
      },
      "text/plain": [
       "Epoch 36/100 [Train]:   0%|          | 0/142 [00:00<?, ?it/s]"
      ]
     },
     "metadata": {},
     "output_type": "display_data"
    },
    {
     "data": {
      "application/vnd.jupyter.widget-view+json": {
       "model_id": "9e8adba1f59b40cb96266afffc5cd8b6",
       "version_major": 2,
       "version_minor": 0
      },
      "text/plain": [
       "Epoch 36/100 [Valid]:   0%|          | 0/16 [00:00<?, ?it/s]"
      ]
     },
     "metadata": {},
     "output_type": "display_data"
    },
    {
     "name": "stdout",
     "output_type": "stream",
     "text": [
      "Learning rate reduced from 0.001 to 0.0001\n",
      "Epoch 36/100 - Train Loss: 0.2421, Val Loss: 0.2385, Val AUC: 0.9537, LR: 1.0e-04\n",
      "Validation loss did not improve for 6 epoch(s).\n"
     ]
    },
    {
     "data": {
      "application/vnd.jupyter.widget-view+json": {
       "model_id": "e1dca5544b394c6b88368aa48d135c68",
       "version_major": 2,
       "version_minor": 0
      },
      "text/plain": [
       "Epoch 37/100 [Train]:   0%|          | 0/142 [00:00<?, ?it/s]"
      ]
     },
     "metadata": {},
     "output_type": "display_data"
    },
    {
     "data": {
      "application/vnd.jupyter.widget-view+json": {
       "model_id": "47cc6c890330406697e0359da13bf142",
       "version_major": 2,
       "version_minor": 0
      },
      "text/plain": [
       "Epoch 37/100 [Valid]:   0%|          | 0/16 [00:00<?, ?it/s]"
      ]
     },
     "metadata": {},
     "output_type": "display_data"
    },
    {
     "name": "stdout",
     "output_type": "stream",
     "text": [
      "Epoch 37/100 - Train Loss: 0.2401, Val Loss: 0.2384, Val AUC: 0.9535, LR: 1.0e-04\n",
      "Validation loss did not improve for 7 epoch(s).\n"
     ]
    },
    {
     "data": {
      "application/vnd.jupyter.widget-view+json": {
       "model_id": "ffbc9e1d77b64e2a8f8a174646c68079",
       "version_major": 2,
       "version_minor": 0
      },
      "text/plain": [
       "Epoch 38/100 [Train]:   0%|          | 0/142 [00:00<?, ?it/s]"
      ]
     },
     "metadata": {},
     "output_type": "display_data"
    },
    {
     "data": {
      "application/vnd.jupyter.widget-view+json": {
       "model_id": "a5b6b035dab1491abd60f3737dc44b75",
       "version_major": 2,
       "version_minor": 0
      },
      "text/plain": [
       "Epoch 38/100 [Valid]:   0%|          | 0/16 [00:00<?, ?it/s]"
      ]
     },
     "metadata": {},
     "output_type": "display_data"
    },
    {
     "name": "stdout",
     "output_type": "stream",
     "text": [
      "Epoch 38/100 - Train Loss: 0.2399, Val Loss: 0.2374, Val AUC: 0.9539, LR: 1.0e-04\n",
      "Validation loss improved (0.2384 --> 0.2374). Saving model...\n"
     ]
    },
    {
     "data": {
      "application/vnd.jupyter.widget-view+json": {
       "model_id": "8d10baa9cd564a5d8f0203abfa2728d8",
       "version_major": 2,
       "version_minor": 0
      },
      "text/plain": [
       "Epoch 39/100 [Train]:   0%|          | 0/142 [00:00<?, ?it/s]"
      ]
     },
     "metadata": {},
     "output_type": "display_data"
    },
    {
     "data": {
      "application/vnd.jupyter.widget-view+json": {
       "model_id": "d1b75a9c5ad44562b3287fe4b0473966",
       "version_major": 2,
       "version_minor": 0
      },
      "text/plain": [
       "Epoch 39/100 [Valid]:   0%|          | 0/16 [00:00<?, ?it/s]"
      ]
     },
     "metadata": {},
     "output_type": "display_data"
    },
    {
     "name": "stdout",
     "output_type": "stream",
     "text": [
      "Epoch 39/100 - Train Loss: 0.2406, Val Loss: 0.2375, Val AUC: 0.9540, LR: 1.0e-04\n",
      "Validation loss did not improve for 1 epoch(s).\n"
     ]
    },
    {
     "data": {
      "application/vnd.jupyter.widget-view+json": {
       "model_id": "b5aa09b9efd143d891820be6aa38d7bb",
       "version_major": 2,
       "version_minor": 0
      },
      "text/plain": [
       "Epoch 40/100 [Train]:   0%|          | 0/142 [00:00<?, ?it/s]"
      ]
     },
     "metadata": {},
     "output_type": "display_data"
    },
    {
     "data": {
      "application/vnd.jupyter.widget-view+json": {
       "model_id": "a597706218714496bc56fbf7890d36fb",
       "version_major": 2,
       "version_minor": 0
      },
      "text/plain": [
       "Epoch 40/100 [Valid]:   0%|          | 0/16 [00:00<?, ?it/s]"
      ]
     },
     "metadata": {},
     "output_type": "display_data"
    },
    {
     "name": "stdout",
     "output_type": "stream",
     "text": [
      "Epoch 40/100 - Train Loss: 0.2407, Val Loss: 0.2380, Val AUC: 0.9539, LR: 1.0e-04\n",
      "Validation loss did not improve for 2 epoch(s).\n"
     ]
    },
    {
     "data": {
      "application/vnd.jupyter.widget-view+json": {
       "model_id": "2795b7eb34bf4d8686a724db3c8396c2",
       "version_major": 2,
       "version_minor": 0
      },
      "text/plain": [
       "Epoch 41/100 [Train]:   0%|          | 0/142 [00:00<?, ?it/s]"
      ]
     },
     "metadata": {},
     "output_type": "display_data"
    },
    {
     "data": {
      "application/vnd.jupyter.widget-view+json": {
       "model_id": "35f23a63db4a42c4bb807cf04df7f830",
       "version_major": 2,
       "version_minor": 0
      },
      "text/plain": [
       "Epoch 41/100 [Valid]:   0%|          | 0/16 [00:00<?, ?it/s]"
      ]
     },
     "metadata": {},
     "output_type": "display_data"
    },
    {
     "name": "stdout",
     "output_type": "stream",
     "text": [
      "Epoch 41/100 - Train Loss: 0.2398, Val Loss: 0.2374, Val AUC: 0.9540, LR: 1.0e-04\n",
      "Validation loss did not improve for 3 epoch(s).\n"
     ]
    },
    {
     "data": {
      "application/vnd.jupyter.widget-view+json": {
       "model_id": "d77e24b2a9a842e28eef085c08393d1c",
       "version_major": 2,
       "version_minor": 0
      },
      "text/plain": [
       "Epoch 42/100 [Train]:   0%|          | 0/142 [00:00<?, ?it/s]"
      ]
     },
     "metadata": {},
     "output_type": "display_data"
    },
    {
     "data": {
      "application/vnd.jupyter.widget-view+json": {
       "model_id": "f949ed23820a4c7786d84fc7e54d444f",
       "version_major": 2,
       "version_minor": 0
      },
      "text/plain": [
       "Epoch 42/100 [Valid]:   0%|          | 0/16 [00:00<?, ?it/s]"
      ]
     },
     "metadata": {},
     "output_type": "display_data"
    },
    {
     "name": "stdout",
     "output_type": "stream",
     "text": [
      "Epoch 42/100 - Train Loss: 0.2401, Val Loss: 0.2384, Val AUC: 0.9537, LR: 1.0e-04\n",
      "Validation loss did not improve for 4 epoch(s).\n"
     ]
    },
    {
     "data": {
      "application/vnd.jupyter.widget-view+json": {
       "model_id": "dea84954210a4048a5b4fd5044aaf686",
       "version_major": 2,
       "version_minor": 0
      },
      "text/plain": [
       "Epoch 43/100 [Train]:   0%|          | 0/142 [00:00<?, ?it/s]"
      ]
     },
     "metadata": {},
     "output_type": "display_data"
    },
    {
     "data": {
      "application/vnd.jupyter.widget-view+json": {
       "model_id": "c6017e8eff6e43fc88dded52331afd3b",
       "version_major": 2,
       "version_minor": 0
      },
      "text/plain": [
       "Epoch 43/100 [Valid]:   0%|          | 0/16 [00:00<?, ?it/s]"
      ]
     },
     "metadata": {},
     "output_type": "display_data"
    },
    {
     "name": "stdout",
     "output_type": "stream",
     "text": [
      "Epoch 43/100 - Train Loss: 0.2399, Val Loss: 0.2377, Val AUC: 0.9538, LR: 1.0e-04\n",
      "Validation loss did not improve for 5 epoch(s).\n"
     ]
    },
    {
     "data": {
      "application/vnd.jupyter.widget-view+json": {
       "model_id": "6d28fdcb62914663a197fc62305b6896",
       "version_major": 2,
       "version_minor": 0
      },
      "text/plain": [
       "Epoch 44/100 [Train]:   0%|          | 0/142 [00:00<?, ?it/s]"
      ]
     },
     "metadata": {},
     "output_type": "display_data"
    },
    {
     "data": {
      "application/vnd.jupyter.widget-view+json": {
       "model_id": "bf43fe8facb34015973f1f226a3297a5",
       "version_major": 2,
       "version_minor": 0
      },
      "text/plain": [
       "Epoch 44/100 [Valid]:   0%|          | 0/16 [00:00<?, ?it/s]"
      ]
     },
     "metadata": {},
     "output_type": "display_data"
    },
    {
     "name": "stdout",
     "output_type": "stream",
     "text": [
      "Learning rate reduced from 0.0001 to 1e-05\n",
      "Epoch 44/100 - Train Loss: 0.2402, Val Loss: 0.2378, Val AUC: 0.9540, LR: 1.0e-05\n",
      "Validation loss did not improve for 6 epoch(s).\n"
     ]
    },
    {
     "data": {
      "application/vnd.jupyter.widget-view+json": {
       "model_id": "6aa14cf5f5804bc59bb5fc9d5ec5cd82",
       "version_major": 2,
       "version_minor": 0
      },
      "text/plain": [
       "Epoch 45/100 [Train]:   0%|          | 0/142 [00:00<?, ?it/s]"
      ]
     },
     "metadata": {},
     "output_type": "display_data"
    },
    {
     "data": {
      "application/vnd.jupyter.widget-view+json": {
       "model_id": "f3b0b0b75c914bdda296b8a9b6aec596",
       "version_major": 2,
       "version_minor": 0
      },
      "text/plain": [
       "Epoch 45/100 [Valid]:   0%|          | 0/16 [00:00<?, ?it/s]"
      ]
     },
     "metadata": {},
     "output_type": "display_data"
    },
    {
     "name": "stdout",
     "output_type": "stream",
     "text": [
      "Epoch 45/100 - Train Loss: 0.2397, Val Loss: 0.2376, Val AUC: 0.9540, LR: 1.0e-05\n",
      "Validation loss did not improve for 7 epoch(s).\n"
     ]
    },
    {
     "data": {
      "application/vnd.jupyter.widget-view+json": {
       "model_id": "b6ac0ff121f34164aaf6bd9defabd45e",
       "version_major": 2,
       "version_minor": 0
      },
      "text/plain": [
       "Epoch 46/100 [Train]:   0%|          | 0/142 [00:00<?, ?it/s]"
      ]
     },
     "metadata": {},
     "output_type": "display_data"
    },
    {
     "data": {
      "application/vnd.jupyter.widget-view+json": {
       "model_id": "a23d28ef744a4432946e994bca75549b",
       "version_major": 2,
       "version_minor": 0
      },
      "text/plain": [
       "Epoch 46/100 [Valid]:   0%|          | 0/16 [00:00<?, ?it/s]"
      ]
     },
     "metadata": {},
     "output_type": "display_data"
    },
    {
     "name": "stdout",
     "output_type": "stream",
     "text": [
      "Epoch 46/100 - Train Loss: 0.2397, Val Loss: 0.2373, Val AUC: 0.9540, LR: 1.0e-05\n",
      "Validation loss improved (0.2374 --> 0.2373). Saving model...\n"
     ]
    },
    {
     "data": {
      "application/vnd.jupyter.widget-view+json": {
       "model_id": "c56c38cd7d194832b95b9774956f0850",
       "version_major": 2,
       "version_minor": 0
      },
      "text/plain": [
       "Epoch 47/100 [Train]:   0%|          | 0/142 [00:00<?, ?it/s]"
      ]
     },
     "metadata": {},
     "output_type": "display_data"
    },
    {
     "data": {
      "application/vnd.jupyter.widget-view+json": {
       "model_id": "f4519db0a197454382bfbb76a24efeaf",
       "version_major": 2,
       "version_minor": 0
      },
      "text/plain": [
       "Epoch 47/100 [Valid]:   0%|          | 0/16 [00:00<?, ?it/s]"
      ]
     },
     "metadata": {},
     "output_type": "display_data"
    },
    {
     "name": "stdout",
     "output_type": "stream",
     "text": [
      "Epoch 47/100 - Train Loss: 0.2394, Val Loss: 0.2373, Val AUC: 0.9540, LR: 1.0e-05\n",
      "Validation loss did not improve for 1 epoch(s).\n"
     ]
    },
    {
     "data": {
      "application/vnd.jupyter.widget-view+json": {
       "model_id": "7ddf7b8ba98f4ef58a375e61a6165c6b",
       "version_major": 2,
       "version_minor": 0
      },
      "text/plain": [
       "Epoch 48/100 [Train]:   0%|          | 0/142 [00:00<?, ?it/s]"
      ]
     },
     "metadata": {},
     "output_type": "display_data"
    },
    {
     "data": {
      "application/vnd.jupyter.widget-view+json": {
       "model_id": "b45a4e5d7871423284bf09ca13300447",
       "version_major": 2,
       "version_minor": 0
      },
      "text/plain": [
       "Epoch 48/100 [Valid]:   0%|          | 0/16 [00:00<?, ?it/s]"
      ]
     },
     "metadata": {},
     "output_type": "display_data"
    },
    {
     "name": "stdout",
     "output_type": "stream",
     "text": [
      "Epoch 48/100 - Train Loss: 0.2396, Val Loss: 0.2376, Val AUC: 0.9539, LR: 1.0e-05\n",
      "Validation loss did not improve for 2 epoch(s).\n"
     ]
    },
    {
     "data": {
      "application/vnd.jupyter.widget-view+json": {
       "model_id": "1573751588874c4b9e778b64319f3066",
       "version_major": 2,
       "version_minor": 0
      },
      "text/plain": [
       "Epoch 49/100 [Train]:   0%|          | 0/142 [00:00<?, ?it/s]"
      ]
     },
     "metadata": {},
     "output_type": "display_data"
    },
    {
     "data": {
      "application/vnd.jupyter.widget-view+json": {
       "model_id": "43a452733f524d01a7f09e31d93ad6fe",
       "version_major": 2,
       "version_minor": 0
      },
      "text/plain": [
       "Epoch 49/100 [Valid]:   0%|          | 0/16 [00:00<?, ?it/s]"
      ]
     },
     "metadata": {},
     "output_type": "display_data"
    },
    {
     "name": "stdout",
     "output_type": "stream",
     "text": [
      "Epoch 49/100 - Train Loss: 0.2398, Val Loss: 0.2373, Val AUC: 0.9540, LR: 1.0e-05\n",
      "Validation loss did not improve for 3 epoch(s).\n"
     ]
    },
    {
     "data": {
      "application/vnd.jupyter.widget-view+json": {
       "model_id": "17ad8f0eddeb4805b1443d74a238130a",
       "version_major": 2,
       "version_minor": 0
      },
      "text/plain": [
       "Epoch 50/100 [Train]:   0%|          | 0/142 [00:00<?, ?it/s]"
      ]
     },
     "metadata": {},
     "output_type": "display_data"
    },
    {
     "data": {
      "application/vnd.jupyter.widget-view+json": {
       "model_id": "70899d3f8d4f470e971a99dfe345bf15",
       "version_major": 2,
       "version_minor": 0
      },
      "text/plain": [
       "Epoch 50/100 [Valid]:   0%|          | 0/16 [00:00<?, ?it/s]"
      ]
     },
     "metadata": {},
     "output_type": "display_data"
    },
    {
     "name": "stdout",
     "output_type": "stream",
     "text": [
      "Epoch 50/100 - Train Loss: 0.2396, Val Loss: 0.2377, Val AUC: 0.9539, LR: 1.0e-05\n",
      "Validation loss did not improve for 4 epoch(s).\n"
     ]
    },
    {
     "data": {
      "application/vnd.jupyter.widget-view+json": {
       "model_id": "707db36131394239b0d79ebd144f93b0",
       "version_major": 2,
       "version_minor": 0
      },
      "text/plain": [
       "Epoch 51/100 [Train]:   0%|          | 0/142 [00:00<?, ?it/s]"
      ]
     },
     "metadata": {},
     "output_type": "display_data"
    },
    {
     "data": {
      "application/vnd.jupyter.widget-view+json": {
       "model_id": "72fc209074644d11a79c65bbb11a60df",
       "version_major": 2,
       "version_minor": 0
      },
      "text/plain": [
       "Epoch 51/100 [Valid]:   0%|          | 0/16 [00:00<?, ?it/s]"
      ]
     },
     "metadata": {},
     "output_type": "display_data"
    },
    {
     "name": "stdout",
     "output_type": "stream",
     "text": [
      "Epoch 51/100 - Train Loss: 0.2397, Val Loss: 0.2386, Val AUC: 0.9538, LR: 1.0e-05\n",
      "Validation loss did not improve for 5 epoch(s).\n"
     ]
    },
    {
     "data": {
      "application/vnd.jupyter.widget-view+json": {
       "model_id": "00cfb34566de4b80b23008d44937fdc1",
       "version_major": 2,
       "version_minor": 0
      },
      "text/plain": [
       "Epoch 52/100 [Train]:   0%|          | 0/142 [00:00<?, ?it/s]"
      ]
     },
     "metadata": {},
     "output_type": "display_data"
    },
    {
     "data": {
      "application/vnd.jupyter.widget-view+json": {
       "model_id": "602267cd384a4baab333b5070b3c4809",
       "version_major": 2,
       "version_minor": 0
      },
      "text/plain": [
       "Epoch 52/100 [Valid]:   0%|          | 0/16 [00:00<?, ?it/s]"
      ]
     },
     "metadata": {},
     "output_type": "display_data"
    },
    {
     "name": "stdout",
     "output_type": "stream",
     "text": [
      "Epoch 52/100 - Train Loss: 0.2399, Val Loss: 0.2375, Val AUC: 0.9539, LR: 1.0e-05\n",
      "Validation loss did not improve for 6 epoch(s).\n"
     ]
    },
    {
     "data": {
      "application/vnd.jupyter.widget-view+json": {
       "model_id": "535cf6c6d2204ae9a857725a2eb663c6",
       "version_major": 2,
       "version_minor": 0
      },
      "text/plain": [
       "Epoch 53/100 [Train]:   0%|          | 0/142 [00:00<?, ?it/s]"
      ]
     },
     "metadata": {},
     "output_type": "display_data"
    },
    {
     "data": {
      "application/vnd.jupyter.widget-view+json": {
       "model_id": "43c894088e544ffb83f7012893bf8b7b",
       "version_major": 2,
       "version_minor": 0
      },
      "text/plain": [
       "Epoch 53/100 [Valid]:   0%|          | 0/16 [00:00<?, ?it/s]"
      ]
     },
     "metadata": {},
     "output_type": "display_data"
    },
    {
     "name": "stdout",
     "output_type": "stream",
     "text": [
      "Epoch 53/100 - Train Loss: 0.2394, Val Loss: 0.2378, Val AUC: 0.9538, LR: 1.0e-05\n",
      "Validation loss did not improve for 7 epoch(s).\n"
     ]
    },
    {
     "data": {
      "application/vnd.jupyter.widget-view+json": {
       "model_id": "bf1d661036854568b9f7635cf77f13e1",
       "version_major": 2,
       "version_minor": 0
      },
      "text/plain": [
       "Epoch 54/100 [Train]:   0%|          | 0/142 [00:00<?, ?it/s]"
      ]
     },
     "metadata": {},
     "output_type": "display_data"
    },
    {
     "data": {
      "application/vnd.jupyter.widget-view+json": {
       "model_id": "466335fd04744eb5abad2c9d8e802066",
       "version_major": 2,
       "version_minor": 0
      },
      "text/plain": [
       "Epoch 54/100 [Valid]:   0%|          | 0/16 [00:00<?, ?it/s]"
      ]
     },
     "metadata": {},
     "output_type": "display_data"
    },
    {
     "name": "stdout",
     "output_type": "stream",
     "text": [
      "Epoch 54/100 - Train Loss: 0.2395, Val Loss: 0.2375, Val AUC: 0.9540, LR: 1.0e-05\n",
      "Validation loss did not improve for 8 epoch(s).\n"
     ]
    },
    {
     "data": {
      "application/vnd.jupyter.widget-view+json": {
       "model_id": "c0ed6e5c7bcd4f07a9eb75540e4b12dc",
       "version_major": 2,
       "version_minor": 0
      },
      "text/plain": [
       "Epoch 55/100 [Train]:   0%|          | 0/142 [00:00<?, ?it/s]"
      ]
     },
     "metadata": {},
     "output_type": "display_data"
    },
    {
     "data": {
      "application/vnd.jupyter.widget-view+json": {
       "model_id": "a34c6bb750fb40a0897cbf2bc66094f8",
       "version_major": 2,
       "version_minor": 0
      },
      "text/plain": [
       "Epoch 55/100 [Valid]:   0%|          | 0/16 [00:00<?, ?it/s]"
      ]
     },
     "metadata": {},
     "output_type": "display_data"
    },
    {
     "name": "stdout",
     "output_type": "stream",
     "text": [
      "Learning rate reduced from 1e-05 to 1.0000000000000002e-06\n",
      "Epoch 55/100 - Train Loss: 0.2394, Val Loss: 0.2454, Val AUC: 0.9519, LR: 1.0e-06\n",
      "Validation loss did not improve for 9 epoch(s).\n"
     ]
    },
    {
     "data": {
      "application/vnd.jupyter.widget-view+json": {
       "model_id": "8f86ad80060e423889f9e17e1c8e53c0",
       "version_major": 2,
       "version_minor": 0
      },
      "text/plain": [
       "Epoch 56/100 [Train]:   0%|          | 0/142 [00:00<?, ?it/s]"
      ]
     },
     "metadata": {},
     "output_type": "display_data"
    },
    {
     "data": {
      "application/vnd.jupyter.widget-view+json": {
       "model_id": "3b361e22c9d546efaea2e69335e8c935",
       "version_major": 2,
       "version_minor": 0
      },
      "text/plain": [
       "Epoch 56/100 [Valid]:   0%|          | 0/16 [00:00<?, ?it/s]"
      ]
     },
     "metadata": {},
     "output_type": "display_data"
    },
    {
     "name": "stdout",
     "output_type": "stream",
     "text": [
      "Epoch 56/100 - Train Loss: 0.2391, Val Loss: 0.2387, Val AUC: 0.9540, LR: 1.0e-06\n",
      "Validation loss did not improve for 10 epoch(s).\n"
     ]
    },
    {
     "data": {
      "application/vnd.jupyter.widget-view+json": {
       "model_id": "4fc27d9bbb8c48a18a2f5284d5b3a128",
       "version_major": 2,
       "version_minor": 0
      },
      "text/plain": [
       "Epoch 57/100 [Train]:   0%|          | 0/142 [00:00<?, ?it/s]"
      ]
     },
     "metadata": {},
     "output_type": "display_data"
    },
    {
     "data": {
      "application/vnd.jupyter.widget-view+json": {
       "model_id": "a0ac983ea0cb45e187076663a3996aa6",
       "version_major": 2,
       "version_minor": 0
      },
      "text/plain": [
       "Epoch 57/100 [Valid]:   0%|          | 0/16 [00:00<?, ?it/s]"
      ]
     },
     "metadata": {},
     "output_type": "display_data"
    },
    {
     "name": "stdout",
     "output_type": "stream",
     "text": [
      "Epoch 57/100 - Train Loss: 0.2395, Val Loss: 0.2391, Val AUC: 0.9534, LR: 1.0e-06\n",
      "Validation loss did not improve for 11 epoch(s).\n"
     ]
    },
    {
     "data": {
      "application/vnd.jupyter.widget-view+json": {
       "model_id": "1b173369b83c4a5296553a7fbcd21748",
       "version_major": 2,
       "version_minor": 0
      },
      "text/plain": [
       "Epoch 58/100 [Train]:   0%|          | 0/142 [00:00<?, ?it/s]"
      ]
     },
     "metadata": {},
     "output_type": "display_data"
    },
    {
     "data": {
      "application/vnd.jupyter.widget-view+json": {
       "model_id": "3fe3ab4c3d654c29aa871998f747e8fc",
       "version_major": 2,
       "version_minor": 0
      },
      "text/plain": [
       "Epoch 58/100 [Valid]:   0%|          | 0/16 [00:00<?, ?it/s]"
      ]
     },
     "metadata": {},
     "output_type": "display_data"
    },
    {
     "name": "stdout",
     "output_type": "stream",
     "text": [
      "Epoch 58/100 - Train Loss: 0.2396, Val Loss: 0.2374, Val AUC: 0.9540, LR: 1.0e-06\n",
      "Validation loss did not improve for 12 epoch(s).\n"
     ]
    },
    {
     "data": {
      "application/vnd.jupyter.widget-view+json": {
       "model_id": "a77938777796426287a1aa1e9d9564ef",
       "version_major": 2,
       "version_minor": 0
      },
      "text/plain": [
       "Epoch 59/100 [Train]:   0%|          | 0/142 [00:00<?, ?it/s]"
      ]
     },
     "metadata": {},
     "output_type": "display_data"
    },
    {
     "data": {
      "application/vnd.jupyter.widget-view+json": {
       "model_id": "3f30b08c3e6042b2a9533cee8a389de8",
       "version_major": 2,
       "version_minor": 0
      },
      "text/plain": [
       "Epoch 59/100 [Valid]:   0%|          | 0/16 [00:00<?, ?it/s]"
      ]
     },
     "metadata": {},
     "output_type": "display_data"
    },
    {
     "name": "stdout",
     "output_type": "stream",
     "text": [
      "Epoch 59/100 - Train Loss: 0.2396, Val Loss: 0.2376, Val AUC: 0.9539, LR: 1.0e-06\n",
      "Validation loss did not improve for 13 epoch(s).\n"
     ]
    },
    {
     "data": {
      "application/vnd.jupyter.widget-view+json": {
       "model_id": "37030dae0edd4a79a16756babaa4d26c",
       "version_major": 2,
       "version_minor": 0
      },
      "text/plain": [
       "Epoch 60/100 [Train]:   0%|          | 0/142 [00:00<?, ?it/s]"
      ]
     },
     "metadata": {},
     "output_type": "display_data"
    },
    {
     "data": {
      "application/vnd.jupyter.widget-view+json": {
       "model_id": "68eabc49ccce416fa2d4ebe1c8041850",
       "version_major": 2,
       "version_minor": 0
      },
      "text/plain": [
       "Epoch 60/100 [Valid]:   0%|          | 0/16 [00:00<?, ?it/s]"
      ]
     },
     "metadata": {},
     "output_type": "display_data"
    },
    {
     "name": "stdout",
     "output_type": "stream",
     "text": [
      "Epoch 60/100 - Train Loss: 0.2395, Val Loss: 0.2386, Val AUC: 0.9535, LR: 1.0e-06\n",
      "Validation loss did not improve for 14 epoch(s).\n"
     ]
    },
    {
     "data": {
      "application/vnd.jupyter.widget-view+json": {
       "model_id": "2edc0ce04cd14a0387e1e48e31ab7c80",
       "version_major": 2,
       "version_minor": 0
      },
      "text/plain": [
       "Epoch 61/100 [Train]:   0%|          | 0/142 [00:00<?, ?it/s]"
      ]
     },
     "metadata": {},
     "output_type": "display_data"
    },
    {
     "data": {
      "application/vnd.jupyter.widget-view+json": {
       "model_id": "f3b59e99a48a400e962ed6303620956f",
       "version_major": 2,
       "version_minor": 0
      },
      "text/plain": [
       "Epoch 61/100 [Valid]:   0%|          | 0/16 [00:00<?, ?it/s]"
      ]
     },
     "metadata": {},
     "output_type": "display_data"
    },
    {
     "name": "stdout",
     "output_type": "stream",
     "text": [
      "Epoch 61/100 - Train Loss: 0.2395, Val Loss: 0.2377, Val AUC: 0.9541, LR: 1.0e-06\n",
      "Validation loss did not improve for 15 epoch(s).\n"
     ]
    },
    {
     "data": {
      "application/vnd.jupyter.widget-view+json": {
       "model_id": "a85e12d887f841fea1e15954879126d5",
       "version_major": 2,
       "version_minor": 0
      },
      "text/plain": [
       "Epoch 62/100 [Train]:   0%|          | 0/142 [00:00<?, ?it/s]"
      ]
     },
     "metadata": {},
     "output_type": "display_data"
    },
    {
     "data": {
      "application/vnd.jupyter.widget-view+json": {
       "model_id": "5270c7b757004ad2877c7e1e976f6773",
       "version_major": 2,
       "version_minor": 0
      },
      "text/plain": [
       "Epoch 62/100 [Valid]:   0%|          | 0/16 [00:00<?, ?it/s]"
      ]
     },
     "metadata": {},
     "output_type": "display_data"
    },
    {
     "name": "stdout",
     "output_type": "stream",
     "text": [
      "Epoch 62/100 - Train Loss: 0.2394, Val Loss: 0.2380, Val AUC: 0.9539, LR: 1.0e-06\n",
      "Validation loss did not improve for 16 epoch(s).\n"
     ]
    },
    {
     "data": {
      "application/vnd.jupyter.widget-view+json": {
       "model_id": "0a0a8301e6a14baab6efa26a75c6d6e0",
       "version_major": 2,
       "version_minor": 0
      },
      "text/plain": [
       "Epoch 63/100 [Train]:   0%|          | 0/142 [00:00<?, ?it/s]"
      ]
     },
     "metadata": {},
     "output_type": "display_data"
    },
    {
     "data": {
      "application/vnd.jupyter.widget-view+json": {
       "model_id": "b965194e28f94ce381f4c1f151d9870c",
       "version_major": 2,
       "version_minor": 0
      },
      "text/plain": [
       "Epoch 63/100 [Valid]:   0%|          | 0/16 [00:00<?, ?it/s]"
      ]
     },
     "metadata": {},
     "output_type": "display_data"
    },
    {
     "name": "stdout",
     "output_type": "stream",
     "text": [
      "Epoch 63/100 - Train Loss: 0.2392, Val Loss: 0.2381, Val AUC: 0.9536, LR: 1.0e-06\n",
      "Validation loss did not improve for 17 epoch(s).\n"
     ]
    },
    {
     "data": {
      "application/vnd.jupyter.widget-view+json": {
       "model_id": "352c24a5beda4b41a81c3198e4b02d17",
       "version_major": 2,
       "version_minor": 0
      },
      "text/plain": [
       "Epoch 64/100 [Train]:   0%|          | 0/142 [00:00<?, ?it/s]"
      ]
     },
     "metadata": {},
     "output_type": "display_data"
    },
    {
     "data": {
      "application/vnd.jupyter.widget-view+json": {
       "model_id": "8958a51dd67a4740848e14b47014fedf",
       "version_major": 2,
       "version_minor": 0
      },
      "text/plain": [
       "Epoch 64/100 [Valid]:   0%|          | 0/16 [00:00<?, ?it/s]"
      ]
     },
     "metadata": {},
     "output_type": "display_data"
    },
    {
     "name": "stdout",
     "output_type": "stream",
     "text": [
      "Epoch 64/100 - Train Loss: 0.2394, Val Loss: 0.2385, Val AUC: 0.9537, LR: 1.0e-06\n",
      "Validation loss did not improve for 18 epoch(s).\n"
     ]
    },
    {
     "data": {
      "application/vnd.jupyter.widget-view+json": {
       "model_id": "f2d22dc2434344ec8bfdf031aa384d7a",
       "version_major": 2,
       "version_minor": 0
      },
      "text/plain": [
       "Epoch 65/100 [Train]:   0%|          | 0/142 [00:00<?, ?it/s]"
      ]
     },
     "metadata": {},
     "output_type": "display_data"
    },
    {
     "data": {
      "application/vnd.jupyter.widget-view+json": {
       "model_id": "a0b3380e7b84457fb501a8a3a8ef7023",
       "version_major": 2,
       "version_minor": 0
      },
      "text/plain": [
       "Epoch 65/100 [Valid]:   0%|          | 0/16 [00:00<?, ?it/s]"
      ]
     },
     "metadata": {},
     "output_type": "display_data"
    },
    {
     "name": "stdout",
     "output_type": "stream",
     "text": [
      "Epoch 65/100 - Train Loss: 0.2398, Val Loss: 0.2373, Val AUC: 0.9540, LR: 1.0e-06\n",
      "Validation loss did not improve for 19 epoch(s).\n"
     ]
    },
    {
     "data": {
      "application/vnd.jupyter.widget-view+json": {
       "model_id": "35117ce0b38b4c6e9fd3f703afeb80f9",
       "version_major": 2,
       "version_minor": 0
      },
      "text/plain": [
       "Epoch 66/100 [Train]:   0%|          | 0/142 [00:00<?, ?it/s]"
      ]
     },
     "metadata": {},
     "output_type": "display_data"
    },
    {
     "data": {
      "application/vnd.jupyter.widget-view+json": {
       "model_id": "24fc05684af045d9bd95ec8fc18ff824",
       "version_major": 2,
       "version_minor": 0
      },
      "text/plain": [
       "Epoch 66/100 [Valid]:   0%|          | 0/16 [00:00<?, ?it/s]"
      ]
     },
     "metadata": {},
     "output_type": "display_data"
    },
    {
     "name": "stdout",
     "output_type": "stream",
     "text": [
      "Epoch 66/100 - Train Loss: 0.2400, Val Loss: 0.2380, Val AUC: 0.9537, LR: 1.0e-06\n",
      "Validation loss did not improve for 20 epoch(s).\n",
      "Early stopping triggered after 66 epochs due to no improvement for 20 epochs.\n",
      "Training completed in 13m 19s\n",
      "Best val loss: 0.2373, Best val AUC at that point: 0.9540\n",
      "Best model weights loaded.\n"
     ]
    }
   ],
   "source": [
    "import torch.optim as optim_torch # Keep original optim import with a different alias if needed\n",
    "import torch_optimizer as optim # Import the new optimizer library\n",
    "\n",
    "# Import the learning rate scheduler\n",
    "from torch.optim.lr_scheduler import ReduceLROnPlateau\n",
    "from sklearn.metrics import roc_auc_score\n",
    "import numpy as np # Needed for checking NaN if AUC fails\n",
    "import time\n",
    "import copy\n",
    "from tqdm.auto import tqdm\n",
    "\n",
    "# --- Define Loss Function ---\n",
    "# NOTE: Ensure your model's output layer includes a Sigmoid activation for BCELoss\n",
    "criterion = nn.BCELoss()\n",
    "\n",
    "# --- Define Optimizer (Using pytorch_optimizer) ---\n",
    "# Replace optim_torch.Adam with your chosen optimizer from torch_optimizer\n",
    "# Example 1: Using AdaBelief\n",
    "# optimizer = optim.AdaBelief(model.parameters(), lr=0.001, eps=1e-16, betas=(0.9, 0.999))\n",
    "\n",
    "# Example 2: Using RAdam\n",
    "# optimizer = optim.RAdam(model.parameters(), lr=0.001)\n",
    "\n",
    "# Example 3: Using AdaBound\n",
    "optimizer = optim.AdaBound(model.parameters(), lr=1e-3, final_lr=0.1)\n",
    "\n",
    "# --- Learning Rate Scheduler (remains the same) ---\n",
    "lr_patience = 5 # Number of epochs with no improvement after which learning rate will be reduced\n",
    "lr_factor = 0.1 # Factor by which the learning rate will be reduced. new_lr = lr * factor\n",
    "scheduler = ReduceLROnPlateau(optimizer, # Pass the new optimizer instance\n",
    "                              mode='min',      # Reduce LR when the monitored quantity stops decreasing\n",
    "                              factor=lr_factor,\n",
    "                              patience=lr_patience,\n",
    "                              verbose=True,    # Print a message when LR is reduced\n",
    "                              threshold=0.0001, # Threshold for measuring the new optimum\n",
    "                              min_lr=1e-6)     # Lower bound on the learning rate\n",
    "\n",
    "# --- Training parameters (remains the same) ---\n",
    "num_epochs = 100\n",
    "early_stopping_patience = 20  # Number of epochs for early stopping\n",
    "\n",
    "# --- Initialize variables for early stopping (remains the same) ---\n",
    "best_val_loss = float('inf')\n",
    "best_val_auc = 0.0\n",
    "best_model_wts = copy.deepcopy(model.state_dict())\n",
    "no_improve_epochs = 0 # Counter for early stopping\n",
    "\n",
    "# --- For tracking metrics (remains the same) ---\n",
    "train_losses = []\n",
    "val_losses = []\n",
    "val_aucs = []\n",
    "\n",
    "# --- Move model to device (remains the same) ---\n",
    "device = torch.device(\"cuda:0\" if torch.cuda.is_available() else \"cpu\")\n",
    "model.to(device)\n",
    "\n",
    "# --- Print setup info (remains the same) ---\n",
    "print(f\"Training on {device}\")\n",
    "print(f\"Using Optimizer: {type(optimizer).__name__}\") # Print the name of the optimizer being used\n",
    "print(f\"Initial Learning Rate: {optimizer.param_groups[0]['lr']}\")\n",
    "print(f\"LR Scheduler Patience: {lr_patience}, Factor: {lr_factor}\")\n",
    "print(f\"Early Stopping Patience: {early_stopping_patience}\")\n",
    "\n",
    "start_time = time.time()\n",
    "\n",
    "# --- Training loop ---\n",
    "for epoch in range(num_epochs):\n",
    "    # --- Training phase ---\n",
    "    model.train()\n",
    "    running_loss = 0.0\n",
    "    train_pbar = tqdm(train_loader, desc=f\"Epoch {epoch+1}/{num_epochs} [Train]\", leave=False)\n",
    "    for inputs, labels in train_pbar:\n",
    "        # Ensure labels are float for BCELoss\n",
    "        inputs, labels = inputs.to(device), labels.to(device).float()\n",
    "\n",
    "        optimizer.zero_grad()\n",
    "        outputs = model(inputs) # Should be probabilities (output of Sigmoid)\n",
    "        loss = criterion(outputs, labels)\n",
    "        loss.backward()\n",
    "        optimizer.step()\n",
    "\n",
    "        running_loss += loss.item() * inputs.size(0)\n",
    "        train_pbar.set_postfix({'loss': loss.item()})\n",
    "\n",
    "    epoch_train_loss = running_loss / len(train_dataset) # Use len(train_dataset) for average\n",
    "    train_losses.append(epoch_train_loss)\n",
    "\n",
    "    # --- Validation phase ---\n",
    "    model.eval()\n",
    "    running_loss = 0.0\n",
    "    all_preds = []\n",
    "    all_labels = []\n",
    "    val_pbar = tqdm(val_loader, desc=f\"Epoch {epoch+1}/{num_epochs} [Valid]\", leave=False)\n",
    "    with torch.no_grad():\n",
    "        for inputs, labels in val_pbar:\n",
    "            # Ensure labels are float for BCELoss\n",
    "            inputs, labels = inputs.to(device), labels.to(device).float()\n",
    "\n",
    "            outputs = model(inputs) # Probabilities\n",
    "            loss = criterion(outputs, labels)\n",
    "\n",
    "            running_loss += loss.item() * inputs.size(0)\n",
    "            all_preds.extend(outputs.cpu().numpy())\n",
    "            all_labels.extend(labels.cpu().numpy())\n",
    "            val_pbar.set_postfix({'loss': loss.item()})\n",
    "\n",
    "    epoch_val_loss = running_loss / len(val_dataset) # Use len(val_dataset) for average\n",
    "    val_losses.append(epoch_val_loss)\n",
    "\n",
    "    # Flatten potentially nested lists/arrays if output_size=1\n",
    "    try:\n",
    "        all_preds_flat = [p[0] for p in all_preds]\n",
    "        all_labels_flat = [l[0] for l in all_labels]\n",
    "    except IndexError: # Handle cases where outputs/labels might already be flat\n",
    "        all_preds_flat = all_preds\n",
    "        all_labels_flat = all_labels\n",
    "\n",
    "    # Calculate AUC\n",
    "    try:\n",
    "        epoch_val_auc = roc_auc_score(all_labels_flat, all_preds_flat)\n",
    "        val_aucs.append(epoch_val_auc)\n",
    "    except ValueError as e:\n",
    "        print(f\"Could not calculate AUC: {e}. Skipping AUC for this epoch.\")\n",
    "        epoch_val_auc = float('nan') # Assign NaN or handle as appropriate\n",
    "        val_aucs.append(epoch_val_auc)\n",
    "\n",
    "\n",
    "    # --- Learning Rate Scheduler Step ---\n",
    "    # Pass the validation loss to the scheduler\n",
    "    current_lr = optimizer.param_groups[0]['lr']\n",
    "    scheduler.step(epoch_val_loss)\n",
    "    new_lr = optimizer.param_groups[0]['lr']\n",
    "    if new_lr < current_lr:\n",
    "        print(f\"Learning rate reduced from {current_lr} to {new_lr}\")\n",
    "\n",
    "\n",
    "    # Print epoch statistics\n",
    "    print(f\"Epoch {epoch+1}/{num_epochs} - \"\n",
    "          f\"Train Loss: {epoch_train_loss:.4f}, \"\n",
    "          f\"Val Loss: {epoch_val_loss:.4f}, \"\n",
    "          f\"Val AUC: {epoch_val_auc:.4f}, \"\n",
    "          f\"LR: {optimizer.param_groups[0]['lr']:.1e}\") # Display current LR\n",
    "\n",
    "    # Check if this is the best model (based on validation loss)\n",
    "    if epoch_val_loss < best_val_loss - scheduler.threshold: # Use scheduler's threshold\n",
    "        print(f\"Validation loss improved ({best_val_loss:.4f} --> {epoch_val_loss:.4f}). Saving model...\")\n",
    "        best_val_loss = epoch_val_loss\n",
    "        if not np.isnan(epoch_val_auc): # Only update best AUC if it's valid\n",
    "            best_val_auc = epoch_val_auc\n",
    "        best_model_wts = copy.deepcopy(model.state_dict())\n",
    "        no_improve_epochs = 0 # Reset early stopping counter\n",
    "    else:\n",
    "        no_improve_epochs += 1\n",
    "        print(f\"Validation loss did not improve for {no_improve_epochs} epoch(s).\")\n",
    "\n",
    "    # Early stopping check (using early_stopping_patience)\n",
    "    if no_improve_epochs >= early_stopping_patience:\n",
    "        print(f\"Early stopping triggered after {epoch+1} epochs due to no improvement for {early_stopping_patience} epochs.\")\n",
    "        break\n",
    "\n",
    "# --- Training complete ---\n",
    "time_elapsed = time.time() - start_time\n",
    "print(f\"Training completed in {time_elapsed // 60:.0f}m {time_elapsed % 60:.0f}s\")\n",
    "print(f\"Best val loss: {best_val_loss:.4f}, Best val AUC at that point: {best_val_auc:.4f}\")\n",
    "\n",
    "# Load best model weights\n",
    "model.load_state_dict(best_model_wts)\n",
    "print(\"Best model weights loaded.\")"
   ]
  },
  {
   "cell_type": "code",
   "execution_count": 28,
   "metadata": {},
   "outputs": [
    {
     "name": "stdout",
     "output_type": "stream",
     "text": [
      "Model saved to ../../models/deep_learning\\experiment_35.pth\n",
      "Checkpoint saved to ../../models/deep_learning\\experiment_35.pth\n"
     ]
    }
   ],
   "source": [
    "import os\n",
    "\n",
    "# Save the model weights\n",
    "\n",
    "# Create directory if it doesn't exist\n",
    "save_dir = '../../models/deep_learning'\n",
    "os.makedirs(save_dir, exist_ok=True)\n",
    "\n",
    "# Save model state dictionary\n",
    "model_path = os.path.join(save_dir, f'experiment_{experiment_num}.pth')\n",
    "torch.save(model.state_dict(), model_path)\n",
    "\n",
    "# Save additional information for later reference\n",
    "checkpoint_path = os.path.join(save_dir, f'experiment_{experiment_num}.pth')\n",
    "checkpoint = {\n",
    "    'model_state_dict': model.state_dict(),\n",
    "    'optimizer_state_dict': optimizer.state_dict(),\n",
    "}\n",
    "torch.save(checkpoint, checkpoint_path)\n",
    "\n",
    "print(f\"Model saved to {model_path}\")\n",
    "print(f\"Checkpoint saved to {checkpoint_path}\")"
   ]
  },
  {
   "cell_type": "code",
   "execution_count": 32,
   "metadata": {},
   "outputs": [
    {
     "name": "stdout",
     "output_type": "stream",
     "text": [
      "Classification Report:\n",
      "              precision    recall  f1-score   support\n",
      "\n",
      "           0     0.9235    0.9365    0.9300     23806\n",
      "           1     0.8106    0.7781    0.7940      8318\n",
      "\n",
      "    accuracy                         0.8955     32124\n",
      "   macro avg     0.8671    0.8573    0.8620     32124\n",
      "weighted avg     0.8943    0.8955    0.8948     32124\n",
      "\n",
      "Accuracy: 0.8955\n",
      "ROC-AUC Score: 0.9540\n",
      "\n",
      "Confusion Matrix:\n",
      "[[22294  1512]\n",
      " [ 1846  6472]]\n"
     ]
    }
   ],
   "source": [
    "from sklearn.metrics import classification_report, accuracy_score, roc_auc_score, confusion_matrix\n",
    "\n",
    "# Set model to evaluation mode\n",
    "model.eval()\n",
    "\n",
    "# Check if CUDA is available and move model to the appropriate device\n",
    "device = torch.device('cuda:0' if torch.cuda.is_available() else 'cpu')\n",
    "model = model.to(device)\n",
    "\n",
    "# Lists to store predictions and true values\n",
    "all_preds = []\n",
    "all_labels = []\n",
    "\n",
    "# Perform inference without gradient calculation\n",
    "with torch.no_grad():\n",
    "    for inputs, labels in val_loader:\n",
    "        # Move inputs and labels to the appropriate device\n",
    "        inputs, labels = inputs.to(device), labels.to(device)\n",
    "        \n",
    "        # Forward pass\n",
    "        outputs = model(inputs)\n",
    "        \n",
    "        # Store predictions and labels\n",
    "        all_preds.append(outputs.cpu().numpy())\n",
    "        all_labels.append(labels.cpu().numpy())\n",
    "\n",
    "# Concatenate all batches\n",
    "all_preds = np.concatenate(all_preds)\n",
    "all_labels = np.concatenate(all_labels)\n",
    "\n",
    "# Convert predictions to binary (0 or 1) using threshold of 0.5\n",
    "pred_classes = (all_preds > 0.5).astype(int)\n",
    "true_classes = all_labels.astype(int)\n",
    "\n",
    "# Generate classification report\n",
    "\n",
    "# Print classification report\n",
    "print(\"Classification Report:\")\n",
    "print(classification_report(true_classes, pred_classes, digits = 4))\n",
    "\n",
    "# Calculate and print accuracy\n",
    "accuracy = accuracy_score(true_classes, pred_classes)\n",
    "print(f\"Accuracy: {accuracy:.4f}\")\n",
    "\n",
    "# Calculate and print ROC-AUC score\n",
    "auc = roc_auc_score(true_classes, all_preds)\n",
    "print(f\"ROC-AUC Score: {auc:.4f}\")\n",
    "\n",
    "# Print confusion matrix\n",
    "print(\"\\nConfusion Matrix:\")\n",
    "print(confusion_matrix(true_classes, pred_classes))"
   ]
  },
  {
   "cell_type": "code",
   "execution_count": 33,
   "metadata": {},
   "outputs": [
    {
     "name": "stdout",
     "output_type": "stream",
     "text": [
      "Target Recall: >= 0.9800 for Class 0\n",
      "Threshold found by Binary Search: 0.7386357\n",
      "Achieved Recall at Threshold: 0.9800\n",
      "Classification Report:\n",
      "              precision    recall  f1-score   support\n",
      "\n",
      "     Class 0     0.8595    0.9800    0.9158     23806\n",
      "     Class 1     0.9044    0.5416    0.6775      8318\n",
      "\n",
      "    accuracy                         0.8665     32124\n",
      "   macro avg     0.8820    0.7608    0.7967     32124\n",
      "weighted avg     0.8712    0.8665    0.8541     32124\n",
      "\n"
     ]
    },
    {
     "data": {
      "image/png": "[encoded data removed]",
      "text/plain": [
       "<Figure size 640x480 with 2 Axes>"
      ]
     },
     "metadata": {},
     "output_type": "display_data"
    },
    {
     "data": {
      "text/plain": [
       "0.7386356592178345"
      ]
     },
     "execution_count": 33,
     "metadata": {},
     "output_type": "execute_result"
    }
   ],
   "source": [
    "evaluate_model_for_recall(target_class=0, desired_recall=0.98, y_true=true_classes, y_pred_proba=all_preds)"
   ]
  },
  {
   "cell_type": "code",
   "execution_count": 30,
   "metadata": {},
   "outputs": [
    {
     "name": "stdout",
     "output_type": "stream",
     "text": [
      "Classification Report:\n",
      "              precision    recall  f1-score   support\n",
      "\n",
      "           0     0.9204    0.9341    0.9272    102026\n",
      "           1     0.8031    0.7689    0.7856     35648\n",
      "\n",
      "    accuracy                         0.8913    137674\n",
      "   macro avg     0.8618    0.8515    0.8564    137674\n",
      "weighted avg     0.8901    0.8913    0.8906    137674\n",
      "\n",
      "Accuracy: 0.8913\n",
      "ROC-AUC Score: 0.9525\n",
      "\n",
      "Confusion Matrix:\n",
      "[[95305  6721]\n",
      " [ 8238 27410]]\n"
     ]
    }
   ],
   "source": [
    "from sklearn.metrics import classification_report, accuracy_score, roc_auc_score, confusion_matrix\n",
    "\n",
    "# Set model to evaluation mode\n",
    "model.eval()\n",
    "\n",
    "# Check if CUDA is available and move model to the appropriate device\n",
    "device = torch.device('cuda:0' if torch.cuda.is_available() else 'cpu')\n",
    "model = model.to(device)\n",
    "\n",
    "# Lists to store predictions and true values\n",
    "all_preds = []\n",
    "all_labels = []\n",
    "\n",
    "# Perform inference without gradient calculation\n",
    "with torch.no_grad():\n",
    "    for inputs, labels in test_loader:\n",
    "        # Move inputs and labels to the appropriate device\n",
    "        inputs, labels = inputs.to(device), labels.to(device)\n",
    "        \n",
    "        # Forward pass\n",
    "        outputs = model(inputs)\n",
    "        \n",
    "        # Store predictions and labels\n",
    "        all_preds.append(outputs.cpu().numpy())\n",
    "        all_labels.append(labels.cpu().numpy())\n",
    "\n",
    "# Concatenate all batches\n",
    "all_preds = np.concatenate(all_preds)\n",
    "all_labels = np.concatenate(all_labels)\n",
    "\n",
    "# Convert predictions to binary (0 or 1) using threshold of 0.5\n",
    "pred_classes = (all_preds > 0.5).astype(int)\n",
    "true_classes = all_labels.astype(int)\n",
    "\n",
    "# Generate classification report\n",
    "\n",
    "# Print classification report\n",
    "print(\"Classification Report:\")\n",
    "print(classification_report(true_classes, pred_classes, digits = 4))\n",
    "\n",
    "# Calculate and print accuracy\n",
    "accuracy = accuracy_score(true_classes, pred_classes)\n",
    "print(f\"Accuracy: {accuracy:.4f}\")\n",
    "\n",
    "# Calculate and print ROC-AUC score\n",
    "auc = roc_auc_score(true_classes, all_preds)\n",
    "print(f\"ROC-AUC Score: {auc:.4f}\")\n",
    "\n",
    "# Print confusion matrix\n",
    "print(\"\\nConfusion Matrix:\")\n",
    "print(confusion_matrix(true_classes, pred_classes))"
   ]
  },
  {
   "cell_type": "code",
   "execution_count": 31,
   "metadata": {},
   "outputs": [
    {
     "name": "stdout",
     "output_type": "stream",
     "text": [
      "Target Recall: >= 0.9800 for Class 0\n",
      "Threshold found by Binary Search: 0.7353384\n",
      "Achieved Recall at Threshold: 0.9800\n",
      "Classification Report:\n",
      "              precision    recall  f1-score   support\n",
      "\n",
      "     Class 0     0.8594    0.9800    0.9157    102026\n",
      "     Class 1     0.9043    0.5410    0.6770     35648\n",
      "\n",
      "    accuracy                         0.8663    137674\n",
      "   macro avg     0.8819    0.7605    0.7964    137674\n",
      "weighted avg     0.8710    0.8663    0.8539    137674\n",
      "\n"
     ]
    },
    {
     "data": {
      "image/png": "[encoded data removed]",
      "text/plain": [
       "<Figure size 640x480 with 2 Axes>"
      ]
     },
     "metadata": {},
     "output_type": "display_data"
    },
    {
     "data": {
      "text/plain": [
       "0.7353383898735046"
      ]
     },
     "execution_count": 31,
     "metadata": {},
     "output_type": "execute_result"
    }
   ],
   "source": [
    "evaluate_model_for_recall(target_class=0, desired_recall=0.98, y_true=true_classes, y_pred_proba=all_preds)"
   ]
  },
  {
   "cell_type": "code",
   "execution_count": null,
   "metadata": {},
   "outputs": [],
   "source": []
  }
 ],
 "metadata": {
  "kernelspec": {
   "display_name": "nibm_dl",
   "language": "python",
   "name": "python3"
  },
  "language_info": {
   "codemirror_mode": {
    "name": "ipython",
    "version": 3
   },
   "file_extension": ".py",
   "mimetype": "text/x-python",
   "name": "python",
   "nbconvert_exporter": "python",
   "pygments_lexer": "ipython3",
   "version": "3.10.14"
  }
 },
 "nbformat": 4,
 "nbformat_minor": 2
}
